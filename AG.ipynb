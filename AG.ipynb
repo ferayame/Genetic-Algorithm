{
 "cells": [
  {
   "cell_type": "markdown",
   "metadata": {},
   "source": [
    "# Genetic Algorithm MLP"
   ]
  },
  {
   "cell_type": "code",
   "execution_count": 5,
   "metadata": {},
   "outputs": [],
   "source": [
    "import random\n",
    "import numpy as np\n",
    "from sklearn.datasets import fetch_openml\n",
    "from sklearn.model_selection import train_test_split\n",
    "from sklearn.neural_network import MLPClassifier\n",
    "from sklearn.metrics import accuracy_score\n"
   ]
  },
  {
   "cell_type": "markdown",
   "metadata": {},
   "source": [
    "**1. Dataset Preparation**\n"
   ]
  },
  {
   "cell_type": "code",
   "execution_count": null,
   "metadata": {},
   "outputs": [],
   "source": [
    "mnist = fetch_openml('mnist_784',version = 1)\n",
    "X = mnist.data\n",
    "y = mnist.target.astype(int)\n",
    "X_filtered = X[(y == 0) | (y == 1)]\n",
    "y_filtered = y[(y == 0) | (y == 1)]\n",
    "\n",
    "X_normalized = X_filtered / 255.0\n",
    "X_train,X_test,y_train,y_test=train_test_split(X_normalized,y_filtered,test_size=0.2,random_state=42)"
   ]
  },
  {
   "cell_type": "markdown",
   "metadata": {},
   "source": [
    "**2: Define the MLP and Fitness Function**"
   ]
  },
  {
   "cell_type": "code",
   "execution_count": 11,
   "metadata": {},
   "outputs": [],
   "source": [
    "def evaluate_mlp(hidden_layer_sizes, learning_rate, alpha, X_train, y_train, X_test, y_test):\n",
    "    model = MLPClassifier(\n",
    "        hidden_layer_sizes=hidden_layer_sizes,\n",
    "        learning_rate_init=learning_rate,\n",
    "        alpha=alpha,\n",
    "        max_iter=200,\n",
    "        random_state=42\n",
    "    )\n",
    "    model.fit(X_train, y_train)\n",
    "    y_pred = model.predict(X_test)\n",
    "    error = 1 - accuracy_score(y_test, y_pred)\n",
    "    return error\n",
    "\n",
    "def fitness_function(chromosome):\n",
    "    hidden_layer_size = (int(chromosome[0]),)\n",
    "    learning_rate = chromosome[1]\n",
    "    alpha = chromosome[2]\n",
    "    return evaluate_mlp(hidden_layer_size, learning_rate, alpha, X_train, y_train, X_test, y_test)"
   ]
  },
  {
   "cell_type": "markdown",
   "metadata": {},
   "source": [
    "**3: Genetic Algorithm Components**"
   ]
  },
  {
   "cell_type": "code",
   "execution_count": 12,
   "metadata": {},
   "outputs": [],
   "source": [
    "# Initialization\n",
    "def generate_population(size, n_neurons_range, lr_range, alpha_range):\n",
    "    population = []\n",
    "    for _ in range(size):\n",
    "        chromosome = [\n",
    "            random.randint(*n_neurons_range),   # Number of neurons\n",
    "            random.uniform(*lr_range),         # Learning rate\n",
    "            random.uniform(*alpha_range)       # Regularization (alpha)\n",
    "        ]\n",
    "        population.append(chromosome)\n",
    "    return population\n",
    "\n",
    "# Selection\n",
    "def roulette_wheel_selection(population, fitness_scores):\n",
    "    total_fitness = sum(1 / score for score in fitness_scores)\n",
    "    probabilities = [(1 / score) / total_fitness for score in fitness_scores]\n",
    "    selected_index = np.random.choice(len(population), p=probabilities)\n",
    "    return population[selected_index]\n",
    "\n",
    "# Crossover\n",
    "def crossover(parent1, parent2, alpha=0.7):\n",
    "    child1 = [\n",
    "        alpha * p1 + (1 - alpha) * p2\n",
    "        for p1, p2 in zip(parent1, parent2)\n",
    "    ]\n",
    "    child2 = [\n",
    "        (1 - alpha) * p1 + alpha * p2\n",
    "        for p1, p2 in zip(parent1, parent2)\n",
    "    ]\n",
    "    return child1, child2\n",
    "\n",
    "\n",
    "# Mutation\n",
    "def mutate(chromosome, n_neurons_range, lr_range, alpha_range, mutation_rate=0.1):\n",
    "    if random.random() < mutation_rate:\n",
    "        gene_to_mutate = random.randint(0, 2)  # Select random gene\n",
    "        if gene_to_mutate == 0:\n",
    "            chromosome[0] = random.randint(*n_neurons_range)  # Neurons\n",
    "        elif gene_to_mutate == 1:\n",
    "            chromosome[1] = random.uniform(*lr_range)         # Learning rate\n",
    "        elif gene_to_mutate == 2:\n",
    "            chromosome[2] = random.uniform(*alpha_range)      # Regularization\n",
    "    return chromosome\n",
    "\n",
    "# Replacement\n",
    "def replace_population(population, fitness_scores, new_children):\n",
    "    sorted_population = [x for _, x in sorted(zip(fitness_scores, population))]\n",
    "    return sorted_population[:-len(new_children)] + new_children"
   ]
  },
  {
   "cell_type": "markdown",
   "metadata": {},
   "source": [
    "**4: Run Genetic Algorithm**"
   ]
  },
  {
   "cell_type": "code",
   "execution_count": 13,
   "metadata": {},
   "outputs": [],
   "source": [
    "def genetic_algorithm(\n",
    "    generations, population_size, n_neurons_range, lr_range, alpha_range,\n",
    "    mutation_rate, X_train, y_train, X_test, y_test\n",
    "):\n",
    "    population = generate_population(population_size, n_neurons_range, lr_range, alpha_range)\n",
    "    for generation in range(generations):\n",
    "        # Evaluate fitness\n",
    "        fitness_scores = [fitness_function(ind) for ind in population]\n",
    "\n",
    "        # Log best fitness\n",
    "        best_index = np.argmin(fitness_scores)\n",
    "        best_chromosome = population[best_index]\n",
    "        print(f\"Generation {generation + 1} - Best Fitness: {fitness_scores[best_index]:.4f} - Best Chromosome: {best_chromosome}\")\n",
    "\n",
    "        # Selection\n",
    "        new_population = []\n",
    "        for _ in range(population_size // 2):\n",
    "            parent1 = roulette_wheel_selection(population, fitness_scores)\n",
    "            parent2 = roulette_wheel_selection(population, fitness_scores)\n",
    "            child1, child2 = crossover(parent1, parent2)\n",
    "            new_population.extend([child1, child2])\n",
    "\n",
    "        # Mutation\n",
    "        new_population = [\n",
    "            mutate(ind, n_neurons_range, lr_range, alpha_range, mutation_rate)\n",
    "            for ind in new_population\n",
    "        ]\n",
    "\n",
    "        # Replacement\n",
    "        population = replace_population(population, fitness_scores, new_population)\n",
    "    \n",
    "    # Final evaluation\n",
    "    fitness_scores = [fitness_function(ind) for ind in population]\n",
    "    best_index = np.argmin(fitness_scores)\n",
    "    best_chromosome = population[best_index]\n",
    "    print(f\"Best Chromosome After {generations} Generations: {best_chromosome}\")\n",
    "    return best_chromosome"
   ]
  },
  {
   "cell_type": "code",
   "execution_count": 14,
   "metadata": {},
   "outputs": [
    {
     "name": "stdout",
     "output_type": "stream",
     "text": [
      "Generation 1 - Best Fitness: 0.0003 - Best Chromosome: [37, 0.0370909584163922, 0.007550518956277305]\n",
      "Generation 2 - Best Fitness: 0.0000 - Best Chromosome: [25.8, 0.06544559631489436, 0.007292923351987359]\n"
     ]
    },
    {
     "ename": "ZeroDivisionError",
     "evalue": "float division by zero",
     "output_type": "error",
     "traceback": [
      "\u001b[1;31m---------------------------------------------------------------------------\u001b[0m",
      "\u001b[1;31mZeroDivisionError\u001b[0m                         Traceback (most recent call last)",
      "Cell \u001b[1;32mIn[14], line 2\u001b[0m\n\u001b[0;32m      1\u001b[0m \u001b[38;5;66;03m# Run the Genetic Algorithm\u001b[39;00m\n\u001b[1;32m----> 2\u001b[0m best_solution \u001b[38;5;241m=\u001b[39m \u001b[43mgenetic_algorithm\u001b[49m\u001b[43m(\u001b[49m\n\u001b[0;32m      3\u001b[0m \u001b[43m    \u001b[49m\u001b[43mgenerations\u001b[49m\u001b[38;5;241;43m=\u001b[39;49m\u001b[38;5;241;43m20\u001b[39;49m\u001b[43m,\u001b[49m\n\u001b[0;32m      4\u001b[0m \u001b[43m    \u001b[49m\u001b[43mpopulation_size\u001b[49m\u001b[38;5;241;43m=\u001b[39;49m\u001b[38;5;241;43m10\u001b[39;49m\u001b[43m,\u001b[49m\n\u001b[0;32m      5\u001b[0m \u001b[43m    \u001b[49m\u001b[43mn_neurons_range\u001b[49m\u001b[38;5;241;43m=\u001b[39;49m\u001b[43m(\u001b[49m\u001b[38;5;241;43m5\u001b[39;49m\u001b[43m,\u001b[49m\u001b[43m \u001b[49m\u001b[38;5;241;43m50\u001b[39;49m\u001b[43m)\u001b[49m\u001b[43m,\u001b[49m\n\u001b[0;32m      6\u001b[0m \u001b[43m    \u001b[49m\u001b[43mlr_range\u001b[49m\u001b[38;5;241;43m=\u001b[39;49m\u001b[43m(\u001b[49m\u001b[38;5;241;43m0.001\u001b[39;49m\u001b[43m,\u001b[49m\u001b[43m \u001b[49m\u001b[38;5;241;43m0.1\u001b[39;49m\u001b[43m)\u001b[49m\u001b[43m,\u001b[49m\n\u001b[0;32m      7\u001b[0m \u001b[43m    \u001b[49m\u001b[43malpha_range\u001b[49m\u001b[38;5;241;43m=\u001b[39;49m\u001b[43m(\u001b[49m\u001b[38;5;241;43m0.0001\u001b[39;49m\u001b[43m,\u001b[49m\u001b[43m \u001b[49m\u001b[38;5;241;43m0.01\u001b[39;49m\u001b[43m)\u001b[49m\u001b[43m,\u001b[49m\n\u001b[0;32m      8\u001b[0m \u001b[43m    \u001b[49m\u001b[43mmutation_rate\u001b[49m\u001b[38;5;241;43m=\u001b[39;49m\u001b[38;5;241;43m0.1\u001b[39;49m\u001b[43m,\u001b[49m\n\u001b[0;32m      9\u001b[0m \u001b[43m    \u001b[49m\u001b[43mX_train\u001b[49m\u001b[38;5;241;43m=\u001b[39;49m\u001b[43mX_train\u001b[49m\u001b[43m,\u001b[49m\n\u001b[0;32m     10\u001b[0m \u001b[43m    \u001b[49m\u001b[43my_train\u001b[49m\u001b[38;5;241;43m=\u001b[39;49m\u001b[43my_train\u001b[49m\u001b[43m,\u001b[49m\n\u001b[0;32m     11\u001b[0m \u001b[43m    \u001b[49m\u001b[43mX_test\u001b[49m\u001b[38;5;241;43m=\u001b[39;49m\u001b[43mX_test\u001b[49m\u001b[43m,\u001b[49m\n\u001b[0;32m     12\u001b[0m \u001b[43m    \u001b[49m\u001b[43my_test\u001b[49m\u001b[38;5;241;43m=\u001b[39;49m\u001b[43my_test\u001b[49m\n\u001b[0;32m     13\u001b[0m \u001b[43m)\u001b[49m\n\u001b[0;32m     14\u001b[0m \u001b[38;5;28mprint\u001b[39m(\u001b[38;5;124m\"\u001b[39m\u001b[38;5;124mOptimal Hyperparameters Found:\u001b[39m\u001b[38;5;124m\"\u001b[39m, best_solution)\n",
      "Cell \u001b[1;32mIn[13], line 18\u001b[0m, in \u001b[0;36mgenetic_algorithm\u001b[1;34m(generations, population_size, n_neurons_range, lr_range, alpha_range, mutation_rate, X_train, y_train, X_test, y_test)\u001b[0m\n\u001b[0;32m     16\u001b[0m new_population \u001b[38;5;241m=\u001b[39m []\n\u001b[0;32m     17\u001b[0m \u001b[38;5;28;01mfor\u001b[39;00m _ \u001b[38;5;129;01min\u001b[39;00m \u001b[38;5;28mrange\u001b[39m(population_size \u001b[38;5;241m/\u001b[39m\u001b[38;5;241m/\u001b[39m \u001b[38;5;241m2\u001b[39m):\n\u001b[1;32m---> 18\u001b[0m     parent1 \u001b[38;5;241m=\u001b[39m \u001b[43mroulette_wheel_selection\u001b[49m\u001b[43m(\u001b[49m\u001b[43mpopulation\u001b[49m\u001b[43m,\u001b[49m\u001b[43m \u001b[49m\u001b[43mfitness_scores\u001b[49m\u001b[43m)\u001b[49m\n\u001b[0;32m     19\u001b[0m     parent2 \u001b[38;5;241m=\u001b[39m roulette_wheel_selection(population, fitness_scores)\n\u001b[0;32m     20\u001b[0m     child1, child2 \u001b[38;5;241m=\u001b[39m crossover(parent1, parent2)\n",
      "Cell \u001b[1;32mIn[12], line 15\u001b[0m, in \u001b[0;36mroulette_wheel_selection\u001b[1;34m(population, fitness_scores)\u001b[0m\n\u001b[0;32m     14\u001b[0m \u001b[38;5;28;01mdef\u001b[39;00m \u001b[38;5;21mroulette_wheel_selection\u001b[39m(population, fitness_scores):\n\u001b[1;32m---> 15\u001b[0m     total_fitness \u001b[38;5;241m=\u001b[39m \u001b[38;5;28;43msum\u001b[39;49m\u001b[43m(\u001b[49m\u001b[38;5;241;43m1\u001b[39;49m\u001b[43m \u001b[49m\u001b[38;5;241;43m/\u001b[39;49m\u001b[43m \u001b[49m\u001b[43mscore\u001b[49m\u001b[43m \u001b[49m\u001b[38;5;28;43;01mfor\u001b[39;49;00m\u001b[43m \u001b[49m\u001b[43mscore\u001b[49m\u001b[43m \u001b[49m\u001b[38;5;129;43;01min\u001b[39;49;00m\u001b[43m \u001b[49m\u001b[43mfitness_scores\u001b[49m\u001b[43m)\u001b[49m\n\u001b[0;32m     16\u001b[0m     probabilities \u001b[38;5;241m=\u001b[39m [(\u001b[38;5;241m1\u001b[39m \u001b[38;5;241m/\u001b[39m score) \u001b[38;5;241m/\u001b[39m total_fitness \u001b[38;5;28;01mfor\u001b[39;00m score \u001b[38;5;129;01min\u001b[39;00m fitness_scores]\n\u001b[0;32m     17\u001b[0m     selected_index \u001b[38;5;241m=\u001b[39m np\u001b[38;5;241m.\u001b[39mrandom\u001b[38;5;241m.\u001b[39mchoice(\u001b[38;5;28mlen\u001b[39m(population), p\u001b[38;5;241m=\u001b[39mprobabilities)\n",
      "Cell \u001b[1;32mIn[12], line 15\u001b[0m, in \u001b[0;36m<genexpr>\u001b[1;34m(.0)\u001b[0m\n\u001b[0;32m     14\u001b[0m \u001b[38;5;28;01mdef\u001b[39;00m \u001b[38;5;21mroulette_wheel_selection\u001b[39m(population, fitness_scores):\n\u001b[1;32m---> 15\u001b[0m     total_fitness \u001b[38;5;241m=\u001b[39m \u001b[38;5;28msum\u001b[39m(\u001b[38;5;241;43m1\u001b[39;49m\u001b[43m \u001b[49m\u001b[38;5;241;43m/\u001b[39;49m\u001b[43m \u001b[49m\u001b[43mscore\u001b[49m \u001b[38;5;28;01mfor\u001b[39;00m score \u001b[38;5;129;01min\u001b[39;00m fitness_scores)\n\u001b[0;32m     16\u001b[0m     probabilities \u001b[38;5;241m=\u001b[39m [(\u001b[38;5;241m1\u001b[39m \u001b[38;5;241m/\u001b[39m score) \u001b[38;5;241m/\u001b[39m total_fitness \u001b[38;5;28;01mfor\u001b[39;00m score \u001b[38;5;129;01min\u001b[39;00m fitness_scores]\n\u001b[0;32m     17\u001b[0m     selected_index \u001b[38;5;241m=\u001b[39m np\u001b[38;5;241m.\u001b[39mrandom\u001b[38;5;241m.\u001b[39mchoice(\u001b[38;5;28mlen\u001b[39m(population), p\u001b[38;5;241m=\u001b[39mprobabilities)\n",
      "\u001b[1;31mZeroDivisionError\u001b[0m: float division by zero"
     ]
    }
   ],
   "source": [
    "# Run the Genetic Algorithm\n",
    "best_solution = genetic_algorithm(\n",
    "    generations=20,\n",
    "    population_size=10,\n",
    "    n_neurons_range=(5, 50),\n",
    "    lr_range=(0.001, 0.1),\n",
    "    alpha_range=(0.0001, 0.01),\n",
    "    mutation_rate=0.1,\n",
    "    X_train=X_train,\n",
    "    y_train=y_train,\n",
    "    X_test=X_test,\n",
    "    y_test=y_test\n",
    ")\n",
    "print(\"Optimal Hyperparameters Found:\", best_solution)\n"
   ]
  }
 ],
 "metadata": {
  "kernelspec": {
   "display_name": "Python 3",
   "language": "python",
   "name": "python3"
  },
  "language_info": {
   "codemirror_mode": {
    "name": "ipython",
    "version": 3
   },
   "file_extension": ".py",
   "mimetype": "text/x-python",
   "name": "python",
   "nbconvert_exporter": "python",
   "pygments_lexer": "ipython3",
   "version": "3.13.0"
  }
 },
 "nbformat": 4,
 "nbformat_minor": 2
}

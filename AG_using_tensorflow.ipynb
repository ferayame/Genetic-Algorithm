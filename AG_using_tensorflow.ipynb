{
 "cells": [
  {
   "cell_type": "markdown",
   "metadata": {},
   "source": [
    "# Genetic Algorithm MLP"
   ]
  },
  {
   "cell_type": "code",
   "execution_count": 100,
   "metadata": {},
   "outputs": [],
   "source": [
    "import numpy as np\n",
    "from sklearn.model_selection import train_test_split\n",
    "from tensorflow.keras.datasets import mnist\n",
    "\n",
    "(X_train_full, y_train_full), (X_test_full, y_test_full) = mnist.load_data()\n",
    "\n",
    "# Filtering the data getting only 0s and\n",
    "train_filter = np.where((y_train_full == 0) | (y_train_full == 1))\n",
    "#test_filter = np.where((y_test_full == 0) | (y_test_full == 1))\n",
    "\n",
    "X_train_full, y_train_full = X_train_full[train_filter], y_train_full[train_filter]\n",
    "#X_test_full, y_test_full = X_test_full[test_filter], y_test_full[test_filter]\n"
   ]
  },
  {
   "cell_type": "code",
   "execution_count": 101,
   "metadata": {},
   "outputs": [],
   "source": [
    "# Normalize the pixel values\n",
    "X_train_full = X_train_full.astype('float32') / 255.0\n",
    "#X_test_full = X_test_full.astype('float32') / 255.0\n",
    "\n",
    "# Flatten the images\n",
    "X_train_full = X_train_full.reshape(X_train_full.shape[0], -1)\n",
    "#X_test_full = X_test_full.reshape(X_test_full.shape[0], -1)\n",
    "\n",
    "# Split the dataset into training (60%), validation (20%), and test (20%) sets\n",
    "X_train, X_temp, y_train, y_temp = train_test_split(X_train_full, y_train_full, test_size=0.4, random_state=42)\n",
    "X_val, X_test, y_val, y_test = train_test_split(X_temp, y_temp, test_size=0.5, random_state=42)"
   ]
  },
  {
   "cell_type": "code",
   "execution_count": 102,
   "metadata": {},
   "outputs": [
    {
     "name": "stdout",
     "output_type": "stream",
     "text": [
      "Training set size: 7599\n",
      "Validation set size: 2533\n",
      "Test set size: 2533\n"
     ]
    }
   ],
   "source": [
    "print(f\"Training set size: {X_train.shape[0]}\")\n",
    "print(f\"Validation set size: {X_val.shape[0]}\")\n",
    "print(f\"Test set size: {X_test.shape[0]}\")"
   ]
  },
  {
   "cell_type": "code",
   "execution_count": 103,
   "metadata": {},
   "outputs": [
    {
     "data": {
      "image/png": "[encoded data removed]",
      "text/plain": [
       "<Figure size 1000x500 with 2 Axes>"
      ]
     },
     "metadata": {},
     "output_type": "display_data"
    }
   ],
   "source": [
    "import matplotlib.pyplot as plt\n",
    "import matplotlib.image as mpimg\n",
    "\n",
    "image1 = mpimg.imread(\"mnist_images\\\\image_4.png\")\n",
    "image2 = mpimg.imread(\"mnist_images\\\\image_12663.png\")\n",
    "\n",
    "fig, axes = plt.subplots(1, 2, figsize=(10, 5))  # 1 row, 2 columns\n",
    "\n",
    "axes[0].imshow(image1)\n",
    "axes[0].axis('off') \n",
    "\n",
    "axes[1].imshow(image2)\n",
    "axes[1].axis('off') \n",
    "\n",
    "plt.tight_layout() \n",
    "plt.show()"
   ]
  },
  {
   "cell_type": "code",
   "execution_count": 104,
   "metadata": {},
   "outputs": [
    {
     "name": "stdout",
     "output_type": "stream",
     "text": [
      "Iteration 1, loss = 0.03932555\n",
      "Iteration 2, loss = 0.00346917\n",
      "Iteration 3, loss = 0.00210023\n",
      "Iteration 4, loss = 0.00171234\n",
      "Iteration 5, loss = 0.00114470\n",
      "Iteration 6, loss = 0.00043892\n",
      "Iteration 7, loss = 0.00041760\n",
      "Iteration 8, loss = 0.00017650\n",
      "Iteration 9, loss = 0.00013758\n",
      "Iteration 10, loss = 0.00012392\n",
      "Iteration 11, loss = 0.00011358\n",
      "Iteration 12, loss = 0.00010062\n",
      "Iteration 13, loss = 0.00009322\n",
      "Iteration 14, loss = 0.00008725\n",
      "Iteration 15, loss = 0.00008298\n",
      "Iteration 16, loss = 0.00008063\n",
      "Iteration 17, loss = 0.00007707\n",
      "Iteration 18, loss = 0.00007548\n",
      "Iteration 19, loss = 0.00007303\n",
      "Training loss did not improve more than tol=0.000100 for 10 consecutive epochs. Stopping.\n",
      "Accuracy: 0.9988\n"
     ]
    }
   ],
   "source": [
    "from sklearn.neural_network import MLPClassifier\n",
    "from sklearn.metrics import accuracy_score\n",
    "\n",
    "mlp = MLPClassifier(hidden_layer_sizes=(50,), max_iter=200, alpha=0.0001,\n",
    "                    solver='adam', verbose=10, random_state=42,\n",
    "                    learning_rate_init=0.01)\n",
    "\n",
    "mlp.fit(X_train.reshape(X_train.shape[0], -1), y_train)\n",
    "\n",
    "y_pred = mlp.predict(X_test.reshape(X_test.shape[0], -1))\n",
    "accuracy = accuracy_score(y_test, y_pred)\n",
    "print(f\"Accuracy: {accuracy:.4f}\")"
   ]
  },
  {
   "cell_type": "code",
   "execution_count": 105,
   "metadata": {},
   "outputs": [
    {
     "data": {
      "application/vnd.plotly.v1+json": {
       "config": {
        "plotlyServerURL": "https://plot.ly"
       },
       "data": [
        {
         "line": {
          "color": "royalblue"
         },
         "mode": "lines",
         "name": "Training Loss",
         "type": "scatter",
         "x": [
          0,
          1,
          2,
          3,
          4,
          5,
          6,
          7,
          8,
          9,
          10,
          11,
          12,
          13,
          14,
          15,
          16,
          17,
          18
         ],
         "y": [
          0.03932554639868845,
          0.003469172297784006,
          0.002100226458308206,
          0.001712340667782007,
          0.0011446998157518238,
          0.0004389207470253229,
          0.00041759933672219846,
          0.00017649811410685895,
          0.00013758425885975674,
          0.0001239155556967343,
          0.00011358423384069072,
          0.00010062410532829568,
          0.00009322249674089536,
          0.00008724667880120926,
          0.00008298053592389674,
          0.00008063218722132535,
          0.00007706656165968812,
          0.0000754839549716396,
          0.00007302736991930873
         ]
        }
       ],
       "layout": {
        "font": {
         "color": "white"
        },
        "paper_bgcolor": "rgba(0,0,0,0)",
        "plot_bgcolor": "rgba(0,0,0,0)",
        "template": {
         "data": {
          "bar": [
           {
            "error_x": {
             "color": "#2a3f5f"
            },
            "error_y": {
             "color": "#2a3f5f"
            },
            "marker": {
             "line": {
              "color": "#E5ECF6",
              "width": 0.5
             },
             "pattern": {
              "fillmode": "overlay",
              "size": 10,
              "solidity": 0.2
             }
            },
            "type": "bar"
           }
          ],
          "barpolar": [
           {
            "marker": {
             "line": {
              "color": "#E5ECF6",
              "width": 0.5
             },
             "pattern": {
              "fillmode": "overlay",
              "size": 10,
              "solidity": 0.2
             }
            },
            "type": "barpolar"
           }
          ],
          "carpet": [
           {
            "aaxis": {
             "endlinecolor": "#2a3f5f",
             "gridcolor": "white",
             "linecolor": "white",
             "minorgridcolor": "white",
             "startlinecolor": "#2a3f5f"
            },
            "baxis": {
             "endlinecolor": "#2a3f5f",
             "gridcolor": "white",
             "linecolor": "white",
             "minorgridcolor": "white",
             "startlinecolor": "#2a3f5f"
            },
            "type": "carpet"
           }
          ],
          "choropleth": [
           {
            "colorbar": {
             "outlinewidth": 0,
             "ticks": ""
            },
            "type": "choropleth"
           }
          ],
          "contour": [
           {
            "colorbar": {
             "outlinewidth": 0,
             "ticks": ""
            },
            "colorscale": [
             [
              0,
              "#0d0887"
             ],
             [
              0.1111111111111111,
              "#46039f"
             ],
             [
              0.2222222222222222,
              "#7201a8"
             ],
             [
              0.3333333333333333,
              "#9c179e"
             ],
             [
              0.4444444444444444,
              "#bd3786"
             ],
             [
              0.5555555555555556,
              "#d8576b"
             ],
             [
              0.6666666666666666,
              "#ed7953"
             ],
             [
              0.7777777777777778,
              "#fb9f3a"
             ],
             [
              0.8888888888888888,
              "#fdca26"
             ],
             [
              1,
              "#f0f921"
             ]
            ],
            "type": "contour"
           }
          ],
          "contourcarpet": [
           {
            "colorbar": {
             "outlinewidth": 0,
             "ticks": ""
            },
            "type": "contourcarpet"
           }
          ],
          "heatmap": [
           {
            "colorbar": {
             "outlinewidth": 0,
             "ticks": ""
            },
            "colorscale": [
             [
              0,
              "#0d0887"
             ],
             [
              0.1111111111111111,
              "#46039f"
             ],
             [
              0.2222222222222222,
              "#7201a8"
             ],
             [
              0.3333333333333333,
              "#9c179e"
             ],
             [
              0.4444444444444444,
              "#bd3786"
             ],
             [
              0.5555555555555556,
              "#d8576b"
             ],
             [
              0.6666666666666666,
              "#ed7953"
             ],
             [
              0.7777777777777778,
              "#fb9f3a"
             ],
             [
              0.8888888888888888,
              "#fdca26"
             ],
             [
              1,
              "#f0f921"
             ]
            ],
            "type": "heatmap"
           }
          ],
          "heatmapgl": [
           {
            "colorbar": {
             "outlinewidth": 0,
             "ticks": ""
            },
            "colorscale": [
             [
              0,
              "#0d0887"
             ],
             [
              0.1111111111111111,
              "#46039f"
             ],
             [
              0.2222222222222222,
              "#7201a8"
             ],
             [
              0.3333333333333333,
              "#9c179e"
             ],
             [
              0.4444444444444444,
              "#bd3786"
             ],
             [
              0.5555555555555556,
              "#d8576b"
             ],
             [
              0.6666666666666666,
              "#ed7953"
             ],
             [
              0.7777777777777778,
              "#fb9f3a"
             ],
             [
              0.8888888888888888,
              "#fdca26"
             ],
             [
              1,
              "#f0f921"
             ]
            ],
            "type": "heatmapgl"
           }
          ],
          "histogram": [
           {
            "marker": {
             "pattern": {
              "fillmode": "overlay",
              "size": 10,
              "solidity": 0.2
             }
            },
            "type": "histogram"
           }
          ],
          "histogram2d": [
           {
            "colorbar": {
             "outlinewidth": 0,
             "ticks": ""
            },
            "colorscale": [
             [
              0,
              "#0d0887"
             ],
             [
              0.1111111111111111,
              "#46039f"
             ],
             [
              0.2222222222222222,
              "#7201a8"
             ],
             [
              0.3333333333333333,
              "#9c179e"
             ],
             [
              0.4444444444444444,
              "#bd3786"
             ],
             [
              0.5555555555555556,
              "#d8576b"
             ],
             [
              0.6666666666666666,
              "#ed7953"
             ],
             [
              0.7777777777777778,
              "#fb9f3a"
             ],
             [
              0.8888888888888888,
              "#fdca26"
             ],
             [
              1,
              "#f0f921"
             ]
            ],
            "type": "histogram2d"
           }
          ],
          "histogram2dcontour": [
           {
            "colorbar": {
             "outlinewidth": 0,
             "ticks": ""
            },
            "colorscale": [
             [
              0,
              "#0d0887"
             ],
             [
              0.1111111111111111,
              "#46039f"
             ],
             [
              0.2222222222222222,
              "#7201a8"
             ],
             [
              0.3333333333333333,
              "#9c179e"
             ],
             [
              0.4444444444444444,
              "#bd3786"
             ],
             [
              0.5555555555555556,
              "#d8576b"
             ],
             [
              0.6666666666666666,
              "#ed7953"
             ],
             [
              0.7777777777777778,
              "#fb9f3a"
             ],
             [
              0.8888888888888888,
              "#fdca26"
             ],
             [
              1,
              "#f0f921"
             ]
            ],
            "type": "histogram2dcontour"
           }
          ],
          "mesh3d": [
           {
            "colorbar": {
             "outlinewidth": 0,
             "ticks": ""
            },
            "type": "mesh3d"
           }
          ],
          "parcoords": [
           {
            "line": {
             "colorbar": {
              "outlinewidth": 0,
              "ticks": ""
             }
            },
            "type": "parcoords"
           }
          ],
          "pie": [
           {
            "automargin": true,
            "type": "pie"
           }
          ],
          "scatter": [
           {
            "fillpattern": {
             "fillmode": "overlay",
             "size": 10,
             "solidity": 0.2
            },
            "type": "scatter"
           }
          ],
          "scatter3d": [
           {
            "line": {
             "colorbar": {
              "outlinewidth": 0,
              "ticks": ""
             }
            },
            "marker": {
             "colorbar": {
              "outlinewidth": 0,
              "ticks": ""
             }
            },
            "type": "scatter3d"
           }
          ],
          "scattercarpet": [
           {
            "marker": {
             "colorbar": {
              "outlinewidth": 0,
              "ticks": ""
             }
            },
            "type": "scattercarpet"
           }
          ],
          "scattergeo": [
           {
            "marker": {
             "colorbar": {
              "outlinewidth": 0,
              "ticks": ""
             }
            },
            "type": "scattergeo"
           }
          ],
          "scattergl": [
           {
            "marker": {
             "colorbar": {
              "outlinewidth": 0,
              "ticks": ""
             }
            },
            "type": "scattergl"
           }
          ],
          "scattermapbox": [
           {
            "marker": {
             "colorbar": {
              "outlinewidth": 0,
              "ticks": ""
             }
            },
            "type": "scattermapbox"
           }
          ],
          "scatterpolar": [
           {
            "marker": {
             "colorbar": {
              "outlinewidth": 0,
              "ticks": ""
             }
            },
            "type": "scatterpolar"
           }
          ],
          "scatterpolargl": [
           {
            "marker": {
             "colorbar": {
              "outlinewidth": 0,
              "ticks": ""
             }
            },
            "type": "scatterpolargl"
           }
          ],
          "scatterternary": [
           {
            "marker": {
             "colorbar": {
              "outlinewidth": 0,
              "ticks": ""
             }
            },
            "type": "scatterternary"
           }
          ],
          "surface": [
           {
            "colorbar": {
             "outlinewidth": 0,
             "ticks": ""
            },
            "colorscale": [
             [
              0,
              "#0d0887"
             ],
             [
              0.1111111111111111,
              "#46039f"
             ],
             [
              0.2222222222222222,
              "#7201a8"
             ],
             [
              0.3333333333333333,
              "#9c179e"
             ],
             [
              0.4444444444444444,
              "#bd3786"
             ],
             [
              0.5555555555555556,
              "#d8576b"
             ],
             [
              0.6666666666666666,
              "#ed7953"
             ],
             [
              0.7777777777777778,
              "#fb9f3a"
             ],
             [
              0.8888888888888888,
              "#fdca26"
             ],
             [
              1,
              "#f0f921"
             ]
            ],
            "type": "surface"
           }
          ],
          "table": [
           {
            "cells": {
             "fill": {
              "color": "#EBF0F8"
             },
             "line": {
              "color": "white"
             }
            },
            "header": {
             "fill": {
              "color": "#C8D4E3"
             },
             "line": {
              "color": "white"
             }
            },
            "type": "table"
           }
          ]
         },
         "layout": {
          "annotationdefaults": {
           "arrowcolor": "#2a3f5f",
           "arrowhead": 0,
           "arrowwidth": 1
          },
          "autotypenumbers": "strict",
          "coloraxis": {
           "colorbar": {
            "outlinewidth": 0,
            "ticks": ""
           }
          },
          "colorscale": {
           "diverging": [
            [
             0,
             "#8e0152"
            ],
            [
             0.1,
             "#c51b7d"
            ],
            [
             0.2,
             "#de77ae"
            ],
            [
             0.3,
             "#f1b6da"
            ],
            [
             0.4,
             "#fde0ef"
            ],
            [
             0.5,
             "#f7f7f7"
            ],
            [
             0.6,
             "#e6f5d0"
            ],
            [
             0.7,
             "#b8e186"
            ],
            [
             0.8,
             "#7fbc41"
            ],
            [
             0.9,
             "#4d9221"
            ],
            [
             1,
             "#276419"
            ]
           ],
           "sequential": [
            [
             0,
             "#0d0887"
            ],
            [
             0.1111111111111111,
             "#46039f"
            ],
            [
             0.2222222222222222,
             "#7201a8"
            ],
            [
             0.3333333333333333,
             "#9c179e"
            ],
            [
             0.4444444444444444,
             "#bd3786"
            ],
            [
             0.5555555555555556,
             "#d8576b"
            ],
            [
             0.6666666666666666,
             "#ed7953"
            ],
            [
             0.7777777777777778,
             "#fb9f3a"
            ],
            [
             0.8888888888888888,
             "#fdca26"
            ],
            [
             1,
             "#f0f921"
            ]
           ],
           "sequentialminus": [
            [
             0,
             "#0d0887"
            ],
            [
             0.1111111111111111,
             "#46039f"
            ],
            [
             0.2222222222222222,
             "#7201a8"
            ],
            [
             0.3333333333333333,
             "#9c179e"
            ],
            [
             0.4444444444444444,
             "#bd3786"
            ],
            [
             0.5555555555555556,
             "#d8576b"
            ],
            [
             0.6666666666666666,
             "#ed7953"
            ],
            [
             0.7777777777777778,
             "#fb9f3a"
            ],
            [
             0.8888888888888888,
             "#fdca26"
            ],
            [
             1,
             "#f0f921"
            ]
           ]
          },
          "colorway": [
           "#636efa",
           "#EF553B",
           "#00cc96",
           "#ab63fa",
           "#FFA15A",
           "#19d3f3",
           "#FF6692",
           "#B6E880",
           "#FF97FF",
           "#FECB52"
          ],
          "font": {
           "color": "#2a3f5f"
          },
          "geo": {
           "bgcolor": "white",
           "lakecolor": "white",
           "landcolor": "#E5ECF6",
           "showlakes": true,
           "showland": true,
           "subunitcolor": "white"
          },
          "hoverlabel": {
           "align": "left"
          },
          "hovermode": "closest",
          "mapbox": {
           "style": "light"
          },
          "paper_bgcolor": "white",
          "plot_bgcolor": "#E5ECF6",
          "polar": {
           "angularaxis": {
            "gridcolor": "white",
            "linecolor": "white",
            "ticks": ""
           },
           "bgcolor": "#E5ECF6",
           "radialaxis": {
            "gridcolor": "white",
            "linecolor": "white",
            "ticks": ""
           }
          },
          "scene": {
           "xaxis": {
            "backgroundcolor": "#E5ECF6",
            "gridcolor": "white",
            "gridwidth": 2,
            "linecolor": "white",
            "showbackground": true,
            "ticks": "",
            "zerolinecolor": "white"
           },
           "yaxis": {
            "backgroundcolor": "#E5ECF6",
            "gridcolor": "white",
            "gridwidth": 2,
            "linecolor": "white",
            "showbackground": true,
            "ticks": "",
            "zerolinecolor": "white"
           },
           "zaxis": {
            "backgroundcolor": "#E5ECF6",
            "gridcolor": "white",
            "gridwidth": 2,
            "linecolor": "white",
            "showbackground": true,
            "ticks": "",
            "zerolinecolor": "white"
           }
          },
          "shapedefaults": {
           "line": {
            "color": "#2a3f5f"
           }
          },
          "ternary": {
           "aaxis": {
            "gridcolor": "white",
            "linecolor": "white",
            "ticks": ""
           },
           "baxis": {
            "gridcolor": "white",
            "linecolor": "white",
            "ticks": ""
           },
           "bgcolor": "#E5ECF6",
           "caxis": {
            "gridcolor": "white",
            "linecolor": "white",
            "ticks": ""
           }
          },
          "title": {
           "x": 0.05
          },
          "xaxis": {
           "automargin": true,
           "gridcolor": "white",
           "linecolor": "white",
           "ticks": "",
           "title": {
            "standoff": 15
           },
           "zerolinecolor": "white",
           "zerolinewidth": 2
          },
          "yaxis": {
           "automargin": true,
           "gridcolor": "white",
           "linecolor": "white",
           "ticks": "",
           "title": {
            "standoff": 15
           },
           "zerolinecolor": "white",
           "zerolinewidth": 2
          }
         }
        },
        "title": {
         "text": "Training Loss Over Iterations"
        },
        "xaxis": {
         "gridcolor": "purple",
         "gridwidth": 0.5,
         "linecolor": "white",
         "linewidth": 2,
         "mirror": true,
         "showline": true,
         "title": {
          "text": "Iterations"
         }
        },
        "yaxis": {
         "gridcolor": "purple",
         "gridwidth": 0.5,
         "linecolor": "white",
         "linewidth": 2,
         "mirror": true,
         "showline": true,
         "title": {
          "text": "Training Loss"
         }
        }
       }
      }
     },
     "metadata": {},
     "output_type": "display_data"
    }
   ],
   "source": [
    "import plotly.graph_objects as go\n",
    "\n",
    "loss_history = mlp.loss_curve_\n",
    "\n",
    "fig = go.Figure()\n",
    "fig.add_trace(go.Scatter(x=list(range(len(loss_history))), y=loss_history, mode='lines', name='Training Loss', line=dict(color='royalblue')))\n",
    "\n",
    "fig.update_xaxes(showline=True, linewidth=2, linecolor='white', mirror=True, gridcolor='purple', gridwidth=0.5)\n",
    "fig.update_yaxes(showline=True, linewidth=2, linecolor='white', mirror=True, gridcolor='purple', gridwidth=0.5)\n",
    "fig.update_layout(\n",
    "    title=\"Training Loss Over Iterations\",\n",
    "    xaxis_title=\"Iterations\",\n",
    "    yaxis_title=\"Training Loss\",\n",
    "    paper_bgcolor = 'rgba(0,0,0,0)', \n",
    "    plot_bgcolor = 'rgba(0,0,0,0)',\n",
    "    font=dict(color=\"white\"),\n",
    ")"
   ]
  },
  {
   "cell_type": "code",
   "execution_count": 106,
   "metadata": {},
   "outputs": [],
   "source": [
    "import random\n",
    "\n",
    "def flatten_weights(model):\n",
    "    weights = []\n",
    "    for weight, biais in zip(model.coefs_, model.intercepts_):\n",
    "        weights.extend(weight.flatten())\n",
    "        weights.extend(biais)\n",
    "    return weights\n",
    "\n",
    "def set_weights(model, chromosome):\n",
    "    start = 3 # since the 3 first elements are hidden layer size, learning rate and regularization parameter\n",
    "    new_weights = []\n",
    "    new_biaises = []\n",
    "    for weight, biais in zip(model.coefs_, model.intercepts_):\n",
    "        weight_shape = weight.shape\n",
    "        bias_shape = biais.shape\n",
    "        weight_size = np.prod(weight_shape)\n",
    "        biais_size = np.prod(bias_shape)\n",
    "        \n",
    "        end_weights = start + weight_size\n",
    "        print(f\"Weight size: {weight_size}\")\n",
    "        print(len(chromosome[start:end_weights]))\n",
    "        new_weight = np.array(chromosome[start:end_weights]).reshape(weight_shape)\n",
    "        start += weight_size\n",
    "        \n",
    "        end_biaises = start + biais_size\n",
    "        print(f\"biaises size: {biais_size}\")\n",
    "        print(len(chromosome[start:end_biaises]))\n",
    "        new_biais = np.array(chromosome[start:end_biaises]).reshape(bias_shape)\n",
    "        start += biais_size\n",
    "        \n",
    "        new_weights.append(new_weight)\n",
    "        new_biaises.append(new_biais)\n",
    "    \n",
    "    model.coefs_ = new_weights\n",
    "    model.intercepts_ = new_biaises\n",
    "\n",
    "# def fitness_function(chromosome, X_train, y_train, X_val, y_val):\n",
    "def fitness_function(model, X_val, y_val):\n",
    "    # hidden_layer_size = int(chromosome[0])\n",
    "    # learning_rate_init = chromosome[1]\n",
    "    # alpha = chromosome[2]\n",
    "    # weights_biases = chromosome[3:]\n",
    "    \n",
    "    # model = MLPClassifier(hidden_layer_sizes=(hidden_layer_size,),learning_rate='constant', learning_rate_init=learning_rate_init,alpha=alpha, max_iter=1, warm_start=True)\n",
    "    # model.fit(X_train, y_train)\n",
    "    #set_weights(model, weights_biases)\n",
    "    #model.fit(X_train, y_train)\n",
    "    y_pred = model.predict(X_val)\n",
    "    accuracy = accuracy_score(y_val, y_pred)\n",
    "    return accuracy\n",
    "\n",
    "def initialize_population(pop_size, model):\n",
    "    population = []\n",
    "    for _ in range(pop_size):\n",
    "        hls = model.hidden_layer_sizes[0]\n",
    "        learning_rate_init = model.learning_rate_init\n",
    "        alpha = model.alpha\n",
    "        weights_biases = flatten_weights(model)\n",
    "        chromosome = [hls, learning_rate_init, alpha] + weights_biases\n",
    "        population.append(chromosome)\n",
    "    return population\n",
    "\n",
    "# la méthode de roulette\n",
    "def select_parents(population, fitnesses):\n",
    "    total_fitness = sum(fitnesses)\n",
    "    selection_probs = [fitness / total_fitness for fitness in fitnesses]\n",
    "    parents = random.choices(population, weights=selection_probs, k=len(population))\n",
    "    return parents\n",
    "\n",
    "\n",
    "def crossover(parent1, parent2):\n",
    "    alpha  = random.random() # generates numbers between 0 and 1\n",
    "    parent1, parent2 = np.array(parent1), np.array(parent2)\n",
    "    child1 = alpha*parent1 + (1 - alpha)*parent2\n",
    "    child2 = (1 - alpha)*parent1 + alpha*parent2\n",
    "    return child1, child2\n",
    "\n",
    "# GET BACK TO THIS\n",
    "def mutate(chromosome, mutation_rate):\n",
    "    for i in range(len(chromosome)):\n",
    "        if random.random() < mutation_rate:\n",
    "            if i == 0:\n",
    "                chromosome[i] = random.randint(5, 50)  # hidden_layer_size\n",
    "            elif i == 1:\n",
    "                chromosome[i] = random.uniform(0.0001, 0.1)  # learning_rate_init\n",
    "            elif i == 2:\n",
    "                chromosome[i] = random.uniform(0.0001, 0.1)  # alpha\n",
    "            else:\n",
    "                chromosome[i] += np.random.normal()\n",
    "\n",
    "\n",
    "def genetic_algorithm(X_train, y_train, X_val, y_val, pop_size, generations, mutation_rate):\n",
    "    model = MLPClassifier(hidden_layer_sizes=(10,), max_iter=10, warm_start=True)\n",
    "    model.fit(X_train, y_train)\n",
    "    population = initialize_population(pop_size, model)\n",
    "    fitness_history = []\n",
    "    best_chromosome_per_generation = []\n",
    "    for _ in range(generations):\n",
    "        fitnesses = [fitness_function(model, X_val, y_val) for chromosome in population]\n",
    "        fitness_history.append(max(fitnesses))\n",
    "        best_params = population[fitnesses.index(max(fitnesses))]\n",
    "        best_chromosome_per_generation.append((best_params, 1 - max(fitnesses)))\n",
    "        parents = select_parents(population, fitnesses)\n",
    "        next_population = []\n",
    "        for i in range(0, len(parents), 2):\n",
    "            parent1, parent2 = parents[i], parents[i + 1]\n",
    "            child1, child2 = crossover(parent1, parent2)\n",
    "            mutate(child1, mutation_rate)\n",
    "            mutate(child2, mutation_rate)\n",
    "            next_population.extend([child1, child2])\n",
    "        population = next_population\n",
    "    # Select the best chromosome based on validation accuracy\n",
    "    best_chromosome = max(population, key=lambda chromo: fitness_function(model, X_val, y_val))\n",
    "    return best_chromosome, fitness_history, best_chromosome_per_generation"
   ]
  },
  {
   "cell_type": "code",
   "execution_count": 107,
   "metadata": {},
   "outputs": [
    {
     "name": "stderr",
     "output_type": "stream",
     "text": [
      "c:\\Users\\HP\\AppData\\Local\\Programs\\Python\\Python39\\lib\\site-packages\\sklearn\\neural_network\\_multilayer_perceptron.py:691: ConvergenceWarning:\n",
      "\n",
      "Stochastic Optimizer: Maximum iterations (10) reached and the optimization hasn't converged yet.\n",
      "\n"
     ]
    },
    {
     "name": "stdout",
     "output_type": "stream",
     "text": [
      "Best solution: [1.00000000e+01 1.00000000e-03 2.58916406e-02 ... 2.07419902e-01\n",
      " 3.05189503e-01 5.83584740e-01]\n",
      "Generation 1: Best Params: [10, 0.001, 0.0001, np.float32(4.9512835e-07), np.float32(0.00069353933), np.float32(-0.00015498845), np.float32(-8.577313e-05), np.float32(-0.00042035556), np.float32(7.488508e-07), np.float32(-2.6678101e-06), np.float32(0.00020444886), np.float32(-8.682079e-05), np.float32(-6.5706183e-07), np.float32(0.000189001), np.float32(-0.0012129393), np.float32(-7.4315603e-09), np.float32(0.00037018556), np.float32(-0.0001696731), np.float32(-0.0001256237), np.float32(6.3806197e-06), np.float32(-0.0002213876), np.float32(-0.000119950026), np.float32(0.00082113285), np.float32(-0.001444636), np.float32(-0.00022363766), np.float32(7.804839e-05), np.float32(3.9295617e-05), np.float32(1.2992214e-07), np.float32(0.00014229993), np.float32(-1.2619637e-05), np.float32(-1.289465e-06), np.float32(5.927939e-06), np.float32(7.055872e-05), np.float32(-8.4814255e-06), np.float32(3.976627e-07), np.float32(-0.00031347154), np.float32(4.0623756e-05), np.float32(-0.0006916011), np.float32(-9.1667105e-05), np.float32(5.593288e-06), np.float32(0.00078637584), np.float32(3.8453507e-07), np.float32(-0.0005468352), np.float32(0.0005633062), np.float32(-0.00012538122), np.float32(-0.00058733777), np.float32(-6.69619e-08), np.float32(0.00015268961), np.float32(-0.0005779878), np.float32(-3.42664e-05), np.float32(0.0007954308), np.float32(0.00043011835), np.float32(2.260046e-05), np.float32(-0.00013213306), np.float32(-1.00458344e-07), np.float32(-0.0006936333), np.float32(4.9155183e-06), np.float32(0.00012569859), np.float32(0.00046164778), np.float32(-2.620383e-05), np.float32(7.6964316e-05), np.float32(0.0003373856), np.float32(0.00142657), np.float32(-1.1443342e-06), np.float32(0.00018486788), np.float32(-0.0010342605), np.float32(0.00052541995), np.float32(0.00019857394), np.float32(8.001447e-05), np.float32(-7.9481e-05), np.float32(-0.0013443945), np.float32(-0.0010528154), np.float32(-1.0947579e-05), np.float32(0.00012541043), np.float32(-0.0006893206), np.float32(3.9390743e-05), np.float32(0.00011897326), np.float32(-0.001521025), np.float32(0.0004923343), np.float32(-5.2462013e-08), np.float32(0.00010268087), np.float32(-3.3697204e-05), np.float32(-0.00040218953), np.float32(-2.6850357e-06), np.float32(0.0006386512), np.float32(-0.00078959897), np.float32(-0.00092993665), np.float32(2.2489832e-05), np.float32(-9.893542e-05), np.float32(0.00025387833), np.float32(9.7285316e-05), np.float32(0.0006009247), np.float32(-6.450511e-08), np.float32(-0.00036065586), np.float32(1.6713255e-05), np.float32(0.0008744455), np.float32(0.0010712881), np.float32(-0.0010760055), np.float32(-0.00011892606), np.float32(-8.010401e-08), np.float32(-0.00033060595), np.float32(0.00048148795), np.float32(-9.925867e-07), np.float32(-0.00017843125), np.float32(-5.4646047e-05), np.float32(-0.0014016111), np.float32(-0.00046522482), np.float32(0.00010468225), np.float32(1.1580891e-05), np.float32(-0.00034764607), np.float32(-0.0009059941), np.float32(-6.1057806e-05), np.float32(0.0004536874), np.float32(-1.0640077e-06), np.float32(-0.0010082432), np.float32(-0.0012753577), np.float32(-0.00018400904), np.float32(0.00023055755), np.float32(-0.0012556257), np.float32(0.0003641788), np.float32(-8.204393e-05), np.float32(-0.0008348194), np.float32(-0.0012684497), np.float32(-0.0002017795), np.float32(-0.00072933437), np.float32(0.0012343777), np.float32(-0.00018813621), np.float32(1.669945e-05), np.float32(-3.155226e-05), np.float32(-3.236632e-05), np.float32(0.00087403797), np.float32(-0.00018752713), np.float32(-6.1959094e-05), np.float32(-8.450969e-06), np.float32(-0.00034564716), np.float32(-6.610831e-05), np.float32(-0.00069140625), np.float32(0.00068607094), np.float32(-0.00030810328), np.float32(9.0537564e-05), np.float32(-1.6795299e-06), np.float32(3.0287178e-05), np.float32(-7.4777936e-06), np.float32(-1.6115813e-07), np.float32(2.656159e-05), np.float32(-1.1022343e-05), np.float32(0.0010477046), np.float32(-4.4849166e-05), np.float32(0.00024246931), np.float32(-5.6609642e-05), np.float32(-1.5869657e-07), np.float32(6.023394e-06), np.float32(1.6704944e-05), np.float32(-1.4591716e-09), np.float32(0.0013829465), np.float32(-0.00015077947), np.float32(3.7111573e-07), np.float32(8.509455e-09), np.float32(1.9395345e-06), np.float32(-1.7020053e-05), np.float32(-0.00015704248), np.float32(4.2723096e-07), np.float32(-0.0013507074), np.float32(4.680266e-05), np.float32(0.00029742086), np.float32(0.0005749869), np.float32(9.011887e-06), np.float32(-2.2097214e-07), np.float32(1.0953722e-06), np.float32(0.00012896521), np.float32(-1.856924e-06), np.float32(-0.00074043387), np.float32(-0.001132515), np.float32(1.091496e-06), np.float32(0.00056922395), np.float32(-0.00017040942), np.float32(-1.5451525e-08), np.float32(5.295024e-07), np.float32(0.0012902544), np.float32(0.00025237372), np.float32(-0.0002588556), np.float32(-0.000109597306), np.float32(0.0003554672), np.float32(1.5713795e-05), np.float32(7.622605e-05), np.float32(-0.00027882654), np.float32(-7.3934236e-05), np.float32(-1.060546e-07), np.float32(-4.2916025e-08), np.float32(0.001374834), np.float32(0.001135314), np.float32(0.00110365), np.float32(0.00024591287), np.float32(-1.16702495e-05), np.float32(3.645398e-06), np.float32(9.934451e-05), np.float32(5.9170875e-06), np.float32(-1.4031875e-05), np.float32(-0.00010380799), np.float32(0.0004224051), np.float32(0.0007239009), np.float32(-0.00023456164), np.float32(-1.0983341e-06), np.float32(0.00014202874), np.float32(-9.726591e-08), np.float32(0.0006232585), np.float32(5.9586848e-05), np.float32(0.00019451907), np.float32(-0.00026542923), np.float32(6.238933e-05), np.float32(-9.84072e-05), np.float32(3.6734924e-05), np.float32(-4.9246207e-08), np.float32(2.7389927e-08), np.float32(1.3085366e-09), np.float32(-1.1903648e-05), np.float32(-0.0006992145), np.float32(7.241492e-07), np.float32(-0.0005745051), np.float32(2.3299468e-05), np.float32(3.955104e-05), np.float32(-0.00043742856), np.float32(2.651156e-05), np.float32(2.6836415e-06), np.float32(2.8893903e-05), np.float32(-0.0005429459), np.float32(-4.4930013e-05), np.float32(1.1675792e-05), np.float32(-7.571012e-06), np.float32(2.401451e-06), np.float32(-0.0012411262), np.float32(-0.00024718358), np.float32(-5.4593165e-06), np.float32(-0.00030515104), np.float32(-1.1717719e-06), np.float32(-0.0003911246), np.float32(1.7248227e-05), np.float32(2.3148964e-06), np.float32(3.1956068e-05), np.float32(-0.0012560579), np.float32(4.317748e-05), np.float32(-1.5700946e-06), np.float32(-0.0002288754), np.float32(-2.7502065e-07), np.float32(2.2360535e-05), np.float32(-9.609712e-06), np.float32(-1.7691201e-06), np.float32(9.148266e-06), np.float32(-2.3762618e-06), np.float32(4.2454947e-05), np.float32(-0.00037873164), np.float32(0.0005717249), np.float32(-7.946258e-05), np.float32(7.848206e-06), np.float32(-2.2908423e-05), np.float32(0.0008061131), np.float32(3.4626933e-07), np.float32(-2.690112e-05), np.float32(8.219917e-07), np.float32(-0.00015339628), np.float32(1.8930396e-05), np.float32(0.000283814), np.float32(0.0010782946), np.float32(-8.3594676e-07), np.float32(1.8299625e-07), np.float32(0.00075624156), np.float32(-5.6659186e-08), np.float32(-6.3096835e-05), np.float32(-0.0002735957), np.float32(1.6291672e-06), np.float32(-8.061792e-05), np.float32(-0.00039070522), np.float32(-0.0011685087), np.float32(-8.144357e-05), np.float32(0.0012552518), np.float32(-7.537438e-05), np.float32(-0.00033043153), np.float32(0.00020715345), np.float32(-1.3372033e-06), np.float32(0.0014439167), np.float32(-0.0003252528), np.float32(-0.00036003548), np.float32(-1.2788484e-08), np.float32(2.1665232e-05), np.float32(0.00021252474), np.float32(0.0004326216), np.float32(0.00013959769), np.float32(9.486167e-05), np.float32(6.6132264e-07), np.float32(-9.586184e-08), np.float32(0.00047772392), np.float32(-3.798124e-06), np.float32(-0.0011054595), np.float32(-0.0003627417), np.float32(-0.0015684564), np.float32(-0.0014383763), np.float32(-7.8444114e-05), np.float32(0.0001657873), np.float32(-0.00018635312), np.float32(-0.0008187033), np.float32(-4.72e-06), np.float32(0.001121423), np.float32(2.4592127e-05), np.float32(-0.0011171291), np.float32(1.012933e-05), np.float32(-3.950268e-06), np.float32(-3.619026e-07), np.float32(0.0009622652), np.float32(-1.07745144e-07), np.float32(0.0010744791), np.float32(1.227484e-06), np.float32(2.3348939e-05), np.float32(-5.3679923e-05), np.float32(0.00085774675), np.float32(-0.000903306), np.float32(-0.0005774584), np.float32(0.0004611035), np.float32(9.14917e-05), np.float32(-0.0013837691), np.float32(1.5570628e-09), np.float32(-2.5920783e-05), np.float32(-1.0801234e-05), np.float32(-4.2346488e-07), np.float32(-0.0010809501), np.float32(-0.00027323543), np.float32(0.00033355536), np.float32(0.00080604246), np.float32(5.074056e-07), np.float32(4.6001946e-06), np.float32(-8.0367674e-05), np.float32(-0.00016237758), np.float32(-0.0011193936), np.float32(-1.5739968e-06), np.float32(0.00092122826), np.float32(-8.697043e-05), np.float32(0.0013311466), np.float32(0.00031457833), np.float32(0.00042356944), np.float32(0.00014414419), np.float32(0.00074043847), np.float32(-0.0012312314), np.float32(0.00019481819), np.float32(6.264197e-05), np.float32(7.762938e-06), np.float32(2.4871264e-05), np.float32(-1.9818477e-05), np.float32(-0.000118944954), np.float32(-0.0009828117), np.float32(3.6538128e-07), np.float32(5.2769858e-05), np.float32(-2.9551015e-06), np.float32(-1.0370619e-06), np.float32(-0.0005375412), np.float32(-0.00012249411), np.float32(-0.00013061767), np.float32(0.00042457873), np.float32(1.9452615e-07), np.float32(7.729188e-05), np.float32(0.00045461784), np.float32(-0.00094591634), np.float32(-8.240369e-06), np.float32(3.7460508e-05), np.float32(-5.4708994e-07), np.float32(-0.0004910584), np.float32(0.00022767621), np.float32(-6.054059e-06), np.float32(0.00034116575), np.float32(0.0009331735), np.float32(-0.0009633951), np.float32(6.2562553e-06), np.float32(-3.0100946e-05), np.float32(6.1049555e-05), np.float32(0.00028512816), np.float32(6.4245654e-07), np.float32(-1.6568072e-06), np.float32(0.0015016131), np.float32(0.00025606612), np.float32(-6.0822247e-05), np.float32(-0.00026966442), np.float32(-5.5757417e-05), np.float32(0.00071798236), np.float32(8.831175e-05), np.float32(0.00035144007), np.float32(0.000339143), np.float32(0.00047461092), np.float32(0.00093576545), np.float32(0.00012035483), np.float32(0.00082304445), np.float32(-0.0012547189), np.float32(-2.0494026e-06), np.float32(-0.0012196793), np.float32(0.0014310891), np.float32(0.00044774928), np.float32(-0.06616863), np.float32(0.02095206), np.float32(-0.026479263), np.float32(0.008578667), np.float32(0.09045124), np.float32(0.0002470394), np.float32(0.014727091), np.float32(-0.08604148), np.float32(-0.0007144574), np.float32(-0.02345145), np.float32(-0.033470612), np.float32(-0.018748853), np.float32(0.014013027), np.float32(0.0020973228), np.float32(0.03944147), np.float32(6.5910904e-06), np.float32(-0.017070893), np.float32(-0.03631538), np.float32(8.991596e-06), np.float32(0.0037096), np.float32(-0.010163779), np.float32(-0.00024694024), np.float32(0.058972187), np.float32(-0.025724996), np.float32(-0.055366926), np.float32(-3.3981145e-05), np.float32(-0.03895756), np.float32(0.045325335), np.float32(-0.0007881507), np.float32(-0.01140463), np.float32(-0.00017877447), np.float32(-1.4731773e-06), np.float32(0.00011407904), np.float32(4.5341594e-07), np.float32(0.00075611024), np.float32(0.00038364212), np.float32(1.3568952e-05), np.float32(0.00034333486), np.float32(6.658447e-05), np.float32(-0.0007165229), np.float32(0.035603642), np.float32(0.07341505), np.float32(0.06100039), np.float32(0.030484037), np.float32(0.013910436), np.float32(-0.04907875), np.float32(0.013853467), np.float32(-0.036244355), np.float32(-0.021311278), np.float32(-0.04791359), np.float32(0.06380969), np.float32(-0.023199387), np.float32(0.03051103), np.float32(-0.011548101), np.float32(0.061973453), np.float32(-0.07335995), np.float32(-0.0085116895), np.float32(-0.051177174), np.float32(0.002739649), np.float32(0.011399675), np.float32(-0.01575122), np.float32(0.08471786), np.float32(0.0776696), np.float32(-0.06855808), np.float32(0.103246756), np.float32(-0.08048342), np.float32(0.01851862), np.float32(-0.030613719), np.float32(-0.07044535), np.float32(-0.059160452), np.float32(0.0006026381), np.float32(0.0001264166), np.float32(-0.00012697944), np.float32(-2.6658217e-06), np.float32(-4.046042e-06), np.float32(0.00013838406), np.float32(0.0003287174), np.float32(-7.072198e-05), np.float32(0.0004099292), np.float32(-0.0005910312), np.float32(1.2020367e-05), np.float32(-3.0020437e-05), np.float32(-0.00023501497), np.float32(-2.6507438e-05), np.float32(-0.00071984535), np.float32(-0.0012679568), np.float32(-1.1866953e-05), np.float32(-0.00020278202), np.float32(-0.0005619262), np.float32(1.8002538e-05), np.float32(0.0003698323), np.float32(0.00030447927), np.float32(-6.0308026e-05), np.float32(0.0008468052), np.float32(-0.00049474154), np.float32(-0.0002008943), np.float32(8.299831e-06), np.float32(-5.553186e-05), np.float32(0.00015664229), np.float32(-0.00051538716), np.float32(-2.8027032e-06), np.float32(-2.3854625e-06), np.float32(0.00034089718), np.float32(0.0005249564), np.float32(8.230836e-05), np.float32(1.2147285e-06), np.float32(5.8458474e-05), np.float32(-0.00014277648), np.float32(0.00026329013), np.float32(-0.0005181271), np.float32(-0.00049339706), np.float32(-4.979777e-07), np.float32(6.9391317e-06), np.float32(9.997812e-06), np.float32(0.00013256373), np.float32(-0.0013690237), np.float32(0.00028788304), np.float32(8.99629e-05), np.float32(-2.3243724e-06), np.float32(-9.552708e-08), np.float32(-0.00010480013), np.float32(-4.3993814e-06), np.float32(-0.00014625203), np.float32(0.00011130694), np.float32(-0.00033557578), np.float32(0.00012636953), np.float32(6.522358e-05), np.float32(-1.6801347e-05), np.float32(-0.0014003725), np.float32(0.00039546116), np.float32(0.00020914007), np.float32(-0.001134563), np.float32(-6.499906e-06), np.float32(-0.00011818866), np.float32(0.00034341856), np.float32(0.0011075241), np.float32(4.3718587e-06), np.float32(-4.1317826e-06), np.float32(-3.4445242e-05), np.float32(-6.679634e-05), np.float32(-0.0006716479), np.float32(-0.00069097517), np.float32(0.00013082275), np.float32(-0.0009501265), np.float32(-0.00033999083), np.float32(-1.6364902e-06), np.float32(0.00080870365), np.float32(0.00044682797), np.float32(0.0008998627), np.float32(8.843356e-06), np.float32(0.00081144075), np.float32(-1.1428563e-05), np.float32(2.9341121e-05), np.float32(0.00048548536), np.float32(1.2552717e-05), np.float32(3.0040477e-05), np.float32(-4.7606747e-05), np.float32(-0.00013166707), np.float32(-4.5983675e-06), np.float32(4.914573e-06), np.float32(0.00040002007), np.float32(-0.0011710132), np.float32(1.0345211e-06), np.float32(2.9699675e-06), np.float32(-2.9727715e-08), np.float32(-0.00013626412), np.float32(4.3839955e-05), np.float32(-3.289178e-05), np.float32(4.1443977e-06), np.float32(0.00055052555), np.float32(0.0009451096), np.float32(-1.3628844e-05), np.float32(1.215504e-06), np.float32(0.0005554076), np.float32(-0.0010479133), np.float32(-8.162579e-05), np.float32(-2.6538417e-05), np.float32(-4.4414614e-07), np.float32(-0.0010766315), np.float32(-0.001412013), np.float32(0.00036604409), np.float32(-3.656034e-07), np.float32(-0.00038816562), np.float32(1.095578e-05), np.float32(-9.482341e-06), np.float32(-6.6486937e-06), np.float32(-0.00031992325), np.float32(-0.0012043728), np.float32(0.0014303131), np.float32(-0.00020754542), np.float32(-2.0351156e-07), np.float32(0.001182508), np.float32(0.0002161226), np.float32(-0.0015202864), np.float32(-4.967473e-06), np.float32(-0.00024195125), np.float32(-4.6046075e-06), np.float32(-1.367742e-07), np.float32(1.0354269e-06), np.float32(0.00013151954), np.float32(-0.0019227666), np.float32(0.026685014), np.float32(-0.027799783), np.float32(6.0797494e-05), np.float32(-0.040569242), np.float32(0.00045672813), np.float32(0.065829895), np.float32(0.0011486311), np.float32(0.00013269378), np.float32(2.2482905e-06), np.float32(0.0027803022), np.float32(-0.023493992), np.float32(-0.011733795), np.float32(0.0009995375), np.float32(-0.0009972203), np.float32(-0.00088015356), np.float32(-0.015296358), np.float32(0.0014614225), np.float32(-3.91838e-05), np.float32(-3.306408e-06), np.float32(0.00086853636), np.float32(-0.0007629189), np.float32(-0.00010082608), np.float32(0.00016482922), np.float32(-4.6935325e-05), np.float32(0.0007608424), np.float32(-0.0009806701), np.float32(-1.604418e-05), np.float32(0.0014012414), np.float32(9.448962e-08), np.float32(-0.020813033), np.float32(0.043936655), np.float32(-0.004268123), np.float32(0.00021761368), np.float32(0.030074647), np.float32(0.00014257744), np.float32(0.02605561), np.float32(-0.08927209), np.float32(5.587048e-05), np.float32(6.769917e-06), np.float32(0.06670771), np.float32(0.054450985), np.float32(0.0015877633), np.float32(0.00019955561), np.float32(-0.047517877), np.float32(-1.8996636e-05), np.float32(0.0158223), np.float32(-0.06512819), np.float32(0.03533351), np.float32(-0.041172598), np.float32(0.049190577), np.float32(-0.010763144), np.float32(0.05511749), np.float32(0.00025680117), np.float32(-0.055541135), np.float32(-5.442774e-05), np.float32(0.0508406), np.float32(-0.03572165), np.float32(-0.023560349), np.float32(0.00644956), np.float32(2.2477936e-05), np.float32(0.0010608691), np.float32(0.000800144), np.float32(-3.4275006e-06), np.float32(0.00016289041), np.float32(-1.0273226e-06), np.float32(3.667228e-07), np.float32(-1.2129963e-05), np.float32(-0.00026685264), np.float32(0.0012561412), np.float32(3.1329768e-05), np.float32(1.1137661e-05), np.float32(-0.0006511259), np.float32(0.00027731177), np.float32(-2.3662724e-07), np.float32(-0.053317964), np.float32(-7.02301e-05), np.float32(0.044476237), np.float32(0.077234425), np.float32(-0.04048554), np.float32(-0.04382303), np.float32(-0.007265927), np.float32(-0.08033333), np.float32(-0.04740946), np.float32(-0.043141693), np.float32(-0.01967288), np.float32(0.06761433), np.float32(0.084914245), np.float32(0.029886657), np.float32(-0.02249521), np.float32(0.019913962), np.float32(0.017223136), np.float32(-0.01955135), np.float32(0.060369805), np.float32(0.00463222), np.float32(-0.0004142787), np.float32(-0.023653632), np.float32(0.06852059), np.float32(-0.007980576), np.float32(-0.017612938), np.float32(-0.07361137), np.float32(-0.029839884), np.float32(-0.004235696), np.float32(0.028082687), np.float32(-0.14401102), np.float32(0.106340796), np.float32(-0.06955131), np.float32(0.027368344), np.float32(0.034981508), np.float32(0.017671445), np.float32(0.017034108), np.float32(-0.036081947), np.float32(-0.05033864), np.float32(0.11118099), np.float32(-0.09883444), np.float32(0.0063108103), np.float32(-0.098697685), np.float32(0.06881521), np.float32(0.0061485544), np.float32(0.021864204), np.float32(-0.020705355), np.float32(-0.054260254), np.float32(-0.07746061), np.float32(-0.0059304223), np.float32(-0.07312945), np.float32(0.11403084), np.float32(-0.054077704), np.float32(0.0010969252), np.float32(-0.03367258), np.float32(0.076317154), np.float32(-0.12105122), np.float32(0.03609603), np.float32(-0.122582965), np.float32(0.10379306), np.float32(-0.021207204), np.float32(0.1237608), np.float32(-0.03228951), np.float32(0.050221726), np.float32(0.12390862), np.float32(0.07812031), np.float32(-0.10210588), np.float32(-0.1432479), np.float32(-0.10345105), np.float32(0.064323835), np.float32(-0.05532014), np.float32(0.10096391), np.float32(-0.08996744), np.float32(0.10296355), np.float32(-0.008502714), np.float32(0.14649425), np.float32(-0.07316018), np.float32(0.019416858), np.float32(-0.09665256), np.float32(0.07160342), np.float32(0.0065068565), np.float32(0.033353493), np.float32(-0.10953611), np.float32(0.06390309), np.float32(0.13505019), np.float32(0.10459586), np.float32(0.034033168), np.float32(4.2973123e-05), np.float32(-0.048225466), np.float32(-0.03729728), np.float32(-0.020294359), np.float32(0.025015173), np.float32(-0.021897625), np.float32(-0.04851984), np.float32(0.0539299), np.float32(0.07828502), np.float32(-0.050627492), np.float32(0.009863669), np.float32(-0.0032267992), np.float32(0.040258925), np.float32(-0.087176226), np.float32(0.07286384), np.float32(-0.061145872), np.float32(0.07185061), np.float32(0.0064301873), np.float32(0.07338443), np.float32(-0.00024223723), np.float32(-3.6684836e-05), np.float32(-4.1675863e-05), np.float32(-3.4962377e-05), np.float32(0.0005547733), np.float32(-0.00027477506), np.float32(-3.2773967e-06), np.float32(1.1978793e-06), np.float32(0.00010485369), np.float32(-0.0005742276), np.float32(0.0008807295), np.float32(7.390979e-08), np.float32(-9.514159e-09), np.float32(7.874991e-05), np.float32(-6.753569e-06), np.float32(-0.00070999033), np.float32(3.6616828e-05), np.float32(-5.6881277e-06), np.float32(5.7221016e-05), np.float32(0.0015455671), np.float32(-0.00029436682), np.float32(0.00012703035), np.float32(-0.00012667687), np.float32(3.350621e-05), np.float32(0.00023537825), np.float32(-1.4090865e-07), np.float32(-0.00087223365), np.float32(6.9835196e-06), np.float32(-0.0015441956), np.float32(0.001450977), np.float32(-4.541931e-08), np.float32(-0.00048080157), np.float32(-0.00018994541), np.float32(9.2474165e-06), np.float32(-0.00047069634), np.float32(0.00024694868), np.float32(0.0009877027), np.float32(1.982128e-08), np.float32(0.00074793474), np.float32(0.00023770164), np.float32(0.00092596625), np.float32(-0.00029216384), np.float32(0.00043169808), np.float32(4.0769314e-06), np.float32(8.3422865e-06), np.float32(-0.00052653154), np.float32(-3.1356228e-06), np.float32(-3.8839025e-06), np.float32(-5.9273298e-05), np.float32(-4.3826065e-05), np.float32(-3.3843908e-10), np.float32(-0.0003395812), np.float32(0.0011750032), np.float32(1.9615429e-05), np.float32(0.00083241385), np.float32(1.3316256e-06), np.float32(-2.726602e-05), np.float32(8.867479e-05), np.float32(-0.0005691787), np.float32(-1.9330259e-05), np.float32(1.1805922e-05), np.float32(-0.0014800667), np.float32(1.5214562e-05), np.float32(0.00034394802), np.float32(-1.5945185e-05), np.float32(0.00049286225), np.float32(-0.00014457169), np.float32(0.0014030262), np.float32(2.5086285e-06), np.float32(-0.0009885445), np.float32(0.00020943767), np.float32(-6.680765e-06), np.float32(-2.9174686e-05), np.float32(-0.00030284293), np.float32(-0.00044796895), np.float32(6.8782465e-06), np.float32(0.0009839154), np.float32(3.872858e-05), np.float32(0.00013641163), np.float32(-9.8017004e-08), np.float32(-7.083103e-05), np.float32(0.0001472973), np.float32(-4.028464e-05), np.float32(6.003637e-05), np.float32(0.00031402148), np.float32(-0.0005178339), np.float32(8.064731e-06), np.float32(-3.7797741e-07), np.float32(0.00038863797), np.float32(-0.0013236126), np.float32(-0.0010285885), np.float32(3.8019314e-06), np.float32(-9.207767e-05), np.float32(0.00021104656), np.float32(-0.0011003087), np.float32(-9.099566e-05), np.float32(-0.0008819309), np.float32(-8.2946775e-07), np.float32(-6.22849e-05), np.float32(0.0010979101), np.float32(-0.05718807), np.float32(0.009381227), np.float32(-0.018207917), np.float32(4.1701662e-07), np.float32(-0.020913826), np.float32(3.5662695e-05), np.float32(0.060727246), np.float32(8.919053e-05), np.float32(-0.00064543734), np.float32(0.00031939437), np.float32(-0.022459937), np.float32(0.029752355), np.float32(-0.03339373), np.float32(-2.4331988e-05), np.float32(0.038280208), np.float32(-2.7505204e-05), np.float32(-0.04604874), np.float32(9.617235e-07), np.float32(0.00010530511), np.float32(0.0011142622), np.float32(0.010786426), np.float32(-0.047539752), np.float32(0.08541274), np.float32(-9.610343e-07), np.float32(-0.03128057), np.float32(0.00022741215), np.float32(0.03875229), np.float32(-0.016938377), np.float32(0.0014719552), np.float32(-0.00086953025), np.float32(-0.042924903), np.float32(0.07130859), np.float32(0.053137712), np.float32(0.0014584457), np.float32(-0.012246669), np.float32(0.0014422894), np.float32(-0.033516012), np.float32(-0.024442937), np.float32(0.00038923102), np.float32(-0.0364448), np.float32(-0.017681204), np.float32(-0.039519496), np.float32(0.01349632), np.float32(0.0013955239), np.float32(0.008135335), np.float32(1.9036285e-07), np.float32(0.028033005), np.float32(-0.017500203), np.float32(0.021416202), np.float32(-0.040666074), np.float32(-0.010966471), np.float32(-0.041464787), np.float32(-0.080486506), np.float32(0.08776658), np.float32(0.015864609), np.float32(0.005951378), np.float32(0.020820582), np.float32(0.096853964), np.float32(0.023832956), np.float32(0.06885289), np.float32(-0.02940881), np.float32(0.019970544), np.float32(0.014712133), np.float32(0.08725327), np.float32(-0.005979288), np.float32(0.08354751), np.float32(0.07595765), np.float32(-0.020632558), np.float32(-0.009364275), np.float32(-0.033758383), np.float32(-0.062215727), np.float32(0.07986987), np.float32(-0.014497348), np.float32(0.06103261), np.float32(-0.021584224), np.float32(0.06470677), np.float32(-0.05259735), np.float32(0.027388701), np.float32(-0.011441389), np.float32(-0.08526066), np.float32(0.016516486), np.float32(0.007965177), np.float32(0.025551965), np.float32(-0.024069574), np.float32(0.01608201), np.float32(-0.05562517), np.float32(-0.03882718), np.float32(-0.0060421084), np.float32(-0.029753402), np.float32(0.027693367), np.float32(0.018762656), np.float32(0.041723084), np.float32(-0.06707444), np.float32(0.025243338), np.float32(-0.0714368), np.float32(0.02168877), np.float32(-0.001951811), np.float32(0.08509399), np.float32(-0.032350827), np.float32(-0.014311448), np.float32(-0.009740596), np.float32(0.008427911), np.float32(-0.057694588), np.float32(0.10087393), np.float32(-0.018420152), np.float32(0.03188314), np.float32(0.025643017), np.float32(0.09602738), np.float32(0.018005522), np.float32(0.12763177), np.float32(-0.06555954), np.float32(-0.056692924), np.float32(-0.13000484), np.float32(0.066288665), np.float32(-0.014652162), np.float32(0.09457224), np.float32(-0.13262528), np.float32(0.12539019), np.float32(0.10422695), np.float32(0.056365497), np.float32(-0.012778364), np.float32(-0.17621885), np.float32(-0.050049894), np.float32(0.17647228), np.float32(-0.09964268), np.float32(0.19166267), np.float32(-0.018236589), np.float32(0.06392295), np.float32(0.035643656), np.float32(0.16480982), np.float32(-0.038102187), np.float32(-0.0309173), np.float32(-0.06455072), np.float32(0.10356085), np.float32(-0.09054053), np.float32(0.042746056), np.float32(-0.097729586), np.float32(0.1388358), np.float32(0.1399063), np.float32(0.031542733), np.float32(-0.07175391), np.float32(-0.07717332), np.float32(-0.032933973), np.float32(0.17149828), np.float32(-0.03856424), np.float32(0.17294203), np.float32(-0.09667262), np.float32(0.060523167), np.float32(0.14367539), np.float32(0.04031933), np.float32(-0.018909942), np.float32(-0.097587176), np.float32(-0.07750345), np.float32(-0.010469914), np.float32(9.9752186e-05), np.float32(0.028371198), np.float32(0.010357497), np.float32(0.06264704), np.float32(0.11879512), np.float32(0.17003252), np.float32(-0.030422108), np.float32(0.0032266194), np.float32(-0.038375743), np.float32(0.1023154), np.float32(0.039230812), np.float32(0.04471978), np.float32(0.026645202), np.float32(-0.029149491), np.float32(0.08854737), np.float32(-0.02031629), np.float32(0.005803318), np.float32(0.0016223426), np.float32(-0.036368497), np.float32(-0.0042659817), np.float32(0.05673257), np.float32(0.08485199), np.float32(-0.045864753), np.float32(0.015163997), np.float32(-0.023328165), np.float32(0.081780694), np.float32(-0.07150387), np.float32(0.04219151), np.float32(0.023287266), np.float32(0.004289466), np.float32(0.056490127), np.float32(-0.042894896), np.float32(-0.036414813), np.float32(-0.01660986), np.float32(-0.025100406), np.float32(0.021869186), np.float32(0.03126806), np.float32(-0.0505076), np.float32(0.08909683), np.float32(-0.008902734), np.float32(0.039659824), np.float32(0.08613862), np.float32(-0.01348193), np.float32(-0.07930264), np.float32(-0.007953559), np.float32(-0.048273627), np.float32(-0.009523935), np.float32(-0.06597868), np.float32(0.074673235), np.float32(-0.0802031), np.float32(-0.06171796), np.float32(-0.00030450476), np.float32(0.07678088), np.float32(0.030664373), np.float32(0.0013064601), np.float32(-0.06338171), np.float32(0.03717177), np.float32(0.060651403), np.float32(0.07913606), np.float32(0.038525768), np.float32(0.063190475), np.float32(6.261403e-05), np.float32(-0.04307001), np.float32(0.034234457), np.float32(0.0010021402), np.float32(0.024961684), np.float32(0.076880686), np.float32(0.024160568), np.float32(0.0376791), np.float32(0.01929947), np.float32(-0.013046167), np.float32(2.174799e-08), np.float32(0.05534023), np.float32(-0.0009546887), np.float32(-0.000905171), np.float32(0.03212728), np.float32(-5.094763e-07), np.float32(-5.188687e-06), np.float32(0.0007602678), np.float32(0.00012534349), np.float32(-0.00051628274), np.float32(1.4300392e-07), np.float32(2.4894564e-06), np.float32(0.0003940168), np.float32(7.797948e-05), np.float32(1.4973605e-08), np.float32(-1.4387654e-05), np.float32(0.00029536462), np.float32(0.00012810784), np.float32(-1.2924185e-06), np.float32(0.00017113105), np.float32(0.0011357304), np.float32(4.051803e-06), np.float32(-0.00010316964), np.float32(1.8079616e-07), np.float32(-0.001017661), np.float32(0.0011325376), np.float32(0.00015123692), np.float32(-0.0006360161), np.float32(-1.3287268e-05), np.float32(-0.0010427758), np.float32(3.843653e-05), np.float32(7.890809e-06), np.float32(1.1949561e-08), np.float32(-0.0006651347), np.float32(2.4449903e-07), np.float32(-9.514249e-05), np.float32(8.568455e-07), np.float32(-1.027624e-05), np.float32(-5.743435e-05), np.float32(0.00041073753), np.float32(-8.900091e-06), np.float32(4.104574e-06), np.float32(-8.875366e-05), np.float32(0.0013919949), np.float32(3.666708e-06), np.float32(-4.3862532e-05), np.float32(-0.0014595822), np.float32(1.6558146e-06), np.float32(3.690001e-05), np.float32(4.4968496e-05), np.float32(-0.00021227106), np.float32(0.000118881435), np.float32(-7.5667114e-05), np.float32(-0.0005889342), np.float32(-3.2667045e-05), np.float32(0.016818235), np.float32(0.017632307), np.float32(0.06635445), np.float32(0.00048456204), np.float32(-0.0027866017), np.float32(1.3291495e-05), np.float32(0.06149442), np.float32(-0.04829709), np.float32(2.710615e-09), np.float32(0.0010102433), np.float32(0.001697813), np.float32(-0.07613309), np.float32(-0.020469507), np.float32(0.029497877), np.float32(-0.061169595), np.float32(0.007566053), np.float32(0.01782602), np.float32(0.08117512), np.float32(0.0050378297), np.float32(0.06995004), np.float32(-0.009929476), np.float32(-0.047948238), np.float32(0.017132176), np.float32(-0.021324774), np.float32(0.008706821), np.float32(-0.019924348), np.float32(-0.042962987), np.float32(0.10285269), np.float32(-0.018149583), np.float32(0.08759695), np.float32(-0.10303091), np.float32(-0.08604354), np.float32(-0.016567314), np.float32(-0.023243705), np.float32(-0.0975356), np.float32(-0.037127804), np.float32(-0.07447728), np.float32(0.018511916), np.float32(-0.030761324), np.float32(0.02184789), np.float32(-0.08500123), np.float32(-0.0065864655), np.float32(0.037398987), np.float32(-0.014974538), np.float32(-0.016833195), np.float32(-0.045899708), np.float32(0.008405372), np.float32(0.04980985), np.float32(-0.017535279), np.float32(0.04759782), np.float32(-0.02216079), np.float32(0.029243553), np.float32(-0.020820752), np.float32(-0.040373467), np.float32(-0.110137366), np.float32(0.1050255), np.float32(-0.08074268), np.float32(0.1210883), np.float32(0.07480749), np.float32(0.10542738), np.float32(-0.07687838), np.float32(-0.08998815), np.float32(-0.029672327), np.float32(0.06697484), np.float32(-0.019634167), np.float32(0.16352858), np.float32(-0.024196075), np.float32(0.023814822), np.float32(0.1412339), np.float32(0.079143554), np.float32(-0.047877964), np.float32(-0.08225282), np.float32(0.054108895), np.float32(0.04295792), np.float32(-0.03355671), np.float32(0.1253745), np.float32(0.0069919326), np.float32(0.12428209), np.float32(0.10115536), np.float32(0.0039858264), np.float32(0.04837141), np.float32(0.030322691), np.float32(-0.017477285), np.float32(0.010911789), np.float32(-0.083264284), np.float32(0.11108881), np.float32(0.005103999), np.float32(0.07771796), np.float32(0.1528949), np.float32(0.023855867), np.float32(-0.0323269), np.float32(-0.0245715), np.float32(0.054375097), np.float32(0.069951326), np.float32(0.008240644), np.float32(0.009315748), np.float32(-0.03005086), np.float32(0.103409715), np.float32(0.09667524), np.float32(0.11207338), np.float32(-0.02073905), np.float32(-0.03950559), np.float32(-0.09448798), np.float32(0.118922465), np.float32(-0.0632119), np.float32(0.07201694), np.float32(-0.054829996), np.float32(0.061024208), np.float32(0.104471736), np.float32(0.15805845), np.float32(0.05514595), np.float32(0.036169812), np.float32(-0.008385321), np.float32(0.060682364), np.float32(0.0047070514), np.float32(0.087430306), np.float32(0.0073385797), np.float32(0.07626575), np.float32(0.014286821), np.float32(0.03879268), np.float32(0.06043665), np.float32(0.035591584), np.float32(-0.06007529), np.float32(-0.007288455), np.float32(-0.05912857), np.float32(0.12938805), np.float32(0.0754238), np.float32(0.054298937), np.float32(0.14150597), np.float32(0.11342536), np.float32(-0.04741815), np.float32(-0.018855924), np.float32(0.087043405), np.float32(0.13032165), np.float32(-0.043285374), np.float32(0.12929258), np.float32(-0.0027129063), np.float32(-0.013587195), np.float32(0.08832736), np.float32(0.06599601), np.float32(0.0729725), np.float32(-0.0065340865), np.float32(0.11045244), np.float32(0.06632318), np.float32(-0.018418087), np.float32(0.04547282), np.float32(0.01316891), np.float32(-0.03032477), np.float32(0.12723687), np.float32(0.10333148), np.float32(-0.012179137), np.float32(0.12363003), np.float32(0.010408519), np.float32(0.09566494), np.float32(-0.014902134), np.float32(0.12967142), np.float32(0.10464206), np.float32(-0.024069406), np.float32(0.11882774), np.float32(0.071627006), np.float32(-0.066914365), np.float32(0.06394664), np.float32(0.019300656), np.float32(0.080941), np.float32(-0.087064765), np.float32(0.029279266), np.float32(-0.053891048), np.float32(-0.033982564), np.float32(0.040667117), np.float32(-0.02066841), np.float32(0.008999528), np.float32(0.007828323), np.float32(0.05162536), np.float32(0.05322108), np.float32(-0.10351962), np.float32(0.028363574), np.float32(-0.0347863), np.float32(0.08767278), np.float32(0.11646907), np.float32(0.095860526), np.float32(0.011748933), np.float32(-0.13138229), np.float32(-0.04639942), np.float32(0.12758921), np.float32(-0.10163897), np.float32(0.12588389), np.float32(-0.06302777), np.float32(0.14423624), np.float32(0.08123739), np.float32(0.1777178), np.float32(-0.11346561), np.float32(-0.0647551), np.float32(-0.10050066), np.float32(0.109779164), np.float32(-0.081626475), np.float32(0.0054448745), np.float32(-0.02463692), np.float32(0.111809395), np.float32(-0.00070853374), np.float32(0.032594893), np.float32(-0.010337), np.float32(-0.107470185), np.float32(-0.0017601692), np.float32(0.10752212), np.float32(-0.0038373552), np.float32(0.023557652), np.float32(0.021703904), np.float32(0.008541387), np.float32(0.07448519), np.float32(0.0618651), np.float32(-0.09876167), np.float32(-0.087685384), np.float32(-0.08395975), np.float32(0.034448802), np.float32(-0.026011845), np.float32(-0.03354568), np.float32(-0.035427228), np.float32(-0.015300574), np.float32(0.032194745), np.float32(0.10867024), np.float32(-0.03986293), np.float32(-0.04380875), np.float32(0.037947413), np.float32(0.03619973), np.float32(0.009182545), np.float32(0.016008507), np.float32(-0.047373872), np.float32(-0.050494988), np.float32(0.0018573849), np.float32(-0.012666658), np.float32(-7.054664e-05), np.float32(-0.0003809752), np.float32(-0.00013995795), np.float32(-0.001515407), np.float32(1.3068768e-05), np.float32(-1.3443464e-05), np.float32(-1.1784985e-05), np.float32(0.0004543012), np.float32(-1.6751687e-09), np.float32(-0.00011108462), np.float32(9.660137e-07), np.float32(0.0008661068), np.float32(-0.00012080677), np.float32(1.3026999e-05), np.float32(-7.466177e-05), np.float32(0.00089385506), np.float32(0.00012641912), np.float32(-1.8038152e-05), np.float32(7.6225835e-05), np.float32(0.00050269463), np.float32(3.6459187e-05), np.float32(-6.6576904e-05), np.float32(-1.0104079e-06), np.float32(0.0001875961), np.float32(2.8882596e-05), np.float32(2.0268244e-05), np.float32(2.1353027e-05), np.float32(0.00076126755), np.float32(4.857263e-05), np.float32(-0.000540899), np.float32(1.0389843e-05), np.float32(-0.0002982366), np.float32(-0.00018536429), np.float32(0.0006310057), np.float32(-1.5577187e-06), np.float32(0.0008776456), np.float32(-4.593718e-06), np.float32(0.0014028145), np.float32(1.9900606e-06), np.float32(0.00027002266), np.float32(-0.07340848), np.float32(-0.030229261), np.float32(-0.050158773), np.float32(-0.0054618414), np.float32(-0.027992154), np.float32(-0.035589732), np.float32(0.065716445), np.float32(-0.0379284), np.float32(-0.0072351857), np.float32(0.0044053756), np.float32(-0.012343342), np.float32(0.04999171), np.float32(0.033155642), np.float32(-0.0013362814), np.float32(-0.06477723), np.float32(0.07078366), np.float32(-0.031415507), np.float32(0.10262164), np.float32(0.102546394), np.float32(0.033174515), np.float32(-0.0027712013), np.float32(0.004448714), np.float32(-0.07348643), np.float32(0.04438485), np.float32(0.0035133823), np.float32(0.029124739), np.float32(0.062041365), np.float32(0.054723416), np.float32(0.10057868), np.float32(0.09634853), np.float32(-0.017559731), np.float32(0.012199382), np.float32(-0.09329969), np.float32(0.09525156), np.float32(0.0145922685), np.float32(0.12304583), np.float32(-0.078223825), np.float32(0.015875712), np.float32(0.09138403), np.float32(0.061753094), np.float32(-0.03647863), np.float32(0.014111892), np.float32(0.018087177), np.float32(-0.0057884036), np.float32(0.049883187), np.float32(0.104614325), np.float32(-0.037051935), np.float32(0.11361519), np.float32(0.12740375), np.float32(0.005657102), np.float32(-0.05997967), np.float32(0.035893124), np.float32(-0.027426815), np.float32(-0.017928755), np.float32(-0.079646684), np.float32(0.029568315), np.float32(0.0050096186), np.float32(0.08227542), np.float32(-0.0325724), np.float32(0.03700722), np.float32(-0.041489083), np.float32(-0.0095923105), np.float32(-0.020177705), np.float32(0.021880018), np.float32(-0.027072277), np.float32(0.0348046), np.float32(-0.08503704), np.float32(0.08258291), np.float32(0.10268943), np.float32(0.001042057), np.float32(-0.10615312), np.float32(0.0016297785), np.float32(-0.06865995), np.float32(0.073102355), np.float32(0.015404806), np.float32(0.14949962), np.float32(0.053331684), np.float32(0.010550222), np.float32(0.010457697), np.float32(0.0041680927), np.float32(-0.073694125), np.float32(-0.040590376), np.float32(-0.047233142), np.float32(0.026862621), np.float32(0.060717538), np.float32(0.033660628), np.float32(0.045291755), np.float32(0.06816474), np.float32(-0.019130547), np.float32(0.10940389), np.float32(0.04928217), np.float32(-0.009140315), np.float32(-0.055468112), np.float32(0.089111246), np.float32(0.04810465), np.float32(0.011826463), np.float32(0.074486695), np.float32(-0.07326024), np.float32(0.071107976), np.float32(0.04859234), np.float32(-0.024782943), np.float32(0.05842965), np.float32(0.001938285), np.float32(0.14221217), np.float32(0.044160645), np.float32(0.1263682), np.float32(0.00896374), np.float32(-0.020723464), np.float32(0.01751357), np.float32(0.090006515), np.float32(0.048203897), np.float32(0.07486704), np.float32(-0.0025190029), np.float32(0.0011220742), np.float32(-0.06628065), np.float32(0.054325204), np.float32(-0.0005884671), np.float32(0.1399961), np.float32(0.08451168), np.float32(0.046471585), np.float32(0.055692777), np.float32(0.021529635), np.float32(0.06259071), np.float32(0.09761998), np.float32(-0.0061985133), np.float32(0.11812354), np.float32(0.071804434), np.float32(0.024003115), np.float32(0.08403467), np.float32(0.072958715), np.float32(0.003269679), np.float32(0.06848071), np.float32(0.07695204), np.float32(0.06991011), np.float32(0.0027722046), np.float32(0.12304969), np.float32(0.04274663), np.float32(-0.01844833), np.float32(0.06475239), np.float32(0.13740738), np.float32(0.09594427), np.float32(0.083296224), np.float32(0.02706525), np.float32(0.0073414454), np.float32(-0.043205697), np.float32(0.07124797), np.float32(0.08136002), np.float32(0.03957802), np.float32(0.035971023), np.float32(0.02407062), np.float32(-0.029650519), np.float32(-0.0112381065), np.float32(0.025587048), np.float32(0.056908827), np.float32(0.02611223), np.float32(0.0032193128), np.float32(-0.03231118), np.float32(0.041533142), np.float32(-0.031187244), np.float32(0.07543903), np.float32(0.11349077), np.float32(0.09883515), np.float32(-0.0013229524), np.float32(0.05934682), np.float32(0.006734172), np.float32(-0.014759843), np.float32(0.04081036), np.float32(0.09302061), np.float32(0.019555572), np.float32(-0.012240353), np.float32(-0.049151), np.float32(0.0036954114), np.float32(0.059022702), np.float32(0.03471936), np.float32(0.043869305), np.float32(0.13203542), np.float32(0.008319466), np.float32(0.09654909), np.float32(-0.010211692), np.float32(-0.01955689), np.float32(-0.01811655), np.float32(0.01724005), np.float32(0.037915725), np.float32(0.10070507), np.float32(0.02588401), np.float32(0.13601217), np.float32(-0.005010148), np.float32(0.13261569), np.float32(0.055157483), np.float32(0.10866889), np.float32(-0.06980598), np.float32(-0.075059414), np.float32(-0.017511098), np.float32(0.023510944), np.float32(0.016519949), np.float32(0.18492363), np.float32(-0.05604776), np.float32(0.021426156), np.float32(0.1556391), np.float32(0.18339542), np.float32(0.01687574), np.float32(-0.108758196), np.float32(-0.1378316), np.float32(0.049677365), np.float32(-0.026475852), np.float32(0.059750993), np.float32(-0.002028335), np.float32(0.073240735), np.float32(0.09921839), np.float32(0.19209567), np.float32(-0.002312369), np.float32(-0.12116029), np.float32(0.013703909), np.float32(0.070420146), np.float32(-0.07206935), np.float32(0.07328983), np.float32(-0.13369527), np.float32(0.0107599385), np.float32(0.12715435), np.float32(0.14489329), np.float32(-0.06158044), np.float32(-0.01540471), np.float32(-0.10081693), np.float32(-0.03051999), np.float32(-0.039610017), np.float32(0.0035845877), np.float32(-0.0664601), np.float32(0.103521585), np.float32(0.09374378), np.float32(0.15967354), np.float32(0.033676155), np.float32(-0.06776259), np.float32(-0.044205815), np.float32(0.0661202), np.float32(-0.04214364), np.float32(0.04305423), np.float32(0.015917089), np.float32(-0.033574123), np.float32(0.07506213), np.float32(0.0834781), np.float32(-0.019860558), np.float32(-0.052823093), np.float32(-0.030136064), np.float32(-0.03059533), np.float32(-0.0048703), np.float32(0.068047516), np.float32(0.00017179498), np.float32(0.080062464), np.float32(0.038339533), np.float32(0.033903286), np.float32(-2.723463e-06), np.float32(-8.1354165e-07), np.float32(3.616472e-06), np.float32(5.253347e-05), np.float32(-2.4629677e-05), np.float32(-0.0006732837), np.float32(-1.3372902e-05), np.float32(-0.00031647476), np.float32(0.00011563563), np.float32(1.6163767e-07), np.float32(0.0011098525), np.float32(0.00044540278), np.float32(-2.6428088e-05), np.float32(-3.794574e-07), np.float32(0.0011367818), np.float32(3.8879957e-06), np.float32(-6.382582e-05), np.float32(-2.839465e-05), np.float32(-8.0461956e-05), np.float32(1.8225494e-08), np.float32(-0.00032558106), np.float32(-7.394911e-05), np.float32(-0.00021586398), np.float32(-0.00051452685), np.float32(-0.0009922807), np.float32(4.31162e-05), np.float32(5.3354643e-06), np.float32(4.220841e-06), np.float32(0.00024118014), np.float32(-0.00063613744), np.float32(-0.035012435), np.float32(-0.013824282), np.float32(-0.027831644), np.float32(0.069457784), np.float32(-0.07212095), np.float32(0.066356845), np.float32(-0.019863376), np.float32(0.06094882), np.float32(0.02834017), np.float32(0.0032497048), np.float32(-0.0049942574), np.float32(0.02208049), np.float32(0.051094394), np.float32(-0.042853277), np.float32(0.02080101), np.float32(0.04315989), np.float32(-0.064300664), np.float32(0.09607681), np.float32(0.0464508), np.float32(-0.029949585), np.float32(-0.109379694), np.float32(0.0415174), np.float32(0.0062423972), np.float32(-0.0013211949), np.float32(0.040256288), np.float32(-0.0015262653), np.float32(0.000424152), np.float32(0.079875655), np.float32(0.031182196), np.float32(-0.024913037), np.float32(-0.029124985), np.float32(0.037827827), np.float32(-0.065484576), np.float32(0.102575764), np.float32(0.022185994), np.float32(0.077666715), np.float32(-0.09123985), np.float32(0.046145163), np.float32(0.069855094), np.float32(0.003853935), np.float32(-0.017698115), np.float32(0.04071253), np.float32(0.036715884), np.float32(0.11639355), np.float32(0.0038127138), np.float32(0.038306713), np.float32(-0.08574788), np.float32(-0.048532385), np.float32(0.061390925), np.float32(0.069314435), np.float32(0.0016614783), np.float32(0.03412693), np.float32(0.055993192), np.float32(0.09029436), np.float32(-0.035286505), np.float32(0.12846352), np.float32(-0.06337699), np.float32(-0.036280297), np.float32(0.075943775), np.float32(0.052911233), np.float32(0.05050389), np.float32(-0.082038045), np.float32(-0.02604901), np.float32(0.03720493), np.float32(-0.044884965), np.float32(0.04892327), np.float32(0.048528742), np.float32(-0.03755779), np.float32(0.109307095), np.float32(0.10340663), np.float32(-0.014419064), np.float32(-0.04287928), np.float32(-0.043067925), np.float32(-0.002313763), np.float32(-0.018845534), np.float32(0.043796312), np.float32(-0.026921788), np.float32(0.07364055), np.float32(0.08622017), np.float32(0.06940484), np.float32(0.034607958), np.float32(0.0027748116), np.float32(-0.03928029), np.float32(0.061701182), np.float32(0.011490852), np.float32(0.033374384), np.float32(0.024181798), np.float32(0.018511457), np.float32(0.06796807), np.float32(0.039109435), np.float32(0.04168126), np.float32(0.08661739), np.float32(-0.024880435), np.float32(-0.040274695), np.float32(0.0948524), np.float32(0.03951765), np.float32(-0.019455874), np.float32(-0.046141222), np.float32(0.019053612), np.float32(0.039483383), np.float32(-0.020234587), np.float32(-0.025800865), np.float32(0.09536523), np.float32(0.034218363), np.float32(-0.059006277), np.float32(0.15782475), np.float32(0.05459247), np.float32(-0.045762375), np.float32(0.1216574), np.float32(0.13318677), np.float32(0.0009502265), np.float32(-0.0110204015), np.float32(0.08699495), np.float32(0.1278129), np.float32(-0.024583077), np.float32(0.050970618), np.float32(0.052904673), np.float32(-0.03402838), np.float32(0.07888282), np.float32(0.1349812), np.float32(0.019798024), np.float32(0.064136885), np.float32(0.11128475), np.float32(0.033553362), np.float32(0.0075066327), np.float32(0.056445435), np.float32(0.09217595), np.float32(0.13366531), np.float32(0.084829494), np.float32(0.14805329), np.float32(-0.041942175), np.float32(0.043070048), np.float32(0.04560677), np.float32(0.009798318), np.float32(0.05218731), np.float32(0.08707823), np.float32(-0.04856877), np.float32(-0.028914321), np.float32(0.033356268), np.float32(0.11698085), np.float32(0.09496674), np.float32(-0.0044896137), np.float32(0.079005085), np.float32(0.087873064), np.float32(0.061915707), np.float32(0.008197129), np.float32(0.10624277), np.float32(0.11190842), np.float32(0.062601484), np.float32(0.051027395), np.float32(0.12525046), np.float32(0.0350695), np.float32(-0.019021127), np.float32(0.12218933), np.float32(0.066984154), np.float32(0.099942386), np.float32(0.0751489), np.float32(0.10331873), np.float32(0.13382496), np.float32(0.00052527845), np.float32(-0.046083055), np.float32(0.0012269546), np.float32(0.063735425), np.float32(-0.03289906), np.float32(0.11498366), np.float32(-0.018369237), np.float32(0.024836883), np.float32(0.02387718), np.float32(-0.022094296), np.float32(0.079474896), np.float32(-0.028907953), np.float32(0.1111398), np.float32(0.078253604), np.float32(0.036721934), np.float32(0.08341789), np.float32(0.04362189), np.float32(0.09946935), np.float32(0.040256668), np.float32(0.028954664), np.float32(-0.007855775), np.float32(-0.036068723), np.float32(-0.018537914), np.float32(0.02312588), np.float32(0.043703098), np.float32(0.042313505), np.float32(0.08462672), np.float32(-0.05049566), np.float32(0.11512487), np.float32(0.020296136), np.float32(0.044857256), np.float32(0.03009401), np.float32(-0.008462265), np.float32(-0.025424542), np.float32(0.08066048), np.float32(-0.10019463), np.float32(0.05797765), np.float32(0.035600953), np.float32(0.13795696), np.float32(0.10949886), np.float32(0.12193353), np.float32(-0.014637741), np.float32(0.008243297), np.float32(0.058283225), np.float32(0.04904569), np.float32(0.026560972), np.float32(0.1826283), np.float32(0.028441302), np.float32(-0.0064613456), np.float32(0.120705135), np.float32(0.12386522), np.float32(0.022771284), np.float32(-0.02277971), np.float32(0.008070466), np.float32(0.02016905), np.float32(0.030865911), np.float32(0.040415682), np.float32(-0.040163178), np.float32(-0.020842496), np.float32(0.014341098), np.float32(0.07825438), np.float32(0.047831904), np.float32(0.0046052844), np.float32(-0.037530754), np.float32(0.005865003), np.float32(-0.05735517), np.float32(0.047587257), np.float32(-0.07549954), np.float32(0.040944237), np.float32(0.017320476), np.float32(0.033131637), np.float32(-0.0003460979), np.float32(-0.02423812), np.float32(-0.06355636), np.float32(0.058135238), np.float32(0.058327887), np.float32(0.04375466), np.float32(0.041960724), np.float32(0.017269533), np.float32(0.022914946), np.float32(-0.037143055), np.float32(0.08625813), np.float32(-0.004360265), np.float32(-0.05358821), np.float32(-0.04399367), np.float32(-0.03581735), np.float32(-0.00014660439), np.float32(-0.061313156), np.float32(-0.10093304), np.float32(-0.045924004), np.float32(0.011150226), np.float32(-0.06039329), np.float32(0.044042677), np.float32(0.07135882), np.float32(-0.07598947), np.float32(0.090529986), np.float32(0.0045205946), np.float32(0.030769043), np.float32(0.048702307), np.float32(0.033355925), np.float32(0.009716636), np.float32(-0.00030295155), np.float32(0.00015276832), np.float32(-5.8251615e-05), np.float32(-4.2609375e-07), np.float32(3.1419243e-06), np.float32(0.00028070566), np.float32(2.6360653e-05), np.float32(0.0007335466), np.float32(-0.00023007904), np.float32(-0.0014573047), np.float32(8.645105e-07), np.float32(0.0011187856), np.float32(-1.8673743e-05), np.float32(0.00068259303), np.float32(-0.000993388), np.float32(0.00015228332), np.float32(-5.7349966e-06), np.float32(0.00017443193), np.float32(-0.00081147684), np.float32(-4.09958e-07), np.float32(-0.038738742), np.float32(-0.055185642), np.float32(-0.06762373), np.float32(-0.053772878), np.float32(-0.020202657), np.float32(0.011746081), np.float32(0.029601378), np.float32(-0.011079858), np.float32(0.023905246), np.float32(0.021402974), np.float32(0.04539005), np.float32(-0.00018138759), np.float32(-0.0030390392), np.float32(0.061491456), np.float32(-0.06092561), np.float32(-0.026655696), np.float32(-1.6561998e-07), np.float32(0.08529298), np.float32(0.06312716), np.float32(-0.0052051437), np.float32(0.060507763), np.float32(0.025981797), np.float32(0.027677562), np.float32(0.013361999), np.float32(0.0907187), np.float32(-0.05668154), np.float32(-0.034606628), np.float32(-0.041014265), np.float32(0.017276691), np.float32(0.0014781863), np.float32(0.077756986), np.float32(0.01989317), np.float32(-0.014199515), np.float32(0.060691725), np.float32(-0.0660931), np.float32(0.022474943), np.float32(0.029955193), np.float32(0.038478237), np.float32(0.07897329), np.float32(0.040529452), np.float32(-0.016327653), np.float32(-0.0025492548), np.float32(0.015953388), np.float32(0.072934575), np.float32(-0.07566118), np.float32(0.08819711), np.float32(-0.076831184), np.float32(0.106015794), np.float32(0.10237647), np.float32(0.008498185), np.float32(0.06419874), np.float32(-0.069613285), np.float32(-0.023638716), np.float32(-0.02844233), np.float32(0.020048764), np.float32(-0.019817991), np.float32(-0.03640494), np.float32(0.11174378), np.float32(0.09846094), np.float32(-0.034156878), np.float32(-0.038467776), np.float32(0.024380896), np.float32(-0.008174331), np.float32(0.01229767), np.float32(-0.05930665), np.float32(0.056922607), np.float32(0.06666466), np.float32(0.0351663), np.float32(-0.0279325), np.float32(-0.006409728), np.float32(0.0056284447), np.float32(0.015290584), np.float32(0.021138677), np.float32(-0.10327123), np.float32(-0.04916706), np.float32(-0.1104339), np.float32(0.05004204), np.float32(-0.031410605), np.float32(0.028585145), np.float32(-0.027528323), np.float32(0.09396631), np.float32(-0.02699348), np.float32(0.06759519), np.float32(-0.012567202), np.float32(0.080713265), np.float32(-0.018095404), np.float32(-0.04751292), np.float32(-0.09607126), np.float32(-0.026682775), np.float32(-0.07908517), np.float32(0.078109615), np.float32(-0.029300064), np.float32(0.09005093), np.float32(0.008018375), np.float32(0.006715232), np.float32(-0.021378992), np.float32(0.08497357), np.float32(-0.053056065), np.float32(0.061592795), np.float32(-0.035666537), np.float32(-0.039996266), np.float32(0.019852852), np.float32(-0.04836633), np.float32(-0.008695817), np.float32(0.023993937), np.float32(0.16992016), np.float32(0.055786464), np.float32(0.06231142), np.float32(0.11881682), np.float32(0.12907605), np.float32(-0.023693541), np.float32(-0.034980644), np.float32(0.04744999), np.float32(0.060340956), np.float32(-0.054054357), np.float32(0.17239724), np.float32(0.032452997), np.float32(-0.0026583117), np.float32(0.05562449), np.float32(0.12959091), np.float32(0.03491305), np.float32(0.06558655), np.float32(0.052511826), np.float32(0.08220002), np.float32(0.039647486), np.float32(0.099748634), np.float32(0.026049193), np.float32(0.06892342), np.float32(0.16603689), np.float32(0.08154014), np.float32(0.06012448), np.float32(0.12709187), np.float32(0.10961525), np.float32(0.01240724), np.float32(0.049884953), np.float32(0.15470628), np.float32(0.0036731146), np.float32(0.04767885), np.float32(0.13215224), np.float32(0.10906958), np.float32(-0.059362132), np.float32(0.13202253), np.float32(0.13624032), np.float32(0.09443973), np.float32(-0.05695412), np.float32(0.031513944), np.float32(0.098570034), np.float32(0.11661125), np.float32(0.053223956), np.float32(-0.00070522906), np.float32(0.08988474), np.float32(0.094266206), np.float32(-0.005820093), np.float32(0.10316621), np.float32(0.08534584), np.float32(0.07349072), np.float32(0.0767565), np.float32(0.11701236), np.float32(-0.028393786), np.float32(0.064475894), np.float32(0.031861037), np.float32(0.07578857), np.float32(0.045207873), np.float32(0.006483783), np.float32(-0.021101251), np.float32(0.13492881), np.float32(0.048241433), np.float32(0.09611057), np.float32(0.13001539), np.float32(0.08698853), np.float32(0.04187174), np.float32(-0.022082008), np.float32(-0.028939635), np.float32(0.094106175), np.float32(0.04019017), np.float32(0.037980378), np.float32(0.017131122), np.float32(0.046296053), np.float32(0.11125201), np.float32(0.006859437), np.float32(0.050589275), np.float32(-0.008094603), np.float32(0.07989233), np.float32(0.15043037), np.float32(-0.06759444), np.float32(0.116182655), np.float32(0.08164792), np.float32(-0.040802732), np.float32(0.16433996), np.float32(0.10246781), np.float32(0.048616648), np.float32(0.06477661), np.float32(0.009353694), np.float32(0.15179561), np.float32(-0.06860013), np.float32(0.022541411), np.float32(0.027924476), np.float32(-0.036097176), np.float32(0.08137653), np.float32(0.012762277), np.float32(0.086357035), np.float32(0.07119369), np.float32(0.019836918), np.float32(0.09460938), np.float32(-0.064444944), np.float32(-0.009057248), np.float32(0.061496556), np.float32(-0.051772118), np.float32(0.044516146), np.float32(-0.06435636), np.float32(-0.0221725), np.float32(0.010709681), np.float32(0.06802719), np.float32(-0.06807034), np.float32(0.037659243), np.float32(0.05903679), np.float32(0.046354923), np.float32(-0.02128587), np.float32(0.00654752), np.float32(0.026465889), np.float32(0.08711466), np.float32(0.0053569432), np.float32(-0.06259495), np.float32(-0.078293905), np.float32(0.088404), np.float32(-0.023516426), np.float32(0.051158935), np.float32(-5.3739812e-05), np.float32(-0.05805658), np.float32(-0.045305267), np.float32(-0.042672515), np.float32(0.101192355), np.float32(0.02039029), np.float32(0.022879563), np.float32(0.04650644), np.float32(-0.06551182), np.float32(0.012594088), np.float32(0.01778925), np.float32(-0.0257403), np.float32(-0.0867488), np.float32(-0.05719824), np.float32(-0.007914867), np.float32(-0.031485997), np.float32(0.08192646), np.float32(-0.05293224), np.float32(0.029743534), np.float32(0.0520499), np.float32(0.060504537), np.float32(-0.01949394), np.float32(0.0054791686), np.float32(-0.05692432), np.float32(0.033105016), np.float32(-0.03563425), np.float32(0.0267731), np.float32(-0.051857293), np.float32(-0.046241593), np.float32(-0.020895965), np.float32(-0.09090479), np.float32(-0.07934201), np.float32(-0.018267237), np.float32(-4.994216e-05), np.float32(-5.773058e-06), np.float32(7.1193467e-06), np.float32(-4.1285267e-07), np.float32(0.00039357741), np.float32(-0.0005990759), np.float32(0.0013662106), np.float32(7.0716073e-09), np.float32(-5.927745e-05), np.float32(0.00034226282), np.float32(2.3315062e-05), np.float32(4.1810363e-05), np.float32(0.0006866376), np.float32(0.0001089982), np.float32(5.392394e-05), np.float32(9.1197114e-07), np.float32(6.831456e-06), np.float32(-0.0012004268), np.float32(-3.84157e-05), np.float32(-2.1717422e-05), np.float32(0.0048157563), np.float32(-0.008791905), np.float32(0.074290186), np.float32(-0.022501172), np.float32(0.003980479), np.float32(-0.0062976577), np.float32(0.056816414), np.float32(-0.008466706), np.float32(0.016373323), np.float32(-0.046256747), np.float32(-0.005485671), np.float32(0.021425007), np.float32(0.06748618), np.float32(0.007484513), np.float32(-0.057865933), np.float32(-0.027109161), np.float32(-0.014037779), np.float32(0.018040592), np.float32(0.010367675), np.float32(0.008898983), np.float32(0.07844848), np.float32(0.020729333), np.float32(-0.02871735), np.float32(-0.014199597), np.float32(-0.044975393), np.float32(-0.07464888), np.float32(0.055397797), np.float32(0.0227732), np.float32(0.024883466), np.float32(0.017064733), np.float32(0.076916866), np.float32(0.058450542), np.float32(0.10083659), np.float32(-0.037925042), np.float32(0.12005221), np.float32(-0.10716408), np.float32(0.035771832), np.float32(-0.09186572), np.float32(-0.015315021), np.float32(-0.050180055), np.float32(-0.03119231), np.float32(-0.048672322), np.float32(-0.06001754), np.float32(0.09687547), np.float32(-0.015105403), np.float32(-0.019812318), np.float32(-0.042253137), np.float32(-0.024373388), np.float32(0.07866782), np.float32(-0.056120552), np.float32(0.03308926), np.float32(0.051604647), np.float32(-0.04003605), np.float32(0.062322408), np.float32(0.07976203), np.float32(0.111223765), np.float32(0.07076147), np.float32(-0.00812843), np.float32(0.120156676), np.float32(0.0536075), np.float32(-0.040047925), np.float32(-0.062645055), np.float32(0.06536085), np.float32(-0.07033675), np.float32(-0.00015608394), np.float32(0.0043040547), np.float32(0.091898516), np.float32(-0.04597875), np.float32(0.013350247), np.float32(0.06961114), np.float32(-0.05098826), np.float32(0.0037296782), np.float32(-0.034560625), np.float32(0.011252184), np.float32(-0.023811301), np.float32(-0.09951697), np.float32(0.029415326), np.float32(0.06335756), np.float32(0.0064790915), np.float32(-0.08349194), np.float32(0.089644656), np.float32(-0.03343212), np.float32(-0.028057272), np.float32(0.0028975192), np.float32(-0.0047627385), np.float32(-0.08682545), np.float32(0.028321186), np.float32(0.036109924), np.float32(-0.0908857), np.float32(-0.04887628), np.float32(0.040845066), np.float32(-0.04501962), np.float32(-0.00421304), np.float32(0.09486055), np.float32(0.069524884), np.float32(0.13594739), np.float32(0.07601702), np.float32(-0.080350846), np.float32(0.04773625), np.float32(0.04772951), np.float32(0.033250827), np.float32(0.02361091), np.float32(-0.058291208), np.float32(-0.015642624), np.float32(0.06356305), np.float32(0.12169802), np.float32(0.0507953), np.float32(-0.049359046), np.float32(0.1344895), np.float32(0.123982064), np.float32(0.050081424), np.float32(0.033571236), np.float32(0.026616056), np.float32(0.116591066), np.float32(0.023961611), np.float32(-0.0007162118), np.float32(0.018547395), np.float32(0.0090069575), np.float32(0.092698), np.float32(-0.004484096), np.float32(-5.877845e-05), np.float32(-0.052870598), np.float32(0.04725418), np.float32(0.018084295), np.float32(0.02849513), np.float32(0.09327605), np.float32(0.09736567), np.float32(0.011542264), np.float32(0.026844408), np.float32(0.073631465), np.float32(-0.008469616), np.float32(0.060412247), np.float32(-0.054195), np.float32(0.09090236), np.float32(0.033188317), np.float32(0.015782438), np.float32(-0.00028333816), np.float32(0.0021769584), np.float32(0.04500798), np.float32(0.12189072), np.float32(0.08040594), np.float32(0.042159572), np.float32(0.07923202), np.float32(0.023066578), np.float32(0.0070030377), np.float32(0.024442306), np.float32(0.11694971), np.float32(0.070088625), np.float32(0.14774606), np.float32(-0.016181692), np.float32(0.0021366684), np.float32(0.010899171), np.float32(0.012373197), np.float32(-0.03704797), np.float32(0.08982912), np.float32(0.084190205), np.float32(-0.00764395), np.float32(0.09593054), np.float32(0.062055163), np.float32(0.049722586), np.float32(-0.0094615165), np.float32(0.0022709179), np.float32(0.041380074), np.float32(-0.009331633), np.float32(0.0709054), np.float32(0.018949775), np.float32(0.11712695), np.float32(0.053242024), np.float32(-0.028899992), np.float32(-0.0708919), np.float32(0.08668336), np.float32(0.12053226), np.float32(-0.037702594), np.float32(0.04122616), np.float32(0.0027499073), np.float32(0.103007525), np.float32(-0.005861438), np.float32(-0.0039377073), np.float32(0.028393053), np.float32(-0.023210905), np.float32(0.026585309), np.float32(0.097270496), np.float32(-0.02947097), np.float32(0.067789905), np.float32(-0.0027938385), np.float32(0.011489264), np.float32(0.047366828), np.float32(-0.059541523), np.float32(0.10246751), np.float32(-0.03584078), np.float32(0.03750847), np.float32(0.08575361), np.float32(-0.048991725), np.float32(0.037952285), np.float32(0.015842393), np.float32(0.0301171), np.float32(0.04376187), np.float32(-0.043769702), np.float32(0.080603845), np.float32(-0.04611208), np.float32(0.034597453), np.float32(-0.035169195), np.float32(0.093186446), np.float32(0.020057147), np.float32(0.051548712), np.float32(0.06554425), np.float32(0.09322832), np.float32(0.058053505), np.float32(-0.089421056), np.float32(-0.038181644), np.float32(0.03990756), np.float32(0.090215504), np.float32(0.11235873), np.float32(-0.0005046428), np.float32(-0.031598266), np.float32(0.031562906), np.float32(-0.05130768), np.float32(-0.023812305), np.float32(-0.04270893), np.float32(-0.012682538), np.float32(-0.044367746), np.float32(0.09677615), np.float32(0.022840772), np.float32(0.020937264), np.float32(0.11507174), np.float32(0.036251385), np.float32(0.114345334), np.float32(0.06682236), np.float32(0.062802054), np.float32(-0.037955098), np.float32(0.11857127), np.float32(0.10110619), np.float32(0.067131095), np.float32(-0.021674328), np.float32(0.060595635), np.float32(-0.08160851), np.float32(-0.01408844), np.float32(-0.02889733), np.float32(-0.032093883), np.float32(-0.05127278), np.float32(-4.3281765e-05), np.float32(-0.00058615446), np.float32(-0.0012936431), np.float32(-0.00017348253), np.float32(-0.0008208236), np.float32(9.353027e-06), np.float32(-0.00013764178), np.float32(0.0012336549), np.float32(-1.6117829e-05), np.float32(-0.00027893434), np.float32(0.00084981864), np.float32(-4.121653e-05), np.float32(-7.513027e-08), np.float32(2.8215968e-07), np.float32(-0.00013217567), np.float32(0.00022717667), np.float32(-0.0014988603), np.float32(-3.887143e-05), np.float32(1.651868e-05), np.float32(0.00041687142), np.float32(4.49278e-06), np.float32(3.420951e-05), np.float32(0.0001997622), np.float32(0.00033811873), np.float32(0.0011739994), np.float32(-0.00017560867), np.float32(0.0010897161), np.float32(-8.077897e-08), np.float32(0.0013014504), np.float32(-0.0015578658), np.float32(-0.013911194), np.float32(-0.062044494), np.float32(-0.05374769), np.float32(-0.048852578), np.float32(0.039340828), np.float32(0.0016921146), np.float32(-0.0005751419), np.float32(-0.04144384), np.float32(0.08920198), np.float32(0.021812769), np.float32(0.07966606), np.float32(-0.03199687), np.float32(-0.036559783), np.float32(0.038030494), np.float32(-0.048689146), np.float32(-0.032154344), np.float32(0.003528578), np.float32(0.019755982), np.float32(-0.016514279), np.float32(-0.055628553), np.float32(-0.0062410133), np.float32(-0.058584843), np.float32(-0.017032845), np.float32(-0.08260815), np.float32(-0.037770316), np.float32(-0.010285856), np.float32(0.0030587337), np.float32(0.0018373032), np.float32(0.008812797), np.float32(-0.05239217), np.float32(0.063748285), np.float32(0.10512063), np.float32(-0.04360759), np.float32(-0.05034547), np.float32(0.023124814), np.float32(0.013117342), np.float32(-0.0364164), np.float32(0.017237231), np.float32(-0.096823625), np.float32(-0.051805012), np.float32(0.04364752), np.float32(0.009362775), np.float32(0.022353783), np.float32(-0.07445715), np.float32(0.08169451), np.float32(0.0052211657), np.float32(0.09107738), np.float32(-0.106045514), np.float32(-0.09009433), np.float32(-0.11261016), np.float32(-0.04089127), np.float32(0.06995182), np.float32(-0.058785554), np.float32(0.040643174), np.float32(-0.022456663), np.float32(0.010119963), np.float32(0.017591875), np.float32(0.04007763), np.float32(0.034854215), np.float32(-0.06923322), np.float32(-0.038306452), np.float32(0.06891417), np.float32(-0.027843103), np.float32(0.05339348), np.float32(0.027872216), np.float32(0.11066712), np.float32(0.039951544), np.float32(-0.05221867), np.float32(-0.008490976), np.float32(0.01613189), np.float32(0.03857974), np.float32(0.01370786), np.float32(0.05268013), np.float32(0.08314795), np.float32(0.06967454), np.float32(0.07283918), np.float32(-0.06296867), np.float32(-0.041026622), np.float32(0.011817577), np.float32(0.03568689), np.float32(0.04230953), np.float32(0.09964762), np.float32(-0.05998001), np.float32(-0.07068267), np.float32(-0.005875938), np.float32(0.045072842), np.float32(-0.029259462), np.float32(0.006651847), np.float32(-0.035136864), np.float32(-0.049921267), np.float32(0.027494254), np.float32(0.115648486), np.float32(0.005802147), np.float32(-0.02284683), np.float32(-0.046255726), np.float32(-0.032753397), np.float32(0.10502866), np.float32(-0.044714082), np.float32(0.06594561), np.float32(0.05353232), np.float32(0.065240875), np.float32(-0.02786608), np.float32(-0.019504463), np.float32(0.10302433), np.float32(0.020151675), np.float32(0.053690802), np.float32(-0.03646919), np.float32(-0.035032026), np.float32(-0.0020418281), np.float32(-0.005273511), np.float32(0.004276471), np.float32(0.0939359), np.float32(0.0060606822), np.float32(0.022391677), np.float32(0.08343011), np.float32(0.023674736), np.float32(0.034133226), np.float32(0.044188507), np.float32(0.13950342), np.float32(-0.012453419), np.float32(0.025037047), np.float32(-0.051610645), np.float32(0.0004595226), np.float32(0.039751507), np.float32(-0.047761627), np.float32(0.08528856), np.float32(0.07954767), np.float32(0.040272035), np.float32(0.08486598), np.float32(0.1526142), np.float32(0.03522097), np.float32(-0.05493607), np.float32(0.06629244), np.float32(0.12975006), np.float32(0.02728508), np.float32(0.024940278), np.float32(0.0018714324), np.float32(0.12050262), np.float32(0.09980046), np.float32(0.07140883), np.float32(0.043627888), np.float32(-0.060911223), np.float32(-0.07861253), np.float32(0.09532091), np.float32(-0.08373535), np.float32(0.16538362), np.float32(-0.03749904), np.float32(0.042397924), np.float32(0.09656936), np.float32(0.051294934), np.float32(-0.046423826), np.float32(-0.020185567), np.float32(0.023028811), np.float32(0.07942156), np.float32(-0.005220274), np.float32(0.0124553405), np.float32(-0.003088995), np.float32(-0.0047555934), np.float32(0.012795087), np.float32(0.13647729), np.float32(0.06236123), np.float32(0.07629896), np.float32(0.01757222), np.float32(0.045682576), np.float32(0.09008698), np.float32(0.1261696), np.float32(0.024348017), np.float32(0.11048304), np.float32(0.097593434), np.float32(0.001812514), np.float32(0.009042636), np.float32(-0.0007299303), np.float32(-0.0009138352), np.float32(0.012751142), np.float32(-0.043116335), np.float32(0.016886685), np.float32(-0.037553422), np.float32(-0.017177233), np.float32(-0.035222277), np.float32(-0.08587967), np.float32(0.06034257), np.float32(0.015775466), np.float32(0.043304376), np.float32(0.088683546), np.float32(0.08408068), np.float32(-0.006502837), np.float32(-0.039369114), np.float32(0.036037836), np.float32(-0.0057109976), np.float32(0.03919049), np.float32(0.111222126), np.float32(0.07140116), np.float32(0.044645116), np.float32(-0.009428421), np.float32(-0.027367104), np.float32(-0.011218607), np.float32(0.02939), np.float32(-0.07230536), np.float32(0.0113418205), np.float32(0.004239297), np.float32(0.07132187), np.float32(-0.0419833), np.float32(0.010713615), np.float32(-0.10473997), np.float32(0.05844099), np.float32(-0.080461554), np.float32(-0.025282245), np.float32(-0.031824585), np.float32(-0.1394362), np.float32(-0.08475107), np.float32(0.07467045), np.float32(0.001511257), np.float32(0.07017083), np.float32(-0.14936723), np.float32(0.0051813466), np.float32(-0.09888005), np.float32(-0.010460074), np.float32(0.018013354), np.float32(-0.09179696), np.float32(0.0033708161), np.float32(0.04004887), np.float32(-0.0014779943), np.float32(0.03260822), np.float32(-0.07855559), np.float32(0.008380573), np.float32(-0.15481049), np.float32(-0.05245436), np.float32(-0.07135565), np.float32(-0.051979993), np.float32(-0.048853), np.float32(0.09881398), np.float32(0.12079423), np.float32(0.03856376), np.float32(-0.010920366), np.float32(0.060406838), np.float32(0.016363962), np.float32(0.10627024), np.float32(-0.0715112), np.float32(-0.0706193), np.float32(-0.10637158), np.float32(-0.029688368), np.float32(0.051089924), np.float32(-0.007845668), np.float32(-0.05969631), np.float32(0.073540725), np.float32(-0.09815386), np.float32(0.12212937), np.float32(-0.016778918), np.float32(-0.05466957), np.float32(0.023621593), np.float32(-0.00013274151), np.float32(0.007785669), np.float32(-0.02025239), np.float32(0.047820784), np.float32(-0.03616083), np.float32(-0.044026136), np.float32(0.042216044), np.float32(0.019283488), np.float32(-0.013346832), np.float32(0.05936521), np.float32(-9.510481e-05), np.float32(0.0011677623), np.float32(-1.2795796e-06), np.float32(9.870614e-05), np.float32(2.4611165e-05), np.float32(0.00038482502), np.float32(0.0011699537), np.float32(2.0255748e-05), np.float32(-0.0005652631), np.float32(0.00018200083), np.float32(0.0005787226), np.float32(0.0013057194), np.float32(0.00049520045), np.float32(-6.1320156e-05), np.float32(0.000422329), np.float32(-3.289689e-07), np.float32(4.6501948e-05), np.float32(-0.00068699336), np.float32(0.0006501267), np.float32(-0.00067972066), np.float32(-0.060596753), np.float32(0.010931917), np.float32(-0.012513414), np.float32(0.022768581), np.float32(-0.07914115), np.float32(-0.059691187), np.float32(-0.00013047807), np.float32(0.030964362), np.float32(0.07030755), np.float32(0.03708433), np.float32(0.061476193), np.float32(0.019075317), np.float32(0.08416843), np.float32(-0.033477906), np.float32(0.027421478), np.float32(-0.037854645), np.float32(-0.032519422), np.float32(0.013503997), np.float32(-4.260907e-07), np.float32(0.024844792), np.float32(-0.019837527), np.float32(0.031538308), np.float32(0.014062849), np.float32(-0.0009544885), np.float32(0.10004185), np.float32(-0.07717575), np.float32(0.016522791), np.float32(-0.05028726), np.float32(-1.0850189e-06), np.float32(0.0033529983), np.float32(-0.04337776), np.float32(-0.013321208), np.float32(0.09570902), np.float32(0.020973014), np.float32(-0.0060687093), np.float32(0.0071313367), np.float32(0.020329421), np.float32(-0.008959042), np.float32(-0.12814458), np.float32(-0.12581804), np.float32(-0.032308333), np.float32(0.09614901), np.float32(0.06952257), np.float32(0.0069817645), np.float32(0.013356782), np.float32(-0.010759649), np.float32(0.06375776), np.float32(-0.006851159), np.float32(-0.09280289), np.float32(-0.0030902391), np.float32(0.057874028), np.float32(-0.031925183), np.float32(-0.030659365), np.float32(0.051362056), np.float32(0.031755257), np.float32(0.03954797), np.float32(0.037547074), np.float32(-0.027990237), np.float32(-0.0067087663), np.float32(-0.019259412), np.float32(0.038904898), np.float32(0.08909746), np.float32(0.00965069), np.float32(0.025953015), np.float32(-0.0232834), np.float32(-0.038554776), np.float32(-0.015176321), np.float32(0.020101933), np.float32(0.022982862), np.float32(-0.086311206), np.float32(-0.042752407), np.float32(0.08913294), np.float32(0.03867506), np.float32(-0.067252874), np.float32(-0.013663172), np.float32(-0.055849824), np.float32(-0.0184528), np.float32(0.030559728), np.float32(0.058771946), np.float32(0.009442173), np.float32(0.1073947), np.float32(0.08605693), np.float32(-0.019871177), np.float32(0.042750396), np.float32(-0.0019787073), np.float32(0.023304708), np.float32(0.09633738), np.float32(0.0032927878), np.float32(-0.041456386), np.float32(0.007375627), np.float32(0.08179691), np.float32(0.073817946), np.float32(0.05804003), np.float32(-0.023324918), np.float32(-0.042879105), np.float32(0.025395038), np.float32(-0.012570367), np.float32(-0.068846546), np.float32(0.07340043), np.float32(-0.0043257815), np.float32(0.05699783), np.float32(0.06494347), np.float32(0.08150176), np.float32(-0.04263036), np.float32(0.066912174), np.float32(0.11140048), np.float32(-0.05583633), np.float32(-0.09976802), np.float32(-0.020508055), np.float32(-0.0062234737), np.float32(0.110697925), np.float32(0.024066636), np.float32(0.012870786), np.float32(0.10274203), np.float32(-0.05064654), np.float32(0.07413874), np.float32(0.089406796), np.float32(-0.044473387), np.float32(0.039952166), np.float32(-0.022472566), np.float32(-0.015636059), np.float32(0.06786987), np.float32(-0.004416572), np.float32(0.00027953886), np.float32(0.024760485), np.float32(0.036275286), np.float32(-0.057469126), np.float32(0.11413607), np.float32(0.024368942), np.float32(0.115719065), np.float32(0.010061397), np.float32(0.011418231), np.float32(-0.09823393), np.float32(0.028563844), np.float32(-0.00055959914), np.float32(0.097131364), np.float32(-0.064954974), np.float32(0.11724272), np.float32(0.060243223), np.float32(0.126909), np.float32(0.052095532), np.float32(-0.018632403), np.float32(-0.0042272788), np.float32(0.10130959), np.float32(0.01872844), np.float32(0.14742924), np.float32(-0.07376862), np.float32(0.005369158), np.float32(0.06830457), np.float32(0.16537933), np.float32(-0.038005657), np.float32(-0.0141496295), np.float32(-0.088840246), np.float32(0.026928624), np.float32(-0.05335531), np.float32(0.029552907), np.float32(0.042064894), np.float32(0.049625766), np.float32(0.16309209), np.float32(0.06605295), np.float32(0.059131235), np.float32(0.0065236418), np.float32(-0.035021372), np.float32(0.10812113), np.float32(0.06888041), np.float32(0.06263744), np.float32(-0.054549824), np.float32(0.10296415), np.float32(0.13728923), np.float32(0.063539684), np.float32(-0.0010103006), np.float32(0.06556965), np.float32(-0.023834325), np.float32(0.07762829), np.float32(-0.022784352), np.float32(0.021943778), np.float32(0.031179927), np.float32(0.0065772906), np.float32(0.091785215), np.float32(-0.012863589), np.float32(-0.009513351), np.float32(0.0051671076), np.float32(0.027364705), np.float32(-0.04110902), np.float32(0.075180575), np.float32(0.027318235), np.float32(0.028935691), np.float32(0.020320728), np.float32(0.07447455), np.float32(0.0150565505), np.float32(0.0012627939), np.float32(0.08148983), np.float32(0.031436194), np.float32(0.007281583), np.float32(0.06347014), np.float32(-0.11651878), np.float32(0.06585072), np.float32(-0.039801568), np.float32(0.018329058), np.float32(-0.07506196), np.float32(0.058757752), np.float32(0.10399279), np.float32(0.081902795), np.float32(0.0013822844), np.float32(0.018348888), np.float32(-0.15823083), np.float32(0.05589346), np.float32(-0.0029113991), np.float32(-0.066412695), np.float32(-0.081838354), np.float32(0.093412176), np.float32(0.060620423), np.float32(0.08245322), np.float32(-0.16288166), np.float32(0.046796393), np.float32(-0.03777452), np.float32(0.11177639), np.float32(0.022954699), np.float32(-0.09321741), np.float32(0.02647743), np.float32(0.09316382), np.float32(0.09123613), np.float32(0.016271727), np.float32(-0.03627958), np.float32(-0.042646047), np.float32(-0.046921358), np.float32(0.08583575), np.float32(-0.07669595), np.float32(-0.03066456), np.float32(-0.00800378), np.float32(0.08237739), np.float32(0.07950962), np.float32(0.11046356), np.float32(-0.026407065), np.float32(0.11517202), np.float32(-0.008607471), np.float32(0.031319834), np.float32(0.0007356644), np.float32(-0.0756082), np.float32(-0.03807941), np.float32(-0.027722975), np.float32(0.09254146), np.float32(0.1070935), np.float32(-0.02844605), np.float32(0.11108129), np.float32(-0.055609398), np.float32(-0.04906538), np.float32(-0.012112453), np.float32(-0.07147575), np.float32(-0.050632022), np.float32(-0.08831735), np.float32(-0.03817403), np.float32(0.017777096), np.float32(0.08101735), np.float32(-0.06749971), np.float32(-0.056308288), np.float32(-0.048170004), np.float32(0.08191586), np.float32(-0.068764046), np.float32(0.082203865), np.float32(-0.005463298), np.float32(-0.0021337678), np.float32(-0.00150389), np.float32(-0.011349849), np.float32(-0.025120279), np.float32(-0.004797539), np.float32(-0.005855848), np.float32(0.029209355), np.float32(0.04946566), np.float32(-0.0044729123), np.float32(-0.0008237388), np.float32(1.817323e-07), np.float32(0.0010318288), np.float32(-3.7365646e-07), np.float32(0.0007957726), np.float32(-0.00091348734), np.float32(-3.3370474e-05), np.float32(3.7978077e-06), np.float32(5.5539047e-05), np.float32(0.0009967907), np.float32(-0.00018295454), np.float32(7.517628e-05), np.float32(-9.384382e-07), np.float32(1.3585496e-05), np.float32(7.985637e-06), np.float32(0.00079937675), np.float32(9.4077615e-07), np.float32(-0.001094412), np.float32(0.00020386348), np.float32(-0.0010215365), np.float32(0.032838445), np.float32(-0.0019363296), np.float32(0.00785469), np.float32(-0.005164866), np.float32(-0.0021244064), np.float32(0.0013969864), np.float32(-0.0047767567), np.float32(-0.00549759), np.float32(-0.0034516866), np.float32(-0.005324722), np.float32(-0.05981756), np.float32(-0.009448733), np.float32(0.02351136), np.float32(-0.011761275), np.float32(0.025574367), np.float32(-0.055134993), np.float32(0.058697518), np.float32(-0.04392346), np.float32(0.05408358), np.float32(0.062818766), np.float32(0.08469918), np.float32(-0.023183802), np.float32(-0.03998861), np.float32(0.036464546), np.float32(-0.03161608), np.float32(-0.08850134), np.float32(-0.029962601), np.float32(-0.055373143), np.float32(-0.13066961), np.float32(-0.10735729), np.float32(0.018898807), np.float32(0.09736779), np.float32(-0.02267829), np.float32(-0.04717647), np.float32(0.09894282), np.float32(-0.1457399), np.float32(0.021625916), np.float32(-0.0864167), np.float32(-0.09777962), np.float32(-0.0885602), np.float32(0.07183308), np.float32(0.1134978), np.float32(-0.023414811), np.float32(-0.06137295), np.float32(-0.030569412), np.float32(0.009619385), np.float32(-0.02166113), np.float32(-0.05718406), np.float32(-0.09479745), np.float32(-0.09593439), np.float32(0.1118071), np.float32(0.022197824), np.float32(0.10736478), np.float32(0.0529009), np.float32(0.105116874), np.float32(-0.12843351), np.float32(0.039931443), np.float32(0.011856052), np.float32(-0.02707481), np.float32(0.032024708), np.float32(0.009179804), np.float32(0.01078794), np.float32(0.10971613), np.float32(-0.08037938), np.float32(-0.014653507), np.float32(-0.05521135), np.float32(0.07064355), np.float32(-0.06724596), np.float32(-0.124308005), np.float32(-0.07818508), np.float32(-0.053803418), np.float32(-0.011876167), np.float32(-0.040765263), np.float32(-0.10156341), np.float32(0.019760204), np.float32(-0.055457562), np.float32(-0.0010588941), np.float32(-0.051733032), np.float32(-0.04841657), np.float32(-0.016590303), np.float32(0.005846621), np.float32(0.007479571), np.float32(-0.030416524), np.float32(-0.07114546), np.float32(0.012860269), np.float32(-0.011890922), np.float32(0.07072886), np.float32(0.056764062), np.float32(0.018062377), np.float32(-0.077020235), np.float32(0.11053692), np.float32(0.019738909), np.float32(0.0746237), np.float32(-0.11613651), np.float32(0.044811044), np.float32(0.03537821), np.float32(-0.038659014), np.float32(-0.108179115), np.float32(-0.025528856), np.float32(-0.09884786), np.float32(-0.025036447), np.float32(0.095374875), np.float32(0.095192626), np.float32(0.037890263), np.float32(0.013496342), np.float32(0.07926945), np.float32(0.02766606), np.float32(-0.062135708), np.float32(0.054321446), np.float32(0.0078377705), np.float32(-0.0028585093), np.float32(0.00597624), np.float32(-0.055272948), np.float32(0.14087744), np.float32(-0.08605279), np.float32(0.15542993), np.float32(0.0537749), np.float32(0.028687935), np.float32(0.12783147), np.float32(-0.0044369954), np.float32(-0.052733086), np.float32(0.029055636), np.float32(-0.097697355), np.float32(0.09447771), np.float32(-0.01974771), np.float32(0.14724886), np.float32(-0.043746267), np.float32(0.046576582), np.float32(0.110915825), np.float32(0.03813113), np.float32(0.015015543), np.float32(-0.0667366), np.float32(0.03701312), np.float32(0.08636861), np.float32(-0.114334375), np.float32(0.0072602793), np.float32(-0.0661778), np.float32(0.036276173), np.float32(0.17774972), np.float32(0.14193138), np.float32(-0.07797306), np.float32(-0.03259259), np.float32(-0.12619784), np.float32(0.09745281), np.float32(-0.060869306), np.float32(0.040153388), np.float32(0.047110397), np.float32(0.12777103), np.float32(0.15601987), np.float32(0.027243026), np.float32(-0.016060265), np.float32(0.027331583), np.float32(0.09192661), np.float32(0.041464023), np.float32(0.013265876), np.float32(0.022134082), np.float32(-0.001883991), np.float32(0.043196615), np.float32(0.011108109), np.float32(0.06828676), np.float32(0.05846034), np.float32(0.10953981), np.float32(-0.009546524), np.float32(-0.016568154), np.float32(0.14186221), np.float32(0.023080247), np.float32(0.11573464), np.float32(-0.01734753), np.float32(-0.044161815), np.float32(-0.0041894927), np.float32(0.06939442), np.float32(0.060319707), np.float32(-0.02121837), np.float32(-0.07103624), np.float32(0.1014452), np.float32(-0.052005816), np.float32(0.077566184), np.float32(-0.07395583), np.float32(-0.14240348), np.float32(-0.12634034), np.float32(0.027580842), np.float32(0.11684543), np.float32(0.12155784), np.float32(-0.002948263), np.float32(-0.035752896), np.float32(-0.10754374), np.float32(-0.023184264), np.float32(-0.082004875), np.float32(-0.05268939), np.float32(-0.083029695), np.float32(0.081303865), np.float32(0.023380127), np.float32(0.07215041), np.float32(-0.10449073), np.float32(0.046757914), np.float32(-0.15445265), np.float32(0.08149893), np.float32(0.023138903), np.float32(-0.09612031), np.float32(-0.10145278), np.float32(-0.0055955746), np.float32(-0.0051223543), np.float32(-0.025621453), np.float32(-0.13284619), np.float32(0.10164296), np.float32(-0.124046706), np.float32(-0.028889738), np.float32(-0.097297594), np.float32(-0.07828621), np.float32(-0.02301534), np.float32(0.020563297), np.float32(0.0591454), np.float32(-0.010416272), np.float32(-0.04499844), np.float32(-0.03254617), np.float32(0.025164962), np.float32(0.036584955), np.float32(0.0010155417), np.float32(0.010456277), np.float32(-0.11041851), np.float32(0.04093539), np.float32(0.12751547), np.float32(-0.0007424109), np.float32(0.015370366), np.float32(0.00078935735), np.float32(-0.1357342), np.float32(0.07120715), np.float32(-0.07028635), np.float32(-0.16559346), np.float32(-0.05255242), np.float32(0.12546755), np.float32(0.051946126), np.float32(0.03747096), np.float32(0.03232213), np.float32(-0.0144221485), np.float32(-0.067711346), np.float32(-0.023894101), np.float32(-0.02243832), np.float32(-0.10340422), np.float32(-0.09864769), np.float32(-0.016261319), np.float32(-0.02531607), np.float32(-0.032968506), np.float32(-0.041296106), np.float32(0.026829783), np.float32(0.06329497), np.float32(-0.027369905), np.float32(0.04237594), np.float32(0.055783108), np.float32(-0.013637291), np.float32(0.0045679733), np.float32(-0.00077395496), np.float32(-0.0011383616), np.float32(-0.00092165667), np.float32(0.047777183), np.float32(-0.041612815), np.float32(-0.0012867724), np.float32(-0.060352027), np.float32(-0.033739313), np.float32(0.00040822147), np.float32(-5.2301468e-05), np.float32(-0.000571664), np.float32(0.00028379716), np.float32(-0.0001355433), np.float32(0.0013912792), np.float32(0.0013963733), np.float32(0.00016343793), np.float32(0.0010107363), np.float32(0.0005635365), np.float32(-0.0003295597), np.float32(0.00088306324), np.float32(5.060477e-06), np.float32(-0.0003759178), np.float32(9.439233e-05), np.float32(2.2132574e-06), np.float32(-1.4085642e-05), np.float32(2.7916712e-07), np.float32(0.00015962444), np.float32(-2.3148476e-05), np.float32(-0.00011370862), np.float32(0.071873955), np.float32(0.07313683), np.float32(0.056723136), np.float32(-0.021294719), np.float32(0.0016207157), np.float32(0.007005813), np.float32(-0.041384496), np.float32(0.054285035), np.float32(-0.065220565), np.float32(0.041382603), np.float32(-0.011431146), np.float32(-0.07263659), np.float32(0.047502756), np.float32(-0.02194267), np.float32(0.06936032), np.float32(0.040080145), np.float32(-0.031432983), np.float32(-0.005528457), np.float32(0.08802494), np.float32(0.06801465), np.float32(0.03786712), np.float32(0.06304178), np.float32(0.008423054), np.float32(-0.0448917), np.float32(0.096061796), np.float32(-0.01589634), np.float32(0.03226232), np.float32(-0.10629131), np.float32(-0.09691798), np.float32(-0.07971003), np.float32(0.023375526), np.float32(0.00814593), np.float32(0.06716573), np.float32(-0.12150368), np.float32(0.0048238323), np.float32(-0.16070634), np.float32(-0.034270097), np.float32(0.014646998), np.float32(-0.11216719), np.float32(0.018685402), np.float32(-0.03965242), np.float32(0.0459085), np.float32(-0.008759297), np.float32(-0.04059624), np.float32(0.08640634), np.float32(-0.119038455), np.float32(-0.049659356), np.float32(-0.014163337), np.float32(0.009029043), np.float32(-0.084699936), np.float32(0.07535151), np.float32(0.034609668), np.float32(0.0840284), np.float32(-0.098214), np.float32(0.050934143), np.float32(-0.084966235), np.float32(-0.0189799), np.float32(0.04297122), np.float32(-0.04126371), np.float32(-0.043109346), np.float32(-0.0063251574), np.float32(0.06398979), np.float32(0.10816097), np.float32(0.009336609), np.float32(-0.05119339), np.float32(-0.15426582), np.float32(0.071636125), np.float32(0.001836532), np.float32(-0.15130354), np.float32(0.01958048), np.float32(0.060332134), np.float32(-0.03633222), np.float32(0.04570393), np.float32(0.009362184), np.float32(0.107007936), np.float32(-0.1444634), np.float32(0.054202497), np.float32(0.04877788), np.float32(-0.009997927), np.float32(-0.016939448), np.float32(0.0023550554), np.float32(-0.012377856), np.float32(-0.039898038), np.float32(0.03366705), np.float32(0.039535772), np.float32(-0.1046265), np.float32(0.058690127), np.float32(0.033003256), np.float32(-0.026264481), np.float32(-0.06897301), np.float32(0.0017207352), np.float32(0.016447933), np.float32(0.036892515), np.float32(-0.090943225), np.float32(0.10715874), np.float32(0.006370984), np.float32(-0.031304613), np.float32(-0.0021026053), np.float32(-0.11076525), np.float32(-0.088239126), np.float32(0.0070743947), np.float32(0.10093071), np.float32(0.008124381), np.float32(-0.0145304585), np.float32(-0.00910863), np.float32(-0.008504201), np.float32(0.09759736), np.float32(0.033459693), np.float32(-0.08260821), np.float32(0.046119373), np.float32(0.011118626), np.float32(-0.0059280815), np.float32(-0.029342622), np.float32(0.010300862), np.float32(0.020877663), np.float32(0.15617444), np.float32(0.04923923), np.float32(0.0066487677), np.float32(-0.0007198231), np.float32(0.09922579), np.float32(0.044246405), np.float32(0.030222926), np.float32(-0.12584694), np.float32(0.11657358), np.float32(0.040157937), np.float32(0.12948155), np.float32(-0.04795369), np.float32(0.1694937), np.float32(0.14972515), np.float32(0.042043407), np.float32(0.013945679), np.float32(-0.11029077), np.float32(0.026559629), np.float32(0.078390576), np.float32(0.030373953), np.float32(0.049479116), np.float32(-0.06706174), np.float32(0.022374166), np.float32(0.0635978), np.float32(0.060719762), np.float32(0.02679092), np.float32(-0.13717732), np.float32(-0.0069280947), np.float32(0.112092674), np.float32(-0.11503797), np.float32(0.16661884), np.float32(0.025280964), np.float32(0.034152195), np.float32(0.05506354), np.float32(0.14716151), np.float32(0.06602007), np.float32(0.05035125), np.float32(0.004840177), np.float32(-0.050574042), np.float32(-0.018401442), np.float32(0.028931519), np.float32(-0.0026222728), np.float32(0.031148799), np.float32(-0.035470508), np.float32(-0.053430043), np.float32(0.045135245), np.float32(0.12823834), np.float32(0.15814418), np.float32(-0.043588985), np.float32(0.013148276), np.float32(-0.08061981), np.float32(0.047435466), np.float32(-0.007667663), np.float32(-0.1407933), np.float32(-0.004924743), np.float32(0.06735614), np.float32(0.08664233), np.float32(0.06497954), np.float32(-0.071015246), np.float32(-0.0052308356), np.float32(-0.06186781), np.float32(-0.025235774), np.float32(-0.010031433), np.float32(-0.10652088), np.float32(-0.09197334), np.float32(0.009020464), np.float32(0.042370167), np.float32(-0.0013555919), np.float32(-0.0484191), np.float32(0.054594256), np.float32(-0.115662046), np.float32(0.11249656), np.float32(0.051915135), np.float32(-0.05684703), np.float32(-0.049539626), np.float32(0.020597791), np.float32(0.04958677), np.float32(0.036803998), np.float32(-0.06482318), np.float32(-0.0016801116), np.float32(-0.17251612), np.float32(0.070437916), np.float32(-0.04826682), np.float32(-0.08380995), np.float32(-0.113851786), np.float32(0.049120247), np.float32(0.01903911), np.float32(-0.005104528), np.float32(-0.049441185), np.float32(-0.04494451), np.float32(-0.096819684), np.float32(-0.03284981), np.float32(0.005703444), np.float32(-0.123537436), np.float32(-0.0242673), np.float32(-0.014891478), np.float32(0.1002885), np.float32(0.07741941), np.float32(0.003781889), np.float32(0.0065982277), np.float32(-0.105788715), np.float32(0.114207454), np.float32(-0.05478369), np.float32(-0.08490813), np.float32(-0.020906072), np.float32(-0.0501024), np.float32(-0.021851374), np.float32(0.10972275), np.float32(-0.06834213), np.float32(0.039313775), np.float32(-0.12392559), np.float32(0.0141283795), np.float32(-0.06076951), np.float32(-0.16132069), np.float32(-0.11181516), np.float32(0.1243001), np.float32(0.05683689), np.float32(-0.0360015), np.float32(-0.069053784), np.float32(-0.0340374), np.float32(0.013175064), np.float32(0.019871296), np.float32(-0.021785792), np.float32(-0.009206341), np.float32(-0.028433379), np.float32(-0.00014505522), np.float32(-0.025340468), np.float32(-0.006808226), np.float32(-0.022712067), np.float32(-0.032105524), np.float32(0.051638763), np.float32(-0.031368144), np.float32(0.059646722), np.float32(-0.020761149), np.float32(0.0454068), np.float32(-0.0011506003), np.float32(-1.0682497e-06), np.float32(7.996084e-06), np.float32(-0.0008012908), np.float32(0.00021796502), np.float32(1.5071621e-05), np.float32(7.9719655e-05), np.float32(0.0003657038), np.float32(-2.8828217e-06), np.float32(-2.7220147e-05), np.float32(0.00029142317), np.float32(-0.00012378854), np.float32(-0.001143709), np.float32(8.636773e-06), np.float32(0.00023431196), np.float32(-0.0002994765), np.float32(1.916543e-06), np.float32(0.0011483391), np.float32(8.992458e-06), np.float32(-0.0005699174), np.float32(-3.1758023e-05), np.float32(-0.000505167), np.float32(-0.00029186928), np.float32(7.010855e-05), np.float32(0.0002479461), np.float32(0.0004538975), np.float32(1.7748971e-05), np.float32(2.0823079e-07), np.float32(0.00067690475), np.float32(-2.3561417e-05), np.float32(-0.019807067), np.float32(-0.054696843), np.float32(-0.050920375), np.float32(0.018423192), np.float32(0.04259962), np.float32(0.014212669), np.float32(-0.050220843), np.float32(0.05616416), np.float32(-0.07794873), np.float32(0.03046689), np.float32(0.010418315), np.float32(0.027324628), np.float32(0.022190396), np.float32(0.0098877475), np.float32(-0.014653428), np.float32(-0.065137364), np.float32(-0.0034898447), np.float32(0.06621606), np.float32(-0.04132218), np.float32(0.0029275257), np.float32(0.08745673), np.float32(-0.03977729), np.float32(0.08442192), np.float32(-0.08193705), np.float32(0.10953527), np.float32(-0.1470145), np.float32(0.04170214), np.float32(0.029581195), np.float32(-0.096411556), np.float32(-0.051863465), np.float32(-0.0074769664), np.float32(0.07048627), np.float32(0.10755317), np.float32(-0.026132522), np.float32(0.04801279), np.float32(-0.018548908), np.float32(0.10873625), np.float32(0.009589005), np.float32(-0.12878016), np.float32(-0.08842505), np.float32(-0.0042532366), np.float32(0.0010252356), np.float32(0.048682876), np.float32(0.032056462), np.float32(0.065204956), np.float32(-0.022209922), np.float32(-0.022297852), np.float32(-0.040345646), np.float32(-0.1977689), np.float32(-0.02742961), np.float32(0.08966058), np.float32(-0.006431073), np.float32(0.011376085), np.float32(-0.12166976), np.float32(0.07344479), np.float32(-0.12698175), np.float32(0.030348066), np.float32(-0.0024809178), np.float32(-0.110272415), np.float32(0.032002933), np.float32(0.10383682), np.float32(-0.027174536), np.float32(0.037743732), np.float32(-0.13497794), np.float32(0.109889925), np.float32(0.0033196087), np.float32(0.071122274), np.float32(-0.06412186), np.float32(-0.15233488), np.float32(-0.036664426), np.float32(-0.041375443), np.float32(0.10775166), np.float32(0.040524833), np.float32(-0.13485478), np.float32(0.09870632), np.float32(-0.1524691), np.float32(0.07678034), np.float32(-0.020179993), np.float32(-0.1106764), np.float32(-0.09415155), np.float32(0.0866404), np.float32(-0.0006441257), np.float32(0.09027413), np.float32(-0.0609612), np.float32(0.114333004), np.float32(-0.18774387), np.float32(0.117353335), np.float32(-0.008050068), np.float32(-0.1559032), np.float32(-0.020686263), np.float32(0.050210282), np.float32(0.10570652), np.float32(0.033586226), np.float32(-0.15698901), np.float32(0.14497799), np.float32(-0.1413934), np.float32(0.122239985), np.float32(-0.13738808), np.float32(-0.16999903), np.float32(-0.18788812), np.float32(0.014590302), np.float32(0.06726327), np.float32(0.03836128), np.float32(-0.0118612535), np.float32(0.0783016), np.float32(0.0852893), np.float32(0.038756877), np.float32(0.048738107), np.float32(-0.064504385), np.float32(-0.010158), np.float32(-0.063594475), np.float32(-0.11983584), np.float32(-0.11705758), np.float32(0.06610507), np.float32(0.011958631), np.float32(0.054280058), np.float32(-0.07026333), np.float32(0.067273706), np.float32(0.16149631), np.float32(0.06525797), np.float32(-0.044681206), np.float32(-0.11567092), np.float32(-0.09030387), np.float32(0.102538064), np.float32(0.012294087), np.float32(0.09228991), np.float32(-0.13678399), np.float32(0.044649053), np.float32(0.18573064), np.float32(0.049437743), np.float32(0.02359479), np.float32(-0.05325837), np.float32(-0.05266068), np.float32(0.07087093), np.float32(-0.122410364), np.float32(0.15594323), np.float32(-0.10273935), np.float32(0.05715982), np.float32(0.11864439), np.float32(0.10490287), np.float32(0.0049779383), np.float32(-0.008415942), np.float32(-0.06591078), np.float32(0.116566725), np.float32(-0.06513859), np.float32(0.14704327), np.float32(-0.07455796), np.float32(-0.01689943), np.float32(0.004528536), np.float32(0.03401388), np.float32(0.04304582), np.float32(-0.0058886586), np.float32(0.09762076), np.float32(0.036188588), np.float32(0.103753686), np.float32(0.038836643), np.float32(-0.006288683), np.float32(-0.08807039), np.float32(-0.08116031), np.float32(-0.063291274), np.float32(0.121369936), np.float32(0.111139186), np.float32(0.1655361), np.float32(-0.08690954), np.float32(0.107293606), np.float32(-0.17105395), np.float32(0.13933334), np.float32(-0.12561768), np.float32(-0.0617362), np.float32(-0.17725338), np.float32(0.023274034), np.float32(0.11593828), np.float32(-0.014952164), np.float32(-0.0134904375), np.float32(0.049903408), np.float32(-0.17538309), np.float32(-0.010969778), np.float32(-0.008864483), np.float32(-0.08670151), np.float32(-0.13793997), np.float32(-0.032247577), np.float32(0.095620066), np.float32(0.08471353), np.float32(-0.10536054), np.float32(0.07750676), np.float32(-0.1713557), np.float32(-0.029631855), np.float32(0.012503055), np.float32(-0.12697369), np.float32(0.038089827), np.float32(0.062184867), np.float32(-0.00805122), np.float32(-0.026284043), np.float32(-0.07760569), np.float32(-0.026547413), np.float32(-0.1165176), np.float32(0.07251165), np.float32(-0.01977906), np.float32(-0.17163381), np.float32(0.038268015), np.float32(0.08324329), np.float32(0.014190775), np.float32(0.01990092), np.float32(-0.06856988), np.float32(0.030328503), np.float32(-0.2103038), np.float32(0.037787165), np.float32(0.011570928), np.float32(-0.22550169), np.float32(0.038041253), np.float32(-0.006084785), np.float32(0.07877174), np.float32(0.025563434), np.float32(0.015272088), np.float32(0.11111304), np.float32(-0.10692093), np.float32(0.01934982), np.float32(-0.055307254), np.float32(-0.12905572), np.float32(0.05093579), np.float32(0.105592355), np.float32(-0.0384111), np.float32(-0.021277182), np.float32(0.017047096), np.float32(-0.032041058), np.float32(0.0018766935), np.float32(0.040766492), np.float32(0.038348746), np.float32(-0.16233936), np.float32(-0.09351286), np.float32(0.052716948), np.float32(-0.039822653), np.float32(-0.0043887245), np.float32(-0.005908021), np.float32(0.111499734), np.float32(-0.018263295), np.float32(0.07957534), np.float32(-0.04766261), np.float32(-0.061265007), np.float32(-0.0077319043), np.float32(4.8990412e-05), np.float32(-0.017697403), np.float32(-0.005605436), np.float32(0.008524931), np.float32(0.0020947745), np.float32(0.0033089481), np.float32(0.020987391), np.float32(-0.047754966), np.float32(-0.0050414125), np.float32(-0.020126754), np.float32(-1.1285236e-05), np.float32(-0.00031036595), np.float32(-0.00025979418), np.float32(-4.0446215e-05), np.float32(-1.1248e-06), np.float32(2.4130411e-05), np.float32(-9.16132e-08), np.float32(-0.0013658525), np.float32(0.0013496483), np.float32(-2.56731e-06), np.float32(-3.5809404e-05), np.float32(-0.0004699018), np.float32(0.00037428635), np.float32(0.00085006893), np.float32(3.742256e-07), np.float32(1.99556e-06), np.float32(9.584366e-06), np.float32(-0.00017036751), np.float32(0.00010341898), np.float32(-3.7720267e-06), np.float32(0.0006592048), np.float32(-0.001270243), np.float32(-0.00020910233), np.float32(8.246901e-05), np.float32(0.00016568841), np.float32(0.00018122394), np.float32(8.588906e-05), np.float32(-0.00021282631), np.float32(0.00011839254), np.float32(-6.568069e-05), np.float32(-0.0007120141), np.float32(-2.8694804e-09), np.float32(7.041585e-05), np.float32(0.00028015298), np.float32(-8.1808275e-06), np.float32(0.0008234004), np.float32(-0.00031495054), np.float32(-0.0011740234), np.float32(0.00019533608), np.float32(8.87009e-06), np.float32(0.0059200595), np.float32(-0.045441017), np.float32(-0.004121398), np.float32(-0.015063799), np.float32(-0.06370337), np.float32(0.05953143), np.float32(-0.086507365), np.float32(-0.004111713), np.float32(0.01647893), np.float32(-0.032752845), np.float32(0.055275626), np.float32(0.045383245), np.float32(0.07369381), np.float32(0.018830005), np.float32(0.110126436), np.float32(-0.13896878), np.float32(0.110276744), np.float32(-0.04200814), np.float32(-0.04994721), np.float32(-0.04604792), np.float32(0.035524987), np.float32(0.07348905), np.float32(0.0791154), np.float32(-0.07535104), np.float32(0.10979313), np.float32(-0.053163487), np.float32(0.11880851), np.float32(-0.078840554), np.float32(-0.17920017), np.float32(0.03665989), np.float32(0.05289574), np.float32(0.12744853), np.float32(0.00053918984), np.float32(-0.010570721), np.float32(-0.03902135), np.float32(-0.036528382), np.float32(-0.055087242), np.float32(-0.06247734), np.float32(-0.15561959), np.float32(0.031898964), np.float32(-0.031801697), np.float32(0.1158248), np.float32(0.02958889), np.float32(-0.13477534), np.float32(-0.029799385), np.float32(-0.077127166), np.float32(-0.0017217145), np.float32(-0.00032107375), np.float32(-0.22908883), np.float32(-0.063349865), np.float32(0.04297678), np.float32(-0.01367319), np.float32(0.099700294), np.float32(-0.10850535), np.float32(0.10230627), np.float32(-0.025866255), np.float32(0.05238668), np.float32(0.047995556), np.float32(-0.052406844), np.float32(-0.10625902), np.float32(-0.014903469), np.float32(0.07563001), np.float32(0.109967135), np.float32(-0.10685955), np.float32(0.09707688), np.float32(-0.14366956), np.float32(0.052717935), np.float32(-0.05734118), np.float32(-0.02480811), np.float32(0.02633752), np.float32(0.030664308), np.float32(0.0920647), np.float32(0.10024539), np.float32(-0.17745747), np.float32(0.08699982), np.float32(-0.1483419), np.float32(0.082547374), np.float32(-0.03513407), np.float32(-0.063676074), np.float32(-0.16658491), np.float32(0.048338942), np.float32(0.06719509), np.float32(0.021922719), np.float32(-0.038103998), np.float32(0.044626333), np.float32(-0.1829759), np.float32(0.16845542), np.float32(-0.117810205), np.float32(-0.09930452), np.float32(-0.18214375), np.float32(0.0033526414), np.float32(0.06642651), np.float32(0.1006517), np.float32(-0.027372168), np.float32(-0.009726164), np.float32(0.022584274), np.float32(-0.051867), np.float32(0.11374673), np.float32(0.08222501), np.float32(0.12727767), np.float32(0.040128533), np.float32(-0.04333076), np.float32(-0.024304736), np.float32(0.15249062), np.float32(-0.02252116), np.float32(0.12250766), np.float32(-0.0576817), np.float32(0.102068156), np.float32(0.13222234), np.float32(0.07526667), np.float32(-0.12487012), np.float32(-0.044010766), np.float32(-0.052822087), np.float32(0.18515202), np.float32(0.026236145), np.float32(0.16875754), np.float32(-0.005519378), np.float32(0.16450246), np.float32(0.049266845), np.float32(0.19240874), np.float32(-0.11624061), np.float32(-0.062171232), np.float32(-0.06484783), np.float32(0.038705222), np.float32(-0.06962846), np.float32(0.029846301), np.float32(-0.11812207), np.float32(0.041800942), np.float32(0.08769852), np.float32(0.113271676), np.float32(-0.06336483), np.float32(0.026815915), np.float32(-0.11968633), np.float32(0.06060189), np.float32(0.05673946), np.float32(0.048425447), np.float32(-0.03211874), np.float32(0.013925395), np.float32(0.10346028), np.float32(0.079898246), np.float32(0.044418756), np.float32(0.04804334), np.float32(0.13950467), np.float32(-0.16790809), np.float32(0.027982779), np.float32(-0.13836473), np.float32(0.06889292), np.float32(-0.15366007), np.float32(-0.033126824), np.float32(-0.036502827), np.float32(0.014421149), np.float32(0.13847381), np.float32(0.071756974), np.float32(-0.19825931), np.float32(0.080406785), np.float32(-0.2015607), np.float32(0.0552464), np.float32(-0.014733193), np.float32(-0.23279953), np.float32(-0.20788556), np.float32(0.111389406), np.float32(0.13947272), np.float32(-0.032195777), np.float32(-0.019438105), np.float32(0.13196166), np.float32(-0.18484995), np.float32(0.121702336), np.float32(-0.007137507), np.float32(-0.12243746), np.float32(-0.12977162), np.float32(-0.01088697), np.float32(0.03272473), np.float32(0.031267468), np.float32(-0.089876175), np.float32(0.10138995), np.float32(-0.091516264), np.float32(0.09233855), np.float32(-0.1217808), np.float32(-0.14520712), np.float32(-0.0930991), np.float32(0.061645642), np.float32(0.07686687), np.float32(0.09525029), np.float32(-0.026364753), np.float32(0.119239956), np.float32(-0.17926297), np.float32(0.08732877), np.float32(0.035882913), np.float32(-0.09271151), np.float32(-0.011680041), np.float32(0.08653457), np.float32(0.09557725), np.float32(0.06506478), np.float32(-0.028112482), np.float32(0.07932064), np.float32(-0.21994072), np.float32(0.11141557), np.float32(-0.0019378227), np.float32(-0.06768182), np.float32(-0.097908), np.float32(0.04797619), np.float32(-0.025579337), np.float32(-0.006848142), np.float32(-0.06990095), np.float32(-0.016416062), np.float32(-0.182414), np.float32(0.10069596), np.float32(-0.028116137), np.float32(-0.16630726), np.float32(-0.0016744487), np.float32(-0.011754853), np.float32(0.09174804), np.float32(-0.010017718), np.float32(0.0036233624), np.float32(0.10710381), np.float32(-0.13717818), np.float32(0.116841465), np.float32(-0.013786264), np.float32(-0.17116791), np.float32(0.020064829), np.float32(0.04537386), np.float32(0.11234297), np.float32(0.08423842), np.float32(-0.07138953), np.float32(0.07760708), np.float32(0.035479315), np.float32(0.109416984), np.float32(-0.11739432), np.float32(-0.1275102), np.float32(-0.112736225), np.float32(-0.045737382), np.float32(-0.013697245), np.float32(-0.07509844), np.float32(-0.012663696), np.float32(-0.039270513), np.float32(0.035344824), np.float32(-0.036402043), np.float32(0.0048451615), np.float32(0.0055610402), np.float32(-0.024504578), np.float32(-1.0463316e-07), np.float32(-5.5940567e-05), np.float32(-3.1023777e-08), np.float32(0.001418275), np.float32(4.4217886e-06), np.float32(-0.0011114052), np.float32(7.3821016e-06), np.float32(-7.2297305e-05), np.float32(8.8124784e-07), np.float32(-0.0012643212), np.float32(-0.0010166432), np.float32(-0.00015011469), np.float32(-1.5902502e-06), np.float32(-0.00036283967), np.float32(1.225498e-05), np.float32(2.7213102e-07), np.float32(8.500113e-08), np.float32(-0.00055178546), np.float32(6.25017e-07), np.float32(-0.00012696233), np.float32(-1.0958285e-06), np.float32(8.600609e-07), np.float32(-1.8597773e-05), np.float32(-6.42088e-07), np.float32(-0.00112677), np.float32(0.00069747947), np.float32(-1.4855028e-05), np.float32(0.00041455688), np.float32(0.0011079177), np.float32(-3.1579975e-07), np.float32(-0.0007275273), np.float32(-0.0005717804), np.float32(-1.0744454e-05), np.float32(3.763244e-05), np.float32(-0.00096745323), np.float32(9.127433e-08), np.float32(0.00016300633), np.float32(1.6320054e-06), np.float32(6.277535e-05), np.float32(-0.0013348012), np.float32(-0.081648365), np.float32(0.0564139), np.float32(-0.04840337), np.float32(0.0007110215), np.float32(0.041098576), np.float32(0.057225864), np.float32(-0.017857762), np.float32(0.03627072), np.float32(0.04819405), np.float32(-0.02574177), np.float32(0.026601698), np.float32(0.09959704), np.float32(-0.032445733), np.float32(-0.094988726), np.float32(-0.03432408), np.float32(-0.16054992), np.float32(0.06991188), np.float32(0.0152546), np.float32(-0.06058102), np.float32(-0.059927188), np.float32(0.08801033), np.float32(0.060915604), np.float32(0.02718107), np.float32(-0.10099199), np.float32(-0.043580174), np.float32(-0.109031394), np.float32(0.10527367), np.float32(0.027596254), np.float32(-0.15755641), np.float32(-0.11643598), np.float32(0.09611959), np.float32(0.05357999), np.float32(0.10182949), np.float32(-0.06476255), np.float32(0.09476538), np.float32(-0.12206292), np.float32(0.07178395), np.float32(-0.0834546), np.float32(-0.17225216), np.float32(-0.065306865), np.float32(0.055834785), np.float32(0.12491834), np.float32(-0.036651894), np.float32(-0.10213921), np.float32(0.09287265), np.float32(-0.07827484), np.float32(-0.023332627), np.float32(-0.060615864), np.float32(-0.1891444), np.float32(-0.063638255), np.float32(0.088994384), np.float32(0.08069502), np.float32(-0.01036002), np.float32(-0.04752338), np.float32(-0.030263068), np.float32(-0.12754038), np.float32(0.07927528), np.float32(-0.047795426), np.float32(-0.15475872), np.float32(-0.044018257), np.float32(0.044325765), np.float32(0.096030705), np.float32(0.118025884), np.float32(-0.08185727), np.float32(0.058289815), np.float32(-0.18171318), np.float32(0.09331099), np.float32(-0.09523435), np.float32(-0.12091179), np.float32(-0.04924495), np.float32(0.15129857), np.float32(0.12614727), np.float32(0.13434538), np.float32(-0.10429081), np.float32(0.028640216), np.float32(-0.11680073), np.float32(0.07782417), np.float32(-0.03522905), np.float32(-0.092960335), np.float32(-0.19816287), np.float32(0.12649488), np.float32(0.11739881), np.float32(0.1385182), np.float32(-0.04147978), np.float32(0.05417752), np.float32(-0.07893574), np.float32(0.032624062), np.float32(-0.09681306), np.float32(-0.095572084), np.float32(-0.11334394), np.float32(-0.075823314), np.float32(-0.03642393), np.float32(0.033536736), np.float32(-0.00087378226), np.float32(-0.066108465), np.float32(0.017708618), np.float32(0.01865637), np.float32(0.105581045), np.float32(-0.01942664), np.float32(0.066444285), np.float32(-0.10292639), np.float32(-0.08497167), np.float32(-0.09548633), np.float32(0.057243377), np.float32(-0.04066174), np.float32(0.16780521), np.float32(0.017072776), np.float32(0.046072662), np.float32(0.07185951), np.float32(0.14868349), np.float32(0.018074324), np.float32(-0.020961437), np.float32(-0.08358318), np.float32(0.037130527), np.float32(-0.01891886), np.float32(0.071333654), np.float32(-0.0960744), np.float32(0.15739517), np.float32(0.05719743), np.float32(0.069363534), np.float32(-0.080600895), np.float32(-0.07813949), np.float32(0.0056075724), np.float32(0.1267158), np.float32(-0.10385443), np.float32(0.090480104), np.float32(-0.09906024), np.float32(0.13019085), np.float32(0.12461113), np.float32(0.04592794), np.float32(-0.09550529), np.float32(-0.006398435), np.float32(-0.0016959787), np.float32(0.03288955), np.float32(-0.010860946), np.float32(0.08774876), np.float32(-0.082736515), np.float32(-0.009899857), np.float32(0.006944132), np.float32(0.03252854), np.float32(0.07516916), np.float32(0.08488765), np.float32(0.1559925), np.float32(-0.15079646), np.float32(0.0303695), np.float32(-0.17110172), np.float32(0.09472451), np.float32(-0.046046242), np.float32(-0.12787229), np.float32(-0.08048574), np.float32(0.079282545), np.float32(0.043245304), np.float32(0.12276244), np.float32(-0.05980393), np.float32(0.0061661247), np.float32(-0.16231868), np.float32(0.06236372), np.float32(-0.0032297068), np.float32(-0.17557955), np.float32(-0.024968917), np.float32(0.021667741), np.float32(0.04973347), np.float32(0.02552695), np.float32(-0.16149458), np.float32(0.072960444), np.float32(-0.074958846), np.float32(0.097635545), np.float32(-0.09339058), np.float32(-0.19069602), np.float32(-0.12174727), np.float32(0.11524549), np.float32(0.031015418), np.float32(0.057976488), np.float32(-0.09235335), np.float32(0.059991863), np.float32(-0.11397715), np.float32(0.0030448858), np.float32(0.01107003), np.float32(-0.10412323), np.float32(-0.047419976), np.float32(0.115673944), np.float32(0.081080146), np.float32(0.110576645), np.float32(-0.09822846), np.float32(0.118279524), np.float32(-0.19565219), np.float32(-0.047553632), np.float32(-0.10821682), np.float32(-0.05158966), np.float32(-0.031913538), np.float32(0.041338723), np.float32(-0.020050002), np.float32(0.052866284), np.float32(0.027873296), np.float32(0.09240008), np.float32(-0.1697587), np.float32(0.013496714), np.float32(-0.008186517), np.float32(-0.20060559), np.float32(-0.012211461), np.float32(0.047926664), np.float32(0.086089306), np.float32(0.045826934), np.float32(-0.13727182), np.float32(0.058351576), np.float32(-0.16124377), np.float32(0.056108955), np.float32(0.036967874), np.float32(-0.18816638), np.float32(-0.077391334), np.float32(0.085931), np.float32(0.12505646), np.float32(-0.0008596886), np.float32(0.005344275), np.float32(0.119144805), np.float32(-0.1522628), np.float32(0.0058295224), np.float32(-0.020422496), np.float32(-0.21952142), np.float32(0.046563655), np.float32(-0.039663013), np.float32(0.07153242), np.float32(0.086761445), np.float32(0.034382824), np.float32(0.011979889), np.float32(-0.019921714), np.float32(-0.008448759), np.float32(-0.13849176), np.float32(-0.05081467), np.float32(-0.0558749), np.float32(-0.010690022), np.float32(-0.020421814), np.float32(-0.022205163), np.float32(-0.0074711754), np.float32(-0.013202019), np.float32(0.016294185), np.float32(-0.016730132), np.float32(0.055224918), np.float32(0.016320597), np.float32(0.02268233), np.float32(7.230762e-05), np.float32(-0.0011066379), np.float32(4.344917e-07), np.float32(-2.0326072e-06), np.float32(-8.631133e-06), np.float32(-0.00020337448), np.float32(3.2524058e-05), np.float32(0.00019288034), np.float32(-1.216661e-06), np.float32(-6.3838495e-05), np.float32(-7.6979296e-07), np.float32(0.00048291212), np.float32(-0.0011221613), np.float32(-7.578355e-06), np.float32(-0.00045192428), np.float32(-3.5698422e-06), np.float32(-3.2699365e-05), np.float32(0.00024708177), np.float32(0.00033307786), np.float32(-0.00033355164), np.float32(-0.036502987), np.float32(0.00017798609), np.float32(-0.007886199), np.float32(0.034715787), np.float32(-0.0009936462), np.float32(0.052164897), np.float32(-0.0048886854), np.float32(-0.057439838), np.float32(0.06384769), np.float32(-0.024308583), np.float32(-0.03938482), np.float32(-0.0009531915), np.float32(-0.0016110027), np.float32(0.009772726), np.float32(-0.00088227156), np.float32(0.0067909826), np.float32(-0.0018148698), np.float32(0.023932813), np.float32(-0.0063742045), np.float32(0.0006330941), np.float32(0.049264364), np.float32(-0.012818311), np.float32(0.05426366), np.float32(0.041658606), np.float32(-0.010340705), np.float32(0.0005034518), np.float32(0.012680703), np.float32(0.0504469), np.float32(-0.020978823), np.float32(-0.00018257154), np.float32(-0.026729457), np.float32(0.046877827), np.float32(0.033513933), np.float32(-0.006426133), np.float32(0.032323517), np.float32(-0.025676357), np.float32(-0.014233997), np.float32(0.055434123), np.float32(-0.16057743), np.float32(0.0037191347), np.float32(0.049599197), np.float32(-0.040384028), np.float32(0.0013479589), np.float32(-0.06754865), np.float32(0.071730144), np.float32(-0.091551326), np.float32(0.057041034), np.float32(-0.07754885), np.float32(-0.15600932), np.float32(0.05015309), np.float32(0.07453896), np.float32(0.08117597), np.float32(0.034698136), np.float32(-0.08776249), np.float32(0.11756627), np.float32(-0.082777195), np.float32(0.004381162), np.float32(-0.050756715), np.float32(-0.17851318), np.float32(-0.06347094), np.float32(0.030719502), np.float32(0.09822583), np.float32(-0.026120432), np.float32(-0.16159579), np.float32(-0.0016767308), np.float32(-0.15130003), np.float32(-0.022028854), np.float32(-0.09730501), np.float32(-0.057003874), np.float32(0.0005444952), np.float32(0.016526971), np.float32(0.0074153165), np.float32(0.012340133), np.float32(-0.040476877), np.float32(0.11420529), np.float32(-0.1352096), np.float32(-0.030893696), np.float32(-0.08793446), np.float32(-0.13561758), np.float32(-0.10548885), np.float32(0.105299115), np.float32(0.1429613), np.float32(0.038510736), np.float32(-0.044037927), np.float32(0.082948685), np.float32(-0.10685746), np.float32(0.0071918704), np.float32(-0.022651339), np.float32(-0.17519893), np.float32(-0.024349265), np.float32(0.06459288), np.float32(0.19192182), np.float32(0.00834493), np.float32(-0.051581804), np.float32(0.022861203), np.float32(-0.13640909), np.float32(0.13799618), np.float32(-0.16895449), np.float32(-0.14479491), np.float32(-0.119939655), np.float32(0.03181894), np.float32(0.1103588), np.float32(0.08623573), np.float32(0.088198826), np.float32(-0.035283227), np.float32(-0.07295219), np.float32(-0.02440389), np.float32(0.03518794), np.float32(-0.065395065), np.float32(0.07072364), np.float32(-0.05678878), np.float32(-0.13133067), np.float32(-0.0027554443), np.float32(0.044175453), np.float32(0.005934558), np.float32(0.12512246), np.float32(0.034924395), np.float32(0.035259727), np.float32(0.06163792), np.float32(0.12531169), np.float32(-0.018077638), np.float32(-0.044252977), np.float32(-0.012748886), np.float32(0.10416228), np.float32(0.023191866), np.float32(0.02523977), np.float32(-0.06334428), np.float32(0.093933225), np.float32(0.1238365), np.float32(0.10908632), np.float32(-0.01844143), np.float32(0.01155001), np.float32(-0.07452163), np.float32(0.067532085), np.float32(-0.03853227), np.float32(0.016112596), np.float32(-0.100036226), np.float32(0.09411395), np.float32(0.05638241), np.float32(0.11336917), np.float32(-0.025006713), np.float32(-0.10653323), np.float32(-0.02049703), np.float32(0.09739395), np.float32(-0.012074675), np.float32(0.14560512), np.float32(-0.035523154), np.float32(0.06635555), np.float32(0.17452878), np.float32(0.13042448), np.float32(0.030475063), np.float32(0.04106964), np.float32(0.09300856), np.float32(0.060060307), np.float32(0.060752947), np.float32(0.04401623), np.float32(0.004797536), np.float32(-0.041452453), np.float32(-0.003515921), np.float32(0.05980009), np.float32(-0.000905197), np.float32(0.054908674), np.float32(0.1628688), np.float32(-0.20501813), np.float32(0.08573057), np.float32(-0.19658004), np.float32(0.09645917), np.float32(-0.10533714), np.float32(-0.2160388), np.float32(-0.13101164), np.float32(0.099708214), np.float32(0.18030064), np.float32(0.039082732), np.float32(-0.16165198), np.float32(-0.023922527), np.float32(-0.12494709), np.float32(0.09093851), np.float32(-0.08294481), np.float32(-0.043145623), np.float32(-0.0032848697), np.float32(0.055028047), np.float32(-0.009868341), np.float32(0.017557463), np.float32(-0.03528236), np.float32(0.059044033), np.float32(-0.06923217), np.float32(-0.02311741), np.float32(0.017634772), np.float32(-0.08647721), np.float32(-0.010886884), np.float32(-0.04688187), np.float32(0.122309856), np.float32(0.08181474), np.float32(0.010720921), np.float32(0.05072368), np.float32(-0.1345637), np.float32(0.08094605), np.float32(-0.033788394), np.float32(-0.1848757), np.float32(-0.07912874), np.float32(0.11074004), np.float32(0.049474336), np.float32(0.011584506), np.float32(-0.14740302), np.float32(0.0926058), np.float32(-0.19007218), np.float32(0.026984854), np.float32(0.032636385), np.float32(-0.1312309), np.float32(-0.032566622), np.float32(-0.029843625), np.float32(0.011913679), np.float32(0.060004964), np.float32(-0.13710615), np.float32(0.055368613), np.float32(-0.22495513), np.float32(-0.008397709), np.float32(-0.011116841), np.float32(-0.083652645), np.float32(-0.08844243), np.float32(-0.046891063), np.float32(0.022672493), np.float32(0.09435277), np.float32(-0.03933909), np.float32(-0.0050251987), np.float32(-0.1403998), np.float32(-0.031963706), np.float32(-0.067083985), np.float32(-0.21122135), np.float32(-0.072872326), np.float32(-0.019347768), np.float32(-0.0399291), np.float32(0.09969697), np.float32(-0.14528032), np.float32(0.05900054), np.float32(-0.01607031), np.float32(0.02972729), np.float32(-0.0733381), np.float32(-0.06992771), np.float32(0.0067973207), np.float32(0.053270284), np.float32(0.08430326), np.float32(0.011169882), np.float32(0.0075872946), np.float32(0.0013304893), np.float32(0.011606698), np.float32(-0.0071486956), np.float32(-0.069254346), np.float32(0.009058381), np.float32(0.024846777), np.float32(-3.486304e-05), np.float32(0.0014715218), np.float32(6.242462e-06), np.float32(1.11528025e-05), np.float32(-2.1596945e-05), np.float32(7.4373074e-06), np.float32(-1.0953541e-05), np.float32(1.0739334e-07), np.float32(-0.0006616294), np.float32(-7.3471995e-07), np.float32(0.08669611), np.float32(-0.019195504), np.float32(0.0025161416), np.float32(-0.046765674), np.float32(0.070457265), np.float32(-0.0004047513), np.float32(-0.004701712), np.float32(0.029534401), np.float32(0.0012530711), np.float32(-3.5688896e-05), np.float32(8.274005e-05), np.float32(1.8816307e-07), np.float32(8.37418e-06), np.float32(0.00028667322), np.float32(0.00011105301), np.float32(-0.0015617679), np.float32(3.2365628e-07), np.float32(0.00021403907), np.float32(-8.621651e-05), np.float32(0.0003345462), np.float32(0.07329208), np.float32(-0.065715596), np.float32(-0.0286392), np.float32(-0.03064036), np.float32(-0.00451062), np.float32(-0.04922124), np.float32(-0.03531989), np.float32(-0.02869245), np.float32(0.030022658), np.float32(-0.015946565), np.float32(-0.023933562), np.float32(-0.019260975), np.float32(-0.021412462), np.float32(0.004818426), np.float32(-0.004671541), np.float32(0.013680418), np.float32(-0.022606166), np.float32(-0.038942397), np.float32(0.005765539), np.float32(0.015264365), np.float32(0.025295168), np.float32(0.057800435), np.float32(0.07513604), np.float32(0.004627426), np.float32(-0.003946905), np.float32(-0.056291923), np.float32(-0.050649196), np.float32(-0.0852513), np.float32(0.02132619), np.float32(-0.08817342), np.float32(0.072672114), np.float32(0.006603528), np.float32(0.015754884), np.float32(-0.017427526), np.float32(-0.004248127), np.float32(0.016339697), np.float32(0.0027902185), np.float32(0.0057657133), np.float32(-0.07020002), np.float32(-0.007889648), np.float32(-0.035003014), np.float32(0.06789969), np.float32(-0.04144035), np.float32(-0.00021972154), np.float32(0.11888277), np.float32(-0.07597137), np.float32(0.09009849), np.float32(-0.04298297), np.float32(-0.14361162), np.float32(0.005497801), np.float32(0.011116945), np.float32(0.09881596), np.float32(0.023367736), np.float32(-0.075052306), np.float32(0.0743542), np.float32(-0.1043729), np.float32(-0.036213923), np.float32(-0.09962133), np.float32(-0.06764041), np.float32(-0.061869223), np.float32(0.0008435477), np.float32(0.030245185), np.float32(0.040296026), np.float32(-0.033852674), np.float32(-0.019343508), np.float32(-0.16276333), np.float32(0.11626757), np.float32(-0.09302723), np.float32(-0.07627634), np.float32(-0.06895557), np.float32(-0.04091393), np.float32(0.061223432), np.float32(0.11727027), np.float32(-0.017142009), np.float32(0.09916945), np.float32(-0.10842752), np.float32(-0.046939313), np.float32(-0.09588169), np.float32(-0.11084064), np.float32(-0.040653374), np.float32(0.022512507), np.float32(0.09097108), np.float32(0.13100556), np.float32(-0.061952032), np.float32(0.0050933985), np.float32(-0.14772704), np.float32(0.053992614), np.float32(-0.06011872), np.float32(-0.21190025), np.float32(-0.13953272), np.float32(0.09565263), np.float32(0.025747467), np.float32(0.021163823), np.float32(-0.011180554), np.float32(0.11382446), np.float32(-0.021318179), np.float32(0.11166487), np.float32(-0.1166628), np.float32(-0.014208166), np.float32(-0.09093502), np.float32(0.030333418), np.float32(0.08376608), np.float32(0.08606653), np.float32(0.05839679), np.float32(-0.06280534), np.float32(0.085015796), np.float32(-0.07843771), np.float32(-0.019962346), np.float32(0.10084161), np.float32(-0.0025604193), np.float32(-0.045888815), np.float32(-0.14368191), np.float32(-0.10729904), np.float32(0.039412014), np.float32(0.02923403), np.float32(0.12103401), np.float32(0.009116121), np.float32(0.08851962), np.float32(0.14213505), np.float32(0.054635618), np.float32(-0.08214098), np.float32(0.017305875), np.float32(-0.010451892), np.float32(0.028985327), np.float32(-0.0910129), np.float32(0.07707355), np.float32(-0.032363404), np.float32(0.09187009), np.float32(0.13801502), np.float32(0.08173452), np.float32(-0.022558393), np.float32(-0.13058607), np.float32(0.01973855), np.float32(0.14171025), np.float32(-0.09146758), np.float32(0.087794244), np.float32(-0.12905884), np.float32(0.07875653), np.float32(0.027181549), np.float32(0.11800329), np.float32(0.050842058), np.float32(9.432405e-05), np.float32(-0.013759581), np.float32(0.041244846), np.float32(-0.05392399), np.float32(0.05565127), np.float32(-0.035353847), np.float32(0.123980716), np.float32(0.1532479), np.float32(0.058889985), np.float32(0.032916546), np.float32(-0.023481533), np.float32(0.078993015), np.float32(-0.0068895626), np.float32(0.10022002), np.float32(0.03598846), np.float32(-0.028412225), np.float32(-0.030936003), np.float32(0.03946882), np.float32(0.03743488), np.float32(-0.0064883), np.float32(0.04932305), np.float32(0.11095326), np.float32(-0.10560258), np.float32(0.061042495), np.float32(-0.15029158), np.float32(0.13202935), np.float32(-0.076915726), np.float32(-0.20871687), np.float32(-0.1298421), np.float32(0.031728245), np.float32(0.07751209), np.float32(0.069926925), np.float32(0.003475155), np.float32(0.08055926), np.float32(-0.14937201), np.float32(0.05534096), np.float32(-0.06893649), np.float32(-0.020951709), np.float32(-0.004346095), np.float32(0.060670257), np.float32(-0.0053593223), np.float32(-0.024960293), np.float32(-0.08369535), np.float32(0.06469304), np.float32(-0.06809806), np.float32(0.084138654), np.float32(-0.07636807), np.float32(-0.019597432), np.float32(-0.07069612), np.float32(0.07934514), np.float32(0.1193995), np.float32(0.08761532), np.float32(-0.0669797), np.float32(-0.036248747), np.float32(-0.07408752), np.float32(0.080339454), np.float32(-0.04491609), np.float32(-0.10678899), np.float32(-0.049906794), np.float32(-0.05381063), np.float32(0.0899647), np.float32(0.026186474), np.float32(-0.10388775), np.float32(0.0934624), np.float32(-0.12764452), np.float32(-0.047775857), np.float32(0.01908731), np.float32(-0.22443761), np.float32(0.047104247), np.float32(0.026972549), np.float32(-0.017296528), np.float32(0.061463423), np.float32(0.013282229), np.float32(-0.046998736), np.float32(-0.095123954), np.float32(0.036816057), np.float32(-0.050393526), np.float32(-0.16466938), np.float32(0.013893934), np.float32(-0.027856303), np.float32(0.020667952), np.float32(0.106067985), np.float32(-0.11099022), np.float32(0.06338394), np.float32(-0.07550285), np.float32(0.083972484), np.float32(-0.004970069), np.float32(-0.22523947), np.float32(-0.008416118), np.float32(0.110044986), np.float32(0.051737368), np.float32(-0.017017193), np.float32(-0.042482805), np.float32(-0.0480608), np.float32(-0.02272409), np.float32(0.054212257), np.float32(0.034126554), np.float32(-0.034773868), np.float32(0.028679261), np.float32(0.058516078), np.float32(0.08991609), np.float32(0.08490708), np.float32(-0.021813886), np.float32(0.11108935), np.float32(-0.033287946), np.float32(0.08441571), np.float32(-0.029236374), np.float32(-0.007919727), np.float32(-0.047133006), np.float32(0.00041612313), np.float32(-2.2123588e-06), np.float32(-0.0011861691), np.float32(-4.6353276e-07), np.float32(0.00015031433), np.float32(-0.00044886803), np.float32(-2.0475936e-07), np.float32(1.0071168e-06), np.float32(0.0005212598), np.float32(2.0311547e-05), np.float32(-0.013987144), np.float32(0.011204077), np.float32(-0.027592774), np.float32(-0.029428288), np.float32(-0.016778462), np.float32(0.0011565719), np.float32(-0.053065225), np.float32(0.037421357), np.float32(-0.0010564829), np.float32(1.9152438e-05), np.float32(-0.035951216), np.float32(0.00020037993), np.float32(0.0010106567), np.float32(0.009557763), np.float32(0.014931519), np.float32(0.010497913), np.float32(0.00012039122), np.float32(0.023671275), np.float32(-0.010238813), np.float32(0.020269524), np.float32(-0.04903256), np.float32(-0.0012528576), np.float32(-0.005532641), np.float32(0.0589561), np.float32(-0.02552032), np.float32(-0.018162094), np.float32(-0.00912943), np.float32(-0.04220535), np.float32(0.058428433), np.float32(-0.037358735), np.float32(0.020906005), np.float32(-0.0046359347), np.float32(-0.00390388), np.float32(-0.0061857197), np.float32(-0.0009057372), np.float32(0.0036700862), np.float32(-0.003360177), np.float32(-0.004156175), np.float32(-0.004063488), np.float32(0.0027458512), np.float32(0.0959131), np.float32(-0.054466855), np.float32(-0.00022100958), np.float32(0.023746964), np.float32(0.031877883), np.float32(-0.081517845), np.float32(0.09492885), np.float32(0.05975442), np.float32(0.06589864), np.float32(-0.06499391), np.float32(0.11165115), np.float32(0.12907873), np.float32(-0.040749326), np.float32(0.0010360004), np.float32(0.042799346), np.float32(-0.02536312), np.float32(0.009431601), np.float32(-0.09114128), np.float32(-0.11444838), np.float32(0.03737737), np.float32(0.0054056593), np.float32(-0.040168036), np.float32(0.08446162), np.float32(-0.08157604), np.float32(0.006349493), np.float32(-0.14225574), np.float32(-0.0020847833), np.float32(0.012951479), np.float32(-0.081662714), np.float32(-0.11644036), np.float32(0.04550294), np.float32(0.020925403), np.float32(0.093458004), np.float32(-0.13275395), np.float32(-0.00995554), np.float32(-0.10887826), np.float32(0.0112522645), np.float32(0.03704016), np.float32(-0.12810603), np.float32(-0.033288594), np.float32(-0.015243528), np.float32(-0.012645235), np.float32(0.022957303), np.float32(-0.08060593), np.float32(0.12161824), np.float32(-0.05310953), np.float32(0.014788829), np.float32(-0.06372118), np.float32(-0.09669532), np.float32(-0.05460548), np.float32(0.059853483), np.float32(0.091612585), np.float32(0.041122247), np.float32(-0.10853798), np.float32(0.024744524), np.float32(-0.18274179), np.float32(-0.004564846), np.float32(-0.09733014), np.float32(-0.05690137), np.float32(-0.009942016), np.float32(0.09765472), np.float32(0.032495115), np.float32(0.045229323), np.float32(0.02809877), np.float32(0.0498674), np.float32(-0.019378249), np.float32(0.09027935), np.float32(0.011086842), np.float32(-0.09919366), np.float32(-0.13768378), np.float32(0.055153064), np.float32(0.047392536), np.float32(0.05013995), np.float32(0.0069321897), np.float32(0.08272573), np.float32(0.016171962), np.float32(0.018264819), np.float32(0.0713083), np.float32(-0.013234651), np.float32(-0.03816622), np.float32(0.0026764148), np.float32(-0.007533781), np.float32(-0.037026707), np.float32(0.108298816), np.float32(-0.03882015), np.float32(0.1365508), np.float32(-0.0053285267), np.float32(-0.00062651496), np.float32(0.0768116), np.float32(0.059016287), np.float32(0.04433629), np.float32(0.00322236), np.float32(-0.08838228), np.float32(0.1601391), np.float32(-0.039453838), np.float32(0.13767692), np.float32(-0.003018162), np.float32(0.103930816), np.float32(0.105881654), np.float32(0.020429803), np.float32(-0.06952302), np.float32(-0.102293335), np.float32(-0.07074826), np.float32(0.08797583), np.float32(0.028565634), np.float32(0.02856382), np.float32(-0.034008898), np.float32(0.028035792), np.float32(0.013982673), np.float32(0.124429904), np.float32(-0.11040375), np.float32(0.00018468528), np.float32(-0.016026981), np.float32(0.026893707), np.float32(-0.09809243), np.float32(0.014466737), np.float32(-0.0061802636), np.float32(0.042440563), np.float32(0.021960922), np.float32(0.1594454), np.float32(-0.05002071), np.float32(-0.0018562984), np.float32(0.062154535), np.float32(0.13944103), np.float32(0.05429806), np.float32(0.0057178307), np.float32(0.094922036), np.float32(0.09233353), np.float32(0.002069441), np.float32(0.07377397), np.float32(-0.011316214), np.float32(0.02046885), np.float32(0.051511183), np.float32(0.073429935), np.float32(0.042992994), np.float32(0.0875975), np.float32(0.0056531685), np.float32(-0.026277604), np.float32(0.010781402), np.float32(0.025645277), np.float32(0.06045069), np.float32(0.06060502), np.float32(0.03793403), np.float32(-0.0739881), np.float32(-0.03901367), np.float32(-0.11534677), np.float32(0.034090295), np.float32(0.046710946), np.float32(-0.04449414), np.float32(-0.0005177889), np.float32(0.11974515), np.float32(0.09205108), np.float32(-0.026465096), np.float32(-0.059326947), np.float32(0.016514463), np.float32(-0.1489296), np.float32(-0.018588161), np.float32(0.047245536), np.float32(-0.052953027), np.float32(-0.03487275), np.float32(0.0776473), np.float32(0.11598496), np.float32(0.022190616), np.float32(-0.05850254), np.float32(0.08035351), np.float32(-0.0222604), np.float32(0.018479079), np.float32(0.01865459), np.float32(-0.16529512), np.float32(0.003980903), np.float32(-0.021721411), np.float32(0.0017060722), np.float32(0.09746952), np.float32(-0.03601493), np.float32(0.041719794), np.float32(-0.032403402), np.float32(-0.039176684), np.float32(-0.10439803), np.float32(-0.013079841), np.float32(-0.057996344), np.float32(0.035250228), np.float32(0.085175835), np.float32(0.10204004), np.float32(-0.10688648), np.float32(0.0013687058), np.float32(-0.085459284), np.float32(-0.0059518265), np.float32(-0.039309595), np.float32(-0.12029409), np.float32(-0.016728522), np.float32(0.03023649), np.float32(0.079829946), np.float32(0.03861298), np.float32(-0.10746094), np.float32(0.02863804), np.float32(-0.11665192), np.float32(-0.0054355855), np.float32(-0.098191656), np.float32(-0.11971173), np.float32(0.03948264), np.float32(-0.053694814), np.float32(0.05238783), np.float32(0.031448502), np.float32(-0.02712749), np.float32(0.0654089), np.float32(-0.06259786), np.float32(-0.037767116), np.float32(-0.018957458), np.float32(-0.12114519), np.float32(-0.063977085), np.float32(0.0666248), np.float32(0.0082914075), np.float32(0.04200433), np.float32(-0.124259196), np.float32(0.017142328), np.float32(-0.049452934), np.float32(-0.0032894039), np.float32(-0.07239402), np.float32(-0.12235893), np.float32(0.054309875), np.float32(0.005788731), np.float32(0.068813205), np.float32(0.08103938), np.float32(-0.10663454), np.float32(0.03657905), np.float32(-0.10063474), np.float32(0.00378654), np.float32(-0.016199235), np.float32(-0.0041587264), np.float32(0.008021742), np.float32(1.1303395e-06), np.float32(7.553382e-08), np.float32(0.00019776014), np.float32(-6.9937037e-06), np.float32(-0.0005049776), np.float32(8.0770944e-05), np.float32(-4.610225e-06), np.float32(-0.0006958049), np.float32(0.0009700216), np.float32(-6.507688e-05), np.float32(-0.00038281432), np.float32(7.801832e-05), np.float32(0.0012646577), np.float32(8.172352e-06), np.float32(-0.0013732408), np.float32(-0.0010414816), np.float32(-0.00015708114), np.float32(-2.24885e-05), np.float32(0.00010527643), np.float32(5.6911545e-06), np.float32(0.054306556), np.float32(3.293089e-05), np.float32(-0.0024089946), np.float32(0.057714656), np.float32(-0.017265499), np.float32(-0.020946208), np.float32(0.0011945601), np.float32(-0.03118753), np.float32(0.059884448), np.float32(0.045900326), np.float32(0.026862074), np.float32(0.048836768), np.float32(0.006040847), np.float32(-0.0428705), np.float32(0.09184663), np.float32(-0.033545826), np.float32(-0.054153234), np.float32(0.0052212835), np.float32(0.046298746), np.float32(-0.0030739226), np.float32(-0.05860289), np.float32(0.0055141696), np.float32(-0.049889106), np.float32(0.03426425), np.float32(0.05182891), np.float32(-0.06846557), np.float32(-0.020223869), np.float32(-0.07885748), np.float32(0.019427644), np.float32(-0.012979603), np.float32(-0.004117222), np.float32(0.04044561), np.float32(0.05561461), np.float32(-0.018067459), np.float32(0.119652875), np.float32(0.015250418), np.float32(0.11141804), np.float32(-0.02148922), np.float32(-0.073621765), np.float32(-0.07178313), np.float32(0.1103349), np.float32(-0.0021448499), np.float32(0.11756445), np.float32(-0.053522628), np.float32(0.038671724), np.float32(-0.038432788), np.float32(-0.004949937), np.float32(0.025978591), np.float32(-0.1098375), np.float32(-0.072546974), np.float32(2.2300894e-05), np.float32(-0.02716649), np.float32(0.05436296), np.float32(-0.08725921), np.float32(-0.052703388), np.float32(-0.0749778), np.float32(0.06344547), np.float32(-0.023865668), np.float32(-0.16973817), np.float32(-0.10517512), np.float32(0.11336373), np.float32(0.10091389), np.float32(-0.02717165), np.float32(0.019111836), np.float32(0.04857443), np.float32(-0.15072377), np.float32(0.010330578), np.float32(-0.06407652), np.float32(-0.06631293), np.float32(-0.10897923), np.float32(-0.009601283), np.float32(0.014774261), np.float32(0.05107028), np.float32(-0.115490384), np.float32(0.107954435), np.float32(-0.07791198), np.float32(-0.0405773), np.float32(0.052249663), np.float32(-0.018611059), np.float32(0.026302326), np.float32(0.03837765), np.float32(-0.003357518), np.float32(0.042213816), np.float32(-0.051636286), np.float32(0.05600913), np.float32(-0.09887386), np.float32(-0.032960713), np.float32(-0.082950115), np.float32(-0.06450514), np.float32(0.04270801), np.float32(0.02909076), np.float32(0.13321877), np.float32(0.047359847), np.float32(-0.015270043), np.float32(-0.022289189), np.float32(-0.06668337), np.float32(0.0040902873), np.float32(0.05057038), np.float32(0.093682975), np.float32(-0.11320245), np.float32(0.09222507), np.float32(0.08153307), np.float32(-0.03757373), np.float32(0.022718687), np.float32(0.10271412), np.float32(-0.00048730866), np.float32(-0.04492057), np.float32(0.07891761), np.float32(0.10054772), np.float32(0.054337956), np.float32(-0.026079798), np.float32(-0.04848682), np.float32(0.11001715), np.float32(0.1220904), np.float32(0.036565788), np.float32(0.058405824), np.float32(-0.07939673), np.float32(0.13121514), np.float32(0.081708945), np.float32(0.1561745), np.float32(-0.018885722), np.float32(-0.0095006535), np.float32(-0.018497784), np.float32(0.11238706), np.float32(0.030039093), np.float32(0.03231767), np.float32(0.05563312), np.float32(0.13176097), np.float32(0.011229598), np.float32(0.14571986), np.float32(0.024768787), np.float32(0.03188778), np.float32(-0.00089422305), np.float32(0.10837203), np.float32(-0.010201585), np.float32(0.062423736), np.float32(-0.05584544), np.float32(0.04889335), np.float32(0.16357972), np.float32(0.027697422), np.float32(0.049623776), np.float32(-0.09044753), np.float32(0.021078302), np.float32(0.15702742), np.float32(-0.08657543), np.float32(0.11185816), np.float32(-0.06453172), np.float32(0.114738435), np.float32(0.15223712), np.float32(0.04484025), np.float32(-0.047976866), np.float32(-0.022020238), np.float32(0.006016811), np.float32(0.08792585), np.float32(0.048190214), np.float32(0.08048847), np.float32(0.000676439), np.float32(-0.013181882), np.float32(0.021185564), np.float32(0.15602452), np.float32(0.010249004), np.float32(0.081120215), np.float32(-0.037513044), np.float32(0.034020837), np.float32(0.019583732), np.float32(0.13352162), np.float32(-0.042328373), np.float32(0.040783167), np.float32(0.017248057), np.float32(-0.01162698), np.float32(-0.036789615), np.float32(0.11606407), np.float32(0.0689105), np.float32(-0.037587643), np.float32(0.072240494), np.float32(-0.025998555), np.float32(0.06939664), np.float32(0.016987903), np.float32(0.027803065), np.float32(0.07010022), np.float32(-0.02463818), np.float32(-0.028343175), np.float32(-0.012588843), np.float32(0.056046717), np.float32(-0.025431577), np.float32(0.00044281755), np.float32(0.016274765), np.float32(0.02056163), np.float32(-0.09037554), np.float32(-0.041023657), np.float32(0.100019544), np.float32(0.0145119205), np.float32(-0.013229239), np.float32(-0.091273196), np.float32(-0.052550405), np.float32(-0.005246661), np.float32(0.09966338), np.float32(-0.08588032), np.float32(-0.040974207), np.float32(-0.057771225), np.float32(-0.050385855), np.float32(0.08896615), np.float32(0.08879005), np.float32(0.0494977), np.float32(-0.022116985), np.float32(0.048493046), np.float32(0.015580723), np.float32(0.025718588), np.float32(0.10409415), np.float32(-0.06599434), np.float32(-0.032612063), np.float32(0.041522842), np.float32(-0.0015141153), np.float32(0.0020226873), np.float32(0.10841334), np.float32(0.019124303), np.float32(0.08029286), np.float32(0.048218407), np.float32(-0.056506645), np.float32(-0.06794129), np.float32(-0.026909389), np.float32(0.10273289), np.float32(0.022861052), np.float32(0.07827159), np.float32(-0.011844149), np.float32(-0.0035181139), np.float32(0.076440334), np.float32(0.035244375), np.float32(0.0014209739), np.float32(0.030900406), np.float32(0.094861776), np.float32(0.02109594), np.float32(-0.042160194), np.float32(-0.040510572), np.float32(0.054856177), np.float32(-0.072128706), np.float32(0.0014907876), np.float32(0.027767973), np.float32(-0.02512419), np.float32(-0.07654809), np.float32(-0.0053712693), np.float32(-0.0049374094), np.float32(0.062141784), np.float32(0.07187337), np.float32(-0.03981496), np.float32(-0.003035337), np.float32(-0.069787286), np.float32(0.0030806612), np.float32(-0.0188962), np.float32(-0.06180185), np.float32(-0.09786601), np.float32(-0.09359751), np.float32(-0.06426766), np.float32(0.013990124), np.float32(-0.053223986), np.float32(-0.02933254), np.float32(-0.08190951), np.float32(0.091307834), np.float32(0.041530978), np.float32(0.098131135), np.float32(1.5644775e-06), np.float32(0.0010766666), np.float32(-1.835564e-05), np.float32(-0.0023783885), np.float32(-0.0007902652), np.float32(0.00050664094), np.float32(0.0014142446), np.float32(0.023004344), np.float32(0.0009841558), np.float32(0.0013753765), np.float32(4.7835623e-05), np.float32(-1.3428912e-06), np.float32(-1.0338385e-05), np.float32(0.01995622), np.float32(-0.011431439), np.float32(0.049514957), np.float32(-2.0664307e-05), np.float32(0.009896301), np.float32(-0.021751747), np.float32(0.009673916), np.float32(0.00037491092), np.float32(0.00038838902), np.float32(0.00029619999), np.float32(8.704691e-05), np.float32(-0.00026824477), np.float32(0.00041433904), np.float32(-0.00037347386), np.float32(0.00075314596), np.float32(-4.0145784e-09), np.float32(0.0002077069), np.float32(0.052243847), np.float32(0.090080105), np.float32(-0.008769605), np.float32(-0.041098572), np.float32(-0.03612462), np.float32(-0.014047961), np.float32(-0.02429616), np.float32(-0.01844659), np.float32(0.04644401), np.float32(-0.09462374), np.float32(0.039817624), np.float32(0.033851154), np.float32(0.08111065), np.float32(-0.037947923), np.float32(-0.020240612), np.float32(-0.022556474), np.float32(0.08425029), np.float32(0.04797698), np.float32(0.00049401814), np.float32(-0.067839615), np.float32(0.04853524), np.float32(0.027970308), np.float32(-0.008698475), np.float32(-0.022547929), np.float32(0.008912417), np.float32(-0.007553723), np.float32(0.026962072), np.float32(-0.10302479), np.float32(-0.011856962), np.float32(0.04437738), np.float32(0.06414449), np.float32(-0.016366255), np.float32(0.08099704), np.float32(-0.12553231), np.float32(0.059213415), np.float32(-0.0035392921), np.float32(0.08219017), np.float32(-0.11083785), np.float32(-0.043129858), np.float32(-0.039576765), np.float32(0.047698148), np.float32(0.09974869), np.float32(-0.03153013), np.float32(-0.015653532), np.float32(0.08362325), np.float32(-0.010706598), np.float32(0.046123028), np.float32(-0.0288293), np.float32(-0.032358304), np.float32(-0.02798589), np.float32(-0.027841732), np.float32(0.07656827), np.float32(0.058338836), np.float32(-0.070239544), np.float32(-0.037908725), np.float32(-0.012673977), np.float32(-0.008735293), np.float32(-0.05933288), np.float32(0.107551105), np.float32(0.036614485), np.float32(0.104861565), np.float32(0.036800276), np.float32(-0.03795279), np.float32(-0.028220624), np.float32(-0.041348062), np.float32(-0.008626397), np.float32(0.09847278), np.float32(-0.010805186), np.float32(-0.030093081), np.float32(0.07282093), np.float32(0.038334), np.float32(-0.0045082704), np.float32(0.08396971), np.float32(0.09944604), np.float32(-6.800264e-05), np.float32(0.12769085), np.float32(0.08501518), np.float32(0.037471175), np.float32(0.07415388), np.float32(-0.026550334), np.float32(0.030356001), np.float32(0.08934807), np.float32(0.0202085), np.float32(-0.023202013), np.float32(0.042533554), np.float32(0.04911736), np.float32(0.10711369), np.float32(0.030252943), np.float32(0.027729671), np.float32(0.0061853565), np.float32(0.0044422247), np.float32(0.017738422), np.float32(-0.017329833), np.float32(0.071984656), np.float32(0.015743174), np.float32(-0.013196362), np.float32(0.042276055), np.float32(0.10829717), np.float32(0.04171929), np.float32(0.07223532), np.float32(-0.068219595), np.float32(0.023193363), np.float32(0.09150092), np.float32(0.07306097), np.float32(-0.0002982468), np.float32(0.11766805), np.float32(-0.017394835), np.float32(0.095579654), np.float32(0.0843346), np.float32(0.022549324), np.float32(0.061187223), np.float32(-0.054712076), np.float32(0.0059321667), np.float32(0.08676438), np.float32(-0.059643302), np.float32(-0.0028109325), np.float32(-0.022921303), np.float32(0.052386753), np.float32(0.15613751), np.float32(0.112690374), np.float32(0.039783582), np.float32(-0.062111508), np.float32(0.08640017), np.float32(0.043196302), np.float32(0.05879498), np.float32(0.095748015), np.float32(0.028019035), np.float32(0.10994544), np.float32(0.06086709), np.float32(0.012332194), np.float32(0.015018571), np.float32(0.011787905), np.float32(0.065479346), np.float32(0.041683737), np.float32(0.021956436), np.float32(0.055249125), np.float32(0.09749765), np.float32(0.12268793), np.float32(0.17202008), np.float32(0.059521142), np.float32(0.080916986), np.float32(0.056451123), np.float32(0.08415174), np.float32(0.006530111), np.float32(-0.013158805), np.float32(0.08817374), np.float32(0.018145936), np.float32(-0.01959634), np.float32(0.15266736), np.float32(0.047175776), np.float32(0.0025345846), np.float32(-0.0052725873), np.float32(0.073303215), np.float32(0.027598236), np.float32(0.09288697), np.float32(0.027498823), np.float32(0.09570189), np.float32(0.088775836), np.float32(0.06836407), np.float32(0.12777437), np.float32(-0.004795471), np.float32(-0.02048319), np.float32(0.07943214), np.float32(-0.0023911602), np.float32(-0.04949735), np.float32(0.07329819), np.float32(0.06096547), np.float32(-0.062995754), np.float32(0.10793081), np.float32(0.09239668), np.float32(0.089397736), np.float32(0.07129181), np.float32(0.08228664), np.float32(0.038603738), np.float32(-0.03489721), np.float32(0.119128756), np.float32(-0.0060134702), np.float32(0.059604317), np.float32(0.029324688), np.float32(0.009082515), np.float32(0.031375848), np.float32(0.054503154), np.float32(0.07790192), np.float32(0.023553886), np.float32(-0.0632894), np.float32(0.10543478), np.float32(-0.001453346), np.float32(-0.020713812), np.float32(0.037421357), np.float32(0.075703435), np.float32(-0.06786143), np.float32(0.02207407), np.float32(-0.00081169914), np.float32(0.09309069), np.float32(0.016217051), np.float32(0.066675365), np.float32(0.0658983), np.float32(-0.05156582), np.float32(0.087102465), np.float32(-0.042856153), np.float32(-0.07192944), np.float32(0.07653724), np.float32(0.07180459), np.float32(-0.009295552), np.float32(0.07070194), np.float32(0.10821431), np.float32(-0.0130432015), np.float32(-0.03135437), np.float32(0.14985946), np.float32(0.0034801243), np.float32(0.023517974), np.float32(0.029922783), np.float32(0.03449663), np.float32(-0.029422123), np.float32(-0.044282526), np.float32(0.012791061), np.float32(0.08768797), np.float32(0.07338978), np.float32(0.04080854), np.float32(0.00075188495), np.float32(-0.03365377), np.float32(-0.048078466), np.float32(-0.009760314), np.float32(0.09327019), np.float32(-0.0050250455), np.float32(0.08317531), np.float32(-0.02420465), np.float32(0.05017987), np.float32(0.12464614), np.float32(0.044546884), np.float32(-0.11517771), np.float32(-0.047710314), np.float32(-0.0105155455), np.float32(0.08167587), np.float32(-0.03650649), np.float32(0.074125595), np.float32(0.0498492), np.float32(-0.0020264948), np.float32(0.110567175), np.float32(0.0023505706), np.float32(-0.026987707), np.float32(-0.0018795846), np.float32(0.0007483195), np.float32(0.10313636), np.float32(-0.12820543), np.float32(0.123904586), np.float32(-0.0418207), np.float32(0.06676852), np.float32(0.07754572), np.float32(0.118088976), np.float32(0.00079329446), np.float32(0.0006527541), np.float32(0.0014152861), np.float32(0.022288762), np.float32(-0.0027944164), np.float32(0.009885435), np.float32(-1.6447707e-06), np.float32(-0.028756082), np.float32(-0.008882258), np.float32(0.007732178), np.float32(-0.00019069007), np.float32(-5.9530657e-06), np.float32(9.617161e-06), np.float32(-0.02333552), np.float32(-0.021029936), np.float32(0.03042659), np.float32(-2.3975085e-07), np.float32(-0.05877601), np.float32(0.014544726), np.float32(0.005764854), np.float32(0.0007203693), np.float32(-9.987861e-08), np.float32(0.00038161752), np.float32(-0.00019057759), np.float32(-6.705173e-05), np.float32(0.0011516328), np.float32(-0.00056096626), np.float32(1.0657099e-05), np.float32(-0.0012073322), np.float32(2.0334995e-05), np.float32(-0.000975968), np.float32(0.00079381524), np.float32(3.590738e-05), np.float32(-3.5321485e-05), np.float32(-7.885793e-06), np.float32(0.0014032201), np.float32(-0.0007678801), np.float32(-2.1982993e-05), np.float32(-0.00021047107), np.float32(-4.8736994e-05), np.float32(0.014274112), np.float32(-0.014861979), np.float32(0.044731185), np.float32(-0.016202996), np.float32(0.07483966), np.float32(0.060473505), np.float32(0.04351659), np.float32(0.051100787), np.float32(0.029224586), np.float32(-0.06679637), np.float32(-0.018537542), np.float32(-0.09634134), np.float32(0.014895263), np.float32(-0.044448618), np.float32(-0.030803848), np.float32(0.06171731), np.float32(-0.0696544), np.float32(0.09438614), np.float32(0.02383026), np.float32(0.031660806), np.float32(-0.002095799), np.float32(-0.066323884), np.float32(0.060484402), np.float32(0.058457144), np.float32(-0.07934046), np.float32(0.073697165), np.float32(-0.05426346), np.float32(-0.018437596), np.float32(0.110137716), np.float32(0.04078329), np.float32(-0.013200605), np.float32(0.020701483), np.float32(0.020941444), np.float32(0.033161208), np.float32(-0.009693817), np.float32(0.052717324), np.float32(-0.045552406), np.float32(-0.0069706985), np.float32(0.060122874), np.float32(0.031744592), np.float32(-0.071027234), np.float32(0.014920613), np.float32(0.060508043), np.float32(0.11962044), np.float32(0.081925206), np.float32(0.060855404), np.float32(0.0687626), np.float32(-0.06667555), np.float32(0.12155764), np.float32(0.054580398), np.float32(0.061483458), np.float32(-0.063525274), np.float32(-0.030157683), np.float32(0.10026091), np.float32(-0.02087015), np.float32(0.0522861), np.float32(0.062626526), np.float32(0.07914597), np.float32(0.025694182), np.float32(-0.017696), np.float32(0.024218848), np.float32(0.060849406), np.float32(0.06296087), np.float32(0.12228403), np.float32(0.0054635946), np.float32(0.056630243), np.float32(0.025096226), np.float32(0.1021539), np.float32(0.018055523), np.float32(0.07498168), np.float32(-0.041448735), np.float32(0.028047087), np.float32(0.056079242), np.float32(0.013027565), np.float32(-0.025406867), np.float32(0.14022967), np.float32(0.088778265), np.float32(0.008009166), np.float32(0.03985343), np.float32(-0.040852875), np.float32(0.049829505), np.float32(0.056748632), np.float32(-0.019996986), np.float32(-0.0025232744), np.float32(0.10781618), np.float32(0.016459497), np.float32(0.043812048), np.float32(0.05540096), np.float32(-0.0029785691), np.float32(0.072787896), np.float32(0.07380917), np.float32(-0.012931888), np.float32(0.00039145164), np.float32(0.032294825), np.float32(-0.04923799), np.float32(0.12522396), np.float32(0.043840516), np.float32(0.07200035), np.float32(0.11763302), np.float32(0.011310761), np.float32(-0.046625983), np.float32(0.090220496), np.float32(-0.018174918), np.float32(0.050338175), np.float32(-0.049633753), np.float32(0.08646176), np.float32(0.091764554), np.float32(0.111096404), np.float32(0.10368636), np.float32(-0.024447327), np.float32(-0.042301755), np.float32(0.066275865), np.float32(-0.022225602), np.float32(0.012741197), np.float32(0.074489675), np.float32(0.10788026), np.float32(-0.029206622), np.float32(0.13414413), np.float32(0.027101908), np.float32(0.062888466), np.float32(0.06786389), np.float32(0.06883908), np.float32(-0.02491793), np.float32(0.15884891), np.float32(0.055304207), np.float32(0.10597257), np.float32(-0.020649737), np.float32(0.05647736), np.float32(0.12787476), np.float32(0.09212887), np.float32(-0.081001185), np.float32(0.042138018), np.float32(0.0155507205), np.float32(0.032730058), np.float32(0.00023291836), np.float32(0.07248353), np.float32(0.033513255), np.float32(0.07711054), np.float32(0.038143795), np.float32(0.13989623), np.float32(0.004957463), np.float32(0.046286713), np.float32(-0.020182882), np.float32(0.10727108), np.float32(0.08907484), np.float32(0.073084824), np.float32(-0.060900122), np.float32(0.011159033), np.float32(0.09459528), np.float32(0.13039249), np.float32(0.08787434), np.float32(0.04778661), np.float32(0.05579585), np.float32(-0.018085122), np.float32(-0.0072055063), np.float32(0.0474577), np.float32(0.077295184), np.float32(-0.0027981766), np.float32(0.10484076), np.float32(0.08563671), np.float32(-0.024955414), np.float32(-0.03402126), np.float32(-0.076887235), np.float32(0.014306267), np.float32(0.079257004), np.float32(0.08644046), np.float32(-0.06090305), np.float32(0.077291645), np.float32(0.14157349), np.float32(0.013807478), np.float32(-0.0017049416), np.float32(0.06177333), np.float32(0.059032753), np.float32(0.022448376), np.float32(-0.057312112), np.float32(0.13716441), np.float32(0.012835431), np.float32(0.06514223), np.float32(0.1844296), np.float32(0.09462852), np.float32(-0.07648997), np.float32(-0.012657112), np.float32(0.042602535), np.float32(0.08210069), np.float32(-0.082226686), np.float32(0.20844801), np.float32(-0.05212939), np.float32(-0.015414639), np.float32(0.10042344), np.float32(0.012985869), np.float32(-0.054705024), np.float32(-0.09952302), np.float32(-0.07165423), np.float32(0.07552477), np.float32(-0.0040497286), np.float32(0.032123897), np.float32(0.037596777), np.float32(-0.01801904), np.float32(0.15736924), np.float32(0.085545875), np.float32(-0.08018928), np.float32(0.055072892), np.float32(-0.048972417), np.float32(0.029665789), np.float32(0.045310237), np.float32(0.14052762), np.float32(-0.024898553), np.float32(0.09449658), np.float32(0.009292483), np.float32(0.015446171), np.float32(-0.026888449), np.float32(-0.09709084), np.float32(-0.09022969), np.float32(0.075561136), np.float32(-0.0874696), np.float32(0.11421002), np.float32(-0.010086339), np.float32(0.1192176), np.float32(0.077444084), np.float32(0.10332095), np.float32(-0.097171806), np.float32(-0.025705311), np.float32(-0.0900047), np.float32(-0.03896635), np.float32(-0.07307067), np.float32(0.034161165), np.float32(-0.1106539), np.float32(0.08682429), np.float32(0.015460604), np.float32(-0.02740389), np.float32(-0.020686336), np.float32(-0.12349444), np.float32(-0.022133894), np.float32(0.10791977), np.float32(-0.09756352), np.float32(0.050270442), np.float32(0.021295454), np.float32(0.01714256), np.float32(-0.03171226), np.float32(0.12621409), np.float32(0.022071809), np.float32(-0.0025836877), np.float32(-0.00014735406), np.float32(0.04062487), np.float32(0.022742553), np.float32(0.002102787), np.float32(0.023798682), np.float32(-0.032606114), np.float32(0.004921374), np.float32(-0.017968144), np.float32(-1.4332179e-05), np.float32(0.0024624234), np.float32(0.015507965), np.float32(0.0016162457), np.float32(0.03690536), np.float32(-0.0042333743), np.float32(0.024141164), np.float32(0.01635899), np.float32(0.0031526138), np.float32(0.0011426106), np.float32(0.0006710925), np.float32(4.8703305e-07), np.float32(0.0001469381), np.float32(-1.9075871e-05), np.float32(-1.9386268e-07), np.float32(4.9396072e-05), np.float32(0.0001669327), np.float32(0.00021019022), np.float32(0.0004206286), np.float32(-0.0004800414), np.float32(4.3227206e-05), np.float32(0.00028865112), np.float32(-1.3718641e-06), np.float32(-2.6455838e-05), np.float32(-0.00029390314), np.float32(-3.5646444e-05), np.float32(0.0013880291), np.float32(-0.00065269246), np.float32(4.674504e-06), np.float32(9.2897335e-06), np.float32(-0.019217685), np.float32(-0.031493943), np.float32(0.00026470923), np.float32(0.07850858), np.float32(-0.0011657529), np.float32(-0.0070872647), np.float32(0.00083325995), np.float32(0.026426755), np.float32(-0.042056322), np.float32(0.062483016), np.float32(0.033410523), np.float32(0.058848657), np.float32(0.04946267), np.float32(0.024171975), np.float32(-0.03128777), np.float32(0.049043775), np.float32(-0.0021022789), np.float32(0.11307736), np.float32(-0.0093920035), np.float32(0.009474838), np.float32(-0.009212458), np.float32(0.019556444), np.float32(0.022620859), np.float32(0.13817959), np.float32(-0.11775489), np.float32(0.043953553), np.float32(-0.07109212), np.float32(-0.006154803), np.float32(0.09796389), np.float32(0.0789201), np.float32(-0.12556314), np.float32(-0.09261622), np.float32(-0.10104718), np.float32(0.022743192), np.float32(0.0049338746), np.float32(0.067013204), np.float32(0.005872888), np.float32(0.02778247), np.float32(0.116818376), np.float32(0.124561496), np.float32(0.026587673), np.float32(0.005270036), np.float32(-0.009193165), np.float32(0.15210886), np.float32(-0.0022914496), np.float32(0.08197866), np.float32(0.054450527), np.float32(0.12952568), np.float32(0.14198533), np.float32(-0.007888315), np.float32(0.040633947), np.float32(-0.09353801), np.float32(0.028939554), np.float32(0.13860509), np.float32(-0.03853171), np.float32(0.09710057), np.float32(-0.06118097), np.float32(0.10148658), np.float32(0.11928459), np.float32(0.057158805), np.float32(-0.05065458), np.float32(-0.050390523), np.float32(0.02818333), np.float32(0.01637806), np.float32(0.06565447), np.float32(0.04356167), np.float32(0.028146345), np.float32(0.06874183), np.float32(0.12496785), np.float32(0.08432922), np.float32(8.3223196e-05), np.float32(0.048978373), np.float32(0.02423336), np.float32(0.13215184), np.float32(-0.006019528), np.float32(0.10623957), np.float32(0.055393606), np.float32(-0.0054678917), np.float32(0.112798095), np.float32(-0.020690916), np.float32(0.05108527), np.float32(0.029745966), np.float32(0.103090204), np.float32(-0.0043790243), np.float32(-0.04555212), np.float32(0.060417913), np.float32(0.06537283), np.float32(0.10554866), np.float32(-0.02858832), np.float32(0.103976235), np.float32(0.026459144), np.float32(0.07514998), np.float32(0.09760084), np.float32(0.11475169), np.float32(0.07296059), np.float32(0.070213825), np.float32(0.08678448), np.float32(0.10349253), np.float32(0.039461017), np.float32(0.06570092), np.float32(0.044644088), np.float32(0.15084532), np.float32(0.072580166), np.float32(0.05012112), np.float32(0.11866754), np.float32(-0.009383194), np.float32(0.1062607), np.float32(-0.028794676), np.float32(0.10842834), np.float32(0.10503911), np.float32(0.047999922), np.float32(0.11424039), np.float32(0.029565757), np.float32(0.07126564), np.float32(0.062224776), np.float32(0.05274455), np.float32(0.03973563), np.float32(-0.0021464105), np.float32(-0.0053516966), np.float32(0.03698715), np.float32(0.019579012), np.float32(-0.0070400666), np.float32(0.11308134), np.float32(-0.00805161), np.float32(-0.008099995), np.float32(0.0031962066), np.float32(0.07228497), np.float32(0.06001798), np.float32(0.12006336), np.float32(-0.012930315), np.float32(0.04855267), np.float32(-0.011613562), np.float32(-0.028592438), np.float32(0.11758626), np.float32(0.0626903), np.float32(0.08524231), np.float32(-0.044099726), np.float32(0.002939062), np.float32(0.08579129), np.float32(0.09553114), np.float32(0.076648824), np.float32(0.10418264), np.float32(-0.029631194), np.float32(0.07383709), np.float32(0.005619554), np.float32(0.11844617), np.float32(0.012908816), np.float32(-0.05575922), np.float32(0.14156745), np.float32(0.13240018), np.float32(0.06958643), np.float32(-0.070547484), np.float32(0.0083116535), np.float32(0.066614896), np.float32(0.04190425), np.float32(0.14164546), np.float32(0.060844544), np.float32(-0.0030859567), np.float32(0.12406724), np.float32(0.0507058), np.float32(-0.042128455), np.float32(0.055117436), np.float32(0.06867747), np.float32(0.11153881), np.float32(-0.020338397), np.float32(0.1670885), np.float32(-0.019778078), np.float32(-0.059141833), np.float32(0.18020384), np.float32(0.043548536), np.float32(-0.018472625), np.float32(0.013006787), np.float32(0.056048267), np.float32(0.032264967), np.float32(-0.027476141), np.float32(0.10947388), np.float32(0.07173708), np.float32(0.059988383), np.float32(0.07611243), np.float32(-0.03980581), np.float32(-0.09001346), np.float32(-0.098319195), np.float32(-0.029168025), np.float32(0.13523921), np.float32(-0.02297023), np.float32(0.16106154), np.float32(-0.11370351), np.float32(-0.03175378), np.float32(0.07769141), np.float32(0.071965665), np.float32(0.022867883), np.float32(-0.06942066), np.float32(-0.08682494), np.float32(0.14188087), np.float32(0.027448788), np.float32(0.06422894), np.float32(-0.035598442), np.float32(0.03476874), np.float32(0.19067413), np.float32(0.060677383), np.float32(0.0021439763), np.float32(-0.102652244), np.float32(-0.064570725), np.float32(0.012379594), np.float32(-0.011265139), np.float32(0.0415716), np.float32(-0.07786631), np.float32(0.07832567), np.float32(-0.018513575), np.float32(-0.009524282), np.float32(-0.079578765), np.float32(-0.060794458), np.float32(-0.07735942), np.float32(-0.035232875), np.float32(-0.09070146), np.float32(0.03454163), np.float32(0.05017406), np.float32(0.104798146), np.float32(0.06880019), np.float32(0.04319948), np.float32(-0.110920586), np.float32(0.043067813), np.float32(-0.048533283), np.float32(-0.013353818), np.float32(-0.021607969), np.float32(0.00083828106), np.float32(0.0039503234), np.float32(0.010908798), np.float32(0.07998671), np.float32(0.112962246), np.float32(0.03590189), np.float32(-0.06741953), np.float32(-0.10702661), np.float32(0.03794745), np.float32(-0.00689762), np.float32(0.010757784), np.float32(0.0051106657), np.float32(-0.019696757), np.float32(0.053817876), np.float32(0.0007802697), np.float32(-0.030125977), np.float32(-0.060272858), np.float32(-0.029653395), np.float32(0.07581019), np.float32(0.0056729782), np.float32(0.043620512), np.float32(-0.017635837), np.float32(0.088968754), np.float32(-0.006716476), np.float32(0.0058321846), np.float32(-0.008321902), np.float32(0.012199699), np.float32(-0.04498168), np.float32(-0.004057704), np.float32(0.05069827), np.float32(0.008304841), np.float32(-0.074857675), np.float32(-0.006243083), np.float32(0.008267084), np.float32(0.0005092695), np.float32(1.2025494e-07), np.float32(2.4525501e-05), np.float32(4.416732e-05), np.float32(2.1796566e-06), np.float32(-0.00019119502), np.float32(-2.1946502e-05), np.float32(-0.0009797473), np.float32(-3.802044e-07), np.float32(2.7149132e-05), np.float32(-0.0014475272), np.float32(-0.0008754085), np.float32(0.00036778435), np.float32(-6.929291e-05), np.float32(0.0009691524), np.float32(4.321705e-06), np.float32(-4.0591752e-07), np.float32(-0.00020212714), np.float32(-0.0003190186), np.float32(0.00010628171), np.float32(5.934183e-06), np.float32(-0.00026112914), np.float32(-5.159282e-06), np.float32(-1.1353765e-05), np.float32(0.0004535832), np.float32(8.530349e-05), np.float32(0.0014180662), np.float32(-0.001176808), np.float32(0.0004931785), np.float32(-6.2476145e-05), np.float32(0.0008875774), np.float32(0.047893934), np.float32(-0.00060183357), np.float32(-0.007485347), np.float32(-0.027585838), np.float32(0.008029892), np.float32(-0.025160927), np.float32(0.06557769), np.float32(0.045534287), np.float32(-0.030089552), np.float32(0.010979054), np.float32(0.0013621588), np.float32(-0.07980535), np.float32(-0.0150973145), np.float32(0.0022467999), np.float32(-0.022859277), np.float32(0.0036682845), np.float32(-0.11510154), np.float32(-0.024814947), np.float32(0.120691076), np.float32(0.042177156), np.float32(-0.120770045), np.float32(-0.11353106), np.float32(-0.02317396), np.float32(0.09223847), np.float32(-0.0754429), np.float32(0.05959206), np.float32(-0.012545469), np.float32(0.03647219), np.float32(0.10153283), np.float32(0.120484054), np.float32(-0.055320553), np.float32(-0.056568548), np.float32(0.04034885), np.float32(0.12885624), np.float32(-0.060896173), np.float32(0.12516886), np.float32(-0.038017754), np.float32(-0.0021174776), np.float32(0.12503877), np.float32(0.048062634), np.float32(-0.033988316), np.float32(-0.010993287), np.float32(0.0037771848), np.float32(0.027158745), np.float32(-0.07717488), np.float32(0.11051902), np.float32(0.036876503), np.float32(0.005115226), np.float32(0.14505428), np.float32(0.12988405), np.float32(0.017354256), np.float32(0.00078122056), np.float32(-0.0220129), np.float32(0.042879775), np.float32(-0.009447938), np.float32(-0.0137596065), np.float32(0.01988774), np.float32(0.004974022), np.float32(0.067600206), np.float32(0.008130821), np.float32(0.014551759), np.float32(-0.010135639), np.float32(0.084454976), np.float32(0.11720444), np.float32(0.0016690752), np.float32(0.10182925), np.float32(-0.0063115335), np.float32(0.110558145), np.float32(0.018987993), np.float32(0.010263288), np.float32(0.020783957), np.float32(0.101025425), np.float32(0.11919277), np.float32(0.045161653), np.float32(0.011722462), np.float32(0.115241975), np.float32(0.019127948), np.float32(-0.024638982), np.float32(0.04525976), np.float32(-0.04470306), np.float32(0.0007525504), np.float32(0.052072857), np.float32(0.08953921), np.float32(0.08690113), np.float32(0.005799371), np.float32(-0.026135033), np.float32(-0.032301348), np.float32(0.018086305), np.float32(0.014414525), np.float32(0.08911573), np.float32(0.04322238), np.float32(0.073413916), np.float32(-0.009091587), np.float32(-0.021881897), np.float32(0.1269776), np.float32(0.12535258), np.float32(0.06718299), np.float32(0.10286223), np.float32(0.09163692), np.float32(-0.0554828), np.float32(-0.0075087203), np.float32(0.013751219), np.float32(0.054669056), np.float32(0.082395114), np.float32(0.07947852), np.float32(0.011667866), np.float32(0.068066746), np.float32(0.107508995), np.float32(-0.008964994), np.float32(0.037442043), np.float32(-0.0070660794), np.float32(0.01832011), np.float32(0.050504386), np.float32(0.12223106), np.float32(0.0725435), np.float32(0.06969499), np.float32(0.12138054), np.float32(0.135349), np.float32(0.03506267), np.float32(0.08252772), np.float32(-0.0027542864), np.float32(-0.0068408027), np.float32(0.02050329), np.float32(0.107429616), np.float32(0.00870546), np.float32(0.16478579), np.float32(-0.0042130435), np.float32(0.0044894046), np.float32(0.026914816), np.float32(0.045255456), np.float32(0.07553368), np.float32(0.07224312), np.float32(0.048023455), np.float32(0.14164765), np.float32(-0.035925604), np.float32(0.0100017665), np.float32(0.061626296), np.float32(0.100986), np.float32(0.13027568), np.float32(-0.011481208), np.float32(-0.07022197), np.float32(-0.09412052), np.float32(-0.011985534), np.float32(0.048660193), np.float32(-0.047585078), np.float32(0.07902653), np.float32(-0.010763947), np.float32(-0.035690792), np.float32(0.10695983), np.float32(0.0225733), np.float32(-0.009479996), np.float32(-0.061876275), np.float32(0.075728685), np.float32(-0.040921193), np.float32(-0.024922276), np.float32(-0.00084051484), np.float32(0.0133862775), np.float32(0.0494621), np.float32(-0.011551028), np.float32(0.12321995), np.float32(0.00046162604), np.float32(-0.09426483), np.float32(-0.10034125), np.float32(0.017032977), np.float32(-0.099452086), np.float32(0.059181552), np.float32(-0.0872679), np.float32(0.100504056), np.float32(0.084909506), np.float32(-0.029160544), np.float32(-0.052314755), np.float32(-0.11665766), np.float32(-0.10256226), np.float32(0.020849423), np.float32(-0.09276626), np.float32(0.16010928), np.float32(0.04172276), np.float32(-0.017556911), np.float32(0.1493862), np.float32(0.068660624), np.float32(-0.011592549), np.float32(0.038108785), np.float32(-0.06810973), np.float32(0.08619066), np.float32(-0.054178633), np.float32(0.02216312), np.float32(-0.066498324), np.float32(0.04700483), np.float32(0.015366691), np.float32(-0.046874743), np.float32(-0.07135784), np.float32(-0.025374617), np.float32(-0.034286615), np.float32(0.055638358), np.float32(-0.034946796), np.float32(-0.008525016), np.float32(-0.029624796), np.float32(0.050514214), np.float32(0.006304117), np.float32(-0.010613149), np.float32(0.06630462), np.float32(0.022413695), np.float32(0.038020577), np.float32(0.034973145), np.float32(0.0013975804), np.float32(-0.052337877), np.float32(-0.032523554), np.float32(0.040878654), np.float32(0.048600096), np.float32(-0.051112186), np.float32(0.016253117), np.float32(0.04351597), np.float32(-0.020280492), np.float32(-0.057302747), np.float32(0.047088068), np.float32(0.073847115), np.float32(0.064785324), np.float32(0.05960639), np.float32(-0.03439944), np.float32(-0.06540673), np.float32(-0.048743278), np.float32(0.0049809446), np.float32(0.0063555418), np.float32(0.028351203), np.float32(-0.00399473), np.float32(-0.012084833), np.float32(0.041818697), np.float32(0.030019728), np.float32(-0.031498037), np.float32(-0.02016636), np.float32(0.039720334), np.float32(-0.031841274), np.float32(-0.062076177), np.float32(-0.050532185), np.float32(-0.009580101), np.float32(0.03640379), np.float32(0.008729273), np.float32(-0.05909917), np.float32(-0.06378717), np.float32(0.064929396), np.float32(5.882413e-08), np.float32(-6.2645784e-05), np.float32(1.8472996e-05), np.float32(-1.1570089e-07), np.float32(1.7934051e-06), np.float32(0.0009986277), np.float32(0.00027436405), np.float32(0.00014498955), np.float32(-4.956429e-05), np.float32(0.0001309123), np.float32(-0.00053850084), np.float32(-0.0013373579), np.float32(-9.390328e-05), np.float32(-0.0004559775), np.float32(-0.0011573212), np.float32(-2.3193915e-07), np.float32(-5.544965e-06), np.float32(0.00031263128), np.float32(7.015766e-05), np.float32(0.00089361035), np.float32(-8.566121e-05), np.float32(0.00017337434), np.float32(-3.409578e-05), np.float32(-6.420111e-08), np.float32(1.1964585e-05), np.float32(0.0005007331), np.float32(0.0012714048), np.float32(6.437019e-07), np.float32(0.0011508269), np.float32(0.0007566486), np.float32(-0.000112852795), np.float32(0.00064518634), np.float32(2.9655666e-05), np.float32(0.00015830348), np.float32(9.6317395e-05), np.float32(0.00013794938), np.float32(-4.4806242e-07), np.float32(1.4462065e-06), np.float32(-0.0009693637), np.float32(3.6060774e-05), np.float32(0.0017560694), np.float32(-0.0048218532), np.float32(-0.0015239185), np.float32(0.004224473), np.float32(6.4417014e-05), np.float32(0.0020854732), np.float32(0.014769247), np.float32(-0.0073949755), np.float32(3.1746113e-05), np.float32(0.0009304729), np.float32(-0.026960738), np.float32(-0.024574848), np.float32(0.031924296), np.float32(-0.02852099), np.float32(-0.038717773), np.float32(0.092576124), np.float32(-0.08421506), np.float32(0.06779717), np.float32(-0.050889816), np.float32(-0.0319045), np.float32(-0.10048803), np.float32(-0.10048549), np.float32(-0.053152196), np.float32(0.11035985), np.float32(-0.013416216), np.float32(-0.04475755), np.float32(-0.026836598), np.float32(-0.037266344), np.float32(-0.050700985), np.float32(-0.004881842), np.float32(-0.016859721), np.float32(-0.0070161005), np.float32(-0.0032024493), np.float32(0.11765604), np.float32(-0.024649527), np.float32(0.15178727), np.float32(-0.048715167), np.float32(0.104483545), np.float32(0.006742085), np.float32(0.048244), np.float32(-0.08131452), np.float32(-0.03491091), np.float32(0.033974152), np.float32(0.025454408), np.float32(-0.04213214), np.float32(0.11706321), np.float32(0.0119003905), np.float32(0.12420937), np.float32(0.10331835), np.float32(0.09046902), np.float32(-0.0020603298), np.float32(-0.09628238), np.float32(-0.07806079), np.float32(0.11957782), np.float32(-0.055453107), np.float32(0.16568384), np.float32(-0.086998485), np.float32(0.12158264), np.float32(0.058895376), np.float32(0.029779628), np.float32(-0.03942584), np.float32(0.015017324), np.float32(0.022211064), np.float32(0.021709263), np.float32(-0.0009965), np.float32(0.113213114), np.float32(0.028093893), np.float32(0.03930601), np.float32(0.11011875), np.float32(0.07729299), np.float32(0.025662947), np.float32(0.06008933), np.float32(0.039302185), np.float32(0.02271356), np.float32(-0.02698277), np.float32(0.12856288), np.float32(0.085127406), np.float32(0.118915536), np.float32(0.021657981), np.float32(-0.01410752), np.float32(0.08289548), np.float32(0.04646666), np.float32(0.03843498), np.float32(-0.03208767), np.float32(0.073058985), np.float32(0.048033763), np.float32(0.022894816), np.float32(-0.014866432), np.float32(0.036055107), np.float32(-0.016302662), np.float32(-0.017055055), np.float32(0.043491147), np.float32(0.1292197), np.float32(-0.046985894), np.float32(0.048570186), np.float32(0.11002661), np.float32(0.083585665), np.float32(0.10864676), np.float32(0.08849468), np.float32(0.015286892), np.float32(-0.040784992), np.float32(0.13993189), np.float32(-0.018769583), np.float32(0.09667426), np.float32(-0.035795916), np.float32(0.0052936953), np.float32(0.029364852), np.float32(0.120781824), np.float32(0.09640528), np.float32(0.030962875), np.float32(-0.032728348), np.float32(0.050654896), np.float32(0.04884904), np.float32(0.066497535), np.float32(-0.025221456), np.float32(0.12966892), np.float32(-0.025054958), np.float32(-0.013542535), np.float32(0.012297281), np.float32(0.13489382), np.float32(0.015921), np.float32(0.09807212), np.float32(-0.08939258), np.float32(0.09310905), np.float32(0.016728345), np.float32(0.15018125), np.float32(0.029536009), np.float32(0.10752168), np.float32(0.15687117), np.float32(0.03600738), np.float32(-0.053751875), np.float32(-0.02597767), np.float32(0.071401946), np.float32(0.048160564), np.float32(0.0020969561), np.float32(0.09963587), np.float32(0.08009096), np.float32(0.11685379), np.float32(0.1007148), np.float32(0.05880828), np.float32(-0.09029727), np.float32(-0.021072634), np.float32(-0.062709294), np.float32(-0.0028071632), np.float32(-0.08403272), np.float32(0.15528025), np.float32(-0.045511194), np.float32(0.018093748), np.float32(0.113887616), np.float32(0.062263347), np.float32(0.059742834), np.float32(-0.064497806), np.float32(0.01712175), np.float32(0.06983077), np.float32(-0.02222731), np.float32(0.006277347), np.float32(-0.044224855), np.float32(0.006401327), np.float32(0.11879346), np.float32(0.02055658), np.float32(-0.058937117), np.float32(0.05096855), np.float32(0.044974815), np.float32(0.013692421), np.float32(0.025484486), np.float32(0.019003334), np.float32(-0.027788278), np.float32(0.013152442), np.float32(0.07123168), np.float32(-0.0034887134), np.float32(-0.09323368), np.float32(-0.052700203), np.float32(-0.065505035), np.float32(0.028370187), np.float32(0.053542998), np.float32(0.108272344), np.float32(-0.0276323), np.float32(0.024201332), np.float32(-0.009077278), np.float32(-0.030694414), np.float32(0.015436404), np.float32(0.013753178), np.float32(-0.05657913), np.float32(0.12221726), np.float32(0.0057390337), np.float32(0.09614193), np.float32(0.01629278), np.float32(0.011065368), np.float32(0.026344474), np.float32(0.004223081), np.float32(-0.103783995), np.float32(0.048791185), np.float32(-0.07724643), np.float32(-0.048568852), np.float32(-0.07603593), np.float32(-0.038585745), np.float32(-0.10040218), np.float32(0.054300588), np.float32(0.1102057), np.float32(0.116626024), np.float32(0.00026258224), np.float32(-3.0908774e-05), np.float32(-0.026216151), np.float32(0.046699747), np.float32(0.04390373), np.float32(0.049581964), np.float32(0.02078237), np.float32(0.05782592), np.float32(-0.011367186), np.float32(-0.014104253), np.float32(-0.0015778616), np.float32(0.009323974), np.float32(0.02169591), np.float32(-0.0059623998), np.float32(-0.00082443404), np.float32(0.0016327288), np.float32(-0.013242943), np.float32(-0.013130258), np.float32(-0.0015473125), np.float32(0.0010926705), np.float32(-0.001971067), np.float32(-0.068149045), np.float32(-0.0007358457), np.float32(-0.0057307114), np.float32(-0.012388178), np.float32(-0.041724004), np.float32(-0.0411199), np.float32(0.02035521), np.float32(0.0044773687), np.float32(-0.00040886414), np.float32(-2.313945e-07), np.float32(-0.017577019), np.float32(-0.0071348324), np.float32(0.004564657), np.float32(-0.013237373), np.float32(-0.03780911), np.float32(-0.072235815), np.float32(0.019134648), np.float32(-0.011257721), np.float32(0.016115608), np.float32(9.001047e-07), np.float32(0.00056134805), np.float32(1.9411598e-06), np.float32(-3.690624e-06), np.float32(3.5276884e-05), np.float32(-0.0003256042), np.float32(2.8048904e-08), np.float32(-0.0006767146), np.float32(0.0002536491), np.float32(8.126957e-05), np.float32(0.00023641095), np.float32(-0.00028316898), np.float32(0.0006834905), np.float32(-2.320199e-05), np.float32(-0.0012879936), np.float32(5.399262e-05), np.float32(0.0009321859), np.float32(-3.687452e-05), np.float32(0.00084804575), np.float32(0.00046533567), np.float32(2.985751e-08), np.float32(-0.0003164652), np.float32(0.00078277756), np.float32(-1.1318512e-05), np.float32(-2.4641386e-05), np.float32(-8.035393e-05), np.float32(-0.0008185563), np.float32(0.0007848864), np.float32(-0.0010424494), np.float32(7.205084e-05), np.float32(-1.3811387e-05), np.float32(-1.9627346e-06), np.float32(9.260891e-07), np.float32(-0.0003652801), np.float32(-0.00028028083), np.float32(2.1047299e-08), np.float32(-0.00067855866), np.float32(-0.00076990324), np.float32(0.00014253793), np.float32(-0.001319393), np.float32(-0.00016712933), np.float32(-0.0013234781), np.float32(-0.0007490454), np.float32(1.6426067e-05), np.float32(-0.00038347096), np.float32(1.9675774e-06), np.float32(-6.989336e-05), np.float32(0.00037419866), np.float32(-1.5652083e-06), np.float32(1.5496803e-07), np.float32(9.206839e-06), np.float32(-1.1417303e-06), np.float32(-3.6325332e-06), np.float32(0.0010405922), np.float32(-0.000104892606), np.float32(3.6282105e-05), np.float32(-0.00048766055), np.float32(1.6912437e-06), np.float32(-2.7724725e-05), np.float32(-0.00014355224), np.float32(0.0150881), np.float32(0.0010018417), np.float32(2.4163219e-05), np.float32(-0.021561427), np.float32(-0.051572047), np.float32(-0.0018668864), np.float32(-0.084797196), np.float32(0.060749635), np.float32(-0.029678596), np.float32(0.03827962), np.float32(0.020709466), np.float32(0.016948972), np.float32(-0.032854132), np.float32(-0.0055004377), np.float32(-0.0126501275), np.float32(-0.0079826405), np.float32(0.06233541), np.float32(0.02244509), np.float32(3.2389034e-05), np.float32(0.049162403), np.float32(0.025682243), np.float32(-0.06093115), np.float32(-0.013341437), np.float32(-0.039160267), np.float32(-0.03074495), np.float32(0.027058834), np.float32(0.002444042), np.float32(0.107244916), np.float32(0.0063796192), np.float32(0.025120027), np.float32(-0.079214774), np.float32(0.039955888), np.float32(-0.028441755), np.float32(-0.0035717057), np.float32(-0.064203866), np.float32(-0.030454956), np.float32(0.020918712), np.float32(-0.04048408), np.float32(0.07235113), np.float32(-0.002883786), np.float32(-0.06465106), np.float32(0.03146622), np.float32(-0.021660663), np.float32(-0.04401391), np.float32(0.02767739), np.float32(-0.004121759), np.float32(0.052155275), np.float32(0.048113186), np.float32(0.07934356), np.float32(0.086571075), np.float32(-0.006369458), np.float32(0.014684111), np.float32(-0.0062062885), np.float32(0.010534027), np.float32(0.055209715), np.float32(0.07969844), np.float32(0.054413643), np.float32(-0.0042554094), np.float32(0.09901666), np.float32(0.0024000998), np.float32(0.010860449), np.float32(0.025641827), np.float32(0.02225826), np.float32(0.07987088), np.float32(-0.057986163), np.float32(0.021767033), np.float32(0.052478574), np.float32(-0.009549616), np.float32(0.0695513), np.float32(0.021511706), np.float32(0.03586281), np.float32(0.05184265), np.float32(-0.030685833), np.float32(0.020767534), np.float32(-0.09749756), np.float32(0.0008902427), np.float32(0.0010751238), np.float32(0.10612533), np.float32(0.01036101), np.float32(0.14532156), np.float32(0.030922005), np.float32(0.011730351), np.float32(0.01392146), np.float32(0.03233128), np.float32(-0.022585945), np.float32(0.14172465), np.float32(0.025063477), np.float32(0.044880822), np.float32(0.0588874), np.float32(0.085441686), np.float32(0.0053457054), np.float32(-0.17350589), np.float32(-0.02841164), np.float32(0.13434112), np.float32(0.031583976), np.float32(0.046908453), np.float32(-0.047638055), np.float32(0.019957135), np.float32(0.067540236), np.float32(0.06854481), np.float32(-0.010942384), np.float32(-0.07414898), np.float32(0.024855047), np.float32(0.06603932), np.float32(-0.03297472), np.float32(0.008393089), np.float32(-0.049430903), np.float32(0.014181263), np.float32(0.019521961), np.float32(0.14543161), np.float32(0.022261273), np.float32(-0.006924065), np.float32(0.033302754), np.float32(-0.022127355), np.float32(-0.09542911), np.float32(-0.0026780616), np.float32(0.018122429), np.float32(0.056039758), np.float32(0.0924321), np.float32(0.022768462), np.float32(0.060858462), np.float32(-0.02476031), np.float32(-0.019610627), np.float32(-8.3237774e-07), np.float32(0.0070916885), np.float32(-2.3095538e-06), np.float32(0.020720912), np.float32(-0.037720494), np.float32(-8.56504e-07), np.float32(-0.06832006), np.float32(-0.014107771), np.float32(0.05712228), np.float32(0.008519132), np.float32(-0.00048446064), np.float32(0.07347108), np.float32(-1.2494914e-05), np.float32(0.09179234), np.float32(-0.039190825), np.float32(-0.00019315301), np.float32(-0.071378894), np.float32(5.0776227e-05), np.float32(-1.0190228e-06), np.float32(2.7635602e-05), np.float32(2.658816e-05), np.float32(0.00043295132), np.float32(1.5775188e-07), np.float32(5.756336e-06), np.float32(-0.00042022154), np.float32(-0.0005189174), np.float32(-0.0011896754), np.float32(-2.756307e-05), np.float32(3.6211135e-05), np.float32(0.00051188405), np.float32(7.4324685e-06), np.float32(-8.153069e-06), np.float32(-1.318785e-07), np.float32(0.00043180646), np.float32(-1.3571884e-05), np.float32(-2.8269615e-05), np.float32(-0.00146312), np.float32(-9.752185e-05), np.float32(0.00013644202), np.float32(-2.2861227e-06), np.float32(9.163141e-05), np.float32(1.7508832e-05), np.float32(0.00082079106), np.float32(3.150774e-05), np.float32(4.4686898e-05), np.float32(-7.229373e-05), np.float32(7.1618706e-05), np.float32(-0.0012420509), np.float32(8.119334e-08), np.float32(-0.00025926618), np.float32(0.00062438217), np.float32(0.0011842556), np.float32(8.681791e-07), np.float32(0.00031309816), np.float32(-0.0010918377), np.float32(-0.0001561351), np.float32(-2.60225e-05), np.float32(-0.0008240642), np.float32(-3.218384e-06), np.float32(0.00038698027), np.float32(-0.0006977235), np.float32(1.8090643e-05), np.float32(0.0015030007), np.float32(-0.0013362502), np.float32(0.0003265359), np.float32(4.467575e-06), np.float32(1.0970316e-06), np.float32(-1.7102799e-06), np.float32(-0.00011480944), np.float32(-0.0002571275), np.float32(2.0189542e-05), np.float32(-0.0001930144), np.float32(-1.1507825e-05), np.float32(0.0005761485), np.float32(0.0013027799), np.float32(0.0005898932), np.float32(3.8299022e-05), np.float32(0.00044915016), np.float32(-0.0014058499), np.float32(0.00048488707), np.float32(0.0009897994), np.float32(1.3970272e-06), np.float32(2.529466e-06), np.float32(-2.1735643e-06), np.float32(-0.00069974485), np.float32(-6.361488e-05), np.float32(2.3279023e-05), np.float32(-3.1761647e-05), np.float32(-8.318733e-06), np.float32(-1.4957974e-05), np.float32(-2.9510673e-05), np.float32(3.3738736e-05), np.float32(-4.9678506e-06), np.float32(-2.5629988e-05), np.float32(-7.4548676e-05), np.float32(-0.001302745), np.float32(-2.917368e-06), np.float32(1.37886445e-05), np.float32(1.6736189e-05), np.float32(0.00014660586), np.float32(-6.290807e-07), np.float32(1.0381161e-06), np.float32(8.3598105e-05), np.float32(0.00088074984), np.float32(0.00010468895), np.float32(-0.00020047191), np.float32(-0.0012355539), np.float32(8.065056e-08), np.float32(8.5153035e-05), np.float32(-0.000103363294), np.float32(0.0006683755), np.float32(3.4134762e-05), np.float32(-7.3312e-05), np.float32(-8.914485e-06), np.float32(-1.4004998e-07), np.float32(1.8224164e-05), np.float32(-0.0004725064), np.float32(-0.00022884192), np.float32(-0.0010757319), np.float32(-0.0006465458), np.float32(-0.00079135486), np.float32(9.823002e-06), np.float32(-5.368212e-05), np.float32(0.0013944057), np.float32(8.930662e-05), np.float32(-0.00024416906), np.float32(-0.00082059397), np.float32(-0.0005321023), np.float32(0.0010541755), np.float32(-8.031949e-05), np.float32(7.2934903e-09), np.float32(9.655816e-05), np.float32(0.00048550958), np.float32(2.7793403e-05), np.float32(0.00033062356), np.float32(0.00020842295), np.float32(-0.0001236467), np.float32(0.00019073657), np.float32(0.0011785727), np.float32(0.000110707995), np.float32(0.00010551177), np.float32(-2.3442148e-05), np.float32(-9.697221e-06), np.float32(0.00048256124), np.float32(8.433513e-07), np.float32(0.00033975908), np.float32(6.983709e-05), np.float32(0.0015151805), np.float32(0.00010183362), np.float32(9.9415294e-05), np.float32(0.0012624033), np.float32(-0.000509637), np.float32(0.00056855), np.float32(-3.7226473e-05), np.float32(-1.37339275e-05), np.float32(-9.684547e-07), np.float32(7.6654534e-05), np.float32(-0.00029952524), np.float32(-0.0001198457), np.float32(0.0013351531), np.float32(7.794557e-06), np.float32(0.00095203024), np.float32(5.66443e-06), np.float32(0.0011647388), np.float32(0.0013347989), np.float32(-2.2586324e-05), np.float32(-2.5997126e-06), np.float32(-5.0046706e-06), np.float32(9.789616e-06), np.float32(0.00010255437), np.float32(4.2169428e-05), np.float32(-0.0012429011), np.float32(-9.290634e-05), np.float32(-9.2684424e-08), np.float32(0.0013226194), np.float32(4.0464136e-07), np.float32(-0.0007588966), np.float32(-2.7696968e-05), np.float32(-3.9586426e-05), np.float32(0.0015443295), np.float32(0.0001303154), np.float32(-0.00085433555), np.float32(5.3996315e-05), np.float32(-2.2205584e-05), np.float32(7.9469e-05), np.float32(-0.00014070395), np.float32(0.0009460393), np.float32(6.633655e-06), np.float32(-5.264832e-07), np.float32(-0.00041297596), np.float32(-0.0013438741), np.float32(0.00029497858), np.float32(0.0014738971), np.float32(-1.4151395e-05), np.float32(0.00044574606), np.float32(1.0776212e-06), np.float32(-0.0003803168), np.float32(-0.0014879894), np.float32(0.0013979097), np.float32(-0.0005614273), np.float32(-0.0011028782), np.float32(0.00041655824), np.float32(-0.00055961125), np.float32(6.032459e-05), np.float32(-0.0013077577), np.float32(-0.00041771657), np.float32(-3.3993343e-05), np.float32(0.0001456285), np.float32(1.1705844e-06), np.float32(-0.00020947654), np.float32(-1.9294144e-05), np.float32(-0.00012847866), np.float32(-0.0007501413), np.float32(-2.4334036e-05), np.float32(-0.0014745095), np.float32(0.0007523013), np.float32(-0.00027188362), np.float32(-0.00143368), np.float32(8.7642344e-05), np.float32(0.00020372432), np.float32(-5.876804e-07), np.float32(0.0008820607), np.float32(-0.00057950587), np.float32(0.0010945522), np.float32(0.000701828), np.float32(-3.7492744e-05), np.float32(0.0005173367), np.float32(0.0001448309), np.float32(-8.231302e-05), np.float32(-6.6700263e-06), np.float32(-0.00022487524), np.float32(1.8943338e-05), np.float32(-0.0005509636), np.float32(1.946488e-05), np.float32(3.3784508e-07), np.float32(-8.577066e-07), np.float32(8.40642e-05), np.float32(-0.00026709258), np.float32(-0.001508488), np.float32(1.6737567e-05), np.float32(-2.5789303e-05), np.float32(0.0005234785), np.float32(-0.0006499632), np.float32(0.00047529335), np.float32(-1.7766068e-07), np.float32(3.2716646e-06), np.float32(0.00066067255), np.float32(-0.041067254), np.float32(-0.02364015), np.float32(-0.12455019), np.float32(0.09969255), np.float32(-0.04302523), np.float32(0.04275679), np.float32(-0.08501747), np.float32(0.09204244), np.float32(0.027443156), np.float32(0.016642509), np.float32(-0.056708433), np.float32(-0.093950815), np.float32(-0.07662105), np.float32(0.049187656), np.float32(-0.02684845), np.float32(-0.008687484), np.float32(-0.06108504), np.float32(0.059765283), np.float32(0.05767934), np.float32(0.041267097), np.float32(-0.09924974), np.float32(-0.0490154), np.float32(0.031072598), np.float32(-0.014620208), np.float32(-0.12823845), np.float32(0.020346902), np.float32(-0.09395626), np.float32(0.095461145), np.float32(0.0943665), np.float32(0.06468294), np.float32(2.258094e-06), np.float32(-1.2871929e-05), np.float32(-1.3501568e-06), np.float32(-7.9656644e-07), np.float32(-5.6411776e-05), np.float32(0.00067224377), np.float32(-0.00032135413), np.float32(4.359976e-05), np.float32(8.82478e-05), np.float32(-2.387632e-08), np.float32(0.0008835399), np.float32(0.0010131361), np.float32(-0.00094691815), np.float32(1.1575738e-05), np.float32(-1.2007602e-08), np.float32(0.00074183434), np.float32(-1.4424246e-06), np.float32(-0.0006883512), np.float32(0.00052044366), np.float32(-9.282428e-06), np.float32(-7.956197e-05), np.float32(7.930014e-06), np.float32(0.00019705242), np.float32(-0.0006399933), np.float32(-0.00037069246), np.float32(-0.00016252244), np.float32(1.099542e-06), np.float32(0.00021578328), np.float32(8.191596e-08), np.float32(0.0006838253), np.float32(-1.32337545e-05), np.float32(1.6157566e-05), np.float32(-0.0010989716), np.float32(0.0008016997), np.float32(0.00078254874), np.float32(0.00022129832), np.float32(-0.0003362671), np.float32(-0.0010159273), np.float32(-0.0011222623), np.float32(1.9262652e-05), np.float32(-7.725976e-09), np.float32(-0.00029175132), np.float32(0.00030264555), np.float32(0.0014393181), np.float32(0.0011112271), np.float32(0.00022847323), np.float32(0.00013888952), np.float32(2.2056023e-05), np.float32(-0.00053690985), np.float32(-2.053028e-06), np.float32(-0.00046493605), np.float32(-2.9320288e-05), np.float32(-6.487576e-05), np.float32(-0.00022215351), np.float32(0.00018324605), np.float32(0.00070938794), np.float32(2.9787866e-06), np.float32(0.00020792213), np.float32(0.00018566751), np.float32(-0.00053310173), np.float32(-3.3747234e-05), np.float32(-0.00017775479), np.float32(1.7443888e-05), np.float32(2.509713e-06), np.float32(-0.0004458945), np.float32(-6.870777e-10), np.float32(8.005612e-05), np.float32(-0.00021562557), np.float32(-0.00073942746), np.float32(-0.0006485585), np.float32(1.03387634e-07), np.float32(-0.00029725474), np.float32(-0.0006420709), np.float32(-9.572158e-05), np.float32(0.00095143757), np.float32(-0.00069008674), np.float32(-0.0005504372), np.float32(-3.3487183e-07), np.float32(5.5554614e-05), np.float32(6.038366e-08), np.float32(-0.00018641906), np.float32(4.330443e-05), np.float32(5.6393606e-08), np.float32(-6.5565825e-07), np.float32(0.00073637493), np.float32(-1.574368e-06), np.float32(1.0364977e-05), np.float32(-0.0013099406), np.float32(0.00011046174), np.float32(0.00019922823), np.float32(-7.049098e-05), np.float32(-0.00032588182), np.float32(-9.3802155e-05), np.float32(2.59147e-05), np.float32(0.00040010852), np.float32(0.00016570176), np.float32(-1.5867134e-05), np.float32(2.8720095e-05), np.float32(-0.0002538354), np.float32(1.2957554e-07), np.float32(-8.593532e-06), np.float32(-0.00034591765), np.float32(0.00021123426), np.float32(7.4895393e-06), np.float32(-1.176892e-06), np.float32(-4.640547e-05), np.float32(8.894022e-06), np.float32(-0.0005516876), np.float32(0.00036588561), np.float32(1.13057e-05), np.float32(0.0005778337), np.float32(-0.00012903225), np.float32(-7.4828854e-08), np.float32(-2.772065e-05), np.float32(4.0046966e-06), np.float32(0.0013970999), np.float32(-7.680696e-05), np.float32(-6.844375e-05), np.float32(-0.00026756115), np.float32(2.6383816e-05), np.float32(0.0005377308), np.float32(-1.0816822e-05), np.float32(-5.095735e-05), np.float32(-6.032506e-05), np.float32(0.0002791549), np.float32(-1.6058904e-06), np.float32(0.0007085476), np.float32(-0.00025553108), np.float32(-2.5103414e-05), np.float32(-2.205594e-05), np.float32(-4.7766e-05), np.float32(-8.819501e-05), np.float32(-0.00010009235), np.float32(7.129293e-05), np.float32(-0.00027765383), np.float32(6.4333784e-07), np.float32(0.00042108513), np.float32(-0.00010943611), np.float32(0.0010644763), np.float32(-2.8820496e-06), np.float32(-2.9619368e-06), np.float32(-0.00014069001), np.float32(9.7727476e-05), np.float32(3.4104112e-05), np.float32(-5.006945e-05), np.float32(-2.7690006e-05), np.float32(0.00020943815), np.float32(0.00016755892), np.float32(-0.000105844774), np.float32(-0.00079742505), np.float32(-9.6378884e-05), np.float32(3.930456e-05), np.float32(-9.9534656e-05), np.float32(-0.0007994216), np.float32(-1.2537003e-05), np.float32(0.0002541051), np.float32(-2.957396e-05), np.float32(0.00017443104), np.float32(2.1140184e-07), np.float32(-0.0009360588), np.float32(0.00049333525), np.float32(0.0005720921), np.float32(-0.000107448766), np.float32(-0.001180582), np.float32(2.9070106e-06), np.float32(0.0010808368), np.float32(0.0009245168), np.float32(-0.00088670116), np.float32(-1.4044859e-06), np.float32(-6.490429e-06), np.float32(0.0001128221), np.float32(-0.00031281848), np.float32(-0.00034840283), np.float32(0.00029608252), np.float32(0.0009858811), np.float32(0.00064975023), np.float32(4.0443e-07), np.float32(6.8658795e-05), np.float32(-0.0003360294), np.float32(-2.5887024e-08), np.float32(6.566989e-06), np.float32(-8.8011766e-05), np.float32(-0.00057900307), np.float32(1.8250606e-06), np.float32(4.4021954e-06), np.float32(-6.1256214e-05), np.float32(-0.00073464273), np.float32(8.448873e-06), np.float32(4.2373824e-07), np.float32(-3.1659442e-06), np.float32(7.805415e-05), np.float32(3.7444457e-07), np.float32(-6.6448565e-06), np.float32(4.3611897e-05), np.float32(0.00089071615), np.float32(-3.929866e-05), np.float32(-0.0010354694), np.float32(0.0011642076), np.float32(-0.00019795945), np.float32(-0.0010656548), np.float32(-0.00012895693), np.float32(-3.1829986e-05), np.float32(1.8688641e-05), np.float32(0.00014023727), np.float32(0.0009320065), np.float32(0.0012865601), np.float32(0.00026100408), np.float32(1.2851846e-05), np.float32(0.00035641392), np.float32(-0.00013095533), np.float32(0.00038114208), np.float32(-0.00032542268), np.float32(3.2108218e-07), np.float32(-1.013473e-05), np.float32(-0.00046588047), np.float32(-0.00080188096), np.float32(-0.00025526638), np.float32(-7.9175095e-07), np.float32(-4.2008825e-08), np.float32(8.937365e-06), np.float32(0.00021392587), np.float32(0.000601308), np.float32(-8.763616e-06), np.float32(4.6253357e-05), np.float32(4.7580794e-08), np.float32(-1.5622902e-05), np.float32(0.0009365611), np.float32(0.00010130401), np.float32(-0.00053849263), np.float32(0.00071637036), np.float32(-2.1889378e-05), np.float32(-0.0003119732), np.float32(-3.3313023e-05), np.float32(-3.86845e-05), np.float32(4.0119998e-05), np.float32(-3.4134082e-05), np.float32(-2.3199675e-05), np.float32(-2.7874466e-05), np.float32(8.353568e-06), np.float32(6.395524e-06), np.float32(0.00039839855), np.float32(-0.00012453552), np.float32(0.0003247385), np.float32(2.3118866e-05), np.float32(-1.1317076e-05), np.float32(-0.0009889217), np.float32(5.785466e-05), np.float32(0.0003599136), np.float32(-0.00014381271), np.float32(-2.1032221e-05), np.float32(3.819744e-07), np.float32(-0.0006159734), np.float32(0.0011385116), np.float32(-5.521654e-05), np.float32(-3.2975942e-09), np.float32(0.00093784387), np.float32(0.0005536541), np.float32(-2.7489286e-05), np.float32(7.7424926e-07), np.float32(-0.00078956544), np.float32(0.000122030746), np.float32(-3.2650203e-06), np.float32(3.961169e-06), np.float32(-3.2612345e-05), np.float32(0.0012550134), np.float32(-2.7076194e-05), np.float32(8.5998545e-05), np.float32(-0.00022216742), np.float32(2.515628e-07), np.float32(4.5100737e-08), np.float32(-0.000416141), np.float32(-0.0011156516), np.float32(5.3779772e-06), np.float32(-0.0014561239), np.float32(8.686302e-07), np.float32(0.0004766421), np.float32(0.00016692092), np.float32(-6.57802e-05), np.float32(-0.0005727279), np.float32(-1.7458879e-05), np.float32(-1.6584592e-05), np.float32(1.6240116e-06), np.float32(-5.2687947e-06), np.float32(1.5727852e-06), np.float32(0.00066093315), np.float32(7.894962e-06), np.float32(2.6660877e-07), np.float32(-0.00014357764), np.float32(0.00033709232), np.float32(0.00022563423), np.float32(-7.34133e-06), np.float32(0.0001226194), np.float32(-0.0015401558), np.float32(-1.5081478e-06), np.float32(0.0014861585), np.float32(-3.146697e-08), np.float32(-0.0007158887), np.float32(5.7701727e-06), np.float32(-1.5374215e-05), np.float32(0.0010443601), np.float32(0.0012664915), np.float32(-0.00065635476), np.float32(-2.2065979e-06), np.float32(1.953859e-06), np.float32(0.00018744651), np.float32(7.734617e-08), np.float32(-8.872776e-06), np.float32(0.0004982138), np.float32(0.00027504985), np.float32(-0.0008601135), np.float32(-9.610274e-07), np.float32(1.8002538e-05), np.float32(1.4993312e-05), np.float32(3.484475e-06), np.float32(-0.00017624824), np.float32(-7.023723e-05), np.float32(-9.518146e-05), np.float32(-5.8489928e-05), np.float32(-5.3835233e-06), np.float32(-1.47861265e-05), np.float32(-0.0004052511), np.float32(7.415087e-07), np.float32(0.0009260377), np.float32(-0.00020586576), np.float32(0.00024385925), np.float32(-0.00031682462), np.float32(-0.00026169317), np.float32(-8.0544754e-07), np.float32(-0.0003804255), np.float32(1.7922365e-06), np.float32(-0.00012578804), np.float32(-1.4905648e-06), np.float32(-0.0013890337), np.float32(-0.0006925839), np.float32(0.0007941761), np.float32(2.2811717e-05), np.float32(0.00018112035), np.float32(-0.00030746523), np.float32(-3.6748957e-06), np.float32(-0.00019229334), np.float32(3.573949e-05), np.float32(3.0825115e-06), np.float32(7.6583834e-05), np.float32(-0.00026741263), np.float32(3.1350257e-06), np.float32(-0.00058987754), np.float32(0.0011224285), np.float32(0.00010748971), np.float32(-0.000574707), np.float32(3.004103e-05), np.float32(-0.0005045164), np.float32(1.3415946e-06), np.float32(-0.000806208), np.float32(-0.00016159637), np.float32(-5.0749813e-06), np.float32(-1.5030714e-05), np.float32(-0.00021466552), np.float32(-2.3398377e-06), np.float32(0.0003168829), np.float32(8.5879465e-06), np.float32(-0.0010270885), np.float32(0.0014893067), np.float32(-6.0293485e-05), np.float32(0.00016081298), np.float32(0.00015332473), np.float32(6.8246363e-06), np.float32(-4.2741246e-07), np.float32(9.3851495e-06), np.float32(-2.942316e-06), np.float32(0.0005895839), np.float32(0.0013330247), np.float32(-0.000871741), np.float32(-0.00020525129), np.float32(0.00020666915), np.float32(1.5700327e-05), np.float32(9.210537e-07), np.float32(0.00027395115), np.float32(9.477523e-05), np.float32(0.0009899855), np.float32(-0.000948011), np.float32(-4.3032196e-07), np.float32(-4.7503923e-05), np.float32(-0.0011347578), np.float32(0.00041347637), np.float32(-0.0011103442), np.float32(4.515014e-05), np.float32(0.0002944989), np.float32(-0.0012724563), np.float32(-0.0002406102), np.float32(0.00027219765), np.float32(0.0056650033), np.float32(0.024685195), np.float32(-0.006997276), np.float32(0.103361435), np.float32(0.041795045), np.float32(0.17500407), np.float32(0.05969673), np.float32(0.050052464), np.float32(0.08875643), np.float32(0.10997078), np.float32(-0.41133136), np.float32(-0.37250623), np.float32(-0.7174273), np.float32(0.37370262), np.float32(-0.33726904), np.float32(0.19758949), np.float32(-0.7943721), np.float32(0.5523049), np.float32(0.2074199), np.float32(0.24786985), np.float32(0.5752227)], Error: 0.0016\n",
      "Generation 2: Best Params: [1.00000000e+01 1.00000000e-03 1.00000000e-04 ... 2.07419902e-01\n",
      " 2.47869849e-01 5.75222671e-01], Error: 0.0016\n",
      "Generation 3: Best Params: [1.00000000e+01 1.00000000e-03 1.00000000e-04 ... 2.07419902e-01\n",
      " 2.47869849e-01 5.75222671e-01], Error: 0.0016\n",
      "Generation 4: Best Params: [1.00000000e+01 1.00000000e-03 1.00000000e-04 ... 2.07419902e-01\n",
      " 2.47869849e-01 5.75222671e-01], Error: 0.0016\n",
      "Generation 5: Best Params: [1.00000000e+01 1.00000000e-03 1.00000000e-04 ... 2.07419902e-01\n",
      " 2.47869849e-01 5.75222671e-01], Error: 0.0016\n",
      "Generation 6: Best Params: [1.00000000e+01 1.00000000e-03 1.00000000e-04 ... 2.07419902e-01\n",
      " 2.47869849e-01 5.75222671e-01], Error: 0.0016\n",
      "Generation 7: Best Params: [1.00000000e+01 1.00000000e-03 1.00000000e-04 ... 2.07419902e-01\n",
      " 2.47869849e-01 5.75222671e-01], Error: 0.0016\n",
      "Generation 8: Best Params: [1.00000000e+01 1.00000000e-03 1.00000000e-04 ... 2.07419902e-01\n",
      " 2.47869849e-01 5.75222671e-01], Error: 0.0016\n",
      "Generation 9: Best Params: [ 1.00000000e+01  1.00000000e-03  1.00000000e-04 ...  2.07419902e-01\n",
      " -1.89490886e-01  5.75222671e-01], Error: 0.0016\n",
      "Generation 10: Best Params: [ 1.00000000e+01  1.00000000e-03  1.00000000e-04 ...  2.07419902e-01\n",
      " -1.43451718e-01  5.75222671e-01], Error: 0.0016\n",
      "Generation 11: Best Params: [1.00000000e+01 1.00000000e-03 1.00000000e-04 ... 2.07419902e-01\n",
      " 1.91235350e-01 5.75222671e-01], Error: 0.0016\n",
      "Generation 12: Best Params: [1.00000000e+01 1.00000000e-03 1.00000000e-04 ... 2.07419902e-01\n",
      " 2.13544000e-01 5.75222671e-01], Error: 0.0016\n",
      "Generation 13: Best Params: [1.00000000e+01 1.00000000e-03 1.00000000e-04 ... 2.07419902e-01\n",
      " 1.80479161e-01 5.75222671e-01], Error: 0.0016\n",
      "Generation 14: Best Params: [1.00000000e+01 1.00000000e-03 2.74132774e-02 ... 2.07419902e-01\n",
      " 2.26168771e-01 5.75222671e-01], Error: 0.0016\n",
      "Generation 15: Best Params: [1.00000000e+01 1.00000000e-03 1.43436003e-02 ... 2.07419902e-01\n",
      " 2.13547412e-01 5.75222671e-01], Error: 0.0016\n",
      "Generation 16: Best Params: [1.00000000e+01 1.00000000e-03 2.73997857e-02 ... 2.07419902e-01\n",
      " 2.26156727e-01 5.75222671e-01], Error: 0.0016\n",
      "Generation 17: Best Params: [1.00000000e+01 1.00000000e-03 2.50272243e-02 ... 2.07419902e-01\n",
      " 2.32701227e-01 5.75222671e-01], Error: 0.0016\n",
      "Generation 18: Best Params: [1.00000000e+01 1.00000000e-03 2.56909802e-02 ... 2.07419902e-01\n",
      " 2.82823808e-01 5.75222671e-01], Error: 0.0016\n",
      "Generation 19: Best Params: [1.00000000e+01 1.00000000e-03 2.56781649e-02 ... 2.07419902e-01\n",
      " 6.38669804e-01 5.75222671e-01], Error: 0.0016\n",
      "Generation 20: Best Params: [1.00000000e+01 1.00000000e-03 2.58527017e-02 ... 2.07419902e-01\n",
      " 2.55642149e-01 8.63339367e-01], Error: 0.0016\n"
     ]
    }
   ],
   "source": [
    "pop_size = 10\n",
    "generations = 20\n",
    "mutation_rate = 0.01\n",
    "\n",
    "best_solution, fitness_history, best_chromosome_per_generation= genetic_algorithm(X_train, y_train, X_val, y_val, pop_size, generations, mutation_rate)\n",
    "print(\"Best solution:\", best_solution)\n",
    "\n",
    "for generation, (params, error) in enumerate(best_chromosome_per_generation):\n",
    "    print(f\"Generation {generation + 1}: Best Params: {params}, Error: {error:.4f}\")"
   ]
  },
  {
   "cell_type": "code",
   "execution_count": 109,
   "metadata": {},
   "outputs": [
    {
     "name": "stdout",
     "output_type": "stream",
     "text": [
      "Test accuracy: 0.9992104224240032\n"
     ]
    }
   ],
   "source": [
    "# Evaluate the final model on the test dataset\n",
    "hidden_layer_size = int(best_solution[0])\n",
    "learning_rate_init = best_solution[1]\n",
    "alpha = best_solution[2]\n",
    "weights_biases = best_solution[3:]\n",
    "\n",
    "final_model = MLPClassifier(hidden_layer_sizes=(hidden_layer_size,), learning_rate='constant', learning_rate_init=learning_rate_init, alpha=alpha, max_iter=200, warm_start=True)\n",
    "final_model.fit(X_train, y_train)\n",
    "# set_weights(final_model, weights_biases)\n",
    "# final_model.fit(X_train, y_train)\n",
    "y_test_pred = final_model.predict(X_test)\n",
    "test_accuracy = accuracy_score(y_test, y_test_pred)\n",
    "\n",
    "print(\"Test accuracy:\", test_accuracy)"
   ]
  },
  {
   "cell_type": "code",
   "execution_count": 110,
   "metadata": {},
   "outputs": [
    {
     "data": {
      "application/vnd.plotly.v1+json": {
       "config": {
        "plotlyServerURL": "https://plot.ly"
       },
       "data": [
        {
         "line": {
          "color": "blue"
         },
         "mode": "lines",
         "name": "Fitness",
         "type": "scatter",
         "x": [
          0,
          1,
          2,
          3,
          4,
          5,
          6,
          7,
          8,
          9,
          10,
          11,
          12,
          13,
          14,
          15,
          16,
          17,
          18,
          19
         ],
         "y": [
          0.9984208448480063,
          0.9984208448480063,
          0.9984208448480063,
          0.9984208448480063,
          0.9984208448480063,
          0.9984208448480063,
          0.9984208448480063,
          0.9984208448480063,
          0.9984208448480063,
          0.9984208448480063,
          0.9984208448480063,
          0.9984208448480063,
          0.9984208448480063,
          0.9984208448480063,
          0.9984208448480063,
          0.9984208448480063,
          0.9984208448480063,
          0.9984208448480063,
          0.9984208448480063,
          0.9984208448480063
         ]
        }
       ],
       "layout": {
        "font": {
         "color": "white"
        },
        "paper_bgcolor": "rgba(0,0,0,0)",
        "plot_bgcolor": "rgba(0,0,0,0)",
        "template": {
         "data": {
          "bar": [
           {
            "error_x": {
             "color": "#2a3f5f"
            },
            "error_y": {
             "color": "#2a3f5f"
            },
            "marker": {
             "line": {
              "color": "#E5ECF6",
              "width": 0.5
             },
             "pattern": {
              "fillmode": "overlay",
              "size": 10,
              "solidity": 0.2
             }
            },
            "type": "bar"
           }
          ],
          "barpolar": [
           {
            "marker": {
             "line": {
              "color": "#E5ECF6",
              "width": 0.5
             },
             "pattern": {
              "fillmode": "overlay",
              "size": 10,
              "solidity": 0.2
             }
            },
            "type": "barpolar"
           }
          ],
          "carpet": [
           {
            "aaxis": {
             "endlinecolor": "#2a3f5f",
             "gridcolor": "white",
             "linecolor": "white",
             "minorgridcolor": "white",
             "startlinecolor": "#2a3f5f"
            },
            "baxis": {
             "endlinecolor": "#2a3f5f",
             "gridcolor": "white",
             "linecolor": "white",
             "minorgridcolor": "white",
             "startlinecolor": "#2a3f5f"
            },
            "type": "carpet"
           }
          ],
          "choropleth": [
           {
            "colorbar": {
             "outlinewidth": 0,
             "ticks": ""
            },
            "type": "choropleth"
           }
          ],
          "contour": [
           {
            "colorbar": {
             "outlinewidth": 0,
             "ticks": ""
            },
            "colorscale": [
             [
              0,
              "#0d0887"
             ],
             [
              0.1111111111111111,
              "#46039f"
             ],
             [
              0.2222222222222222,
              "#7201a8"
             ],
             [
              0.3333333333333333,
              "#9c179e"
             ],
             [
              0.4444444444444444,
              "#bd3786"
             ],
             [
              0.5555555555555556,
              "#d8576b"
             ],
             [
              0.6666666666666666,
              "#ed7953"
             ],
             [
              0.7777777777777778,
              "#fb9f3a"
             ],
             [
              0.8888888888888888,
              "#fdca26"
             ],
             [
              1,
              "#f0f921"
             ]
            ],
            "type": "contour"
           }
          ],
          "contourcarpet": [
           {
            "colorbar": {
             "outlinewidth": 0,
             "ticks": ""
            },
            "type": "contourcarpet"
           }
          ],
          "heatmap": [
           {
            "colorbar": {
             "outlinewidth": 0,
             "ticks": ""
            },
            "colorscale": [
             [
              0,
              "#0d0887"
             ],
             [
              0.1111111111111111,
              "#46039f"
             ],
             [
              0.2222222222222222,
              "#7201a8"
             ],
             [
              0.3333333333333333,
              "#9c179e"
             ],
             [
              0.4444444444444444,
              "#bd3786"
             ],
             [
              0.5555555555555556,
              "#d8576b"
             ],
             [
              0.6666666666666666,
              "#ed7953"
             ],
             [
              0.7777777777777778,
              "#fb9f3a"
             ],
             [
              0.8888888888888888,
              "#fdca26"
             ],
             [
              1,
              "#f0f921"
             ]
            ],
            "type": "heatmap"
           }
          ],
          "heatmapgl": [
           {
            "colorbar": {
             "outlinewidth": 0,
             "ticks": ""
            },
            "colorscale": [
             [
              0,
              "#0d0887"
             ],
             [
              0.1111111111111111,
              "#46039f"
             ],
             [
              0.2222222222222222,
              "#7201a8"
             ],
             [
              0.3333333333333333,
              "#9c179e"
             ],
             [
              0.4444444444444444,
              "#bd3786"
             ],
             [
              0.5555555555555556,
              "#d8576b"
             ],
             [
              0.6666666666666666,
              "#ed7953"
             ],
             [
              0.7777777777777778,
              "#fb9f3a"
             ],
             [
              0.8888888888888888,
              "#fdca26"
             ],
             [
              1,
              "#f0f921"
             ]
            ],
            "type": "heatmapgl"
           }
          ],
          "histogram": [
           {
            "marker": {
             "pattern": {
              "fillmode": "overlay",
              "size": 10,
              "solidity": 0.2
             }
            },
            "type": "histogram"
           }
          ],
          "histogram2d": [
           {
            "colorbar": {
             "outlinewidth": 0,
             "ticks": ""
            },
            "colorscale": [
             [
              0,
              "#0d0887"
             ],
             [
              0.1111111111111111,
              "#46039f"
             ],
             [
              0.2222222222222222,
              "#7201a8"
             ],
             [
              0.3333333333333333,
              "#9c179e"
             ],
             [
              0.4444444444444444,
              "#bd3786"
             ],
             [
              0.5555555555555556,
              "#d8576b"
             ],
             [
              0.6666666666666666,
              "#ed7953"
             ],
             [
              0.7777777777777778,
              "#fb9f3a"
             ],
             [
              0.8888888888888888,
              "#fdca26"
             ],
             [
              1,
              "#f0f921"
             ]
            ],
            "type": "histogram2d"
           }
          ],
          "histogram2dcontour": [
           {
            "colorbar": {
             "outlinewidth": 0,
             "ticks": ""
            },
            "colorscale": [
             [
              0,
              "#0d0887"
             ],
             [
              0.1111111111111111,
              "#46039f"
             ],
             [
              0.2222222222222222,
              "#7201a8"
             ],
             [
              0.3333333333333333,
              "#9c179e"
             ],
             [
              0.4444444444444444,
              "#bd3786"
             ],
             [
              0.5555555555555556,
              "#d8576b"
             ],
             [
              0.6666666666666666,
              "#ed7953"
             ],
             [
              0.7777777777777778,
              "#fb9f3a"
             ],
             [
              0.8888888888888888,
              "#fdca26"
             ],
             [
              1,
              "#f0f921"
             ]
            ],
            "type": "histogram2dcontour"
           }
          ],
          "mesh3d": [
           {
            "colorbar": {
             "outlinewidth": 0,
             "ticks": ""
            },
            "type": "mesh3d"
           }
          ],
          "parcoords": [
           {
            "line": {
             "colorbar": {
              "outlinewidth": 0,
              "ticks": ""
             }
            },
            "type": "parcoords"
           }
          ],
          "pie": [
           {
            "automargin": true,
            "type": "pie"
           }
          ],
          "scatter": [
           {
            "fillpattern": {
             "fillmode": "overlay",
             "size": 10,
             "solidity": 0.2
            },
            "type": "scatter"
           }
          ],
          "scatter3d": [
           {
            "line": {
             "colorbar": {
              "outlinewidth": 0,
              "ticks": ""
             }
            },
            "marker": {
             "colorbar": {
              "outlinewidth": 0,
              "ticks": ""
             }
            },
            "type": "scatter3d"
           }
          ],
          "scattercarpet": [
           {
            "marker": {
             "colorbar": {
              "outlinewidth": 0,
              "ticks": ""
             }
            },
            "type": "scattercarpet"
           }
          ],
          "scattergeo": [
           {
            "marker": {
             "colorbar": {
              "outlinewidth": 0,
              "ticks": ""
             }
            },
            "type": "scattergeo"
           }
          ],
          "scattergl": [
           {
            "marker": {
             "colorbar": {
              "outlinewidth": 0,
              "ticks": ""
             }
            },
            "type": "scattergl"
           }
          ],
          "scattermapbox": [
           {
            "marker": {
             "colorbar": {
              "outlinewidth": 0,
              "ticks": ""
             }
            },
            "type": "scattermapbox"
           }
          ],
          "scatterpolar": [
           {
            "marker": {
             "colorbar": {
              "outlinewidth": 0,
              "ticks": ""
             }
            },
            "type": "scatterpolar"
           }
          ],
          "scatterpolargl": [
           {
            "marker": {
             "colorbar": {
              "outlinewidth": 0,
              "ticks": ""
             }
            },
            "type": "scatterpolargl"
           }
          ],
          "scatterternary": [
           {
            "marker": {
             "colorbar": {
              "outlinewidth": 0,
              "ticks": ""
             }
            },
            "type": "scatterternary"
           }
          ],
          "surface": [
           {
            "colorbar": {
             "outlinewidth": 0,
             "ticks": ""
            },
            "colorscale": [
             [
              0,
              "#0d0887"
             ],
             [
              0.1111111111111111,
              "#46039f"
             ],
             [
              0.2222222222222222,
              "#7201a8"
             ],
             [
              0.3333333333333333,
              "#9c179e"
             ],
             [
              0.4444444444444444,
              "#bd3786"
             ],
             [
              0.5555555555555556,
              "#d8576b"
             ],
             [
              0.6666666666666666,
              "#ed7953"
             ],
             [
              0.7777777777777778,
              "#fb9f3a"
             ],
             [
              0.8888888888888888,
              "#fdca26"
             ],
             [
              1,
              "#f0f921"
             ]
            ],
            "type": "surface"
           }
          ],
          "table": [
           {
            "cells": {
             "fill": {
              "color": "#EBF0F8"
             },
             "line": {
              "color": "white"
             }
            },
            "header": {
             "fill": {
              "color": "#C8D4E3"
             },
             "line": {
              "color": "white"
             }
            },
            "type": "table"
           }
          ]
         },
         "layout": {
          "annotationdefaults": {
           "arrowcolor": "#2a3f5f",
           "arrowhead": 0,
           "arrowwidth": 1
          },
          "autotypenumbers": "strict",
          "coloraxis": {
           "colorbar": {
            "outlinewidth": 0,
            "ticks": ""
           }
          },
          "colorscale": {
           "diverging": [
            [
             0,
             "#8e0152"
            ],
            [
             0.1,
             "#c51b7d"
            ],
            [
             0.2,
             "#de77ae"
            ],
            [
             0.3,
             "#f1b6da"
            ],
            [
             0.4,
             "#fde0ef"
            ],
            [
             0.5,
             "#f7f7f7"
            ],
            [
             0.6,
             "#e6f5d0"
            ],
            [
             0.7,
             "#b8e186"
            ],
            [
             0.8,
             "#7fbc41"
            ],
            [
             0.9,
             "#4d9221"
            ],
            [
             1,
             "#276419"
            ]
           ],
           "sequential": [
            [
             0,
             "#0d0887"
            ],
            [
             0.1111111111111111,
             "#46039f"
            ],
            [
             0.2222222222222222,
             "#7201a8"
            ],
            [
             0.3333333333333333,
             "#9c179e"
            ],
            [
             0.4444444444444444,
             "#bd3786"
            ],
            [
             0.5555555555555556,
             "#d8576b"
            ],
            [
             0.6666666666666666,
             "#ed7953"
            ],
            [
             0.7777777777777778,
             "#fb9f3a"
            ],
            [
             0.8888888888888888,
             "#fdca26"
            ],
            [
             1,
             "#f0f921"
            ]
           ],
           "sequentialminus": [
            [
             0,
             "#0d0887"
            ],
            [
             0.1111111111111111,
             "#46039f"
            ],
            [
             0.2222222222222222,
             "#7201a8"
            ],
            [
             0.3333333333333333,
             "#9c179e"
            ],
            [
             0.4444444444444444,
             "#bd3786"
            ],
            [
             0.5555555555555556,
             "#d8576b"
            ],
            [
             0.6666666666666666,
             "#ed7953"
            ],
            [
             0.7777777777777778,
             "#fb9f3a"
            ],
            [
             0.8888888888888888,
             "#fdca26"
            ],
            [
             1,
             "#f0f921"
            ]
           ]
          },
          "colorway": [
           "#636efa",
           "#EF553B",
           "#00cc96",
           "#ab63fa",
           "#FFA15A",
           "#19d3f3",
           "#FF6692",
           "#B6E880",
           "#FF97FF",
           "#FECB52"
          ],
          "font": {
           "color": "#2a3f5f"
          },
          "geo": {
           "bgcolor": "white",
           "lakecolor": "white",
           "landcolor": "#E5ECF6",
           "showlakes": true,
           "showland": true,
           "subunitcolor": "white"
          },
          "hoverlabel": {
           "align": "left"
          },
          "hovermode": "closest",
          "mapbox": {
           "style": "light"
          },
          "paper_bgcolor": "white",
          "plot_bgcolor": "#E5ECF6",
          "polar": {
           "angularaxis": {
            "gridcolor": "white",
            "linecolor": "white",
            "ticks": ""
           },
           "bgcolor": "#E5ECF6",
           "radialaxis": {
            "gridcolor": "white",
            "linecolor": "white",
            "ticks": ""
           }
          },
          "scene": {
           "xaxis": {
            "backgroundcolor": "#E5ECF6",
            "gridcolor": "white",
            "gridwidth": 2,
            "linecolor": "white",
            "showbackground": true,
            "ticks": "",
            "zerolinecolor": "white"
           },
           "yaxis": {
            "backgroundcolor": "#E5ECF6",
            "gridcolor": "white",
            "gridwidth": 2,
            "linecolor": "white",
            "showbackground": true,
            "ticks": "",
            "zerolinecolor": "white"
           },
           "zaxis": {
            "backgroundcolor": "#E5ECF6",
            "gridcolor": "white",
            "gridwidth": 2,
            "linecolor": "white",
            "showbackground": true,
            "ticks": "",
            "zerolinecolor": "white"
           }
          },
          "shapedefaults": {
           "line": {
            "color": "#2a3f5f"
           }
          },
          "ternary": {
           "aaxis": {
            "gridcolor": "white",
            "linecolor": "white",
            "ticks": ""
           },
           "baxis": {
            "gridcolor": "white",
            "linecolor": "white",
            "ticks": ""
           },
           "bgcolor": "#E5ECF6",
           "caxis": {
            "gridcolor": "white",
            "linecolor": "white",
            "ticks": ""
           }
          },
          "title": {
           "x": 0.05
          },
          "xaxis": {
           "automargin": true,
           "gridcolor": "white",
           "linecolor": "white",
           "ticks": "",
           "title": {
            "standoff": 15
           },
           "zerolinecolor": "white",
           "zerolinewidth": 2
          },
          "yaxis": {
           "automargin": true,
           "gridcolor": "white",
           "linecolor": "white",
           "ticks": "",
           "title": {
            "standoff": 15
           },
           "zerolinecolor": "white",
           "zerolinewidth": 2
          }
         }
        },
        "title": {
         "text": "Fitness Evolution Over Generations"
        },
        "xaxis": {
         "gridcolor": "purple",
         "gridwidth": 0.5,
         "linecolor": "black",
         "linewidth": 2,
         "mirror": true,
         "showline": true,
         "title": {
          "text": "Generations"
         }
        },
        "yaxis": {
         "gridcolor": "purple",
         "gridwidth": 0.5,
         "linecolor": "black",
         "linewidth": 2,
         "mirror": true,
         "showline": true,
         "title": {
          "text": "Fitness"
         }
        }
       }
      }
     },
     "metadata": {},
     "output_type": "display_data"
    }
   ],
   "source": [
    "fig = go.Figure()\n",
    "fig.add_trace(go.Scatter(x=list(range(len(fitness_history))), y=fitness_history, mode='lines', name='Fitness', line=dict(color='blue')))\n",
    "fig.update_xaxes(showline=True, linewidth=2, linecolor='black', mirror=True, gridcolor='purple', gridwidth=0.5)\n",
    "fig.update_yaxes(showline=True, linewidth=2, linecolor='black', mirror=True, gridcolor='purple', gridwidth=0.5)\n",
    "fig.update_layout(\n",
    "    title=\"Fitness Evolution Over Generations\",\n",
    "    xaxis_title=\"Generations\",\n",
    "    yaxis_title=\"Fitness\",\n",
    "    paper_bgcolor = 'rgba(0,0,0,0)', \n",
    "    plot_bgcolor = 'rgba(0,0,0,0)',\n",
    "    font=dict(color=\"white\"),\n",
    ")\n",
    "\n",
    "fig.show()"
   ]
  },
  {
   "cell_type": "code",
   "execution_count": 111,
   "metadata": {},
   "outputs": [
    {
     "data": {
      "application/vnd.plotly.v1+json": {
       "config": {
        "plotlyServerURL": "https://plot.ly"
       },
       "data": [
        {
         "line": {
          "color": "violet"
         },
         "marker": {
          "color": "grey",
          "size": 8,
          "symbol": "circle"
         },
         "mode": "lines+markers",
         "name": "Errors per generations",
         "type": "scatter",
         "x": [
          0,
          1,
          2,
          3,
          4,
          5,
          6,
          7,
          8,
          9,
          10,
          11,
          12,
          13,
          14,
          15,
          16,
          17,
          18,
          19
         ],
         "y": [
          0.0015791551519936942,
          0.0015791551519936942,
          0.0015791551519936942,
          0.0015791551519936942,
          0.0015791551519936942,
          0.0015791551519936942,
          0.0015791551519936942,
          0.0015791551519936942,
          0.0015791551519936942,
          0.0015791551519936942,
          0.0015791551519936942,
          0.0015791551519936942,
          0.0015791551519936942,
          0.0015791551519936942,
          0.0015791551519936942,
          0.0015791551519936942,
          0.0015791551519936942,
          0.0015791551519936942,
          0.0015791551519936942,
          0.0015791551519936942
         ]
        }
       ],
       "layout": {
        "font": {
         "color": "white"
        },
        "paper_bgcolor": "rgba(0,0,0,0)",
        "plot_bgcolor": "rgba(0,0,0,0)",
        "template": {
         "data": {
          "bar": [
           {
            "error_x": {
             "color": "#2a3f5f"
            },
            "error_y": {
             "color": "#2a3f5f"
            },
            "marker": {
             "line": {
              "color": "#E5ECF6",
              "width": 0.5
             },
             "pattern": {
              "fillmode": "overlay",
              "size": 10,
              "solidity": 0.2
             }
            },
            "type": "bar"
           }
          ],
          "barpolar": [
           {
            "marker": {
             "line": {
              "color": "#E5ECF6",
              "width": 0.5
             },
             "pattern": {
              "fillmode": "overlay",
              "size": 10,
              "solidity": 0.2
             }
            },
            "type": "barpolar"
           }
          ],
          "carpet": [
           {
            "aaxis": {
             "endlinecolor": "#2a3f5f",
             "gridcolor": "white",
             "linecolor": "white",
             "minorgridcolor": "white",
             "startlinecolor": "#2a3f5f"
            },
            "baxis": {
             "endlinecolor": "#2a3f5f",
             "gridcolor": "white",
             "linecolor": "white",
             "minorgridcolor": "white",
             "startlinecolor": "#2a3f5f"
            },
            "type": "carpet"
           }
          ],
          "choropleth": [
           {
            "colorbar": {
             "outlinewidth": 0,
             "ticks": ""
            },
            "type": "choropleth"
           }
          ],
          "contour": [
           {
            "colorbar": {
             "outlinewidth": 0,
             "ticks": ""
            },
            "colorscale": [
             [
              0,
              "#0d0887"
             ],
             [
              0.1111111111111111,
              "#46039f"
             ],
             [
              0.2222222222222222,
              "#7201a8"
             ],
             [
              0.3333333333333333,
              "#9c179e"
             ],
             [
              0.4444444444444444,
              "#bd3786"
             ],
             [
              0.5555555555555556,
              "#d8576b"
             ],
             [
              0.6666666666666666,
              "#ed7953"
             ],
             [
              0.7777777777777778,
              "#fb9f3a"
             ],
             [
              0.8888888888888888,
              "#fdca26"
             ],
             [
              1,
              "#f0f921"
             ]
            ],
            "type": "contour"
           }
          ],
          "contourcarpet": [
           {
            "colorbar": {
             "outlinewidth": 0,
             "ticks": ""
            },
            "type": "contourcarpet"
           }
          ],
          "heatmap": [
           {
            "colorbar": {
             "outlinewidth": 0,
             "ticks": ""
            },
            "colorscale": [
             [
              0,
              "#0d0887"
             ],
             [
              0.1111111111111111,
              "#46039f"
             ],
             [
              0.2222222222222222,
              "#7201a8"
             ],
             [
              0.3333333333333333,
              "#9c179e"
             ],
             [
              0.4444444444444444,
              "#bd3786"
             ],
             [
              0.5555555555555556,
              "#d8576b"
             ],
             [
              0.6666666666666666,
              "#ed7953"
             ],
             [
              0.7777777777777778,
              "#fb9f3a"
             ],
             [
              0.8888888888888888,
              "#fdca26"
             ],
             [
              1,
              "#f0f921"
             ]
            ],
            "type": "heatmap"
           }
          ],
          "heatmapgl": [
           {
            "colorbar": {
             "outlinewidth": 0,
             "ticks": ""
            },
            "colorscale": [
             [
              0,
              "#0d0887"
             ],
             [
              0.1111111111111111,
              "#46039f"
             ],
             [
              0.2222222222222222,
              "#7201a8"
             ],
             [
              0.3333333333333333,
              "#9c179e"
             ],
             [
              0.4444444444444444,
              "#bd3786"
             ],
             [
              0.5555555555555556,
              "#d8576b"
             ],
             [
              0.6666666666666666,
              "#ed7953"
             ],
             [
              0.7777777777777778,
              "#fb9f3a"
             ],
             [
              0.8888888888888888,
              "#fdca26"
             ],
             [
              1,
              "#f0f921"
             ]
            ],
            "type": "heatmapgl"
           }
          ],
          "histogram": [
           {
            "marker": {
             "pattern": {
              "fillmode": "overlay",
              "size": 10,
              "solidity": 0.2
             }
            },
            "type": "histogram"
           }
          ],
          "histogram2d": [
           {
            "colorbar": {
             "outlinewidth": 0,
             "ticks": ""
            },
            "colorscale": [
             [
              0,
              "#0d0887"
             ],
             [
              0.1111111111111111,
              "#46039f"
             ],
             [
              0.2222222222222222,
              "#7201a8"
             ],
             [
              0.3333333333333333,
              "#9c179e"
             ],
             [
              0.4444444444444444,
              "#bd3786"
             ],
             [
              0.5555555555555556,
              "#d8576b"
             ],
             [
              0.6666666666666666,
              "#ed7953"
             ],
             [
              0.7777777777777778,
              "#fb9f3a"
             ],
             [
              0.8888888888888888,
              "#fdca26"
             ],
             [
              1,
              "#f0f921"
             ]
            ],
            "type": "histogram2d"
           }
          ],
          "histogram2dcontour": [
           {
            "colorbar": {
             "outlinewidth": 0,
             "ticks": ""
            },
            "colorscale": [
             [
              0,
              "#0d0887"
             ],
             [
              0.1111111111111111,
              "#46039f"
             ],
             [
              0.2222222222222222,
              "#7201a8"
             ],
             [
              0.3333333333333333,
              "#9c179e"
             ],
             [
              0.4444444444444444,
              "#bd3786"
             ],
             [
              0.5555555555555556,
              "#d8576b"
             ],
             [
              0.6666666666666666,
              "#ed7953"
             ],
             [
              0.7777777777777778,
              "#fb9f3a"
             ],
             [
              0.8888888888888888,
              "#fdca26"
             ],
             [
              1,
              "#f0f921"
             ]
            ],
            "type": "histogram2dcontour"
           }
          ],
          "mesh3d": [
           {
            "colorbar": {
             "outlinewidth": 0,
             "ticks": ""
            },
            "type": "mesh3d"
           }
          ],
          "parcoords": [
           {
            "line": {
             "colorbar": {
              "outlinewidth": 0,
              "ticks": ""
             }
            },
            "type": "parcoords"
           }
          ],
          "pie": [
           {
            "automargin": true,
            "type": "pie"
           }
          ],
          "scatter": [
           {
            "fillpattern": {
             "fillmode": "overlay",
             "size": 10,
             "solidity": 0.2
            },
            "type": "scatter"
           }
          ],
          "scatter3d": [
           {
            "line": {
             "colorbar": {
              "outlinewidth": 0,
              "ticks": ""
             }
            },
            "marker": {
             "colorbar": {
              "outlinewidth": 0,
              "ticks": ""
             }
            },
            "type": "scatter3d"
           }
          ],
          "scattercarpet": [
           {
            "marker": {
             "colorbar": {
              "outlinewidth": 0,
              "ticks": ""
             }
            },
            "type": "scattercarpet"
           }
          ],
          "scattergeo": [
           {
            "marker": {
             "colorbar": {
              "outlinewidth": 0,
              "ticks": ""
             }
            },
            "type": "scattergeo"
           }
          ],
          "scattergl": [
           {
            "marker": {
             "colorbar": {
              "outlinewidth": 0,
              "ticks": ""
             }
            },
            "type": "scattergl"
           }
          ],
          "scattermapbox": [
           {
            "marker": {
             "colorbar": {
              "outlinewidth": 0,
              "ticks": ""
             }
            },
            "type": "scattermapbox"
           }
          ],
          "scatterpolar": [
           {
            "marker": {
             "colorbar": {
              "outlinewidth": 0,
              "ticks": ""
             }
            },
            "type": "scatterpolar"
           }
          ],
          "scatterpolargl": [
           {
            "marker": {
             "colorbar": {
              "outlinewidth": 0,
              "ticks": ""
             }
            },
            "type": "scatterpolargl"
           }
          ],
          "scatterternary": [
           {
            "marker": {
             "colorbar": {
              "outlinewidth": 0,
              "ticks": ""
             }
            },
            "type": "scatterternary"
           }
          ],
          "surface": [
           {
            "colorbar": {
             "outlinewidth": 0,
             "ticks": ""
            },
            "colorscale": [
             [
              0,
              "#0d0887"
             ],
             [
              0.1111111111111111,
              "#46039f"
             ],
             [
              0.2222222222222222,
              "#7201a8"
             ],
             [
              0.3333333333333333,
              "#9c179e"
             ],
             [
              0.4444444444444444,
              "#bd3786"
             ],
             [
              0.5555555555555556,
              "#d8576b"
             ],
             [
              0.6666666666666666,
              "#ed7953"
             ],
             [
              0.7777777777777778,
              "#fb9f3a"
             ],
             [
              0.8888888888888888,
              "#fdca26"
             ],
             [
              1,
              "#f0f921"
             ]
            ],
            "type": "surface"
           }
          ],
          "table": [
           {
            "cells": {
             "fill": {
              "color": "#EBF0F8"
             },
             "line": {
              "color": "white"
             }
            },
            "header": {
             "fill": {
              "color": "#C8D4E3"
             },
             "line": {
              "color": "white"
             }
            },
            "type": "table"
           }
          ]
         },
         "layout": {
          "annotationdefaults": {
           "arrowcolor": "#2a3f5f",
           "arrowhead": 0,
           "arrowwidth": 1
          },
          "autotypenumbers": "strict",
          "coloraxis": {
           "colorbar": {
            "outlinewidth": 0,
            "ticks": ""
           }
          },
          "colorscale": {
           "diverging": [
            [
             0,
             "#8e0152"
            ],
            [
             0.1,
             "#c51b7d"
            ],
            [
             0.2,
             "#de77ae"
            ],
            [
             0.3,
             "#f1b6da"
            ],
            [
             0.4,
             "#fde0ef"
            ],
            [
             0.5,
             "#f7f7f7"
            ],
            [
             0.6,
             "#e6f5d0"
            ],
            [
             0.7,
             "#b8e186"
            ],
            [
             0.8,
             "#7fbc41"
            ],
            [
             0.9,
             "#4d9221"
            ],
            [
             1,
             "#276419"
            ]
           ],
           "sequential": [
            [
             0,
             "#0d0887"
            ],
            [
             0.1111111111111111,
             "#46039f"
            ],
            [
             0.2222222222222222,
             "#7201a8"
            ],
            [
             0.3333333333333333,
             "#9c179e"
            ],
            [
             0.4444444444444444,
             "#bd3786"
            ],
            [
             0.5555555555555556,
             "#d8576b"
            ],
            [
             0.6666666666666666,
             "#ed7953"
            ],
            [
             0.7777777777777778,
             "#fb9f3a"
            ],
            [
             0.8888888888888888,
             "#fdca26"
            ],
            [
             1,
             "#f0f921"
            ]
           ],
           "sequentialminus": [
            [
             0,
             "#0d0887"
            ],
            [
             0.1111111111111111,
             "#46039f"
            ],
            [
             0.2222222222222222,
             "#7201a8"
            ],
            [
             0.3333333333333333,
             "#9c179e"
            ],
            [
             0.4444444444444444,
             "#bd3786"
            ],
            [
             0.5555555555555556,
             "#d8576b"
            ],
            [
             0.6666666666666666,
             "#ed7953"
            ],
            [
             0.7777777777777778,
             "#fb9f3a"
            ],
            [
             0.8888888888888888,
             "#fdca26"
            ],
            [
             1,
             "#f0f921"
            ]
           ]
          },
          "colorway": [
           "#636efa",
           "#EF553B",
           "#00cc96",
           "#ab63fa",
           "#FFA15A",
           "#19d3f3",
           "#FF6692",
           "#B6E880",
           "#FF97FF",
           "#FECB52"
          ],
          "font": {
           "color": "#2a3f5f"
          },
          "geo": {
           "bgcolor": "white",
           "lakecolor": "white",
           "landcolor": "#E5ECF6",
           "showlakes": true,
           "showland": true,
           "subunitcolor": "white"
          },
          "hoverlabel": {
           "align": "left"
          },
          "hovermode": "closest",
          "mapbox": {
           "style": "light"
          },
          "paper_bgcolor": "white",
          "plot_bgcolor": "#E5ECF6",
          "polar": {
           "angularaxis": {
            "gridcolor": "white",
            "linecolor": "white",
            "ticks": ""
           },
           "bgcolor": "#E5ECF6",
           "radialaxis": {
            "gridcolor": "white",
            "linecolor": "white",
            "ticks": ""
           }
          },
          "scene": {
           "xaxis": {
            "backgroundcolor": "#E5ECF6",
            "gridcolor": "white",
            "gridwidth": 2,
            "linecolor": "white",
            "showbackground": true,
            "ticks": "",
            "zerolinecolor": "white"
           },
           "yaxis": {
            "backgroundcolor": "#E5ECF6",
            "gridcolor": "white",
            "gridwidth": 2,
            "linecolor": "white",
            "showbackground": true,
            "ticks": "",
            "zerolinecolor": "white"
           },
           "zaxis": {
            "backgroundcolor": "#E5ECF6",
            "gridcolor": "white",
            "gridwidth": 2,
            "linecolor": "white",
            "showbackground": true,
            "ticks": "",
            "zerolinecolor": "white"
           }
          },
          "shapedefaults": {
           "line": {
            "color": "#2a3f5f"
           }
          },
          "ternary": {
           "aaxis": {
            "gridcolor": "white",
            "linecolor": "white",
            "ticks": ""
           },
           "baxis": {
            "gridcolor": "white",
            "linecolor": "white",
            "ticks": ""
           },
           "bgcolor": "#E5ECF6",
           "caxis": {
            "gridcolor": "white",
            "linecolor": "white",
            "ticks": ""
           }
          },
          "title": {
           "x": 0.05
          },
          "xaxis": {
           "automargin": true,
           "gridcolor": "white",
           "linecolor": "white",
           "ticks": "",
           "title": {
            "standoff": 15
           },
           "zerolinecolor": "white",
           "zerolinewidth": 2
          },
          "yaxis": {
           "automargin": true,
           "gridcolor": "white",
           "linecolor": "white",
           "ticks": "",
           "title": {
            "standoff": 15
           },
           "zerolinecolor": "white",
           "zerolinewidth": 2
          }
         }
        },
        "title": {
         "text": "Evolution of Minimum Classification Error Over Generations"
        },
        "xaxis": {
         "gridcolor": "purple",
         "gridwidth": 0.5,
         "linecolor": "black",
         "linewidth": 2,
         "mirror": true,
         "showline": true,
         "title": {
          "text": "Generations"
         }
        },
        "yaxis": {
         "gridcolor": "purple",
         "gridwidth": 0.5,
         "linecolor": "black",
         "linewidth": 2,
         "mirror": true,
         "showline": true,
         "title": {
          "text": "Classification Error"
         }
        }
       }
      }
     },
     "metadata": {},
     "output_type": "display_data"
    }
   ],
   "source": [
    "errors_per_generation = [error for _, error in best_chromosome_per_generation]\n",
    "\n",
    "fig = go.Figure()\n",
    "fig.add_trace(go.Scatter(x=list(range(len(errors_per_generation))), y=errors_per_generation, mode='lines+markers', name='Errors per generations', line=dict(color='violet'), marker=dict(symbol='circle', size=8, color='grey')))\n",
    "\n",
    "fig.update_xaxes(showline=True, linewidth=2, linecolor='black', mirror=True, gridcolor='purple', gridwidth=0.5)\n",
    "fig.update_yaxes(showline=True, linewidth=2, linecolor='black', mirror=True, gridcolor='purple', gridwidth=0.5)\n",
    "fig.update_layout(\n",
    "    title=\"Evolution of Minimum Classification Error Over Generations\",\n",
    "    xaxis_title=\"Generations\",\n",
    "    yaxis_title=\"Classification Error\",\n",
    "    paper_bgcolor = 'rgba(0,0,0,0)', \n",
    "    plot_bgcolor = 'rgba(0,0,0,0)',\n",
    "    font=dict(color=\"white\"),\n",
    ")\n",
    "\n",
    "fig.show()"
   ]
  },
  {
   "cell_type": "code",
   "execution_count": 112,
   "metadata": {},
   "outputs": [
    {
     "name": "stdout",
     "output_type": "stream",
     "text": [
      "Précision du MLP seul: 0.9988\n",
      "Précision du MLP optimisé par AG: 0.9992\n",
      "Le MLP optimisé par AG a une meilleure précision que le MLP seul.\n"
     ]
    }
   ],
   "source": [
    "# Précision du MLP seul\n",
    "accuracy_mlp_seul = accuracy\n",
    "\n",
    "# Précision du MLP optimisé par AG\n",
    "accuracy_mlp_optimise = test_accuracy\n",
    "\n",
    "# Afficher les résultats\n",
    "print(f\"Précision du MLP seul: {accuracy_mlp_seul:.4f}\")\n",
    "print(f\"Précision du MLP optimisé par AG: {accuracy_mlp_optimise:.4f}\")\n",
    "\n",
    "# Comparer les résultats\n",
    "if accuracy_mlp_optimise > accuracy_mlp_seul:\n",
    "    print(\"Le MLP optimisé par AG a une meilleure précision que le MLP seul.\")\n",
    "elif accuracy_mlp_optimise < accuracy_mlp_seul:\n",
    "    print(\"Le MLP seul a une meilleure précision que le MLP optimisé par AG.\")\n",
    "else:\n",
    "    print(\"Les deux modèles ont la même précision.\")"
   ]
  }
 ],
 "metadata": {
  "kernelspec": {
   "display_name": "Python 3",
   "language": "python",
   "name": "python3"
  },
  "language_info": {
   "codemirror_mode": {
    "name": "ipython",
    "version": 3
   },
   "file_extension": ".py",
   "mimetype": "text/x-python",
   "name": "python",
   "nbconvert_exporter": "python",
   "pygments_lexer": "ipython3",
   "version": "3.9.11"
  }
 },
 "nbformat": 4,
 "nbformat_minor": 2
}

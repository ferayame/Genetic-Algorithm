{
 "cells": [
  {
   "cell_type": "markdown",
   "metadata": {},
   "source": [
    "# Genetic Algorithm MLP"
   ]
  },
  {
   "cell_type": "code",
   "execution_count": 23,
   "metadata": {},
   "outputs": [],
   "source": [
    "import numpy as np\n",
    "from sklearn.model_selection import train_test_split\n",
    "from tensorflow.keras.datasets import mnist\n",
    "\n",
    "(X_train_full, y_train_full), (X_test_full, y_test_full) = mnist.load_data()\n",
    "\n",
    "# Filtering the data getting only 0s and\n",
    "train_filter = np.where((y_train_full == 0) | (y_train_full == 1))\n",
    "#test_filter = np.where((y_test_full == 0) | (y_test_full == 1))\n",
    "\n",
    "X_train_full, y_train_full = X_train_full[train_filter], y_train_full[train_filter]\n",
    "#X_test_full, y_test_full = X_test_full[test_filter], y_test_full[test_filter]\n"
   ]
  },
  {
   "cell_type": "code",
   "execution_count": 24,
   "metadata": {},
   "outputs": [],
   "source": [
    "# Normalize the pixel values\n",
    "X_train_full = X_train_full.astype('float32') / 255.0\n",
    "#X_test_full = X_test_full.astype('float32') / 255.0\n",
    "\n",
    "# Flatten the images\n",
    "X_train_full = X_train_full.reshape(X_train_full.shape[0], -1)\n",
    "#X_test_full = X_test_full.reshape(X_test_full.shape[0], -1)\n",
    "\n",
    "# Split the dataset into training (60%), validation (20%), and test (20%) sets\n",
    "X_train, X_temp, y_train, y_temp = train_test_split(X_train_full, y_train_full, test_size=0.4, random_state=42)\n",
    "X_val, X_test, y_val, y_test = train_test_split(X_temp, y_temp, test_size=0.5, random_state=42)"
   ]
  },
  {
   "cell_type": "code",
   "execution_count": 25,
   "metadata": {},
   "outputs": [
    {
     "name": "stdout",
     "output_type": "stream",
     "text": [
      "Training set size: 7599\n",
      "Validation set size: 2533\n",
      "Test set size: 2533\n"
     ]
    }
   ],
   "source": [
    "print(f\"Training set size: {X_train.shape[0]}\")\n",
    "print(f\"Validation set size: {X_val.shape[0]}\")\n",
    "print(f\"Test set size: {X_test.shape[0]}\")"
   ]
  },
  {
   "cell_type": "code",
   "execution_count": 22,
   "metadata": {},
   "outputs": [
    {
     "data": {
      "image/png": "[encoded data removed]",
      "text/plain": [
       "<Figure size 1000x500 with 2 Axes>"
      ]
     },
     "metadata": {},
     "output_type": "display_data"
    }
   ],
   "source": [
    "import matplotlib.pyplot as plt\n",
    "import matplotlib.image as mpimg\n",
    "\n",
    "image1 = mpimg.imread(\"mnist_images\\\\image_4.png\")\n",
    "image2 = mpimg.imread(\"mnist_images\\\\image_12663.png\")\n",
    "\n",
    "fig, axes = plt.subplots(1, 2, figsize=(10, 5))  # 1 row, 2 columns\n",
    "\n",
    "axes[0].imshow(image1)\n",
    "axes[0].axis('off') \n",
    "\n",
    "axes[1].imshow(image2)\n",
    "axes[1].axis('off') \n",
    "\n",
    "plt.tight_layout() \n",
    "plt.show()"
   ]
  },
  {
   "cell_type": "code",
   "execution_count": 26,
   "metadata": {},
   "outputs": [
    {
     "name": "stdout",
     "output_type": "stream",
     "text": [
      "Iteration 1, loss = 0.03932555\n",
      "Iteration 2, loss = 0.00346917\n",
      "Iteration 3, loss = 0.00210023\n",
      "Iteration 4, loss = 0.00171234\n",
      "Iteration 5, loss = 0.00114470\n",
      "Iteration 6, loss = 0.00043892\n",
      "Iteration 7, loss = 0.00041760\n",
      "Iteration 8, loss = 0.00017650\n",
      "Iteration 9, loss = 0.00013758\n",
      "Iteration 10, loss = 0.00012392\n",
      "Iteration 11, loss = 0.00011358\n",
      "Iteration 12, loss = 0.00010062\n",
      "Iteration 13, loss = 0.00009322\n",
      "Iteration 14, loss = 0.00008725\n",
      "Iteration 15, loss = 0.00008298\n",
      "Iteration 16, loss = 0.00008063\n",
      "Iteration 17, loss = 0.00007707\n",
      "Iteration 18, loss = 0.00007548\n",
      "Iteration 19, loss = 0.00007303\n",
      "Training loss did not improve more than tol=0.000100 for 10 consecutive epochs. Stopping.\n",
      "Accuracy: 0.9988\n"
     ]
    }
   ],
   "source": [
    "from sklearn.neural_network import MLPClassifier\n",
    "from sklearn.metrics import accuracy_score\n",
    "\n",
    "mlp = MLPClassifier(hidden_layer_sizes=(50,), max_iter=200, alpha=0.0001,\n",
    "                    solver='adam', verbose=10, random_state=42,\n",
    "                    learning_rate_init=0.01)\n",
    "\n",
    "mlp.fit(X_train.reshape(X_train.shape[0], -1), y_train)\n",
    "\n",
    "y_pred = mlp.predict(X_test.reshape(X_test.shape[0], -1))\n",
    "accuracy = accuracy_score(y_test, y_pred)\n",
    "print(f\"Accuracy: {accuracy:.4f}\")"
   ]
  },
  {
   "cell_type": "code",
   "execution_count": 30,
   "metadata": {},
   "outputs": [
    {
     "data": {
      "application/vnd.plotly.v1+json": {
       "config": {
        "plotlyServerURL": "https://plot.ly"
       },
       "data": [
        {
         "line": {
          "color": "royalblue"
         },
         "mode": "lines",
         "name": "Training Loss",
         "type": "scatter",
         "x": [
          0,
          1,
          2,
          3,
          4,
          5,
          6,
          7,
          8,
          9,
          10,
          11,
          12,
          13,
          14,
          15,
          16,
          17,
          18
         ],
         "y": [
          0.03932554639868845,
          0.003469172297784006,
          0.002100226458308206,
          0.001712340667782007,
          0.0011446998157518238,
          0.0004389207470253229,
          0.00041759933672219846,
          0.00017649811410685895,
          0.00013758425885975674,
          0.0001239155556967343,
          0.00011358423384069072,
          0.00010062410532829568,
          0.00009322249674089536,
          0.00008724667880120926,
          0.00008298053592389674,
          0.00008063218722132535,
          0.00007706656165968812,
          0.0000754839549716396,
          0.00007302736991930873
         ]
        }
       ],
       "layout": {
        "font": {
         "color": "white"
        },
        "paper_bgcolor": "rgba(0,0,0,0)",
        "plot_bgcolor": "rgba(0,0,0,0)",
        "template": {
         "data": {
          "bar": [
           {
            "error_x": {
             "color": "#2a3f5f"
            },
            "error_y": {
             "color": "#2a3f5f"
            },
            "marker": {
             "line": {
              "color": "#E5ECF6",
              "width": 0.5
             },
             "pattern": {
              "fillmode": "overlay",
              "size": 10,
              "solidity": 0.2
             }
            },
            "type": "bar"
           }
          ],
          "barpolar": [
           {
            "marker": {
             "line": {
              "color": "#E5ECF6",
              "width": 0.5
             },
             "pattern": {
              "fillmode": "overlay",
              "size": 10,
              "solidity": 0.2
             }
            },
            "type": "barpolar"
           }
          ],
          "carpet": [
           {
            "aaxis": {
             "endlinecolor": "#2a3f5f",
             "gridcolor": "white",
             "linecolor": "white",
             "minorgridcolor": "white",
             "startlinecolor": "#2a3f5f"
            },
            "baxis": {
             "endlinecolor": "#2a3f5f",
             "gridcolor": "white",
             "linecolor": "white",
             "minorgridcolor": "white",
             "startlinecolor": "#2a3f5f"
            },
            "type": "carpet"
           }
          ],
          "choropleth": [
           {
            "colorbar": {
             "outlinewidth": 0,
             "ticks": ""
            },
            "type": "choropleth"
           }
          ],
          "contour": [
           {
            "colorbar": {
             "outlinewidth": 0,
             "ticks": ""
            },
            "colorscale": [
             [
              0,
              "#0d0887"
             ],
             [
              0.1111111111111111,
              "#46039f"
             ],
             [
              0.2222222222222222,
              "#7201a8"
             ],
             [
              0.3333333333333333,
              "#9c179e"
             ],
             [
              0.4444444444444444,
              "#bd3786"
             ],
             [
              0.5555555555555556,
              "#d8576b"
             ],
             [
              0.6666666666666666,
              "#ed7953"
             ],
             [
              0.7777777777777778,
              "#fb9f3a"
             ],
             [
              0.8888888888888888,
              "#fdca26"
             ],
             [
              1,
              "#f0f921"
             ]
            ],
            "type": "contour"
           }
          ],
          "contourcarpet": [
           {
            "colorbar": {
             "outlinewidth": 0,
             "ticks": ""
            },
            "type": "contourcarpet"
           }
          ],
          "heatmap": [
           {
            "colorbar": {
             "outlinewidth": 0,
             "ticks": ""
            },
            "colorscale": [
             [
              0,
              "#0d0887"
             ],
             [
              0.1111111111111111,
              "#46039f"
             ],
             [
              0.2222222222222222,
              "#7201a8"
             ],
             [
              0.3333333333333333,
              "#9c179e"
             ],
             [
              0.4444444444444444,
              "#bd3786"
             ],
             [
              0.5555555555555556,
              "#d8576b"
             ],
             [
              0.6666666666666666,
              "#ed7953"
             ],
             [
              0.7777777777777778,
              "#fb9f3a"
             ],
             [
              0.8888888888888888,
              "#fdca26"
             ],
             [
              1,
              "#f0f921"
             ]
            ],
            "type": "heatmap"
           }
          ],
          "heatmapgl": [
           {
            "colorbar": {
             "outlinewidth": 0,
             "ticks": ""
            },
            "colorscale": [
             [
              0,
              "#0d0887"
             ],
             [
              0.1111111111111111,
              "#46039f"
             ],
             [
              0.2222222222222222,
              "#7201a8"
             ],
             [
              0.3333333333333333,
              "#9c179e"
             ],
             [
              0.4444444444444444,
              "#bd3786"
             ],
             [
              0.5555555555555556,
              "#d8576b"
             ],
             [
              0.6666666666666666,
              "#ed7953"
             ],
             [
              0.7777777777777778,
              "#fb9f3a"
             ],
             [
              0.8888888888888888,
              "#fdca26"
             ],
             [
              1,
              "#f0f921"
             ]
            ],
            "type": "heatmapgl"
           }
          ],
          "histogram": [
           {
            "marker": {
             "pattern": {
              "fillmode": "overlay",
              "size": 10,
              "solidity": 0.2
             }
            },
            "type": "histogram"
           }
          ],
          "histogram2d": [
           {
            "colorbar": {
             "outlinewidth": 0,
             "ticks": ""
            },
            "colorscale": [
             [
              0,
              "#0d0887"
             ],
             [
              0.1111111111111111,
              "#46039f"
             ],
             [
              0.2222222222222222,
              "#7201a8"
             ],
             [
              0.3333333333333333,
              "#9c179e"
             ],
             [
              0.4444444444444444,
              "#bd3786"
             ],
             [
              0.5555555555555556,
              "#d8576b"
             ],
             [
              0.6666666666666666,
              "#ed7953"
             ],
             [
              0.7777777777777778,
              "#fb9f3a"
             ],
             [
              0.8888888888888888,
              "#fdca26"
             ],
             [
              1,
              "#f0f921"
             ]
            ],
            "type": "histogram2d"
           }
          ],
          "histogram2dcontour": [
           {
            "colorbar": {
             "outlinewidth": 0,
             "ticks": ""
            },
            "colorscale": [
             [
              0,
              "#0d0887"
             ],
             [
              0.1111111111111111,
              "#46039f"
             ],
             [
              0.2222222222222222,
              "#7201a8"
             ],
             [
              0.3333333333333333,
              "#9c179e"
             ],
             [
              0.4444444444444444,
              "#bd3786"
             ],
             [
              0.5555555555555556,
              "#d8576b"
             ],
             [
              0.6666666666666666,
              "#ed7953"
             ],
             [
              0.7777777777777778,
              "#fb9f3a"
             ],
             [
              0.8888888888888888,
              "#fdca26"
             ],
             [
              1,
              "#f0f921"
             ]
            ],
            "type": "histogram2dcontour"
           }
          ],
          "mesh3d": [
           {
            "colorbar": {
             "outlinewidth": 0,
             "ticks": ""
            },
            "type": "mesh3d"
           }
          ],
          "parcoords": [
           {
            "line": {
             "colorbar": {
              "outlinewidth": 0,
              "ticks": ""
             }
            },
            "type": "parcoords"
           }
          ],
          "pie": [
           {
            "automargin": true,
            "type": "pie"
           }
          ],
          "scatter": [
           {
            "fillpattern": {
             "fillmode": "overlay",
             "size": 10,
             "solidity": 0.2
            },
            "type": "scatter"
           }
          ],
          "scatter3d": [
           {
            "line": {
             "colorbar": {
              "outlinewidth": 0,
              "ticks": ""
             }
            },
            "marker": {
             "colorbar": {
              "outlinewidth": 0,
              "ticks": ""
             }
            },
            "type": "scatter3d"
           }
          ],
          "scattercarpet": [
           {
            "marker": {
             "colorbar": {
              "outlinewidth": 0,
              "ticks": ""
             }
            },
            "type": "scattercarpet"
           }
          ],
          "scattergeo": [
           {
            "marker": {
             "colorbar": {
              "outlinewidth": 0,
              "ticks": ""
             }
            },
            "type": "scattergeo"
           }
          ],
          "scattergl": [
           {
            "marker": {
             "colorbar": {
              "outlinewidth": 0,
              "ticks": ""
             }
            },
            "type": "scattergl"
           }
          ],
          "scattermapbox": [
           {
            "marker": {
             "colorbar": {
              "outlinewidth": 0,
              "ticks": ""
             }
            },
            "type": "scattermapbox"
           }
          ],
          "scatterpolar": [
           {
            "marker": {
             "colorbar": {
              "outlinewidth": 0,
              "ticks": ""
             }
            },
            "type": "scatterpolar"
           }
          ],
          "scatterpolargl": [
           {
            "marker": {
             "colorbar": {
              "outlinewidth": 0,
              "ticks": ""
             }
            },
            "type": "scatterpolargl"
           }
          ],
          "scatterternary": [
           {
            "marker": {
             "colorbar": {
              "outlinewidth": 0,
              "ticks": ""
             }
            },
            "type": "scatterternary"
           }
          ],
          "surface": [
           {
            "colorbar": {
             "outlinewidth": 0,
             "ticks": ""
            },
            "colorscale": [
             [
              0,
              "#0d0887"
             ],
             [
              0.1111111111111111,
              "#46039f"
             ],
             [
              0.2222222222222222,
              "#7201a8"
             ],
             [
              0.3333333333333333,
              "#9c179e"
             ],
             [
              0.4444444444444444,
              "#bd3786"
             ],
             [
              0.5555555555555556,
              "#d8576b"
             ],
             [
              0.6666666666666666,
              "#ed7953"
             ],
             [
              0.7777777777777778,
              "#fb9f3a"
             ],
             [
              0.8888888888888888,
              "#fdca26"
             ],
             [
              1,
              "#f0f921"
             ]
            ],
            "type": "surface"
           }
          ],
          "table": [
           {
            "cells": {
             "fill": {
              "color": "#EBF0F8"
             },
             "line": {
              "color": "white"
             }
            },
            "header": {
             "fill": {
              "color": "#C8D4E3"
             },
             "line": {
              "color": "white"
             }
            },
            "type": "table"
           }
          ]
         },
         "layout": {
          "annotationdefaults": {
           "arrowcolor": "#2a3f5f",
           "arrowhead": 0,
           "arrowwidth": 1
          },
          "autotypenumbers": "strict",
          "coloraxis": {
           "colorbar": {
            "outlinewidth": 0,
            "ticks": ""
           }
          },
          "colorscale": {
           "diverging": [
            [
             0,
             "#8e0152"
            ],
            [
             0.1,
             "#c51b7d"
            ],
            [
             0.2,
             "#de77ae"
            ],
            [
             0.3,
             "#f1b6da"
            ],
            [
             0.4,
             "#fde0ef"
            ],
            [
             0.5,
             "#f7f7f7"
            ],
            [
             0.6,
             "#e6f5d0"
            ],
            [
             0.7,
             "#b8e186"
            ],
            [
             0.8,
             "#7fbc41"
            ],
            [
             0.9,
             "#4d9221"
            ],
            [
             1,
             "#276419"
            ]
           ],
           "sequential": [
            [
             0,
             "#0d0887"
            ],
            [
             0.1111111111111111,
             "#46039f"
            ],
            [
             0.2222222222222222,
             "#7201a8"
            ],
            [
             0.3333333333333333,
             "#9c179e"
            ],
            [
             0.4444444444444444,
             "#bd3786"
            ],
            [
             0.5555555555555556,
             "#d8576b"
            ],
            [
             0.6666666666666666,
             "#ed7953"
            ],
            [
             0.7777777777777778,
             "#fb9f3a"
            ],
            [
             0.8888888888888888,
             "#fdca26"
            ],
            [
             1,
             "#f0f921"
            ]
           ],
           "sequentialminus": [
            [
             0,
             "#0d0887"
            ],
            [
             0.1111111111111111,
             "#46039f"
            ],
            [
             0.2222222222222222,
             "#7201a8"
            ],
            [
             0.3333333333333333,
             "#9c179e"
            ],
            [
             0.4444444444444444,
             "#bd3786"
            ],
            [
             0.5555555555555556,
             "#d8576b"
            ],
            [
             0.6666666666666666,
             "#ed7953"
            ],
            [
             0.7777777777777778,
             "#fb9f3a"
            ],
            [
             0.8888888888888888,
             "#fdca26"
            ],
            [
             1,
             "#f0f921"
            ]
           ]
          },
          "colorway": [
           "#636efa",
           "#EF553B",
           "#00cc96",
           "#ab63fa",
           "#FFA15A",
           "#19d3f3",
           "#FF6692",
           "#B6E880",
           "#FF97FF",
           "#FECB52"
          ],
          "font": {
           "color": "#2a3f5f"
          },
          "geo": {
           "bgcolor": "white",
           "lakecolor": "white",
           "landcolor": "#E5ECF6",
           "showlakes": true,
           "showland": true,
           "subunitcolor": "white"
          },
          "hoverlabel": {
           "align": "left"
          },
          "hovermode": "closest",
          "mapbox": {
           "style": "light"
          },
          "paper_bgcolor": "white",
          "plot_bgcolor": "#E5ECF6",
          "polar": {
           "angularaxis": {
            "gridcolor": "white",
            "linecolor": "white",
            "ticks": ""
           },
           "bgcolor": "#E5ECF6",
           "radialaxis": {
            "gridcolor": "white",
            "linecolor": "white",
            "ticks": ""
           }
          },
          "scene": {
           "xaxis": {
            "backgroundcolor": "#E5ECF6",
            "gridcolor": "white",
            "gridwidth": 2,
            "linecolor": "white",
            "showbackground": true,
            "ticks": "",
            "zerolinecolor": "white"
           },
           "yaxis": {
            "backgroundcolor": "#E5ECF6",
            "gridcolor": "white",
            "gridwidth": 2,
            "linecolor": "white",
            "showbackground": true,
            "ticks": "",
            "zerolinecolor": "white"
           },
           "zaxis": {
            "backgroundcolor": "#E5ECF6",
            "gridcolor": "white",
            "gridwidth": 2,
            "linecolor": "white",
            "showbackground": true,
            "ticks": "",
            "zerolinecolor": "white"
           }
          },
          "shapedefaults": {
           "line": {
            "color": "#2a3f5f"
           }
          },
          "ternary": {
           "aaxis": {
            "gridcolor": "white",
            "linecolor": "white",
            "ticks": ""
           },
           "baxis": {
            "gridcolor": "white",
            "linecolor": "white",
            "ticks": ""
           },
           "bgcolor": "#E5ECF6",
           "caxis": {
            "gridcolor": "white",
            "linecolor": "white",
            "ticks": ""
           }
          },
          "title": {
           "x": 0.05
          },
          "xaxis": {
           "automargin": true,
           "gridcolor": "white",
           "linecolor": "white",
           "ticks": "",
           "title": {
            "standoff": 15
           },
           "zerolinecolor": "white",
           "zerolinewidth": 2
          },
          "yaxis": {
           "automargin": true,
           "gridcolor": "white",
           "linecolor": "white",
           "ticks": "",
           "title": {
            "standoff": 15
           },
           "zerolinecolor": "white",
           "zerolinewidth": 2
          }
         }
        },
        "title": {
         "text": "Training Loss Over Iterations"
        },
        "xaxis": {
         "gridcolor": "purple",
         "gridwidth": 0.5,
         "linecolor": "white",
         "linewidth": 2,
         "mirror": true,
         "showline": true,
         "title": {
          "text": "Iterations"
         }
        },
        "yaxis": {
         "gridcolor": "purple",
         "gridwidth": 0.5,
         "linecolor": "white",
         "linewidth": 2,
         "mirror": true,
         "showline": true,
         "title": {
          "text": "Training Loss"
         }
        }
       }
      }
     },
     "metadata": {},
     "output_type": "display_data"
    }
   ],
   "source": [
    "import plotly.graph_objects as go\n",
    "\n",
    "loss_history = mlp.loss_curve_\n",
    "\n",
    "fig = go.Figure()\n",
    "fig.add_trace(go.Scatter(x=list(range(len(loss_history))), y=loss_history, mode='lines', name='Training Loss', line=dict(color='royalblue')))\n",
    "\n",
    "fig.update_xaxes(showline=True, linewidth=2, linecolor='white', mirror=True, gridcolor='purple', gridwidth=0.5)\n",
    "fig.update_yaxes(showline=True, linewidth=2, linecolor='white', mirror=True, gridcolor='purple', gridwidth=0.5)\n",
    "fig.update_layout(\n",
    "    title=\"Training Loss Over Iterations\",\n",
    "    xaxis_title=\"Iterations\",\n",
    "    yaxis_title=\"Training Loss\",\n",
    "    paper_bgcolor = 'rgba(0,0,0,0)', \n",
    "    plot_bgcolor = 'rgba(0,0,0,0)',\n",
    "    font=dict(color=\"white\"),\n",
    ")"
   ]
  },
  {
   "cell_type": "code",
   "execution_count": 28,
   "metadata": {},
   "outputs": [],
   "source": [
    "import random\n",
    "\n",
    "def flatten_weights(model):\n",
    "    weights = []\n",
    "    for coef, intercept in zip(model.coefs_, model.intercepts_):\n",
    "        weights.extend(coef.flatten())\n",
    "        weights.extend(intercept)\n",
    "    return weights\n",
    "\n",
    "def set_weights(model, chromosome):\n",
    "    start = 0\n",
    "    new_weights = []\n",
    "    new_biaises = []\n",
    "    for weight, biais in zip(model.coefs_, model.intercepts_):\n",
    "        weight_shape = weight.shape\n",
    "        bias_shape = biais.shape\n",
    "        weight_size = np.prod(weight_shape)\n",
    "        biais_size = np.prod(bias_shape)\n",
    "        \n",
    "        new_weight = np.array(chromosome[start:start + weight_size]).reshape(weight_shape)\n",
    "        start += weight_size\n",
    "        new_biais = np.array(chromosome[start:start + biais_size]).reshape(bias_shape)\n",
    "        start += biais_size\n",
    "        \n",
    "        new_weights.append(new_weight)\n",
    "        new_biaises.append(new_biais)\n",
    "    \n",
    "    model.coefs_ = new_weights\n",
    "    model.intercepts_ = new_biaises\n",
    "\n",
    "def fitness_function(chromosome, X_train, y_train, X_val, y_val):\n",
    "    hidden_layer_size = int(chromosome[0])\n",
    "    learning_rate_init = chromosome[1]\n",
    "    alpha = chromosome[2]\n",
    "    weights_biases = chromosome[3:]\n",
    "    \n",
    "    model = MLPClassifier(hidden_layer_sizes=(hidden_layer_size,),learning_rate='constant', learning_rate_init=learning_rate_init,alpha=alpha, max_iter=1, warm_start=True)\n",
    "    model.fit(X_train, y_train)\n",
    "    set_weights(model, weights_biases)\n",
    "    model.fit(X_train, y_train)\n",
    "    y_pred = model.predict(X_val)\n",
    "    accuracy = accuracy_score(y_val, y_pred)\n",
    "    return accuracy\n",
    "\n",
    "def initialize_population(pop_size, chromosome_length):\n",
    "    population = []\n",
    "    for _ in range(pop_size):\n",
    "        hls = random.randint(10, 100)\n",
    "        learning_rate_init = random.uniform(0.0001, 0.01)\n",
    "        alpha = random.uniform(0.0001, 0.01) # get back to this one\n",
    "        weights_biases = np.random.uniform(-1, 1, chromosome_length - 3).tolist()\n",
    "        chromosome = [hls, learning_rate_init, alpha] + weights_biases\n",
    "        population.append(chromosome)\n",
    "    return population\n",
    "\n",
    "# la méthode de roulette\n",
    "def select_parents(population, fitnesses):\n",
    "    total_fitness = sum(fitnesses)\n",
    "    selection_probs = [fitness / total_fitness for fitness in fitnesses]\n",
    "    parents = random.choices(population, weights=selection_probs, k=len(population))\n",
    "    return parents\n",
    "\n",
    "\n",
    "def crossover(parent1, parent2):\n",
    "    crossover_point = random.randint(3, len(parent1) - 1)\n",
    "    child1 = parent1[:crossover_point] + parent2[crossover_point:]\n",
    "    child2 = parent2[:crossover_point] + parent1[crossover_point:]\n",
    "    return child1, child2\n",
    "\n",
    "# GET BACK TO THIS\n",
    "def mutate(chromosome, mutation_rate):\n",
    "    for i in range(len(chromosome)):\n",
    "        if random.random() < mutation_rate:\n",
    "            if i == 0:\n",
    "                chromosome[i] = random.randint(5, 50)  # hidden_layer_size\n",
    "            elif i == 1:\n",
    "                chromosome[i] = random.uniform(0.0001, 0.1)  # learning_rate_init\n",
    "            elif i == 2:\n",
    "                chromosome[i] = random.uniform(0.0001, 0.1)  # alpha\n",
    "            else:\n",
    "                chromosome[i] += np.random.normal()\n",
    "\n",
    "\n",
    "def genetic_algorithm(X_train, y_train, X_val, y_val, pop_size, generations, mutation_rate):\n",
    "    model = MLPClassifier(hidden_layer_sizes=(10,), max_iter=10, warm_start=True)\n",
    "    model.fit(X_train, y_train)\n",
    "    chromosome_length = len(flatten_weights(model)) + 3  # +3 for hidden_layer_size, learning_rate, alpha\n",
    "    population = initialize_population(pop_size, chromosome_length)\n",
    "    fitness_history = []\n",
    "    best_chromosome_per_generation = []\n",
    "    for _ in range(generations):\n",
    "        fitnesses = [fitness_function(chromosome, X_train, y_train, X_val, y_val) for chromosome in population]\n",
    "        fitness_history.append(max(fitnesses))\n",
    "        best_params = population[fitnesses.index(max(fitnesses))]\n",
    "        best_chromosome_per_generation.append((best_params, 1 - max(fitnesses)))\n",
    "        parents = select_parents(population, fitnesses)\n",
    "        next_population = []\n",
    "        for i in range(0, len(parents), 2):\n",
    "            parent1, parent2 = parents[i], parents[i + 1]\n",
    "            child1, child2 = crossover(parent1, parent2)\n",
    "            mutate(child1, mutation_rate)\n",
    "            mutate(child2, mutation_rate)\n",
    "            next_population.extend([child1, child2])\n",
    "        population = next_population\n",
    "    best_chromosome = max(population, key=lambda chromo: fitness_function(chromo, X_train, y_train, X_val, y_val))\n",
    "    return best_chromosome, fitness_history, best_chromosome_per_generation"
   ]
  },
  {
   "cell_type": "code",
   "execution_count": 29,
   "metadata": {},
   "outputs": [
    {
     "name": "stderr",
     "output_type": "stream",
     "text": [
      "c:\\Users\\HP\\AppData\\Local\\Programs\\Python\\Python39\\lib\\site-packages\\sklearn\\neural_network\\_multilayer_perceptron.py:691: ConvergenceWarning:\n",
      "\n",
      "Stochastic Optimizer: Maximum iterations (10) reached and the optimization hasn't converged yet.\n",
      "\n",
      "c:\\Users\\HP\\AppData\\Local\\Programs\\Python\\Python39\\lib\\site-packages\\sklearn\\neural_network\\_multilayer_perceptron.py:691: ConvergenceWarning:\n",
      "\n",
      "Stochastic Optimizer: Maximum iterations (1) reached and the optimization hasn't converged yet.\n",
      "\n"
     ]
    },
    {
     "ename": "ValueError",
     "evalue": "cannot reshape array of size 7861 into shape (784,82)",
     "output_type": "error",
     "traceback": [
      "\u001b[1;31m---------------------------------------------------------------------------\u001b[0m",
      "\u001b[1;31mValueError\u001b[0m                                Traceback (most recent call last)",
      "Cell \u001b[1;32mIn[29], line 5\u001b[0m\n\u001b[0;32m      2\u001b[0m generations \u001b[38;5;241m=\u001b[39m \u001b[38;5;241m20\u001b[39m\n\u001b[0;32m      3\u001b[0m mutation_rate \u001b[38;5;241m=\u001b[39m \u001b[38;5;241m0.01\u001b[39m\n\u001b[1;32m----> 5\u001b[0m best_solution, fitness_history, best_chromosome_per_generation\u001b[38;5;241m=\u001b[39m \u001b[43mgenetic_algorithm\u001b[49m\u001b[43m(\u001b[49m\u001b[43mX_train\u001b[49m\u001b[43m,\u001b[49m\u001b[43m \u001b[49m\u001b[43my_train\u001b[49m\u001b[43m,\u001b[49m\u001b[43m \u001b[49m\u001b[43mX_val\u001b[49m\u001b[43m,\u001b[49m\u001b[43m \u001b[49m\u001b[43my_val\u001b[49m\u001b[43m,\u001b[49m\u001b[43m \u001b[49m\u001b[43mpop_size\u001b[49m\u001b[43m,\u001b[49m\u001b[43m \u001b[49m\u001b[43mgenerations\u001b[49m\u001b[43m,\u001b[49m\u001b[43m \u001b[49m\u001b[43mmutation_rate\u001b[49m\u001b[43m)\u001b[49m\n\u001b[0;32m      6\u001b[0m \u001b[38;5;28mprint\u001b[39m(\u001b[38;5;124m\"\u001b[39m\u001b[38;5;124mBest solution:\u001b[39m\u001b[38;5;124m\"\u001b[39m, best_solution)\n\u001b[0;32m      8\u001b[0m \u001b[38;5;28;01mfor\u001b[39;00m generation, (params, error) \u001b[38;5;129;01min\u001b[39;00m \u001b[38;5;28menumerate\u001b[39m(best_chromosome_per_generation):\n",
      "Cell \u001b[1;32mIn[28], line 92\u001b[0m, in \u001b[0;36mgenetic_algorithm\u001b[1;34m(X_train, y_train, X_val, y_val, pop_size, generations, mutation_rate)\u001b[0m\n\u001b[0;32m     90\u001b[0m best_chromosome_per_generation \u001b[38;5;241m=\u001b[39m []\n\u001b[0;32m     91\u001b[0m \u001b[38;5;28;01mfor\u001b[39;00m _ \u001b[38;5;129;01min\u001b[39;00m \u001b[38;5;28mrange\u001b[39m(generations):\n\u001b[1;32m---> 92\u001b[0m     fitnesses \u001b[38;5;241m=\u001b[39m [fitness_function(chromosome, X_train, y_train, X_val, y_val) \u001b[38;5;28;01mfor\u001b[39;00m chromosome \u001b[38;5;129;01min\u001b[39;00m population]\n\u001b[0;32m     93\u001b[0m     fitness_history\u001b[38;5;241m.\u001b[39mappend(\u001b[38;5;28mmax\u001b[39m(fitnesses))\n\u001b[0;32m     94\u001b[0m     best_params \u001b[38;5;241m=\u001b[39m population[fitnesses\u001b[38;5;241m.\u001b[39mindex(\u001b[38;5;28mmax\u001b[39m(fitnesses))]\n",
      "Cell \u001b[1;32mIn[28], line 92\u001b[0m, in \u001b[0;36m<listcomp>\u001b[1;34m(.0)\u001b[0m\n\u001b[0;32m     90\u001b[0m best_chromosome_per_generation \u001b[38;5;241m=\u001b[39m []\n\u001b[0;32m     91\u001b[0m \u001b[38;5;28;01mfor\u001b[39;00m _ \u001b[38;5;129;01min\u001b[39;00m \u001b[38;5;28mrange\u001b[39m(generations):\n\u001b[1;32m---> 92\u001b[0m     fitnesses \u001b[38;5;241m=\u001b[39m [\u001b[43mfitness_function\u001b[49m\u001b[43m(\u001b[49m\u001b[43mchromosome\u001b[49m\u001b[43m,\u001b[49m\u001b[43m \u001b[49m\u001b[43mX_train\u001b[49m\u001b[43m,\u001b[49m\u001b[43m \u001b[49m\u001b[43my_train\u001b[49m\u001b[43m,\u001b[49m\u001b[43m \u001b[49m\u001b[43mX_val\u001b[49m\u001b[43m,\u001b[49m\u001b[43m \u001b[49m\u001b[43my_val\u001b[49m\u001b[43m)\u001b[49m \u001b[38;5;28;01mfor\u001b[39;00m chromosome \u001b[38;5;129;01min\u001b[39;00m population]\n\u001b[0;32m     93\u001b[0m     fitness_history\u001b[38;5;241m.\u001b[39mappend(\u001b[38;5;28mmax\u001b[39m(fitnesses))\n\u001b[0;32m     94\u001b[0m     best_params \u001b[38;5;241m=\u001b[39m population[fitnesses\u001b[38;5;241m.\u001b[39mindex(\u001b[38;5;28mmax\u001b[39m(fitnesses))]\n",
      "Cell \u001b[1;32mIn[28], line 39\u001b[0m, in \u001b[0;36mfitness_function\u001b[1;34m(chromosome, X_train, y_train, X_val, y_val)\u001b[0m\n\u001b[0;32m     37\u001b[0m model \u001b[38;5;241m=\u001b[39m MLPClassifier(hidden_layer_sizes\u001b[38;5;241m=\u001b[39m(hidden_layer_size,),learning_rate\u001b[38;5;241m=\u001b[39m\u001b[38;5;124m'\u001b[39m\u001b[38;5;124mconstant\u001b[39m\u001b[38;5;124m'\u001b[39m, learning_rate_init\u001b[38;5;241m=\u001b[39mlearning_rate_init,alpha\u001b[38;5;241m=\u001b[39malpha, max_iter\u001b[38;5;241m=\u001b[39m\u001b[38;5;241m1\u001b[39m, warm_start\u001b[38;5;241m=\u001b[39m\u001b[38;5;28;01mTrue\u001b[39;00m)\n\u001b[0;32m     38\u001b[0m model\u001b[38;5;241m.\u001b[39mfit(X_train, y_train)\n\u001b[1;32m---> 39\u001b[0m \u001b[43mset_weights\u001b[49m\u001b[43m(\u001b[49m\u001b[43mmodel\u001b[49m\u001b[43m,\u001b[49m\u001b[43m \u001b[49m\u001b[43mweights_biases\u001b[49m\u001b[43m)\u001b[49m\n\u001b[0;32m     40\u001b[0m model\u001b[38;5;241m.\u001b[39mfit(X_train, y_train)\n\u001b[0;32m     41\u001b[0m y_pred \u001b[38;5;241m=\u001b[39m model\u001b[38;5;241m.\u001b[39mpredict(X_val)\n",
      "Cell \u001b[1;32mIn[28], line 20\u001b[0m, in \u001b[0;36mset_weights\u001b[1;34m(model, chromosome)\u001b[0m\n\u001b[0;32m     17\u001b[0m coef_size \u001b[38;5;241m=\u001b[39m np\u001b[38;5;241m.\u001b[39mprod(coef_shape)\n\u001b[0;32m     18\u001b[0m intercept_size \u001b[38;5;241m=\u001b[39m np\u001b[38;5;241m.\u001b[39mprod(intercept_shape)\n\u001b[1;32m---> 20\u001b[0m new_coef \u001b[38;5;241m=\u001b[39m \u001b[43mnp\u001b[49m\u001b[38;5;241;43m.\u001b[39;49m\u001b[43marray\u001b[49m\u001b[43m(\u001b[49m\u001b[43mchromosome\u001b[49m\u001b[43m[\u001b[49m\u001b[43mstart\u001b[49m\u001b[43m:\u001b[49m\u001b[43mstart\u001b[49m\u001b[43m \u001b[49m\u001b[38;5;241;43m+\u001b[39;49m\u001b[43m \u001b[49m\u001b[43mcoef_size\u001b[49m\u001b[43m]\u001b[49m\u001b[43m)\u001b[49m\u001b[38;5;241;43m.\u001b[39;49m\u001b[43mreshape\u001b[49m\u001b[43m(\u001b[49m\u001b[43mcoef_shape\u001b[49m\u001b[43m)\u001b[49m\n\u001b[0;32m     21\u001b[0m start \u001b[38;5;241m+\u001b[39m\u001b[38;5;241m=\u001b[39m coef_size\n\u001b[0;32m     22\u001b[0m new_intercept \u001b[38;5;241m=\u001b[39m np\u001b[38;5;241m.\u001b[39marray(chromosome[start:start \u001b[38;5;241m+\u001b[39m intercept_size])\u001b[38;5;241m.\u001b[39mreshape(intercept_shape)\n",
      "\u001b[1;31mValueError\u001b[0m: cannot reshape array of size 7861 into shape (784,82)"
     ]
    }
   ],
   "source": [
    "pop_size = 10\n",
    "generations = 20\n",
    "mutation_rate = 0.01\n",
    "\n",
    "best_solution, fitness_history, best_chromosome_per_generation= genetic_algorithm(X_train, y_train, X_val, y_val, pop_size, generations, mutation_rate)\n",
    "print(\"Best solution:\", best_solution)\n",
    "\n",
    "for generation, (params, error) in enumerate(best_chromosome_per_generation):\n",
    "    print(f\"Generation {generation + 1}: Best Params: {params}, Error: {error:.4f}\")"
   ]
  },
  {
   "cell_type": "code",
   "execution_count": null,
   "metadata": {},
   "outputs": [],
   "source": [
    "# Evaluate the final model on the test dataset\n",
    "hidden_layer_size = int(best_solution[0])\n",
    "learning_rate_init = best_solution[1]\n",
    "alpha = best_solution[2]\n",
    "weights_biases = best_solution[3:]\n",
    "\n",
    "final_model = MLPClassifier(hidden_layer_sizes=(hidden_layer_size,), learning_rate='constant', learning_rate_init=learning_rate_init, alpha=alpha, max_iter=200, warm_start=True)\n",
    "final_model.fit(X_train, y_train)\n",
    "set_weights(final_model, weights_biases)\n",
    "final_model.fit(X_train, y_train)\n",
    "y_test_pred = final_model.predict(X_test)\n",
    "test_accuracy = accuracy_score(y_test, y_test_pred)\n",
    "\n",
    "print(\"Test accuracy:\", test_accuracy)"
   ]
  },
  {
   "cell_type": "code",
   "execution_count": null,
   "metadata": {},
   "outputs": [],
   "source": [
    "fig = go.Figure()\n",
    "fig.add_trace(go.Scatter(x=list(range(len(fitness_history))), y=fitness_history, mode='lines', name='Fitness', line=dict(color='blue')))\n",
    "fig.update_xaxes(showline=True, linewidth=2, linecolor='black', mirror=True, gridcolor='purple', gridwidth=0.5)\n",
    "fig.update_yaxes(showline=True, linewidth=2, linecolor='black', mirror=True, gridcolor='purple', gridwidth=0.5)\n",
    "fig.update_layout(\n",
    "    title=\"Fitness Evolution Over Generations\",\n",
    "    xaxis_title=\"Generations\",\n",
    "    yaxis_title=\"Fitness\",\n",
    "    paper_bgcolor = 'rgba(0,0,0,0)', \n",
    "    plot_bgcolor = 'rgba(0,0,0,0)',\n",
    "    font=dict(color=\"white\"),\n",
    ")\n",
    "\n",
    "fig.show()"
   ]
  },
  {
   "cell_type": "code",
   "execution_count": null,
   "metadata": {},
   "outputs": [],
   "source": [
    "errors_per_generation = [error for _, error in best_chromosome_per_generation]\n",
    "\n",
    "fig = go.Figure()\n",
    "fig.add_trace(go.Scatter(x=list(range(len(errors_per_generation))), y=errors_per_generation, mode='lines+markers', name='Errors per generations', line=dict(color='violet'), marker=dict(symbol='circle', size=8, color='grey')))\n",
    "\n",
    "fig.update_xaxes(showline=True, linewidth=2, linecolor='black', mirror=True, gridcolor='purple', gridwidth=0.5)\n",
    "fig.update_yaxes(showline=True, linewidth=2, linecolor='black', mirror=True, gridcolor='purple', gridwidth=0.5)\n",
    "fig.update_layout(\n",
    "    title=\"Evolution of Minimum Classification Error Over Generations\",\n",
    "    xaxis_title=\"Generations\",\n",
    "    yaxis_title=\"Classification Error\",\n",
    "    paper_bgcolor = 'rgba(0,0,0,0)', \n",
    "    plot_bgcolor = 'rgba(0,0,0,0)',\n",
    "    font=dict(color=\"white\"),\n",
    ")\n",
    "\n",
    "fig.show()"
   ]
  },
  {
   "cell_type": "code",
   "execution_count": null,
   "metadata": {},
   "outputs": [],
   "source": [
    "# Précision du MLP seul\n",
    "accuracy_mlp_seul = accuracy\n",
    "\n",
    "# Précision du MLP optimisé par AG\n",
    "accuracy_mlp_optimise = test_accuracy\n",
    "\n",
    "# Afficher les résultats\n",
    "print(f\"Précision du MLP seul: {accuracy_mlp_seul:.4f}\")\n",
    "print(f\"Précision du MLP optimisé par AG: {accuracy_mlp_optimise:.4f}\")\n",
    "\n",
    "# Comparer les résultats\n",
    "if accuracy_mlp_optimise > accuracy_mlp_seul:\n",
    "    print(\"Le MLP optimisé par AG a une meilleure précision que le MLP seul.\")\n",
    "elif accuracy_mlp_optimise < accuracy_mlp_seul:\n",
    "    print(\"Le MLP seul a une meilleure précision que le MLP optimisé par AG.\")\n",
    "else:\n",
    "    print(\"Les deux modèles ont la même précision.\")"
   ]
  }
 ],
 "metadata": {
  "kernelspec": {
   "display_name": "Python 3",
   "language": "python",
   "name": "python3"
  },
  "language_info": {
   "codemirror_mode": {
    "name": "ipython",
    "version": 3
   },
   "file_extension": ".py",
   "mimetype": "text/x-python",
   "name": "python",
   "nbconvert_exporter": "python",
   "pygments_lexer": "ipython3",
   "version": "3.9.11"
  }
 },
 "nbformat": 4,
 "nbformat_minor": 2
}

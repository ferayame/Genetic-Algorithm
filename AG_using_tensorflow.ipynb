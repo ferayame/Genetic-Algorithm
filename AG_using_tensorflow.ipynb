{
 "cells": [
  {
   "cell_type": "markdown",
   "metadata": {},
   "source": [
    "# Genetic Algorithm MLP"
   ]
  },
  {
   "cell_type": "code",
   "execution_count": 11,
   "metadata": {},
   "outputs": [],
   "source": [
    "import random\n",
    "import numpy as np\n",
    "from sklearn.neural_network import MLPClassifier\n",
    "from sklearn.metrics import accuracy_score"
   ]
  },
  {
   "cell_type": "markdown",
   "metadata": {},
   "source": [
    "**1. Dataset Preparation**\n"
   ]
  },
  {
   "cell_type": "code",
   "execution_count": 12,
   "metadata": {},
   "outputs": [],
   "source": [
    "from tensorflow.keras.datasets import mnist\n",
    "\n",
    "(x_train, y_train), (x_test, y_test) = mnist.load_data()\n",
    "\n",
    "# Filter the training data to include only 0s and 1s\n",
    "x_train_filtered = x_train[np.isin(y_train, [0, 1])]\n",
    "y_train_filtered = y_train[np.isin(y_train, [0, 1])]\n",
    "\n",
    "# Filter the test data to include only 0s and 1s\n",
    "x_test_filtered = x_test[np.isin(y_test, [0, 1])]\n",
    "y_test_filtered = y_test[np.isin(y_test, [0, 1])]"
   ]
  },
  {
   "cell_type": "markdown",
   "metadata": {},
   "source": [
    "**2: Define the MLP and Fitness Function**"
   ]
  },
  {
   "cell_type": "code",
   "execution_count": 13,
   "metadata": {},
   "outputs": [],
   "source": [
    "def evaluate_mlp(hidden_layer_sizes, learning_rate, alpha, X_train, y_train, X_test, y_test):\n",
    "    model = MLPClassifier(\n",
    "        hidden_layer_sizes = hidden_layer_sizes,\n",
    "        learning_rate_init = learning_rate,\n",
    "        alpha=alpha,\n",
    "        max_iter=200,\n",
    "        random_state=42\n",
    "    )\n",
    "    model.fit(X_train, y_train)\n",
    "    y_pred = model.predict(X_test)\n",
    "    error = 1 - accuracy_score(y_test, y_pred)\n",
    "    return error\n",
    "\n",
    "def fitness_function(chromosome):\n",
    "    hidden_layer_size = (int(chromosome[0]),)\n",
    "    learning_rate = chromosome[1]\n",
    "    alpha = chromosome[2]\n",
    "    return evaluate_mlp(hidden_layer_size, learning_rate, alpha, X_train, y_train, X_test, y_test)"
   ]
  },
  {
   "cell_type": "markdown",
   "metadata": {},
   "source": [
    "**3: Genetic Algorithm Components**"
   ]
  },
  {
   "cell_type": "code",
   "execution_count": 14,
   "metadata": {},
   "outputs": [],
   "source": [
    "# Initialization\n",
    "def generate_population(size, n_neurons_range, lr_range, alpha_range):\n",
    "    population = []\n",
    "    for _ in range(size):\n",
    "        chromosome = [\n",
    "            random.randint(*n_neurons_range),   # Number of neurons\n",
    "            random.uniform(*lr_range),         # Learning rate\n",
    "            random.uniform(*alpha_range)       # Regularization (alpha)\n",
    "        ]\n",
    "        population.append(chromosome)\n",
    "    return population\n",
    "\n",
    "# Selection\n",
    "def roulette_wheel_selection(population, fitness_scores):\n",
    "    total_fitness = sum(1 / score for score in fitness_scores)\n",
    "    probabilities = [(1 / score) / total_fitness for score in fitness_scores]\n",
    "    selected_index = np.random.choice(len(population), p=probabilities)\n",
    "    return population[selected_index]\n",
    "\n",
    "# Crossover\n",
    "def crossover(parent1, parent2, alpha=0.7):\n",
    "    child1 = [\n",
    "        alpha * p1 + (1 - alpha) * p2\n",
    "        for p1, p2 in zip(parent1, parent2)\n",
    "    ]\n",
    "    child2 = [\n",
    "        (1 - alpha) * p1 + alpha * p2\n",
    "        for p1, p2 in zip(parent1, parent2)\n",
    "    ]\n",
    "    return child1, child2\n",
    "\n",
    "\n",
    "# Mutation\n",
    "def mutate(chromosome, n_neurons_range, lr_range, alpha_range, mutation_rate=0.1):\n",
    "    if random.random() < mutation_rate:\n",
    "        gene_to_mutate = random.randint(0, 2)  # Select random gene\n",
    "        if gene_to_mutate == 0:\n",
    "            chromosome[0] = random.randint(*n_neurons_range)  # Neurons\n",
    "        elif gene_to_mutate == 1:\n",
    "            chromosome[1] = random.uniform(*lr_range)         # Learning rate\n",
    "        elif gene_to_mutate == 2:\n",
    "            chromosome[2] = random.uniform(*alpha_range)      # Regularization\n",
    "    return chromosome\n",
    "\n",
    "# Replacement\n",
    "def replace_population(population, fitness_scores, new_children):\n",
    "    sorted_population = [x for _, x in sorted(zip(fitness_scores, population))]\n",
    "    return sorted_population[:-len(new_children)] + new_children"
   ]
  },
  {
   "cell_type": "markdown",
   "metadata": {},
   "source": [
    "**4: Run Genetic Algorithm**"
   ]
  },
  {
   "cell_type": "code",
   "execution_count": 15,
   "metadata": {},
   "outputs": [],
   "source": [
    "def genetic_algorithm(\n",
    "    generations, population_size, n_neurons_range, lr_range, alpha_range,\n",
    "    mutation_rate, X_train, y_train, X_test, y_test\n",
    "):\n",
    "    population = generate_population(population_size, n_neurons_range, lr_range, alpha_range)\n",
    "    for generation in range(generations):\n",
    "        # Evaluate fitness\n",
    "        fitness_scores = [fitness_function(ind) for ind in population]\n",
    "\n",
    "        # Log best fitness\n",
    "        best_index = np.argmin(fitness_scores)\n",
    "        best_chromosome = population[best_index]\n",
    "        print(f\"Generation {generation + 1} - Best Fitness: {fitness_scores[best_index]:.4f} - Best Chromosome: {best_chromosome}\")\n",
    "\n",
    "        # Selection\n",
    "        new_population = []\n",
    "        for _ in range(population_size // 2):\n",
    "            parent1 = roulette_wheel_selection(population, fitness_scores)\n",
    "            parent2 = roulette_wheel_selection(population, fitness_scores)\n",
    "            child1, child2 = crossover(parent1, parent2)\n",
    "            new_population.extend([child1, child2])\n",
    "\n",
    "        # Mutation\n",
    "        new_population = [\n",
    "            mutate(ind, n_neurons_range, lr_range, alpha_range, mutation_rate)\n",
    "            for ind in new_population\n",
    "        ]\n",
    "\n",
    "        # Replacement\n",
    "        population = replace_population(population, fitness_scores, new_population)\n",
    "    \n",
    "    # Final evaluation\n",
    "    fitness_scores = [fitness_function(ind) for ind in population]\n",
    "    best_index = np.argmin(fitness_scores)\n",
    "    best_chromosome = population[best_index]\n",
    "    print(f\"Best Chromosome After {generations} Generations: {best_chromosome}\")\n",
    "    return best_chromosome"
   ]
  },
  {
   "cell_type": "code",
   "execution_count": 17,
   "metadata": {},
   "outputs": [
    {
     "ename": "NameError",
     "evalue": "name 'X_train' is not defined",
     "output_type": "error",
     "traceback": [
      "\u001b[1;31m---------------------------------------------------------------------------\u001b[0m",
      "\u001b[1;31mNameError\u001b[0m                                 Traceback (most recent call last)",
      "Cell \u001b[1;32mIn[17], line 2\u001b[0m\n\u001b[0;32m      1\u001b[0m \u001b[38;5;66;03m# Run the Genetic Algorithm\u001b[39;00m\n\u001b[1;32m----> 2\u001b[0m best_solution \u001b[38;5;241m=\u001b[39m \u001b[43mgenetic_algorithm\u001b[49m\u001b[43m(\u001b[49m\n\u001b[0;32m      3\u001b[0m \u001b[43m    \u001b[49m\u001b[43mgenerations\u001b[49m\u001b[38;5;241;43m=\u001b[39;49m\u001b[38;5;241;43m20\u001b[39;49m\u001b[43m,\u001b[49m\n\u001b[0;32m      4\u001b[0m \u001b[43m    \u001b[49m\u001b[43mpopulation_size\u001b[49m\u001b[38;5;241;43m=\u001b[39;49m\u001b[38;5;241;43m10\u001b[39;49m\u001b[43m,\u001b[49m\n\u001b[0;32m      5\u001b[0m \u001b[43m    \u001b[49m\u001b[43mn_neurons_range\u001b[49m\u001b[38;5;241;43m=\u001b[39;49m\u001b[43m(\u001b[49m\u001b[38;5;241;43m5\u001b[39;49m\u001b[43m,\u001b[49m\u001b[43m \u001b[49m\u001b[38;5;241;43m50\u001b[39;49m\u001b[43m)\u001b[49m\u001b[43m,\u001b[49m\n\u001b[0;32m      6\u001b[0m \u001b[43m    \u001b[49m\u001b[43mlr_range\u001b[49m\u001b[38;5;241;43m=\u001b[39;49m\u001b[43m(\u001b[49m\u001b[38;5;241;43m0.001\u001b[39;49m\u001b[43m,\u001b[49m\u001b[43m \u001b[49m\u001b[38;5;241;43m0.1\u001b[39;49m\u001b[43m)\u001b[49m\u001b[43m,\u001b[49m\n\u001b[0;32m      7\u001b[0m \u001b[43m    \u001b[49m\u001b[43malpha_range\u001b[49m\u001b[38;5;241;43m=\u001b[39;49m\u001b[43m(\u001b[49m\u001b[38;5;241;43m0.0001\u001b[39;49m\u001b[43m,\u001b[49m\u001b[43m \u001b[49m\u001b[38;5;241;43m0.01\u001b[39;49m\u001b[43m)\u001b[49m\u001b[43m,\u001b[49m\n\u001b[0;32m      8\u001b[0m \u001b[43m    \u001b[49m\u001b[43mmutation_rate\u001b[49m\u001b[38;5;241;43m=\u001b[39;49m\u001b[38;5;241;43m0.1\u001b[39;49m\u001b[43m,\u001b[49m\n\u001b[0;32m      9\u001b[0m \u001b[43m    \u001b[49m\u001b[43mX_train\u001b[49m\u001b[38;5;241;43m=\u001b[39;49m\u001b[43mx_train_filtered\u001b[49m\u001b[43m,\u001b[49m\n\u001b[0;32m     10\u001b[0m \u001b[43m    \u001b[49m\u001b[43my_train\u001b[49m\u001b[38;5;241;43m=\u001b[39;49m\u001b[43my_train_filtered\u001b[49m\u001b[43m,\u001b[49m\n\u001b[0;32m     11\u001b[0m \u001b[43m    \u001b[49m\u001b[43mX_test\u001b[49m\u001b[38;5;241;43m=\u001b[39;49m\u001b[43mx_test_filtered\u001b[49m\u001b[43m,\u001b[49m\n\u001b[0;32m     12\u001b[0m \u001b[43m    \u001b[49m\u001b[43my_test\u001b[49m\u001b[38;5;241;43m=\u001b[39;49m\u001b[43my_test_filtered\u001b[49m\n\u001b[0;32m     13\u001b[0m \u001b[43m)\u001b[49m\n\u001b[0;32m     14\u001b[0m \u001b[38;5;28mprint\u001b[39m(\u001b[38;5;124m\"\u001b[39m\u001b[38;5;124mOptimal Hyperparameters Found:\u001b[39m\u001b[38;5;124m\"\u001b[39m, best_solution)\n",
      "Cell \u001b[1;32mIn[15], line 8\u001b[0m, in \u001b[0;36mgenetic_algorithm\u001b[1;34m(generations, population_size, n_neurons_range, lr_range, alpha_range, mutation_rate, X_train, y_train, X_test, y_test)\u001b[0m\n\u001b[0;32m      5\u001b[0m population \u001b[38;5;241m=\u001b[39m generate_population(population_size, n_neurons_range, lr_range, alpha_range)\n\u001b[0;32m      6\u001b[0m \u001b[38;5;28;01mfor\u001b[39;00m generation \u001b[38;5;129;01min\u001b[39;00m \u001b[38;5;28mrange\u001b[39m(generations):\n\u001b[0;32m      7\u001b[0m     \u001b[38;5;66;03m# Evaluate fitness\u001b[39;00m\n\u001b[1;32m----> 8\u001b[0m     fitness_scores \u001b[38;5;241m=\u001b[39m [fitness_function(ind) \u001b[38;5;28;01mfor\u001b[39;00m ind \u001b[38;5;129;01min\u001b[39;00m population]\n\u001b[0;32m     10\u001b[0m     \u001b[38;5;66;03m# Log best fitness\u001b[39;00m\n\u001b[0;32m     11\u001b[0m     best_index \u001b[38;5;241m=\u001b[39m np\u001b[38;5;241m.\u001b[39margmin(fitness_scores)\n",
      "Cell \u001b[1;32mIn[15], line 8\u001b[0m, in \u001b[0;36m<listcomp>\u001b[1;34m(.0)\u001b[0m\n\u001b[0;32m      5\u001b[0m population \u001b[38;5;241m=\u001b[39m generate_population(population_size, n_neurons_range, lr_range, alpha_range)\n\u001b[0;32m      6\u001b[0m \u001b[38;5;28;01mfor\u001b[39;00m generation \u001b[38;5;129;01min\u001b[39;00m \u001b[38;5;28mrange\u001b[39m(generations):\n\u001b[0;32m      7\u001b[0m     \u001b[38;5;66;03m# Evaluate fitness\u001b[39;00m\n\u001b[1;32m----> 8\u001b[0m     fitness_scores \u001b[38;5;241m=\u001b[39m [\u001b[43mfitness_function\u001b[49m\u001b[43m(\u001b[49m\u001b[43mind\u001b[49m\u001b[43m)\u001b[49m \u001b[38;5;28;01mfor\u001b[39;00m ind \u001b[38;5;129;01min\u001b[39;00m population]\n\u001b[0;32m     10\u001b[0m     \u001b[38;5;66;03m# Log best fitness\u001b[39;00m\n\u001b[0;32m     11\u001b[0m     best_index \u001b[38;5;241m=\u001b[39m np\u001b[38;5;241m.\u001b[39margmin(fitness_scores)\n",
      "Cell \u001b[1;32mIn[13], line 18\u001b[0m, in \u001b[0;36mfitness_function\u001b[1;34m(chromosome)\u001b[0m\n\u001b[0;32m     16\u001b[0m learning_rate \u001b[38;5;241m=\u001b[39m chromosome[\u001b[38;5;241m1\u001b[39m]\n\u001b[0;32m     17\u001b[0m alpha \u001b[38;5;241m=\u001b[39m chromosome[\u001b[38;5;241m2\u001b[39m]\n\u001b[1;32m---> 18\u001b[0m \u001b[38;5;28;01mreturn\u001b[39;00m evaluate_mlp(hidden_layer_size, learning_rate, alpha, \u001b[43mX_train\u001b[49m, y_train, X_test, y_test)\n",
      "\u001b[1;31mNameError\u001b[0m: name 'X_train' is not defined"
     ]
    }
   ],
   "source": [
    "# Run the Genetic Algorithm\n",
    "best_solution = genetic_algorithm(\n",
    "    generations=20,\n",
    "    population_size=10,\n",
    "    n_neurons_range=(5, 50),\n",
    "    lr_range=(0.001, 0.1),\n",
    "    alpha_range=(0.0001, 0.01),\n",
    "    mutation_rate=0.1,\n",
    "    X_train=x_train_filtered,\n",
    "    y_train=y_train_filtered,\n",
    "    X_test=x_test_filtered,\n",
    "    y_test=y_test_filtered\n",
    ")\n",
    "print(\"Optimal Hyperparameters Found:\", best_solution)\n"
   ]
  }
 ],
 "metadata": {
  "kernelspec": {
   "display_name": "Python 3",
   "language": "python",
   "name": "python3"
  },
  "language_info": {
   "codemirror_mode": {
    "name": "ipython",
    "version": 3
   },
   "file_extension": ".py",
   "mimetype": "text/x-python",
   "name": "python",
   "nbconvert_exporter": "python",
   "pygments_lexer": "ipython3",
   "version": "3.9.11"
  }
 },
 "nbformat": 4,
 "nbformat_minor": 2
}

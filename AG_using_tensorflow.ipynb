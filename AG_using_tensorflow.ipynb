{
 "cells": [
  {
   "cell_type": "markdown",
   "metadata": {},
   "source": [
    "# Genetic Algorithm MLP"
   ]
  },
  {
   "cell_type": "code",
   "execution_count": 43,
   "metadata": {},
   "outputs": [],
   "source": [
    "import numpy as np\n",
    "from sklearn.model_selection import train_test_split\n",
    "from tensorflow.keras.datasets import mnist\n",
    "\n",
    "(X_train_full, y_train_full), (X_test_full, y_test_full) = mnist.load_data()\n",
    "\n",
    "# Filtering the data getting only 0s and\n",
    "train_filter = np.where((y_train_full == 0) | (y_train_full == 1))\n",
    "#test_filter = np.where((y_test_full == 0) | (y_test_full == 1))\n",
    "\n",
    "X_train_full, y_train_full = X_train_full[train_filter], y_train_full[train_filter]\n",
    "#X_test_full, y_test_full = X_test_full[test_filter], y_test_full[test_filter]\n"
   ]
  },
  {
   "cell_type": "code",
   "execution_count": 44,
   "metadata": {},
   "outputs": [],
   "source": [
    "# Normalize the pixel values\n",
    "X_train_full = X_train_full.astype('float32') / 255.0\n",
    "#X_test_full = X_test_full.astype('float32') / 255.0\n",
    "\n",
    "# Flatten the images\n",
    "X_train_full = X_train_full.reshape(X_train_full.shape[0], -1)\n",
    "#X_test_full = X_test_full.reshape(X_test_full.shape[0], -1)\n",
    "\n",
    "# Split the dataset into training (60%), validation (20%), and test (20%) sets\n",
    "X_train, X_temp, y_train, y_temp = train_test_split(X_train_full, y_train_full, test_size=0.4, random_state=42)\n",
    "X_val, X_test, y_val, y_test = train_test_split(X_temp, y_temp, test_size=0.5, random_state=42)"
   ]
  },
  {
   "cell_type": "code",
   "execution_count": 45,
   "metadata": {},
   "outputs": [
    {
     "name": "stdout",
     "output_type": "stream",
     "text": [
      "Training set size: 7599\n",
      "Validation set size: 2533\n",
      "Test set size: 2533\n"
     ]
    }
   ],
   "source": [
    "print(f\"Training set size: {X_train.shape[0]}\")\n",
    "print(f\"Validation set size: {X_val.shape[0]}\")\n",
    "print(f\"Test set size: {X_test.shape[0]}\")"
   ]
  },
  {
   "cell_type": "code",
   "execution_count": 46,
   "metadata": {},
   "outputs": [
    {
     "data": {
      "image/png": "[encoded data removed]",
      "text/plain": [
       "<Figure size 1000x500 with 2 Axes>"
      ]
     },
     "metadata": {},
     "output_type": "display_data"
    }
   ],
   "source": [
    "import matplotlib.pyplot as plt\n",
    "import matplotlib.image as mpimg\n",
    "\n",
    "image1 = mpimg.imread(\"mnist_images\\\\image_4.png\")\n",
    "image2 = mpimg.imread(\"mnist_images\\\\image_12663.png\")\n",
    "\n",
    "fig, axes = plt.subplots(1, 2, figsize=(10, 5))  # 1 row, 2 columns\n",
    "\n",
    "axes[0].imshow(image1)\n",
    "axes[0].axis('off') \n",
    "\n",
    "axes[1].imshow(image2)\n",
    "axes[1].axis('off') \n",
    "\n",
    "plt.tight_layout() \n",
    "plt.show()"
   ]
  },
  {
   "cell_type": "code",
   "execution_count": 47,
   "metadata": {},
   "outputs": [
    {
     "name": "stdout",
     "output_type": "stream",
     "text": [
      "Iteration 1, loss = 0.03932555\n",
      "Iteration 2, loss = 0.00346917\n",
      "Iteration 3, loss = 0.00210023\n",
      "Iteration 4, loss = 0.00171234\n",
      "Iteration 5, loss = 0.00114470\n",
      "Iteration 6, loss = 0.00043892\n",
      "Iteration 7, loss = 0.00041760\n",
      "Iteration 8, loss = 0.00017650\n",
      "Iteration 9, loss = 0.00013758\n",
      "Iteration 10, loss = 0.00012392\n",
      "Iteration 11, loss = 0.00011358\n",
      "Iteration 12, loss = 0.00010062\n",
      "Iteration 13, loss = 0.00009322\n",
      "Iteration 14, loss = 0.00008725\n",
      "Iteration 15, loss = 0.00008298\n",
      "Iteration 16, loss = 0.00008063\n",
      "Iteration 17, loss = 0.00007707\n",
      "Iteration 18, loss = 0.00007548\n",
      "Iteration 19, loss = 0.00007303\n",
      "Training loss did not improve more than tol=0.000100 for 10 consecutive epochs. Stopping.\n",
      "Accuracy: 0.9988\n"
     ]
    }
   ],
   "source": [
    "from sklearn.neural_network import MLPClassifier\n",
    "from sklearn.metrics import accuracy_score\n",
    "\n",
    "mlp = MLPClassifier(hidden_layer_sizes=(50,), max_iter=200, alpha=0.0001,\n",
    "                    solver='adam', verbose=10, random_state=42,\n",
    "                    learning_rate_init=0.01)\n",
    "\n",
    "mlp.fit(X_train.reshape(X_train.shape[0], -1), y_train)\n",
    "\n",
    "y_pred = mlp.predict(X_test.reshape(X_test.shape[0], -1))\n",
    "accuracy = accuracy_score(y_test, y_pred)\n",
    "print(f\"Accuracy: {accuracy:.4f}\")"
   ]
  },
  {
   "cell_type": "code",
   "execution_count": 48,
   "metadata": {},
   "outputs": [
    {
     "data": {
      "application/vnd.plotly.v1+json": {
       "config": {
        "plotlyServerURL": "https://plot.ly"
       },
       "data": [
        {
         "line": {
          "color": "royalblue"
         },
         "mode": "lines",
         "name": "Training Loss",
         "type": "scatter",
         "x": [
          0,
          1,
          2,
          3,
          4,
          5,
          6,
          7,
          8,
          9,
          10,
          11,
          12,
          13,
          14,
          15,
          16,
          17,
          18
         ],
         "y": [
          0.03932554639868845,
          0.003469172297784006,
          0.002100226458308206,
          0.001712340667782007,
          0.0011446998157518238,
          0.0004389207470253229,
          0.00041759933672219846,
          0.00017649811410685895,
          0.00013758425885975674,
          0.0001239155556967343,
          0.00011358423384069072,
          0.00010062410532829568,
          0.00009322249674089536,
          0.00008724667880120926,
          0.00008298053592389674,
          0.00008063218722132535,
          0.00007706656165968812,
          0.0000754839549716396,
          0.00007302736991930873
         ]
        }
       ],
       "layout": {
        "font": {
         "color": "white"
        },
        "paper_bgcolor": "rgba(0,0,0,0)",
        "plot_bgcolor": "rgba(0,0,0,0)",
        "template": {
         "data": {
          "bar": [
           {
            "error_x": {
             "color": "#2a3f5f"
            },
            "error_y": {
             "color": "#2a3f5f"
            },
            "marker": {
             "line": {
              "color": "#E5ECF6",
              "width": 0.5
             },
             "pattern": {
              "fillmode": "overlay",
              "size": 10,
              "solidity": 0.2
             }
            },
            "type": "bar"
           }
          ],
          "barpolar": [
           {
            "marker": {
             "line": {
              "color": "#E5ECF6",
              "width": 0.5
             },
             "pattern": {
              "fillmode": "overlay",
              "size": 10,
              "solidity": 0.2
             }
            },
            "type": "barpolar"
           }
          ],
          "carpet": [
           {
            "aaxis": {
             "endlinecolor": "#2a3f5f",
             "gridcolor": "white",
             "linecolor": "white",
             "minorgridcolor": "white",
             "startlinecolor": "#2a3f5f"
            },
            "baxis": {
             "endlinecolor": "#2a3f5f",
             "gridcolor": "white",
             "linecolor": "white",
             "minorgridcolor": "white",
             "startlinecolor": "#2a3f5f"
            },
            "type": "carpet"
           }
          ],
          "choropleth": [
           {
            "colorbar": {
             "outlinewidth": 0,
             "ticks": ""
            },
            "type": "choropleth"
           }
          ],
          "contour": [
           {
            "colorbar": {
             "outlinewidth": 0,
             "ticks": ""
            },
            "colorscale": [
             [
              0,
              "#0d0887"
             ],
             [
              0.1111111111111111,
              "#46039f"
             ],
             [
              0.2222222222222222,
              "#7201a8"
             ],
             [
              0.3333333333333333,
              "#9c179e"
             ],
             [
              0.4444444444444444,
              "#bd3786"
             ],
             [
              0.5555555555555556,
              "#d8576b"
             ],
             [
              0.6666666666666666,
              "#ed7953"
             ],
             [
              0.7777777777777778,
              "#fb9f3a"
             ],
             [
              0.8888888888888888,
              "#fdca26"
             ],
             [
              1,
              "#f0f921"
             ]
            ],
            "type": "contour"
           }
          ],
          "contourcarpet": [
           {
            "colorbar": {
             "outlinewidth": 0,
             "ticks": ""
            },
            "type": "contourcarpet"
           }
          ],
          "heatmap": [
           {
            "colorbar": {
             "outlinewidth": 0,
             "ticks": ""
            },
            "colorscale": [
             [
              0,
              "#0d0887"
             ],
             [
              0.1111111111111111,
              "#46039f"
             ],
             [
              0.2222222222222222,
              "#7201a8"
             ],
             [
              0.3333333333333333,
              "#9c179e"
             ],
             [
              0.4444444444444444,
              "#bd3786"
             ],
             [
              0.5555555555555556,
              "#d8576b"
             ],
             [
              0.6666666666666666,
              "#ed7953"
             ],
             [
              0.7777777777777778,
              "#fb9f3a"
             ],
             [
              0.8888888888888888,
              "#fdca26"
             ],
             [
              1,
              "#f0f921"
             ]
            ],
            "type": "heatmap"
           }
          ],
          "heatmapgl": [
           {
            "colorbar": {
             "outlinewidth": 0,
             "ticks": ""
            },
            "colorscale": [
             [
              0,
              "#0d0887"
             ],
             [
              0.1111111111111111,
              "#46039f"
             ],
             [
              0.2222222222222222,
              "#7201a8"
             ],
             [
              0.3333333333333333,
              "#9c179e"
             ],
             [
              0.4444444444444444,
              "#bd3786"
             ],
             [
              0.5555555555555556,
              "#d8576b"
             ],
             [
              0.6666666666666666,
              "#ed7953"
             ],
             [
              0.7777777777777778,
              "#fb9f3a"
             ],
             [
              0.8888888888888888,
              "#fdca26"
             ],
             [
              1,
              "#f0f921"
             ]
            ],
            "type": "heatmapgl"
           }
          ],
          "histogram": [
           {
            "marker": {
             "pattern": {
              "fillmode": "overlay",
              "size": 10,
              "solidity": 0.2
             }
            },
            "type": "histogram"
           }
          ],
          "histogram2d": [
           {
            "colorbar": {
             "outlinewidth": 0,
             "ticks": ""
            },
            "colorscale": [
             [
              0,
              "#0d0887"
             ],
             [
              0.1111111111111111,
              "#46039f"
             ],
             [
              0.2222222222222222,
              "#7201a8"
             ],
             [
              0.3333333333333333,
              "#9c179e"
             ],
             [
              0.4444444444444444,
              "#bd3786"
             ],
             [
              0.5555555555555556,
              "#d8576b"
             ],
             [
              0.6666666666666666,
              "#ed7953"
             ],
             [
              0.7777777777777778,
              "#fb9f3a"
             ],
             [
              0.8888888888888888,
              "#fdca26"
             ],
             [
              1,
              "#f0f921"
             ]
            ],
            "type": "histogram2d"
           }
          ],
          "histogram2dcontour": [
           {
            "colorbar": {
             "outlinewidth": 0,
             "ticks": ""
            },
            "colorscale": [
             [
              0,
              "#0d0887"
             ],
             [
              0.1111111111111111,
              "#46039f"
             ],
             [
              0.2222222222222222,
              "#7201a8"
             ],
             [
              0.3333333333333333,
              "#9c179e"
             ],
             [
              0.4444444444444444,
              "#bd3786"
             ],
             [
              0.5555555555555556,
              "#d8576b"
             ],
             [
              0.6666666666666666,
              "#ed7953"
             ],
             [
              0.7777777777777778,
              "#fb9f3a"
             ],
             [
              0.8888888888888888,
              "#fdca26"
             ],
             [
              1,
              "#f0f921"
             ]
            ],
            "type": "histogram2dcontour"
           }
          ],
          "mesh3d": [
           {
            "colorbar": {
             "outlinewidth": 0,
             "ticks": ""
            },
            "type": "mesh3d"
           }
          ],
          "parcoords": [
           {
            "line": {
             "colorbar": {
              "outlinewidth": 0,
              "ticks": ""
             }
            },
            "type": "parcoords"
           }
          ],
          "pie": [
           {
            "automargin": true,
            "type": "pie"
           }
          ],
          "scatter": [
           {
            "fillpattern": {
             "fillmode": "overlay",
             "size": 10,
             "solidity": 0.2
            },
            "type": "scatter"
           }
          ],
          "scatter3d": [
           {
            "line": {
             "colorbar": {
              "outlinewidth": 0,
              "ticks": ""
             }
            },
            "marker": {
             "colorbar": {
              "outlinewidth": 0,
              "ticks": ""
             }
            },
            "type": "scatter3d"
           }
          ],
          "scattercarpet": [
           {
            "marker": {
             "colorbar": {
              "outlinewidth": 0,
              "ticks": ""
             }
            },
            "type": "scattercarpet"
           }
          ],
          "scattergeo": [
           {
            "marker": {
             "colorbar": {
              "outlinewidth": 0,
              "ticks": ""
             }
            },
            "type": "scattergeo"
           }
          ],
          "scattergl": [
           {
            "marker": {
             "colorbar": {
              "outlinewidth": 0,
              "ticks": ""
             }
            },
            "type": "scattergl"
           }
          ],
          "scattermapbox": [
           {
            "marker": {
             "colorbar": {
              "outlinewidth": 0,
              "ticks": ""
             }
            },
            "type": "scattermapbox"
           }
          ],
          "scatterpolar": [
           {
            "marker": {
             "colorbar": {
              "outlinewidth": 0,
              "ticks": ""
             }
            },
            "type": "scatterpolar"
           }
          ],
          "scatterpolargl": [
           {
            "marker": {
             "colorbar": {
              "outlinewidth": 0,
              "ticks": ""
             }
            },
            "type": "scatterpolargl"
           }
          ],
          "scatterternary": [
           {
            "marker": {
             "colorbar": {
              "outlinewidth": 0,
              "ticks": ""
             }
            },
            "type": "scatterternary"
           }
          ],
          "surface": [
           {
            "colorbar": {
             "outlinewidth": 0,
             "ticks": ""
            },
            "colorscale": [
             [
              0,
              "#0d0887"
             ],
             [
              0.1111111111111111,
              "#46039f"
             ],
             [
              0.2222222222222222,
              "#7201a8"
             ],
             [
              0.3333333333333333,
              "#9c179e"
             ],
             [
              0.4444444444444444,
              "#bd3786"
             ],
             [
              0.5555555555555556,
              "#d8576b"
             ],
             [
              0.6666666666666666,
              "#ed7953"
             ],
             [
              0.7777777777777778,
              "#fb9f3a"
             ],
             [
              0.8888888888888888,
              "#fdca26"
             ],
             [
              1,
              "#f0f921"
             ]
            ],
            "type": "surface"
           }
          ],
          "table": [
           {
            "cells": {
             "fill": {
              "color": "#EBF0F8"
             },
             "line": {
              "color": "white"
             }
            },
            "header": {
             "fill": {
              "color": "#C8D4E3"
             },
             "line": {
              "color": "white"
             }
            },
            "type": "table"
           }
          ]
         },
         "layout": {
          "annotationdefaults": {
           "arrowcolor": "#2a3f5f",
           "arrowhead": 0,
           "arrowwidth": 1
          },
          "autotypenumbers": "strict",
          "coloraxis": {
           "colorbar": {
            "outlinewidth": 0,
            "ticks": ""
           }
          },
          "colorscale": {
           "diverging": [
            [
             0,
             "#8e0152"
            ],
            [
             0.1,
             "#c51b7d"
            ],
            [
             0.2,
             "#de77ae"
            ],
            [
             0.3,
             "#f1b6da"
            ],
            [
             0.4,
             "#fde0ef"
            ],
            [
             0.5,
             "#f7f7f7"
            ],
            [
             0.6,
             "#e6f5d0"
            ],
            [
             0.7,
             "#b8e186"
            ],
            [
             0.8,
             "#7fbc41"
            ],
            [
             0.9,
             "#4d9221"
            ],
            [
             1,
             "#276419"
            ]
           ],
           "sequential": [
            [
             0,
             "#0d0887"
            ],
            [
             0.1111111111111111,
             "#46039f"
            ],
            [
             0.2222222222222222,
             "#7201a8"
            ],
            [
             0.3333333333333333,
             "#9c179e"
            ],
            [
             0.4444444444444444,
             "#bd3786"
            ],
            [
             0.5555555555555556,
             "#d8576b"
            ],
            [
             0.6666666666666666,
             "#ed7953"
            ],
            [
             0.7777777777777778,
             "#fb9f3a"
            ],
            [
             0.8888888888888888,
             "#fdca26"
            ],
            [
             1,
             "#f0f921"
            ]
           ],
           "sequentialminus": [
            [
             0,
             "#0d0887"
            ],
            [
             0.1111111111111111,
             "#46039f"
            ],
            [
             0.2222222222222222,
             "#7201a8"
            ],
            [
             0.3333333333333333,
             "#9c179e"
            ],
            [
             0.4444444444444444,
             "#bd3786"
            ],
            [
             0.5555555555555556,
             "#d8576b"
            ],
            [
             0.6666666666666666,
             "#ed7953"
            ],
            [
             0.7777777777777778,
             "#fb9f3a"
            ],
            [
             0.8888888888888888,
             "#fdca26"
            ],
            [
             1,
             "#f0f921"
            ]
           ]
          },
          "colorway": [
           "#636efa",
           "#EF553B",
           "#00cc96",
           "#ab63fa",
           "#FFA15A",
           "#19d3f3",
           "#FF6692",
           "#B6E880",
           "#FF97FF",
           "#FECB52"
          ],
          "font": {
           "color": "#2a3f5f"
          },
          "geo": {
           "bgcolor": "white",
           "lakecolor": "white",
           "landcolor": "#E5ECF6",
           "showlakes": true,
           "showland": true,
           "subunitcolor": "white"
          },
          "hoverlabel": {
           "align": "left"
          },
          "hovermode": "closest",
          "mapbox": {
           "style": "light"
          },
          "paper_bgcolor": "white",
          "plot_bgcolor": "#E5ECF6",
          "polar": {
           "angularaxis": {
            "gridcolor": "white",
            "linecolor": "white",
            "ticks": ""
           },
           "bgcolor": "#E5ECF6",
           "radialaxis": {
            "gridcolor": "white",
            "linecolor": "white",
            "ticks": ""
           }
          },
          "scene": {
           "xaxis": {
            "backgroundcolor": "#E5ECF6",
            "gridcolor": "white",
            "gridwidth": 2,
            "linecolor": "white",
            "showbackground": true,
            "ticks": "",
            "zerolinecolor": "white"
           },
           "yaxis": {
            "backgroundcolor": "#E5ECF6",
            "gridcolor": "white",
            "gridwidth": 2,
            "linecolor": "white",
            "showbackground": true,
            "ticks": "",
            "zerolinecolor": "white"
           },
           "zaxis": {
            "backgroundcolor": "#E5ECF6",
            "gridcolor": "white",
            "gridwidth": 2,
            "linecolor": "white",
            "showbackground": true,
            "ticks": "",
            "zerolinecolor": "white"
           }
          },
          "shapedefaults": {
           "line": {
            "color": "#2a3f5f"
           }
          },
          "ternary": {
           "aaxis": {
            "gridcolor": "white",
            "linecolor": "white",
            "ticks": ""
           },
           "baxis": {
            "gridcolor": "white",
            "linecolor": "white",
            "ticks": ""
           },
           "bgcolor": "#E5ECF6",
           "caxis": {
            "gridcolor": "white",
            "linecolor": "white",
            "ticks": ""
           }
          },
          "title": {
           "x": 0.05
          },
          "xaxis": {
           "automargin": true,
           "gridcolor": "white",
           "linecolor": "white",
           "ticks": "",
           "title": {
            "standoff": 15
           },
           "zerolinecolor": "white",
           "zerolinewidth": 2
          },
          "yaxis": {
           "automargin": true,
           "gridcolor": "white",
           "linecolor": "white",
           "ticks": "",
           "title": {
            "standoff": 15
           },
           "zerolinecolor": "white",
           "zerolinewidth": 2
          }
         }
        },
        "title": {
         "text": "Training Loss Over Iterations"
        },
        "xaxis": {
         "gridcolor": "purple",
         "gridwidth": 0.5,
         "linecolor": "white",
         "linewidth": 2,
         "mirror": true,
         "showline": true,
         "title": {
          "text": "Iterations"
         }
        },
        "yaxis": {
         "gridcolor": "purple",
         "gridwidth": 0.5,
         "linecolor": "white",
         "linewidth": 2,
         "mirror": true,
         "showline": true,
         "title": {
          "text": "Training Loss"
         }
        }
       }
      }
     },
     "metadata": {},
     "output_type": "display_data"
    }
   ],
   "source": [
    "import plotly.graph_objects as go\n",
    "\n",
    "loss_history = mlp.loss_curve_\n",
    "\n",
    "fig = go.Figure()\n",
    "fig.add_trace(go.Scatter(x=list(range(len(loss_history))), y=loss_history, mode='lines', name='Training Loss', line=dict(color='royalblue')))\n",
    "\n",
    "fig.update_xaxes(showline=True, linewidth=2, linecolor='white', mirror=True, gridcolor='purple', gridwidth=0.5)\n",
    "fig.update_yaxes(showline=True, linewidth=2, linecolor='white', mirror=True, gridcolor='purple', gridwidth=0.5)\n",
    "fig.update_layout(\n",
    "    title=\"Training Loss Over Iterations\",\n",
    "    xaxis_title=\"Iterations\",\n",
    "    yaxis_title=\"Training Loss\",\n",
    "    paper_bgcolor = 'rgba(0,0,0,0)', \n",
    "    plot_bgcolor = 'rgba(0,0,0,0)',\n",
    "    font=dict(color=\"white\"),\n",
    ")"
   ]
  },
  {
   "cell_type": "code",
   "execution_count": 49,
   "metadata": {},
   "outputs": [],
   "source": [
    "import random\n",
    "\n",
    "def flatten_weights(model):\n",
    "    weights = []\n",
    "    for weight, biais in zip(model.coefs_, model.intercepts_):\n",
    "        weights.extend(weight.flatten())\n",
    "        weights.extend(biais)\n",
    "    return weights\n",
    "\n",
    "def set_weights(model, chromosome):\n",
    "    start = 3 # since the 3 first elements are hidden layer size, learning rate and regularization parameter\n",
    "    new_weights = []\n",
    "    new_biaises = []\n",
    "    for weight, biais in zip(model.coefs_, model.intercepts_):\n",
    "        weight_shape = weight.shape\n",
    "        bias_shape = biais.shape\n",
    "        weight_size = np.prod(weight_shape)\n",
    "        biais_size = np.prod(bias_shape)\n",
    "        \n",
    "        end_weights = start + weight_size\n",
    "        print(f\"Weight size: {weight_size}\")\n",
    "        print(len(chromosome[start:end_weights]))\n",
    "        new_weight = np.array(chromosome[start:end_weights]).reshape(weight_shape)\n",
    "        start += weight_size\n",
    "        \n",
    "        end_biaises = start + biais_size\n",
    "        print(f\"biaises size: {biais_size}\")\n",
    "        print(len(chromosome[start:end_biaises]))\n",
    "        new_biais = np.array(chromosome[start:end_biaises]).reshape(bias_shape)\n",
    "        start += biais_size\n",
    "        \n",
    "        new_weights.append(new_weight)\n",
    "        new_biaises.append(new_biais)\n",
    "    \n",
    "    model.coefs_ = new_weights\n",
    "    model.intercepts_ = new_biaises\n",
    "\n",
    "# def fitness_function(chromosome, X_train, y_train, X_val, y_val):\n",
    "def fitness_function(model, X_val, y_val):\n",
    "    # hidden_layer_size = int(chromosome[0])\n",
    "    # learning_rate_init = chromosome[1]\n",
    "    # alpha = chromosome[2]\n",
    "    # weights_biases = chromosome[3:]\n",
    "    \n",
    "    # model = MLPClassifier(hidden_layer_sizes=(hidden_layer_size,),learning_rate='constant', learning_rate_init=learning_rate_init,alpha=alpha, max_iter=1, warm_start=True)\n",
    "    # model.fit(X_train, y_train)\n",
    "    #set_weights(model, weights_biases)\n",
    "    #model.fit(X_train, y_train)\n",
    "    y_pred = model.predict(X_val)\n",
    "    accuracy = accuracy_score(y_val, y_pred)\n",
    "    return accuracy\n",
    "\n",
    "def initialize_population(pop_size, model):\n",
    "    population = []\n",
    "    for _ in range(pop_size):\n",
    "        hls = model.hidden_layer_sizes[0]\n",
    "        learning_rate_init = model.learning_rate_init\n",
    "        alpha = model.alpha\n",
    "        weights_biases = flatten_weights(model)\n",
    "        chromosome = [hls, learning_rate_init, alpha] + weights_biases\n",
    "        population.append(chromosome)\n",
    "    return population\n",
    "\n",
    "# la méthode de roulette\n",
    "def select_parents(population, fitnesses):\n",
    "    total_fitness = sum(fitnesses)\n",
    "    selection_probs = [fitness / total_fitness for fitness in fitnesses]\n",
    "    parents = random.choices(population, weights=selection_probs, k=len(population))\n",
    "    return parents\n",
    "\n",
    "\n",
    "def crossover(parent1, parent2):\n",
    "    alpha  = random.random() # generates numbers between 0 and 1\n",
    "    parent1, parent2 = np.array(parent1), np.array(parent2)\n",
    "    child1 = alpha*parent1 + (1 - alpha)*parent2\n",
    "    child2 = (1 - alpha)*parent1 + alpha*parent2\n",
    "    return child1, child2\n",
    "\n",
    "# GET BACK TO THIS\n",
    "def mutate(chromosome, mutation_rate):\n",
    "    for i in range(len(chromosome)):\n",
    "        if random.random() < mutation_rate:\n",
    "            if i == 0:\n",
    "                chromosome[i] = random.randint(5, 50)  # hidden_layer_size\n",
    "            elif i == 1:\n",
    "                chromosome[i] = random.uniform(0.0001, 0.1)  # learning_rate_init\n",
    "            elif i == 2:\n",
    "                chromosome[i] = random.uniform(0.0001, 0.1)  # alpha\n",
    "            else:\n",
    "                chromosome[i] += np.random.normal()\n",
    "\n",
    "\n",
    "def genetic_algorithm(X_train, y_train, X_val, y_val, pop_size, generations, mutation_rate):\n",
    "    model = MLPClassifier(hidden_layer_sizes=(10,), max_iter=200, warm_start=True)\n",
    "    model.fit(X_train, y_train)\n",
    "    population = initialize_population(pop_size, model)\n",
    "    fitness_history = []\n",
    "    best_chromosome_per_generation = []\n",
    "    for _ in range(generations):\n",
    "        fitnesses = [fitness_function(model, X_val, y_val) for chromosome in population]\n",
    "        fitness_history.append(max(fitnesses))\n",
    "        best_params = population[fitnesses.index(max(fitnesses))]\n",
    "        best_chromosome_per_generation.append((best_params, 1 - max(fitnesses)))\n",
    "        parents = select_parents(population, fitnesses)\n",
    "        next_population = []\n",
    "        for i in range(0, len(parents), 2):\n",
    "            parent1, parent2 = parents[i], parents[i + 1]\n",
    "            child1, child2 = crossover(parent1, parent2)\n",
    "            mutate(child1, mutation_rate)\n",
    "            mutate(child2, mutation_rate)\n",
    "            next_population.extend([child1, child2])\n",
    "        population = next_population\n",
    "    # Select the best chromosome based on validation accuracy\n",
    "    best_chromosome = max(population, key=lambda chromo: fitness_function(model, X_val, y_val))\n",
    "    return best_chromosome, fitness_history, best_chromosome_per_generation"
   ]
  },
  {
   "cell_type": "code",
   "execution_count": 50,
   "metadata": {},
   "outputs": [
    {
     "name": "stdout",
     "output_type": "stream",
     "text": [
      "Best solution: [10.          0.03079426  0.01850454 ...  0.08050434 -0.1301662\n",
      "  0.22624389]\n",
      "Generation 1: Best Params: [10, 0.001, 0.0001, np.float32(7.373736e-23), np.float32(3.038025e-21), np.float32(3.7438052e-32), np.float32(1.5790704e-31), np.float32(-2.3096925e-27), np.float32(1.2695078e-30), np.float32(-6.955508e-22), np.float32(-9.410084e-23), np.float32(8.066842e-33), np.float32(2.8311725e-26), np.float32(-2.6918527e-34), np.float32(4.123549e-29), np.float32(-1.7238928e-24), np.float32(-1.0660212e-22), np.float32(2.2368e-28), np.float32(4.0195657e-34), np.float32(4.5995874e-32), np.float32(5.0925483e-26), np.float32(-2.8212522e-28), np.float32(6.0673597e-31), np.float32(4.579148e-30), np.float32(-1.8857199e-25), np.float32(8.253575e-22), np.float32(-4.198574e-34), np.float32(-2.9892858e-24), np.float32(-1.5317779e-32), np.float32(-9.145839e-24), np.float32(2.342042e-28), np.float32(-1.8534367e-28), np.float32(-1.4418806e-32), np.float32(5.0919618e-31), np.float32(1.8748159e-30), np.float32(-2.7785156e-33), np.float32(-6.846301e-27), np.float32(-1.6667411e-32), np.float32(4.4975268e-24), np.float32(4.7918006e-33), np.float32(-5.263564e-26), np.float32(4.0452846e-29), np.float32(2.9323237e-29), np.float32(-1.068682e-32), np.float32(-1.0545762e-31), np.float32(4.872968e-28), np.float32(-4.751864e-34), np.float32(-2.5315385e-32), np.float32(4.7443966e-33), np.float32(8.554812e-33), np.float32(-1.1558224e-25), np.float32(-3.4757173e-34), np.float32(-1.2605888e-34), np.float32(3.7367834e-28), np.float32(-4.3791303e-35), np.float32(3.5835756e-34), np.float32(-1.1084555e-21), np.float32(-1.02303e-27), np.float32(-9.2331314e-32), np.float32(-2.0285045e-25), np.float32(-4.0932453e-31), np.float32(3.7248665e-32), np.float32(-3.0667524e-22), np.float32(6.590186e-27), np.float32(3.868636e-29), np.float32(-1.4852289e-32), np.float32(-5.9509036e-27), np.float32(9.335255e-30), np.float32(-6.6923856e-32), np.float32(4.293832e-34), np.float32(1.0286988e-25), np.float32(3.7120362e-27), np.float32(4.2884167e-30), np.float32(-2.3221334e-22), np.float32(-8.964767e-24), np.float32(2.5187739e-23), np.float32(7.434928e-24), np.float32(-3.2163423e-31), np.float32(-5.3060014e-31), np.float32(1.3759907e-30), np.float32(-3.085951e-30), np.float32(7.9963185e-32), np.float32(1.0621005e-33), np.float32(-1.2535853e-26), np.float32(4.070849e-31), np.float32(8.683049e-25), np.float32(8.643883e-22), np.float32(-4.8543858e-30), np.float32(-9.744795e-32), np.float32(-5.173401e-22), np.float32(-1.68005e-24), np.float32(-7.684847e-24), np.float32(-8.723433e-27), np.float32(-5.14972e-22), np.float32(-1.3748467e-21), np.float32(2.2192696e-25), np.float32(-9.840029e-21), np.float32(4.051236e-28), np.float32(-5.265359e-28), np.float32(-8.847926e-21), np.float32(7.647279e-24), np.float32(1.5850122e-34), np.float32(1.6093416e-35), np.float32(-2.794579e-28), np.float32(3.5873582e-30), np.float32(9.277616e-26), np.float32(-5.1102597e-34), np.float32(-1.0954677e-32), np.float32(3.788088e-31), np.float32(-1.0026768e-30), np.float32(-7.8866684e-32), np.float32(7.3984774e-26), np.float32(1.1212873e-21), np.float32(3.1162403e-33), np.float32(-4.6709361e-35), np.float32(3.200016e-31), np.float32(5.0508807e-34), np.float32(-9.195033e-24), np.float32(1.548344e-21), np.float32(1.61e-28), np.float32(7.117766e-24), np.float32(-3.6900598e-24), np.float32(-5.2187644e-35), np.float32(-7.068288e-32), np.float32(-1.3688496e-21), np.float32(-3.3359333e-30), np.float32(-3.0637614e-28), np.float32(-4.4886983e-22), np.float32(-3.285499e-22), np.float32(-1.083912e-33), np.float32(9.319742e-28), np.float32(-1.279675e-32), np.float32(-1.935236e-27), np.float32(-1.1351659e-24), np.float32(-4.3158608e-24), np.float32(3.1154402e-33), np.float32(-4.407789e-30), np.float32(4.4422682e-29), np.float32(1.0605027e-24), np.float32(2.7482176e-24), np.float32(5.3211803e-28), np.float32(-4.8397758e-30), np.float32(1.5043984e-25), np.float32(-4.188259e-34), np.float32(-1.2262247e-21), np.float32(-5.6261163e-31), np.float32(-8.263957e-22), np.float32(2.2086624e-25), np.float32(-9.977482e-33), np.float32(1.4610653e-26), np.float32(-6.3718736e-26), np.float32(4.5336052e-30), np.float32(-4.9147557e-34), np.float32(-1.7880236e-25), np.float32(1.7943157e-29), np.float32(-1.0277646e-33), np.float32(-1.2125821e-21), np.float32(-3.5613786e-28), np.float32(-3.7703353e-21), np.float32(9.786985e-36), np.float32(-7.963973e-23), np.float32(3.134607e-30), np.float32(-8.282162e-32), np.float32(-8.3352353e-32), np.float32(-3.316374e-29), np.float32(-9.826898e-24), np.float32(-1.5755199e-28), np.float32(-4.177766e-35), np.float32(-1.5394318e-31), np.float32(-5.2591634e-35), np.float32(2.6981092e-24), np.float32(6.687434e-25), np.float32(3.05551e-28), np.float32(-9.173155e-33), np.float32(5.139306e-34), np.float32(6.2956063e-22), np.float32(5.756253e-30), np.float32(-8.049528e-30), np.float32(-2.8660425e-24), np.float32(2.1256362e-25), np.float32(-4.6856443e-27), np.float32(1.1773213e-32), np.float32(3.5278122e-29), np.float32(1.3858374e-30), np.float32(1.7780964e-34), np.float32(1.4991911e-25), np.float32(-3.0657917e-35), np.float32(-8.7701434e-27), np.float32(3.1158065e-33), np.float32(-4.2507597e-27), np.float32(3.3379277e-30), np.float32(7.616161e-22), np.float32(2.2079003e-27), np.float32(-3.8023172e-33), np.float32(2.0867246e-28), np.float32(8.74634e-27), np.float32(-1.0548786e-23), np.float32(1.3359743e-24), np.float32(1.8585731e-22), np.float32(-7.053185e-30), np.float32(1.1478593e-30), np.float32(4.2742964e-31), np.float32(2.7065503e-34), np.float32(3.1847345e-27), np.float32(1.3827086e-32), np.float32(-9.351252e-24), np.float32(-5.7863333e-31), np.float32(-4.3608316e-30), np.float32(-4.5971568e-30), np.float32(-3.25188e-32), np.float32(5.24135e-35), np.float32(2.7526507e-29), np.float32(4.0596755e-31), np.float32(-5.170431e-27), np.float32(-3.2185267e-27), np.float32(4.8498253e-30), np.float32(2.57871e-29), np.float32(2.1555942e-25), np.float32(-1.6870112e-32), np.float32(-1.8069324e-33), np.float32(1.7830994e-35), np.float32(2.6751757e-28), np.float32(4.3206267e-30), np.float32(7.344936e-32), np.float32(4.6164726e-27), np.float32(7.537389e-22), np.float32(-8.6285406e-27), np.float32(3.383461e-31), np.float32(-2.5028507e-30), np.float32(1.9895119e-25), np.float32(3.0174047e-33), np.float32(-2.81097e-28), np.float32(4.8484493e-30), np.float32(9.542457e-33), np.float32(-1.7266181e-28), np.float32(-1.5156134e-23), np.float32(-5.1150502e-24), np.float32(-1.5572688e-27), np.float32(2.4933404e-34), np.float32(-8.6283395e-27), np.float32(4.2881593e-34), np.float32(-2.724198e-29), np.float32(1.3763353e-21), np.float32(1.7011396e-28), np.float32(-5.6839203e-25), np.float32(6.3640333e-31), np.float32(-4.1452488e-29), np.float32(-3.5844117e-29), np.float32(1.9998568e-34), np.float32(-5.1146494e-35), np.float32(7.2579056e-36), np.float32(5.860974e-32), np.float32(-5.1471065e-28), np.float32(7.945888e-24), np.float32(-5.46528e-22), np.float32(-5.3419003e-35), np.float32(1.1111526e-21), np.float32(-1.0671955e-30), np.float32(-1.0349198e-25), np.float32(-5.3586304e-28), np.float32(5.342432e-28), np.float32(-2.4502491e-30), np.float32(-3.0074997e-33), np.float32(-6.81013e-32), np.float32(-2.6052316e-33), np.float32(1.9122815e-33), np.float32(-2.129589e-26), np.float32(-4.8636784e-30), np.float32(-4.2243655e-22), np.float32(-2.853049e-33), np.float32(-3.448513e-29), np.float32(-2.017961e-31), np.float32(6.901698e-27), np.float32(4.266415e-29), np.float32(-8.194707e-22), np.float32(-8.3039037e-32), np.float32(8.309272e-33), np.float32(3.345856e-28), np.float32(-4.1314628e-30), np.float32(1.6022418e-33), np.float32(3.6915443e-29), np.float32(6.9209015e-33), np.float32(2.2131054e-25), np.float32(3.440623e-31), np.float32(-1.926907e-31), np.float32(-3.7558086e-30), np.float32(1.7457339e-34), np.float32(1.9919454e-34), np.float32(-4.464862e-28), np.float32(5.3549394e-28), np.float32(1.5410364e-21), np.float32(-1.4094153e-25), np.float32(2.7027664e-29), np.float32(-1.6924206e-32), np.float32(-1.0717233e-33), np.float32(-4.928735e-33), np.float32(-4.16611e-35), np.float32(-2.4854385e-29), np.float32(4.469602e-22), np.float32(-4.026158e-29), np.float32(-3.0211679e-34), np.float32(-3.1886486e-32), np.float32(4.8164325e-31), np.float32(-9.4598845e-34), np.float32(5.7934657e-34), np.float32(1.2030706e-24), np.float32(2.9297129e-27), np.float32(-1.1434948e-21), np.float32(-1.1744217e-34), np.float32(-5.114149e-31), np.float32(-1.2956964e-24), np.float32(-4.2078278e-26), np.float32(-6.222017e-31), np.float32(-2.6955114e-29), np.float32(-1.9200454e-25), np.float32(1.2359181e-32), np.float32(8.757448e-32), np.float32(-5.152454e-34), np.float32(5.9759e-32), np.float32(2.768167e-33), np.float32(-5.337323e-34), np.float32(-4.0172864e-30), np.float32(1.2027872e-25), np.float32(-1.3945764e-29), np.float32(-8.042685e-34), np.float32(1.6917863e-22), np.float32(-3.1884396e-31), np.float32(-2.6235358e-29), np.float32(-1.0501048e-35), np.float32(1.0523135e-33), np.float32(2.056073e-27), np.float32(5.622942e-23), np.float32(-2.0664933e-36), np.float32(4.061101e-26), np.float32(-6.400997e-31), np.float32(-6.726039e-23), np.float32(-5.2343454e-26), np.float32(-1.6956992e-25), np.float32(7.132098e-22), np.float32(2.5314767e-35), np.float32(8.4766667e-32), np.float32(1.1717772e-25), np.float32(-2.0377982e-21), np.float32(9.806576e-30), np.float32(-7.6199636e-35), np.float32(-8.0265506e-26), np.float32(8.372036e-26), np.float32(-1.752188e-27), np.float32(-6.603863e-22), np.float32(5.9635977e-30), np.float32(1.1003426e-21), np.float32(5.622826e-25), np.float32(1.7922418e-23), np.float32(1.3161323e-32), np.float32(-4.150866e-32), np.float32(2.1511167e-30), np.float32(2.794876e-33), np.float32(5.7419426e-22), np.float32(1.6963356e-32), np.float32(2.2274889e-32), np.float32(-4.6873866e-32), np.float32(-1.459979e-30), np.float32(-3.865347e-30), np.float32(1.454274e-29), np.float32(-5.4056096e-28), np.float32(-7.207052e-22), np.float32(-3.286655e-23), np.float32(2.6522553e-32), np.float32(1.0581911e-21), np.float32(-1.0444543e-23), np.float32(6.401178e-31), np.float32(1.043299e-21), np.float32(1.03216864e-23), np.float32(4.5670104e-34), np.float32(3.9957357e-27), np.float32(5.2386847e-34), np.float32(-1.3429738e-23), np.float32(2.8624596e-34), np.float32(-2.3379555e-31), np.float32(4.0663307e-31), np.float32(-4.0145737e-22), np.float32(-5.617653e-24), np.float32(-3.8285116e-22), np.float32(4.2805764e-29), np.float32(6.573633e-31), np.float32(-9.043581e-32), np.float32(1.493964e-32), np.float32(1.3704605e-29), np.float32(-2.7072724e-22), np.float32(-4.5506175e-31), np.float32(3.5588712e-29), np.float32(-8.128204e-27), np.float32(-1.1235534e-32), np.float32(0.039326318), np.float32(-0.052451156), np.float32(0.040830474), np.float32(-0.0957088), np.float32(0.0057956544), np.float32(0.08409011), np.float32(-4.2735437e-28), np.float32(0.06989035), np.float32(-0.022726329), np.float32(-0.07636046), np.float32(0.09472261), np.float32(-0.06586757), np.float32(0.018620903), np.float32(-0.051497564), np.float32(0.0126570575), np.float32(-0.03632026), np.float32(1.1923626e-32), np.float32(0.019330133), np.float32(0.020825008), np.float32(-0.023054935), np.float32(0.03654958), np.float32(0.004998125), np.float32(-0.10020492), np.float32(0.009070684), np.float32(-0.0068550003), np.float32(0.048016194), np.float32(-3.658285e-28), np.float32(0.0069162087), np.float32(0.052751675), np.float32(-0.067469776), np.float32(4.37183e-29), np.float32(-6.342175e-27), np.float32(-1.1484298e-32), np.float32(2.7492595e-34), np.float32(-2.349788e-34), np.float32(1.7498114e-22), np.float32(1.67637e-30), np.float32(-1.0979025e-28), np.float32(7.1584235e-28), np.float32(-2.6865692e-27), np.float32(0.061414134), np.float32(-0.12670471), np.float32(-0.12673599), np.float32(0.012152988), np.float32(-0.017516263), np.float32(0.105899476), np.float32(-4.4389796e-30), np.float32(0.11871013), np.float32(0.016757296), np.float32(-0.059412178), np.float32(0.0029289247), np.float32(-0.11339051), np.float32(0.012762534), np.float32(-0.018172463), np.float32(0.112128995), np.float32(0.09757283), np.float32(1.5672789e-21), np.float32(0.111066364), np.float32(0.11003846), np.float32(-0.08002156), np.float32(0.08183024), np.float32(-0.08444922), np.float32(0.004329942), np.float32(-0.1139625), np.float32(0.089511104), np.float32(0.07745633), np.float32(3.5827023e-22), np.float32(0.120516226), np.float32(0.09180544), np.float32(-0.07521761), np.float32(-4.0323737e-24), np.float32(-1.4115073e-22), np.float32(-1.8179208e-25), np.float32(-3.1060878e-29), np.float32(-1.1704806e-32), np.float32(-7.281502e-21), np.float32(2.1283724e-25), np.float32(-1.6950614e-27), np.float32(2.9956832e-30), np.float32(2.0081108e-25), np.float32(-9.20379e-22), np.float32(-1.551274e-25), np.float32(8.715898e-27), np.float32(2.1626059e-31), np.float32(-1.2045642e-22), np.float32(8.62551e-27), np.float32(1.3901534e-27), np.float32(7.3890986e-21), np.float32(6.431616e-30), np.float32(-8.777793e-33), np.float32(4.3294743e-29), np.float32(3.3104995e-27), np.float32(-2.1946064e-25), np.float32(-5.82262e-31), np.float32(3.3305105e-33), np.float32(5.334765e-35), np.float32(-1.6738133e-32), np.float32(2.2244832e-25), np.float32(1.9312384e-26), np.float32(-3.7318022e-29), np.float32(-2.3188936e-30), np.float32(-5.514398e-31), np.float32(4.2717782e-29), np.float32(-1.2868422e-25), np.float32(4.7717167e-31), np.float32(-7.1635386e-22), np.float32(-5.312492e-35), np.float32(5.4679206e-31), np.float32(-3.651711e-29), np.float32(-2.68056e-27), np.float32(-3.360789e-34), np.float32(5.9292253e-27), np.float32(-2.8332635e-34), np.float32(-2.9327178e-28), np.float32(1.9794733e-25), np.float32(-1.7412404e-24), np.float32(8.5272696e-26), np.float32(2.935335e-26), np.float32(-1.7399512e-25), np.float32(-1.1690256e-28), np.float32(1.0196548e-23), np.float32(8.3335104e-27), np.float32(1.6281105e-31), np.float32(9.880035e-32), np.float32(-5.2155637e-28), np.float32(5.084104e-28), np.float32(-2.5040851e-24), np.float32(4.176004e-31), np.float32(2.9101045e-28), np.float32(1.2401316e-35), np.float32(-5.77251e-31), np.float32(3.580878e-24), np.float32(2.619704e-29), np.float32(-2.1666604e-28), np.float32(9.9728246e-26), np.float32(1.4659826e-22), np.float32(-3.7571967e-32), np.float32(-1.0098938e-32), np.float32(1.9015442e-35), np.float32(8.027257e-30), np.float32(-3.3109757e-34), np.float32(-3.7293068e-31), np.float32(-5.750728e-33), np.float32(1.8257763e-30), np.float32(2.969851e-29), np.float32(3.607822e-29), np.float32(1.108613e-34), np.float32(9.482911e-22), np.float32(3.9342416e-35), np.float32(-4.8518813e-30), np.float32(-1.3612467e-32), np.float32(-3.926955e-30), np.float32(-5.2415407e-22), np.float32(6.3306574e-23), np.float32(-7.392077e-27), np.float32(-2.0638695e-25), np.float32(3.7312816e-29), np.float32(-4.1002408e-29), np.float32(-3.6069966e-34), np.float32(3.4341535e-34), np.float32(6.911199e-26), np.float32(1.0546283e-32), np.float32(-2.8727354e-24), np.float32(-1.393661e-25), np.float32(-8.560682e-29), np.float32(-1.22844e-30), np.float32(5.785968e-31), np.float32(5.892277e-22), np.float32(-6.4256594e-32), np.float32(1.956822e-21), np.float32(2.4104932e-35), np.float32(1.5399578e-21), np.float32(-2.9102309e-33), np.float32(2.9854204e-29), np.float32(-5.2960096e-35), np.float32(4.1908403e-25), np.float32(-1.5713175e-32), np.float32(4.380102e-35), np.float32(-2.0349137e-22), np.float32(-1.2420352e-30), np.float32(9.975472e-24), np.float32(-4.1123504e-27), np.float32(-2.1050487e-25), np.float32(-5.2557376e-27), np.float32(-5.026825e-28), np.float32(-1.2002588e-21), np.float32(-2.2491855e-36), np.float32(2.0519808e-25), np.float32(-1.5492494e-33), np.float32(-2.143357e-25), np.float32(1.3719456e-21), np.float32(1.9791044e-35), np.float32(-4.867965e-27), np.float32(1.529497e-33), np.float32(-2.209167e-25), np.float32(-2.2270369e-33), np.float32(-2.6847075e-29), np.float32(-4.0788827e-27), np.float32(9.596839e-32), np.float32(1.1857917e-28), np.float32(0.008191108), np.float32(-0.029362774), np.float32(2.0906358e-26), np.float32(0.00876905), np.float32(-0.011555729), np.float32(0.0038414448), np.float32(1.0542848e-23), np.float32(-1.1344393e-05), np.float32(0.021642629), np.float32(1.4648461e-07), np.float32(-3.8247214e-05), np.float32(-0.0022050226), np.float32(4.7484346e-24), np.float32(-0.0015667046), np.float32(0.0005500189), np.float32(1.99375e-05), np.float32(-8.999575e-22), np.float32(6.6839675e-06), np.float32(-0.005515167), np.float32(-9.694847e-14), np.float32(3.100337e-33), np.float32(-2.8391335e-33), np.float32(-6.016416e-32), np.float32(-4.7470883e-22), np.float32(4.3737965e-28), np.float32(5.0746504e-34), np.float32(1.4291062e-33), np.float32(-5.8063873e-31), np.float32(-9.826468e-29), np.float32(-7.283844e-27), np.float32(0.037820257), np.float32(-5.2938383e-28), np.float32(-1.3758575e-32), np.float32(-6.3126317e-21), np.float32(-0.06005343), np.float32(0.020562904), np.float32(-2.9565968e-30), np.float32(0.03895037), np.float32(-0.0058526327), np.float32(-9.890866e-34), np.float32(-0.017011872), np.float32(-0.0016061085), np.float32(0.051259186), np.float32(-0.044225086), np.float32(0.047853198), np.float32(0.06556432), np.float32(3.0526782e-28), np.float32(0.024421915), np.float32(0.053767696), np.float32(-0.020238075), np.float32(-0.004841373), np.float32(0.008789259), np.float32(0.016753113), np.float32(-0.030875484), np.float32(0.053951748), np.float32(-0.023531364), np.float32(1.704275e-32), np.float32(-0.0036047841), np.float32(-0.01716321), np.float32(-0.0003211478), np.float32(6.645816e-23), np.float32(1.5547789e-21), np.float32(4.3372736e-27), np.float32(-1.7798411e-29), np.float32(3.0662906e-33), np.float32(2.615558e-33), np.float32(-1.9278197e-26), np.float32(-4.6418666e-30), np.float32(8.363838e-33), np.float32(-2.8489681e-33), np.float32(-1.937402e-27), np.float32(-0.0104050385), np.float32(-0.007356999), np.float32(-0.003061831), np.float32(4.7842236e-30), np.float32(7.587912e-22), np.float32(-5.324065e-35), np.float32(-2.8777156e-28), np.float32(-7.8078525e-26), np.float32(0.023653897), np.float32(0.048915632), np.float32(0.024089372), np.float32(0.04536456), np.float32(0.057003777), np.float32(-0.051188942), np.float32(0.05407137), np.float32(-2.082725e-33), np.float32(0.06953619), np.float32(0.019549912), np.float32(0.05442133), np.float32(0.007898454), np.float32(-0.010069548), np.float32(0.042768486), np.float32(0.05569017), np.float32(-0.022376401), np.float32(-0.06775958), np.float32(9.441046e-27), np.float32(-0.084550016), np.float32(-0.015392739), np.float32(-0.019278731), np.float32(-0.103642106), np.float32(0.14439416), np.float32(0.20271596), np.float32(0.19699493), np.float32(-0.11278359), np.float32(-0.20056371), np.float32(-2.5834935e-32), np.float32(-0.25619265), np.float32(-0.08884467), np.float32(0.1681322), np.float32(-0.16665843), np.float32(0.087466), np.float32(0.12747535), np.float32(0.15020029), np.float32(-0.10549858), np.float32(-0.2078893), np.float32(-5.5654084e-35), np.float32(-0.07527301), np.float32(-0.018477444), np.float32(0.13360007), np.float32(-0.043217823), np.float32(0.045526754), np.float32(0.035247095), np.float32(0.026758071), np.float32(-0.08308253), np.float32(-0.007542586), np.float32(-8.584022e-32), np.float32(-0.011216821), np.float32(-0.09445381), np.float32(0.13182195), np.float32(-0.09975842), np.float32(0.22594658), np.float32(0.14394806), np.float32(0.22237854), np.float32(-0.14338212), np.float32(-0.10783645), np.float32(-0.00461618), np.float32(-0.22447824), np.float32(-0.2232538), np.float32(0.15822324), np.float32(-0.18011875), np.float32(0.19081175), np.float32(0.08641478), np.float32(0.14945106), np.float32(-0.22750244), np.float32(-0.2649921), np.float32(-0.0042052045), np.float32(-0.1665689), np.float32(-0.23599693), np.float32(0.13838337), np.float32(-0.22533727), np.float32(0.123567164), np.float32(0.1895964), np.float32(0.20666225), np.float32(-0.070778914), np.float32(-0.2107799), np.float32(7.3629606e-22), np.float32(-0.19842777), np.float32(-0.22572818), np.float32(0.14710605), np.float32(-0.023559276), np.float32(0.023687525), np.float32(-0.004778535), np.float32(0.10030408), np.float32(-0.016880993), np.float32(-0.105143905), np.float32(-6.051663e-24), np.float32(0.0030585057), np.float32(-0.023993677), np.float32(0.065157436), np.float32(-0.024454644), np.float32(0.022771169), np.float32(0.051003784), np.float32(0.06715175), np.float32(-0.011051295), np.float32(-0.027884215), np.float32(3.5838075e-33), np.float32(-0.06887575), np.float32(-0.02005878), np.float32(0.025348596), np.float32(2.4426294e-32), np.float32(-4.059447e-30), np.float32(4.330155e-35), np.float32(3.805258e-24), np.float32(2.4178666e-31), np.float32(-1.5711313e-21), np.float32(-2.0567604e-33), np.float32(-3.6933003e-31), np.float32(-4.210979e-25), np.float32(5.8189433e-24), np.float32(-6.2511087e-31), np.float32(2.3038173e-30), np.float32(2.1044764e-26), np.float32(-3.6774771e-34), np.float32(1.07940856e-32), np.float32(-6.1775623e-24), np.float32(-2.7400435e-32), np.float32(2.2202194e-25), np.float32(3.105085e-33), np.float32(8.978714e-25), np.float32(-1.3869815e-21), np.float32(-1.6082298e-32), np.float32(2.3122146e-29), np.float32(-5.599094e-26), np.float32(6.130419e-25), np.float32(-2.1055693e-21), np.float32(-1.652899e-21), np.float32(9.266244e-27), np.float32(1.3626283e-22), np.float32(-1.8229928e-25), np.float32(9.520299e-26), np.float32(-8.120445e-27), np.float32(2.1349746e-25), np.float32(4.7388743e-31), np.float32(-7.330028e-24), np.float32(6.017092e-31), np.float32(2.168979e-29), np.float32(3.6070275e-28), np.float32(-8.002501e-22), np.float32(2.978314e-28), np.float32(5.590379e-31), np.float32(2.8032413e-32), np.float32(-8.201267e-22), np.float32(1.2645702e-21), np.float32(-1.4914972e-32), np.float32(2.6727634e-28), np.float32(3.2689968e-30), np.float32(-2.9701162e-29), np.float32(1.564951e-21), np.float32(-6.0581313e-27), np.float32(1.4595893e-21), np.float32(-4.403899e-34), np.float32(-1.4496525e-22), np.float32(-3.4455635e-25), np.float32(2.1824187e-25), np.float32(-1.9589772e-32), np.float32(2.2607115e-29), np.float32(-4.3793724e-29), np.float32(-8.6205907e-32), np.float32(-1.2655081e-34), np.float32(-3.0976985e-27), np.float32(-2.4126034e-34), np.float32(2.821429e-29), np.float32(1.2531358e-32), np.float32(8.537136e-33), np.float32(-8.334559e-27), np.float32(-9.758095e-25), np.float32(2.6952167e-28), np.float32(4.3706094e-32), np.float32(3.7608432e-35), np.float32(-1.6368613e-32), np.float32(-3.4188943e-31), np.float32(7.523403e-27), np.float32(-6.1846518e-27), np.float32(5.078703e-26), np.float32(-3.285513e-27), np.float32(-4.8813484e-27), np.float32(3.125129e-24), np.float32(1.1881233e-25), np.float32(3.580436e-32), np.float32(-1.6428932e-32), np.float32(5.9574637e-31), np.float32(9.218629e-34), np.float32(1.2090582e-30), np.float32(-4.3083616e-35), np.float32(1.2433362e-25), np.float32(9.864284e-32), np.float32(-5.3386963e-34), np.float32(1.5557136e-32), np.float32(-2.1980818e-29), np.float32(3.8442399e-31), np.float32(-2.1893235e-25), np.float32(-1.5511634e-21), np.float32(-8.0904644e-26), np.float32(1.7804037e-25), np.float32(-1.5450452e-21), np.float32(8.834435e-26), np.float32(1.7270187e-24), np.float32(1.5364775e-32), np.float32(1.6137439e-34), np.float32(-0.027275616), np.float32(-0.056795005), np.float32(7.1730346e-28), np.float32(0.014417741), np.float32(0.008656027), np.float32(0.027332127), np.float32(-5.3288305e-28), np.float32(0.0067406637), np.float32(0.040780056), np.float32(0.00011523089), np.float32(0.028624848), np.float32(0.0013659543), np.float32(3.3458045e-35), np.float32(0.0043362454), np.float32(-0.027567679), np.float32(-0.0022399141), np.float32(3.3976062e-25), np.float32(0.0043156734), np.float32(0.05679294), np.float32(-2.1301359e-08), np.float32(0.06677276), np.float32(-1.6798727e-11), np.float32(0.004226027), np.float32(-4.8411612e-30), np.float32(-0.010181353), np.float32(-0.028284084), np.float32(-7.4325465e-27), np.float32(0.017830677), np.float32(0.04335445), np.float32(-0.00025944554), np.float32(-0.051752828), np.float32(-1.27237435e-14), np.float32(-0.010005987), np.float32(4.3850972e-29), np.float32(0.041876335), np.float32(0.04804566), np.float32(2.841993e-31), np.float32(0.0051506027), np.float32(0.0625421), np.float32(8.164755e-05), np.float32(-0.0007457788), np.float32(-0.034763314), np.float32(-0.024634473), np.float32(-0.0011680081), np.float32(0.033347666), np.float32(-0.033927668), np.float32(-4.8439693e-34), np.float32(0.019932399), np.float32(-0.02346492), np.float32(-0.013975395), np.float32(-0.15816115), np.float32(0.07697873), np.float32(0.06947648), np.float32(0.077349834), np.float32(-0.07588009), np.float32(-0.1513476), np.float32(-6.856668e-22), np.float32(-0.15311986), np.float32(-0.073861346), np.float32(0.18042488), np.float32(-0.13167661), np.float32(0.040869053), np.float32(0.1464835), np.float32(0.09523838), np.float32(-0.09844642), np.float32(-0.14035265), np.float32(1.0322719e-21), np.float32(-0.14666972), np.float32(-0.044100188), np.float32(0.12037676), np.float32(0.07883028), np.float32(-0.08214423), np.float32(-0.05092983), np.float32(0.026794601), np.float32(-0.03482104), np.float32(0.010763779), np.float32(1.3985906e-25), np.float32(0.07411841), np.float32(0.019437158), np.float32(0.012211711), np.float32(0.123237684), np.float32(-0.048839968), np.float32(-0.03975642), np.float32(-0.027224092), np.float32(0.117001675), np.float32(0.100052014), np.float32(-5.7087292e-24), np.float32(0.119869955), np.float32(0.10340648), np.float32(-0.08033285), np.float32(0.07213759), np.float32(-0.020352468), np.float32(0.10256986), np.float32(-0.062909886), np.float32(-0.0026629278), np.float32(0.04637385), np.float32(0.009489624), np.float32(0.07332964), np.float32(-0.019050715), np.float32(0.053046264), np.float32(-0.022970667), np.float32(0.0773425), np.float32(0.027154341), np.float32(0.089580074), np.float32(-0.13234158), np.float32(-0.14201017), np.float32(-0.08719992), np.float32(-0.15179731), np.float32(-0.12818326), np.float32(0.0884089), np.float32(-0.12893775), np.float32(0.036689732), np.float32(0.16928947), np.float32(0.19652912), np.float32(-0.16211219), np.float32(-0.12998492), np.float32(-0.031083146), np.float32(-0.056242496), np.float32(-0.16739455), np.float32(0.08003283), np.float32(-0.19799167), np.float32(0.07644991), np.float32(0.08664301), np.float32(0.12684849), np.float32(-0.21258843), np.float32(-0.24518198), np.float32(0.051749147), np.float32(-0.23645756), np.float32(-0.098062046), np.float32(0.28899935), np.float32(-0.23786215), np.float32(0.24522576), np.float32(0.09772539), np.float32(0.1562162), np.float32(-0.122898236), np.float32(-0.19977514), np.float32(-0.0007837917), np.float32(-0.24099433), np.float32(-0.22954729), np.float32(0.2303963), np.float32(-0.23730391), np.float32(0.15314372), np.float32(0.10820716), np.float32(0.22717603), np.float32(-0.2114191), np.float32(-0.24091615), np.float32(0.012479171), np.float32(-0.21032882), np.float32(-0.22379987), np.float32(0.23803672), np.float32(-0.23576003), np.float32(0.11317238), np.float32(0.076384366), np.float32(0.14509209), np.float32(-0.18259653), np.float32(-0.1571481), np.float32(-0.01623493), np.float32(-0.24132256), np.float32(-0.07056901), np.float32(0.29413915), np.float32(0.017196298), np.float32(0.1207644), np.float32(0.015551627), np.float32(0.099471904), np.float32(-0.094193466), np.float32(-0.13145094), np.float32(0.04880187), np.float32(-0.03472532), np.float32(-0.08034861), np.float32(0.071414195), np.float32(0.007082837), np.float32(-0.03471822), np.float32(-0.03794229), np.float32(0.092374586), np.float32(0.052489325), np.float32(-0.00081259635), np.float32(0.005873984), np.float32(0.05141564), np.float32(0.021449829), np.float32(0.12070071), np.float32(0.015426252), np.float32(-0.050196026), np.float32(0.007853823), np.float32(0.06471907), np.float32(-0.042849205), np.float32(0.06552877), np.float32(6.4127557e-31), np.float32(0.0195698), np.float32(-0.06576517), np.float32(0.07202327), np.float32(-0.053373255), np.float32(0.06326488), np.float32(-0.07906367), np.float32(-0.07898478), np.float32(0.09502687), np.float32(0.022843812), np.float32(2.0130281e-28), np.float32(-0.018962903), np.float32(0.06010929), np.float32(-0.023081556), np.float32(-0.012202854), np.float32(0.009880309), np.float32(-0.009076953), np.float32(0.018900665), np.float32(0.011013966), np.float32(0.028585399), np.float32(5.2209804e-24), np.float32(0.084861584), np.float32(0.11717645), np.float32(-0.10472449), np.float32(0.06532506), np.float32(-0.013691349), np.float32(-0.014893341), np.float32(0.02656083), np.float32(0.06657656), np.float32(-0.012405845), np.float32(5.8855474e-31), np.float32(0.054495353), np.float32(0.0078088706), np.float32(-0.043068506), np.float32(0.0067638415), np.float32(-0.0047069546), np.float32(0.005091672), np.float32(0.009859766), np.float32(0.033466004), np.float32(0.0120073045), np.float32(-2.6807003e-31), np.float32(0.032223467), np.float32(0.025628211), np.float32(-0.062447917), np.float32(7.9591875e-27), np.float32(5.3644425e-22), np.float32(2.0622672e-30), np.float32(1.5193508e-21), np.float32(4.5193253e-34), np.float32(2.0429072e-23), np.float32(-4.586983e-31), np.float32(2.1326164e-22), np.float32(-1.0256338e-23), np.float32(2.1745612e-25), np.float32(-7.929454e-32), np.float32(1.8155716e-29), np.float32(4.925795e-25), np.float32(-3.7694797e-23), np.float32(1.1875584e-31), np.float32(-5.512028e-24), np.float32(3.9066502e-24), np.float32(1.466833e-27), np.float32(-9.257455e-24), np.float32(1.726669e-21), np.float32(-4.753981e-25), np.float32(7.3854996e-24), np.float32(-2.854508e-28), np.float32(-5.6960376e-21), np.float32(8.819258e-32), np.float32(3.686447e-29), np.float32(-9.7090264e-33), np.float32(2.695696e-33), np.float32(1.04928e-21), np.float32(1.1189462e-30), np.float32(3.5159858e-27), np.float32(-2.8810618e-24), np.float32(-6.5014446e-35), np.float32(4.1477967e-24), np.float32(-4.092475e-33), np.float32(4.625046e-28), np.float32(1.7987222e-25), np.float32(-1.0080976e-23), np.float32(-2.2354583e-29), np.float32(-8.8050604e-36), np.float32(8.151699e-27), np.float32(2.4761643e-28), np.float32(-2.1436874e-25), np.float32(2.3011822e-27), np.float32(2.8427377e-33), np.float32(6.3313096e-32), np.float32(5.332731e-34), np.float32(7.4580573e-32), np.float32(-6.2952533e-31), np.float32(1.454755e-21), np.float32(0.013363846), np.float32(0.0006960326), np.float32(-0.0007330041), np.float32(-0.00029486473), np.float32(-0.016854914), np.float32(-0.0002244343), np.float32(-3.4974147e-31), np.float32(0.0005245208), np.float32(-0.017262243), np.float32(-0.00017455977), np.float32(-0.0018932509), np.float32(-0.012475475), np.float32(0.063657545), np.float32(0.024667244), np.float32(0.03676586), np.float32(-0.066531315), np.float32(-5.3412846e-28), np.float32(-0.053929083), np.float32(-0.006567293), np.float32(0.04994468), np.float32(-0.08081643), np.float32(0.056111757), np.float32(0.030071896), np.float32(0.10043195), np.float32(-0.042822544), np.float32(0.04149471), np.float32(-3.7097462e-30), np.float32(0.008990914), np.float32(0.04291968), np.float32(0.10198109), np.float32(-0.062371243), np.float32(-0.012874055), np.float32(-0.060723435), np.float32(-0.0033740962), np.float32(0.019348636), np.float32(-0.051427532), np.float32(-1.0066016e-21), np.float32(-0.080893725), np.float32(-0.056903996), np.float32(0.0153518645), np.float32(0.033440482), np.float32(0.08730812), np.float32(-0.05083337), np.float32(-0.051517796), np.float32(0.07053675), np.float32(0.041741006), np.float32(0.019317519), np.float32(0.004840408), np.float32(0.011905791), np.float32(0.01081229), np.float32(-0.16518307), np.float32(0.10299138), np.float32(0.14992999), np.float32(0.13524653), np.float32(-0.1349489), np.float32(-0.06761661), np.float32(-0.034061503), np.float32(-0.1460222), np.float32(-0.0621821), np.float32(0.13749617), np.float32(-0.12803492), np.float32(0.19733028), np.float32(0.15953283), np.float32(0.17416404), np.float32(-0.20554021), np.float32(-0.15852582), np.float32(0.056890428), np.float32(-0.2165946), np.float32(-0.12014113), np.float32(0.17502841), np.float32(-0.055518456), np.float32(0.09454708), np.float32(0.0004056963), np.float32(0.122044325), np.float32(-0.0933956), np.float32(-0.037293687), np.float32(-0.055955935), np.float32(0.024749303), np.float32(-0.013995178), np.float32(0.17044015), np.float32(-0.009143175), np.float32(0.086104125), np.float32(0.005524717), np.float32(-0.0066242605), np.float32(0.063966565), np.float32(0.062293444), np.float32(0.0015035735), np.float32(0.03996199), np.float32(0.038944885), np.float32(0.11909581), np.float32(-0.10112709), np.float32(0.06835423), np.float32(0.02886383), np.float32(0.08206738), np.float32(0.06777613), np.float32(-0.103844605), np.float32(-0.021523902), np.float32(0.008729054), np.float32(-0.035217628), np.float32(0.16807549), np.float32(-0.025669463), np.float32(0.010554158), np.float32(0.052590564), np.float32(0.07278328), np.float32(0.028000781), np.float32(0.09626892), np.float32(0.027584804), np.float32(0.034801815), np.float32(0.025109522), np.float32(0.026170503), np.float32(0.10774679), np.float32(-0.035479557), np.float32(-0.004201211), np.float32(0.06140301), np.float32(0.06366962), np.float32(0.14584681), np.float32(-0.047154065), np.float32(0.05806106), np.float32(0.052685943), np.float32(0.05254259), np.float32(0.10500111), np.float32(0.0006081321), np.float32(0.09314784), np.float32(0.009967196), np.float32(0.06967889), np.float32(0.024021633), np.float32(0.076426536), np.float32(0.09939347), np.float32(0.0820746), np.float32(0.036453154), np.float32(-0.0030469846), np.float32(-0.008152427), np.float32(0.13331227), np.float32(0.12479691), np.float32(0.025356682), np.float32(-0.027597394), np.float32(0.038638555), np.float32(-0.07127592), np.float32(-0.0073470054), np.float32(0.10333879), np.float32(-0.0643971), np.float32(0.034209125), np.float32(0.16317472), np.float32(0.059474092), np.float32(-0.06526113), np.float32(0.0041432506), np.float32(0.059308134), np.float32(-0.042767245), np.float32(-0.07300703), np.float32(0.26467824), np.float32(0.009439506), np.float32(-0.0498147), np.float32(-0.043684535), np.float32(-0.03969597), np.float32(0.012707473), np.float32(0.03807397), np.float32(-0.038683742), np.float32(0.07164222), np.float32(0.04008916), np.float32(-0.03864932), np.float32(-0.094619595), np.float32(0.13675542), np.float32(0.055806838), np.float32(0.021955566), np.float32(0.04889283), np.float32(-0.03895761), np.float32(0.021234829), np.float32(-0.028797135), np.float32(-0.057233483), np.float32(0.017541582), np.float32(-0.19613044), np.float32(0.087723464), np.float32(0.119888335), np.float32(0.17053883), np.float32(-0.06384677), np.float32(-0.14238374), np.float32(0.014164337), np.float32(-0.22623233), np.float32(-0.11479), np.float32(0.25914228), np.float32(-0.100294374), np.float32(0.07879485), np.float32(0.16713506), np.float32(0.12304897), np.float32(-0.026441032), np.float32(-0.04071343), np.float32(0.044575993), np.float32(-0.13468647), np.float32(-0.06714394), np.float32(0.19059217), np.float32(-0.06451311), np.float32(-0.01270678), np.float32(0.017607562), np.float32(0.14720136), np.float32(0.021029847), np.float32(0.040748056), np.float32(-4.424507e-25), np.float32(-0.09596999), np.float32(-0.060397528), np.float32(0.03144517), np.float32(-0.11502354), np.float32(0.051369913), np.float32(0.10355325), np.float32(0.06112934), np.float32(0.026708996), np.float32(-0.10778963), np.float32(-2.573371e-32), np.float32(0.009160554), np.float32(-0.019082384), np.float32(0.13990314), np.float32(-0.034200724), np.float32(0.084667616), np.float32(-0.043357477), np.float32(-0.015066086), np.float32(0.0052589998), np.float32(0.012619837), np.float32(-1.04545e-24), np.float32(-0.06674833), np.float32(-0.0030186987), np.float32(0.010219365), np.float32(-0.055482082), np.float32(-0.004689692), np.float32(0.005058507), np.float32(0.017337125), np.float32(0.08129419), np.float32(-0.0073925294), np.float32(-6.7463045e-24), np.float32(0.0025859156), np.float32(-0.040862188), np.float32(-7.492957e-05), np.float32(2.4604432e-32), np.float32(-1.4739775e-22), np.float32(-1.0042152e-25), np.float32(-1.3878462e-29), np.float32(8.640256e-28), np.float32(-3.582517e-26), np.float32(-6.300643e-33), np.float32(-7.610404e-24), np.float32(-7.6500867e-32), np.float32(-3.843978e-33), np.float32(5.1902564e-22), np.float32(3.219213e-24), np.float32(8.184719e-27), np.float32(1.1420863e-29), np.float32(3.1514773e-31), np.float32(8.92619e-22), np.float32(5.2630408e-23), np.float32(1.9165306e-31), np.float32(-1.0384741e-31), np.float32(-4.3316842e-33), np.float32(-1.880526e-24), np.float32(-7.781016e-37), np.float32(-4.5243796e-30), np.float32(-6.440315e-26), np.float32(-6.055443e-24), np.float32(4.1434572e-31), np.float32(1.07716715e-26), np.float32(4.627234e-23), np.float32(-8.219745e-34), np.float32(-4.450963e-27), np.float32(2.0616104e-31), np.float32(-1.6756265e-32), np.float32(8.302431e-33), np.float32(-2.9105765e-33), np.float32(-3.2399254e-26), np.float32(-6.5217077e-28), np.float32(1.9275517e-28), np.float32(-1.2398231e-32), np.float32(3.2954532e-34), np.float32(1.4805778e-28), np.float32(0.04057967), np.float32(0.04596547), np.float32(-0.04933965), np.float32(0.07266029), np.float32(-0.008594186), np.float32(-0.00223021), np.float32(1.605875e-33), np.float32(0.007233675), np.float32(-0.07570416), np.float32(0.012088604), np.float32(-0.0014437408), np.float32(-0.013656609), np.float32(-0.005002434), np.float32(0.0693746), np.float32(0.030702733), np.float32(-0.05520461), np.float32(3.2428483e-31), np.float32(-0.06310035), np.float32(-0.021316737), np.float32(0.080536865), np.float32(0.006024918), np.float32(0.08995579), np.float32(0.05712653), np.float32(-0.01245089), np.float32(0.015630422), np.float32(-0.01594742), np.float32(1.9676688e-32), np.float32(-0.024611112), np.float32(-0.0578577), np.float32(0.0039856164), np.float32(0.017096424), np.float32(-0.017982587), np.float32(-0.023536041), np.float32(0.064820684), np.float32(-0.105370104), np.float32(0.03646719), np.float32(5.9007205e-22), np.float32(-0.09332195), np.float32(-0.070144445), np.float32(0.11322493), np.float32(0.0019518182), np.float32(-0.021666873), np.float32(0.05063578), np.float32(0.0068015778), np.float32(0.021438561), np.float32(-0.05764022), np.float32(-0.052809455), np.float32(0.005453444), np.float32(0.053061828), np.float32(0.011349118), np.float32(-0.050320193), np.float32(-0.083944164), np.float32(0.038821336), np.float32(0.03231492), np.float32(-0.05607061), np.float32(0.03534326), np.float32(-0.07777056), np.float32(0.014743493), np.float32(0.07295236), np.float32(-0.05421011), np.float32(-0.05870559), np.float32(0.13816349), np.float32(0.15363823), np.float32(0.16777675), np.float32(-0.066263646), np.float32(-0.20563772), np.float32(-0.042819314), np.float32(-0.17996587), np.float32(-0.11436333), np.float32(0.1348469), np.float32(-0.010439769), np.float32(0.15513602), np.float32(0.046650004), np.float32(0.036150444), np.float32(-0.040342998), np.float32(-0.13249065), np.float32(-0.016709916), np.float32(-0.052153576), np.float32(0.046034165), np.float32(0.16075358), np.float32(0.06615337), np.float32(-0.029983034), np.float32(-0.01187625), np.float32(0.06172727), np.float32(0.0860142), np.float32(0.055336744), np.float32(-0.00061171), np.float32(-0.010670166), np.float32(0.0031313957), np.float32(-0.012566826), np.float32(0.045795206), np.float32(-0.017188093), np.float32(0.06651072), np.float32(0.09664202), np.float32(0.09707352), np.float32(0.09067115), np.float32(0.016441396), np.float32(-0.0070691584), np.float32(-0.022403518), np.float32(-0.0155768525), np.float32(-0.08172699), np.float32(0.07232793), np.float32(0.009769996), np.float32(0.09004507), np.float32(-0.04241429), np.float32(0.055554487), np.float32(-0.0707907), np.float32(-0.046346415), np.float32(-0.035065643), np.float32(0.15883078), np.float32(0.042918094), np.float32(0.005764368), np.float32(0.10167643), np.float32(0.045655765), np.float32(-0.07429026), np.float32(-0.13880694), np.float32(0.050231516), np.float32(-0.13675594), np.float32(0.042756286), np.float32(0.1911291), np.float32(0.13546549), np.float32(-0.051737785), np.float32(0.0939085), np.float32(0.045982834), np.float32(0.10862428), np.float32(0.19825493), np.float32(0.009229835), np.float32(0.07624147), np.float32(0.07810972), np.float32(0.049102925), np.float32(0.14080162), np.float32(0.08232319), np.float32(0.046861738), np.float32(0.08138052), np.float32(0.031604342), np.float32(0.18305565), np.float32(0.028990336), np.float32(0.12658828), np.float32(0.10497476), np.float32(-0.060973644), np.float32(0.049840044), np.float32(-0.015207606), np.float32(0.087598), np.float32(0.10950585), np.float32(0.0488536), np.float32(0.049737997), np.float32(-0.009494161), np.float32(-0.009365355), np.float32(0.03946968), np.float32(0.03192192), np.float32(0.06655309), np.float32(0.09038349), np.float32(-0.052814588), np.float32(0.08717911), np.float32(0.06104804), np.float32(0.102442965), np.float32(-0.06868508), np.float32(-0.011439055), np.float32(0.11078409), np.float32(0.06317266), np.float32(0.08786048), np.float32(-0.066527255), np.float32(0.03235287), np.float32(-0.07293789), np.float32(0.017421702), np.float32(0.09720184), np.float32(0.01911294), np.float32(0.1274471), np.float32(0.114355095), np.float32(-0.021041246), np.float32(0.012439003), np.float32(0.016102506), np.float32(0.014400792), np.float32(-0.028473822), np.float32(0.0035049643), np.float32(0.1571072), np.float32(-0.047450926), np.float32(0.027575163), np.float32(0.119751684), np.float32(0.077514686), np.float32(-0.11193425), np.float32(0.07374817), np.float32(0.0941483), np.float32(0.15966399), np.float32(-0.1395783), np.float32(-0.20088476), np.float32(0.066699974), np.float32(-0.06943735), np.float32(-0.056914553), np.float32(0.24034707), np.float32(-0.08270188), np.float32(0.107717), np.float32(0.038134623), np.float32(0.07057134), np.float32(-0.15605354), np.float32(-0.1400555), np.float32(-0.018275047), np.float32(-0.17176543), np.float32(0.009697617), np.float32(0.22497106), np.float32(-0.13020752), np.float32(0.11235894), np.float32(0.19087799), np.float32(0.17018655), np.float32(-0.076568864), np.float32(-0.21389899), np.float32(-0.04237078), np.float32(-0.15948899), np.float32(-0.15006387), np.float32(0.14167783), np.float32(-0.2020219), np.float32(0.08283162), np.float32(0.13052185), np.float32(0.11310071), np.float32(-0.16984497), np.float32(-0.19333512), np.float32(-0.008133321), np.float32(-0.15931533), np.float32(-0.16077456), np.float32(0.15776427), np.float32(-0.031836584), np.float32(0.105770186), np.float32(0.015981177), np.float32(0.13374832), np.float32(-0.03958408), np.float32(-0.057896137), np.float32(-9.951691e-33), np.float32(-0.14430346), np.float32(-0.12993425), np.float32(0.22113757), np.float32(-0.050528508), np.float32(0.10758903), np.float32(0.062195547), np.float32(0.035025224), np.float32(-0.10126607), np.float32(-0.05081937), np.float32(-5.31223e-28), np.float32(0.0046688463), np.float32(0.019371755), np.float32(0.059521385), np.float32(0.028354088), np.float32(-0.023457412), np.float32(-0.049231865), np.float32(-0.024087539), np.float32(-1.0199551e-25), np.float32(1.9806773e-06), np.float32(-1.3817829e-30), np.float32(0.0018830105), np.float32(0.047461495), np.float32(0.0006097766), np.float32(1.0858409e-32), np.float32(-4.981646e-28), np.float32(6.3686126e-31), np.float32(4.280581e-27), np.float32(-4.069248e-28), np.float32(-2.4514346e-27), np.float32(-3.4623754e-32), np.float32(-2.4890276e-28), np.float32(1.4024563e-27), np.float32(-3.4547657e-31), np.float32(-2.4159195e-33), np.float32(-1.9557206e-29), np.float32(4.0046213e-29), np.float32(2.0741458e-26), np.float32(4.9339077e-24), np.float32(-2.460287e-27), np.float32(1.1991499e-27), np.float32(8.902103e-24), np.float32(5.428436e-32), np.float32(1.5264496e-34), np.float32(-5.7797024e-22), np.float32(1.1395035e-22), np.float32(-5.213275e-28), np.float32(-4.5468115e-28), np.float32(5.3030136e-34), np.float32(-1.8727594e-25), np.float32(4.339407e-33), np.float32(-4.5007692e-29), np.float32(-5.1977383e-28), np.float32(-4.2883265e-29), np.float32(-0.01910963), np.float32(-0.012119943), np.float32(0.005380244), np.float32(-0.013480225), np.float32(-0.0019125245), np.float32(-0.0003618161), np.float32(-4.420866e-30), np.float32(0.00012281303), np.float32(-0.051389158), np.float32(0.0016145783), np.float32(0.04169731), np.float32(-0.0070576314), np.float32(0.04171749), np.float32(-0.023560088), np.float32(0.014800602), np.float32(-0.029041592), np.float32(-9.854492e-32), np.float32(-0.08751039), np.float32(-0.053110264), np.float32(0.017957577), np.float32(-0.038798004), np.float32(0.2065584), np.float32(0.039383188), np.float32(0.17523739), np.float32(-0.11247404), np.float32(-0.08507786), np.float32(1.1298359e-21), np.float32(-0.08475775), np.float32(-0.05348462), np.float32(0.22794683), np.float32(-0.074160255), np.float32(-0.004880918), np.float32(0.07151977), np.float32(-0.031643495), np.float32(-0.04232505), np.float32(-0.072683156), np.float32(1.1540231e-28), np.float32(-0.0055204076), np.float32(-0.029283104), np.float32(0.11442042), np.float32(-0.1169496), np.float32(0.07102083), np.float32(0.08165765), np.float32(0.063795604), np.float32(-0.088840924), np.float32(-0.09329702), np.float32(-0.029631834), np.float32(0.0112101715), np.float32(-0.02675876), np.float32(0.02071391), np.float32(-0.15231976), np.float32(0.0020731853), np.float32(0.0057634204), np.float32(0.112652436), np.float32(-0.14026411), np.float32(-0.04113665), np.float32(-0.053840257), np.float32(-0.1290917), np.float32(-0.09026564), np.float32(0.15329498), np.float32(0.037031956), np.float32(0.06438568), np.float32(0.056968838), np.float32(0.024869513), np.float32(0.061035324), np.float32(-0.069065474), np.float32(-0.007184223), np.float32(-0.08697656), np.float32(0.06301556), np.float32(0.11086509), np.float32(0.116685174), np.float32(-0.0006326153), np.float32(0.05705721), np.float32(-0.008468019), np.float32(0.024427792), np.float32(0.07275869), np.float32(0.05494596), np.float32(0.0032865237), np.float32(0.08269135), np.float32(-0.082205705), np.float32(-0.026566971), np.float32(0.017902197), np.float32(-0.07299868), np.float32(0.073633604), np.float32(0.039431006), np.float32(0.13317464), np.float32(0.018622857), np.float32(0.105303064), np.float32(-0.018700717), np.float32(-0.107218005), np.float32(0.016323032), np.float32(-0.07756203), np.float32(0.07567609), np.float32(0.04684776), np.float32(0.0459393), np.float32(0.026110535), np.float32(0.030472243), np.float32(-0.019393075), np.float32(0.0032626237), np.float32(-0.015787628), np.float32(0.024305204), np.float32(-0.008099299), np.float32(0.08354563), np.float32(-0.017347725), np.float32(0.07372637), np.float32(0.077368304), np.float32(-0.009304047), np.float32(-0.025159877), np.float32(0.06276613), np.float32(0.037853267), np.float32(0.06767964), np.float32(0.07156228), np.float32(0.114495896), np.float32(0.06449006), np.float32(-0.043304842), np.float32(0.06545031), np.float32(-0.04597047), np.float32(0.082153596), np.float32(0.011515019), np.float32(0.15029484), np.float32(0.050236028), np.float32(0.09715366), np.float32(0.06480812), np.float32(-0.05910542), np.float32(0.11232249), np.float32(0.041581344), np.float32(-0.036994293), np.float32(0.14921413), np.float32(0.017362246), np.float32(0.10139954), np.float32(0.102783605), np.float32(0.04084265), np.float32(-0.008029436), np.float32(-0.046736423), np.float32(-0.014920946), np.float32(0.20593254), np.float32(0.048603576), np.float32(0.055056583), np.float32(0.07162729), np.float32(0.04911735), np.float32(0.1431172), np.float32(0.06338112), np.float32(0.014315739), np.float32(-0.037710603), np.float32(0.024150155), np.float32(0.119499095), np.float32(-0.015366348), np.float32(0.08865026), np.float32(0.105420776), np.float32(0.0010377956), np.float32(0.13398366), np.float32(0.075468324), np.float32(-0.039933912), np.float32(0.055702686), np.float32(0.049103178), np.float32(0.12671308), np.float32(0.023783684), np.float32(0.049588088), np.float32(0.12793274), np.float32(-0.06323646), np.float32(0.09526581), np.float32(0.022823408), np.float32(-0.016758641), np.float32(0.015200623), np.float32(0.032308288), np.float32(0.05622614), np.float32(0.015243993), np.float32(0.026529634), np.float32(0.075268105), np.float32(0.0091032), np.float32(0.042522863), np.float32(0.1086726), np.float32(0.058545128), np.float32(-0.011951604), np.float32(0.11345912), np.float32(0.044612944), np.float32(-0.011295369), np.float32(0.07176606), np.float32(-0.04157976), np.float32(0.056146745), np.float32(-0.0932336), np.float32(0.13345666), np.float32(0.10785635), np.float32(0.1287947), np.float32(-0.08256913), np.float32(-0.059481017), np.float32(0.039498907), np.float32(-0.09744582), np.float32(0.058734387), np.float32(0.09704037), np.float32(-0.055477407), np.float32(0.015188161), np.float32(0.036951113), np.float32(0.008525236), np.float32(-0.048933774), np.float32(-0.12155295), np.float32(0.016002154), np.float32(-0.03509119), np.float32(-0.041501798), np.float32(0.06629897), np.float32(-0.01035803), np.float32(0.0029530737), np.float32(0.08203), np.float32(0.006589519), np.float32(0.0641752), np.float32(0.01680335), np.float32(0.0565102), np.float32(0.031648688), np.float32(0.011515045), np.float32(0.12880567), np.float32(0.026304673), np.float32(0.02138099), np.float32(0.00073208875), np.float32(0.1298669), np.float32(0.066087164), np.float32(0.0026046734), np.float32(-0.031742956), np.float32(-0.064539924), np.float32(7.789373e-05), np.float32(0.08446986), np.float32(-0.10450013), np.float32(0.016696114), np.float32(0.13514796), np.float32(0.08249302), np.float32(-0.0073367874), np.float32(-0.1636925), np.float32(0.025308456), np.float32(-0.1658354), np.float32(-0.10125816), np.float32(0.1126538), np.float32(0.012075886), np.float32(0.0060778614), np.float32(-0.023430059), np.float32(-0.0376422), np.float32(-0.060591955), np.float32(-0.020163205), np.float32(6.309573e-31), np.float32(0.05311233), np.float32(0.07621811), np.float32(-0.0008624701), np.float32(0.032528594), np.float32(0.048656467), np.float32(-0.026543474), np.float32(0.022676498), np.float32(0.043587506), np.float32(0.015543402), np.float32(8.333728e-25), np.float32(0.020268116), np.float32(0.08493043), np.float32(0.0023234463), np.float32(-0.0067556486), np.float32(0.052792158), np.float32(0.011005627), np.float32(-0.0071966057), np.float32(0.028257294), np.float32(0.017225035), np.float32(-1.728524e-27), np.float32(0.0034343372), np.float32(0.04402057), np.float32(0.0032405485), np.float32(6.7773526e-32), np.float32(-7.022198e-23), np.float32(-5.763852e-22), np.float32(4.715194e-31), np.float32(-1.0595212e-32), np.float32(-1.4297283e-21), np.float32(-4.8878236e-32), np.float32(7.56541e-30), np.float32(-7.0700274e-22), np.float32(-2.9781391e-28), np.float32(-3.091703e-33), np.float32(1.2771412e-25), np.float32(1.6574842e-22), np.float32(-1.996538e-33), np.float32(9.421704e-32), np.float32(8.138812e-21), np.float32(7.958473e-24), np.float32(9.669012e-34), np.float32(-3.6480995e-31), np.float32(-1.1324712e-25), np.float32(-0.020890465), np.float32(0.080682404), np.float32(0.049690746), np.float32(-0.02779072), np.float32(-3.079668e-06), np.float32(-1.4238784e-05), np.float32(-4.3639095e-26), np.float32(0.0065028532), np.float32(-0.04274195), np.float32(0.0087413695), np.float32(-0.00029218383), np.float32(-0.023600489), np.float32(-0.0006619521), np.float32(-0.01809822), np.float32(-0.019144965), np.float32(0.007472281), np.float32(3.215836e-31), np.float32(-0.00021138998), np.float32(-0.020739704), np.float32(0.0035969284), np.float32(0.039313175), np.float32(-0.019887561), np.float32(-0.0101864), np.float32(-0.01704283), np.float32(0.08830257), np.float32(0.056086827), np.float32(-4.2754423e-29), np.float32(0.02262448), np.float32(0.07650607), np.float32(-0.0007865568), np.float32(0.053678006), np.float32(-0.055764064), np.float32(-0.05375296), np.float32(-0.045739893), np.float32(0.032905497), np.float32(0.035850782), np.float32(1.2500666e-21), np.float32(-0.013165274), np.float32(-0.06833523), np.float32(0.055893622), np.float32(0.031194717), np.float32(0.06968563), np.float32(-0.04356856), np.float32(0.10779508), np.float32(-0.099138476), np.float32(-0.029674867), np.float32(0.07227756), np.float32(0.0141732525), np.float32(-0.10421059), np.float32(0.088431336), np.float32(-0.08672984), np.float32(0.06494555), np.float32(-0.0060562855), np.float32(0.0042279516), np.float32(-0.0517071), np.float32(-0.049356233), np.float32(-0.08540378), np.float32(-0.11976088), np.float32(-0.09020067), np.float32(0.10150355), np.float32(0.06186853), np.float32(0.041969433), np.float32(0.041654505), np.float32(-0.02793791), np.float32(0.121746294), np.float32(0.12484922), np.float32(0.07509582), np.float32(0.09404869), np.float32(0.0072241784), np.float32(-0.007926189), np.float32(0.088691145), np.float32(-0.12900072), np.float32(-0.038386345), np.float32(-0.024779804), np.float32(0.0248034), np.float32(0.20019844), np.float32(-0.07223678), np.float32(0.16490477), np.float32(0.13879633), np.float32(-0.16125591), np.float32(0.059356984), np.float32(-0.028628832), np.float32(-0.07950952), np.float32(-0.12041015), np.float32(0.07029139), np.float32(0.11971508), np.float32(0.07055538), np.float32(0.044620946), np.float32(0.05508131), np.float32(-0.10698362), np.float32(0.019188909), np.float32(0.012798273), np.float32(-0.10213637), np.float32(-0.039561454), np.float32(-0.015719123), np.float32(0.15364908), np.float32(-0.06633162), np.float32(0.041923985), np.float32(0.019543264), np.float32(-0.08026838), np.float32(0.09682427), np.float32(0.01833442), np.float32(0.04503923), np.float32(0.06431408), np.float32(0.041408174), np.float32(0.07941301), np.float32(0.057770453), np.float32(0.0099949185), np.float32(0.09454321), np.float32(0.13501577), np.float32(-0.04384311), np.float32(0.11948937), np.float32(0.067854166), np.float32(0.08594755), np.float32(-0.01876424), np.float32(0.061167374), np.float32(-0.035303015), np.float32(0.06663835), np.float32(0.08636814), np.float32(0.12691286), np.float32(-0.022476427), np.float32(0.06642282), np.float32(0.025970286), np.float32(0.043641653), np.float32(-0.009227014), np.float32(0.054865822), np.float32(0.004665777), np.float32(0.08538599), np.float32(0.1027069), np.float32(0.14003338), np.float32(0.07013028), np.float32(-0.01268887), np.float32(-0.029359845), np.float32(-0.040719584), np.float32(0.031844463), np.float32(0.10218686), np.float32(0.024380282), np.float32(0.04774869), np.float32(0.022986708), np.float32(0.027339486), np.float32(0.008395787), np.float32(0.09236306), np.float32(0.08248491), np.float32(0.05140819), np.float32(0.12957366), np.float32(0.07143673), np.float32(-0.026896501), np.float32(0.14247583), np.float32(0.045057084), np.float32(0.047411785), np.float32(0.12380187), np.float32(0.050440118), np.float32(0.07221154), np.float32(0.08760549), np.float32(0.046355415), np.float32(0.18246521), np.float32(-0.058020663), np.float32(0.113482416), np.float32(-0.006565776), np.float32(-0.027496375), np.float32(0.08953143), np.float32(0.048524506), np.float32(-0.060529202), np.float32(-0.07526203), np.float32(0.057137027), np.float32(0.06263411), np.float32(0.061707374), np.float32(0.0111668175), np.float32(0.027930131), np.float32(0.009418294), np.float32(0.08997744), np.float32(0.014789122), np.float32(0.0821832), np.float32(0.043039914), np.float32(0.08873263), np.float32(0.05313573), np.float32(-0.041842774), np.float32(0.06581033), np.float32(0.048424333), np.float32(-0.0068011438), np.float32(-0.029548956), np.float32(0.091802105), np.float32(0.07204051), np.float32(0.09706644), np.float32(0.055544563), np.float32(0.06414443), np.float32(0.0047271573), np.float32(-0.028338598), np.float32(-0.026998067), np.float32(-0.0077115255), np.float32(0.06648219), np.float32(0.037508965), np.float32(-0.011816648), np.float32(0.0711298), np.float32(-0.034642693), np.float32(0.10643253), np.float32(-0.08773126), np.float32(0.106796496), np.float32(0.031717073), np.float32(-0.021465935), np.float32(0.11034359), np.float32(0.011702637), np.float32(-0.0023089703), np.float32(-0.10218118), np.float32(0.11511332), np.float32(0.11417388), np.float32(0.02225372), np.float32(0.021214698), np.float32(0.09699437), np.float32(-0.064798616), np.float32(-0.017545382), np.float32(-0.10096979), np.float32(-0.12066596), np.float32(-0.10038856), np.float32(-0.03276762), np.float32(0.04073379), np.float32(-0.007115868), np.float32(0.05811808), np.float32(-0.014041506), np.float32(-0.092515826), np.float32(0.021290556), np.float32(-0.07096374), np.float32(0.035853207), np.float32(-0.07527161), np.float32(0.07238807), np.float32(0.11076134), np.float32(0.045110315), np.float32(0.026733482), np.float32(0.06329132), np.float32(-0.05200325), np.float32(0.09203474), np.float32(-0.10895941), np.float32(-0.022807803), np.float32(-0.14361405), np.float32(0.08568685), np.float32(0.06123685), np.float32(0.00022558119), np.float32(0.057423), np.float32(0.11265317), np.float32(-0.05932963), np.float32(-0.030565664), np.float32(-0.038904708), np.float32(0.035544183), np.float32(0.0472575), np.float32(-0.03861197), np.float32(0.001401987), np.float32(1.052267e-23), np.float32(-0.0048947786), np.float32(-0.009334139), np.float32(0.009317323), np.float32(0.07040411), np.float32(-0.08008472), np.float32(-0.049326137), np.float32(0.03070082), np.float32(-0.0034589036), np.float32(-0.03702933), np.float32(3.3129932e-22), np.float32(0.01164701), np.float32(0.026384221), np.float32(-0.022185817), np.float32(8.235029e-32), np.float32(1.3656897e-21), np.float32(1.8469747e-30), np.float32(1.7013131e-32), np.float32(9.7101965e-31), np.float32(5.3294275e-32), np.float32(-9.869726e-24), np.float32(7.3719585e-33), np.float32(1.8306579e-22), np.float32(5.3592814e-28), np.float32(-2.9486885e-32), np.float32(-7.49538e-32), np.float32(1.8190368e-29), np.float32(4.502176e-22), np.float32(-1.2993614e-28), np.float32(8.914677e-22), np.float32(-8.195184e-27), np.float32(-2.844492e-33), np.float32(5.396115e-32), np.float32(1.9805205e-25), np.float32(-0.023096187), np.float32(0.013421596), np.float32(0.009518304), np.float32(-0.026082039), np.float32(0.045477152), np.float32(0.008024821), np.float32(-2.6815102e-23), np.float32(0.009660112), np.float32(-0.015153254), np.float32(0.00054700824), np.float32(0.020399643), np.float32(0.010988997), np.float32(-0.027458807), np.float32(0.010885641), np.float32(-0.02930214), np.float32(-0.015411671), np.float32(1.4172332e-28), np.float32(-0.007003712), np.float32(0.043433107), np.float32(0.012301612), np.float32(0.06260867), np.float32(-0.07684003), np.float32(-0.002722387), np.float32(-0.09484435), np.float32(-0.022802217), np.float32(0.07121051), np.float32(-1.3713128e-21), np.float32(0.080843456), np.float32(0.06534484), np.float32(-0.07646964), np.float32(0.16423099), np.float32(-0.14145964), np.float32(-0.10395383), np.float32(-0.17473532), np.float32(0.05274007), np.float32(0.12934309), np.float32(-0.027807662), np.float32(0.1562923), np.float32(0.09638764), np.float32(-0.16684492), np.float32(-0.032504234), np.float32(-0.042327344), np.float32(0.09244247), np.float32(-0.024650605), np.float32(0.013806708), np.float32(-0.08518493), np.float32(0.07032201), np.float32(-0.097596936), np.float32(-0.067755416), np.float32(-0.013661637), np.float32(0.0700378), np.float32(0.055503618), np.float32(0.050443213), np.float32(0.037561867), np.float32(-0.053927727), np.float32(-0.027869249), np.float32(-0.048853662), np.float32(-0.07331738), np.float32(0.026946193), np.float32(0.15107512), np.float32(0.10081058), np.float32(-0.0029148345), np.float32(0.017071236), np.float32(-0.029310867), np.float32(0.043584507), np.float32(0.019472634), np.float32(0.011874573), np.float32(0.012971305), np.float32(-0.04741355), np.float32(-0.030054327), np.float32(-0.011484273), np.float32(-0.047200378), np.float32(0.042107224), np.float32(-0.029338408), np.float32(-0.008497559), np.float32(0.1456117), np.float32(0.07209452), np.float32(0.09648412), np.float32(0.09449309), np.float32(-0.14766921), np.float32(0.08272385), np.float32(0.02605795), np.float32(-0.050651535), np.float32(-0.07260848), np.float32(-0.04187631), np.float32(0.16096409), np.float32(0.015721198), np.float32(0.108561255), np.float32(0.022072295), np.float32(-0.13413395), np.float32(0.11051926), np.float32(0.06640713), np.float32(-0.06086082), np.float32(-0.026315749), np.float32(0.05590995), np.float32(0.02595118), np.float32(-0.093218535), np.float32(-0.049186464), np.float32(0.036313076), np.float32(0.029158374), np.float32(-0.054506652), np.float32(0.029172638), np.float32(-0.056344192), np.float32(-0.047413766), np.float32(0.042816643), np.float32(-0.04314295), np.float32(-0.07595047), np.float32(-0.086166), np.float32(0.06233031), np.float32(0.031723898), np.float32(0.072177306), np.float32(0.10434528), np.float32(0.09435064), np.float32(0.115165606), np.float32(0.008383288), np.float32(0.13408871), np.float32(-0.0035767592), np.float32(0.0916227), np.float32(0.001025945), np.float32(0.14641054), np.float32(0.032207422), np.float32(0.05971265), np.float32(0.08090424), np.float32(0.08122039), np.float32(0.03878095), np.float32(0.088751145), np.float32(-0.0031879968), np.float32(-0.004019396), np.float32(-0.0076487316), np.float32(0.09832055), np.float32(0.05840327), np.float32(0.03957319), np.float32(0.09637833), np.float32(0.1037897), np.float32(0.061155032), np.float32(0.06622191), np.float32(-0.0047906474), np.float32(0.041656967), np.float32(0.010886498), np.float32(0.106359474), np.float32(0.08345743), np.float32(0.024988566), np.float32(-0.009724671), np.float32(0.06682061), np.float32(0.120381355), np.float32(0.122190356), np.float32(0.05035818), np.float32(0.15864673), np.float32(0.14610544), np.float32(0.082206585), np.float32(0.08470841), np.float32(-0.006577586), np.float32(-0.008611989), np.float32(-0.0006661955), np.float32(0.16355424), np.float32(0.15325704), np.float32(0.03827072), np.float32(0.15755305), np.float32(0.17088252), np.float32(-0.05831261), np.float32(-0.0012599449), np.float32(-0.066382736), np.float32(0.08372233), np.float32(-0.019652802), np.float32(0.05081111), np.float32(0.030326467), np.float32(-0.03911552), np.float32(0.05813232), np.float32(0.042518035), np.float32(-0.000995472), np.float32(0.0049120076), np.float32(-0.0010112545), np.float32(-0.027527517), np.float32(0.026808077), np.float32(0.03666827), np.float32(0.014206421), np.float32(-0.07672611), np.float32(0.07753701), np.float32(0.0905096), np.float32(0.06530265), np.float32(0.004117042), np.float32(0.06731502), np.float32(-0.004214955), np.float32(-0.081713445), np.float32(-0.041120138), np.float32(0.0020333175), np.float32(0.06843175), np.float32(0.041150823), np.float32(0.09139485), np.float32(-0.053491876), np.float32(0.06459298), np.float32(-0.111451685), np.float32(-0.10522117), np.float32(0.03228348), np.float32(0.094642185), np.float32(0.06476243), np.float32(-0.04784446), np.float32(0.020583102), np.float32(0.07708239), np.float32(-0.047392163), np.float32(0.08327623), np.float32(0.0112401415), np.float32(-0.017032165), np.float32(-0.10470404), np.float32(0.09669847), np.float32(0.082023986), np.float32(0.04712975), np.float32(0.11448363), np.float32(0.02478298), np.float32(-0.10340845), np.float32(0.02529588), np.float32(-0.0112469755), np.float32(-0.017116701), np.float32(0.02760936), np.float32(0.123117335), np.float32(0.06483651), np.float32(-0.08409281), np.float32(0.15219657), np.float32(-0.010954784), np.float32(0.011407641), np.float32(0.12579906), np.float32(-0.08429486), np.float32(0.0014843735), np.float32(0.0031054663), np.float32(0.048977863), np.float32(0.090092726), np.float32(-0.022962043), np.float32(0.0683137), np.float32(0.10787821), np.float32(-0.113698676), np.float32(0.12596259), np.float32(-0.100157134), np.float32(-0.09119529), np.float32(-0.050754644), np.float32(-0.0075382763), np.float32(0.06783109), np.float32(-0.068443865), np.float32(0.12931843), np.float32(0.040154453), np.float32(-0.1682184), np.float32(-1.3268236e-21), np.float32(-4.2616365e-35), np.float32(3.1392768e-35), np.float32(1.9359958e-34), np.float32(4.3158495e-30), np.float32(8.988787e-21), np.float32(3.6016628e-28), np.float32(-2.5540683e-32), np.float32(-1.8944151e-33), np.float32(1.502341e-26), np.float32(-2.4075497e-32), np.float32(-1.9084178e-24), np.float32(3.6802257e-32), np.float32(6.977868e-22), np.float32(5.6687555e-22), np.float32(3.868891e-31), np.float32(9.877954e-32), np.float32(-4.33658e-32), np.float32(4.317139e-29), np.float32(-1.2920906e-27), np.float32(-6.119189e-30), np.float32(-3.687189e-29), np.float32(-4.312155e-31), np.float32(2.2191802e-33), np.float32(-5.3225923e-31), np.float32(5.0023934e-22), np.float32(2.4256806e-31), np.float32(-1.05224665e-23), np.float32(-5.6225393e-36), np.float32(-1.5208332e-25), np.float32(-0.053588007), np.float32(0.03793135), np.float32(0.02490466), np.float32(0.008738129), np.float32(0.05127122), np.float32(-0.00066527026), np.float32(-4.7941736e-24), np.float32(-0.0072099734), np.float32(-0.064778104), np.float32(0.008679266), np.float32(0.014223144), np.float32(-0.0083504105), np.float32(-0.05874114), np.float32(0.0408269), np.float32(-0.059697375), np.float32(0.009330347), np.float32(0.005991949), np.float32(0.0074478183), np.float32(0.05083761), np.float32(-0.020368772), np.float32(0.06057977), np.float32(-0.047309402), np.float32(0.034005433), np.float32(-0.04292351), np.float32(0.08108864), np.float32(0.041250765), np.float32(0.011936735), np.float32(0.000607148), np.float32(0.027135773), np.float32(-0.0056358026), np.float32(0.017429415), np.float32(-0.038595002), np.float32(-0.011752903), np.float32(-0.14320934), np.float32(0.09290077), np.float32(0.06339621), np.float32(0.019380666), np.float32(0.028342437), np.float32(0.07004389), np.float32(-0.13754635), np.float32(0.1187853), np.float32(-0.0039682477), np.float32(0.014392609), np.float32(-0.12363676), np.float32(0.074538134), np.float32(0.17326774), np.float32(-0.030586932), np.float32(0.06275486), np.float32(0.15624593), np.float32(-0.3184336), np.float32(0.012459112), np.float32(0.025531681), np.float32(0.055874888), np.float32(0.02792281), np.float32(-0.0032217433), np.float32(0.020155272), np.float32(-0.040035743), np.float32(0.017006261), np.float32(-0.025256414), np.float32(-0.12181848), np.float32(0.040227868), np.float32(0.050644875), np.float32(-0.056759294), np.float32(0.10402131), np.float32(0.008822028), np.float32(-0.004451466), np.float32(-0.091110826), np.float32(-0.028127998), np.float32(-0.04438541), np.float32(-0.03248208), np.float32(0.08485056), np.float32(-0.071693875), np.float32(-0.01428931), np.float32(-0.04386247), np.float32(-0.03424945), np.float32(0.07483923), np.float32(-0.08908783), np.float32(0.014362459), np.float32(0.10502631), np.float32(0.07318006), np.float32(-0.052095264), np.float32(-0.06806627), np.float32(-0.009306745), np.float32(0.06328743), np.float32(0.049424972), np.float32(0.04113428), np.float32(-0.018963344), np.float32(0.11854906), np.float32(-0.037462413), np.float32(0.04070007), np.float32(0.106581256), np.float32(-0.022172078), np.float32(0.067680575), np.float32(-0.088172816), np.float32(0.065254755), np.float32(0.05221502), np.float32(0.028626807), np.float32(0.07038322), np.float32(0.035103623), np.float32(0.063042335), np.float32(-0.060638238), np.float32(-0.04911669), np.float32(-0.018325167), np.float32(0.035591066), np.float32(0.08793445), np.float32(0.017706914), np.float32(0.02122816), np.float32(0.0743901), np.float32(-0.03155072), np.float32(0.078303985), np.float32(0.026764011), np.float32(0.01074393), np.float32(0.00070666586), np.float32(0.07956738), np.float32(-0.016982341), np.float32(-0.045449805), np.float32(-0.038601328), np.float32(0.0015083059), np.float32(-0.048121613), np.float32(-0.007388653), np.float32(0.015238444), np.float32(0.036835145), np.float32(0.11180088), np.float32(0.11771988), np.float32(-0.0085959), np.float32(-0.05580214), np.float32(-0.0078356005), np.float32(-0.018822933), np.float32(0.01684045), np.float32(0.13861951), np.float32(0.01246163), np.float32(0.14217305), np.float32(0.00018596817), np.float32(0.103455745), np.float32(0.078445144), np.float32(0.05192004), np.float32(-0.09188019), np.float32(0.03525005), np.float32(0.039909057), np.float32(0.14861888), np.float32(0.05012033), np.float32(0.14394464), np.float32(0.08031979), np.float32(0.0028623033), np.float32(-0.0055689644), np.float32(0.08259697), np.float32(0.043721534), np.float32(-0.020377804), np.float32(0.02187318), np.float32(0.09413429), np.float32(0.01582818), np.float32(0.08044972), np.float32(0.018488891), np.float32(0.06560091), np.float32(0.0145309875), np.float32(0.15434287), np.float32(0.0731897), np.float32(0.1257257), np.float32(0.038122915), np.float32(0.05785804), np.float32(0.0784911), np.float32(0.029498512), np.float32(0.025598258), np.float32(0.10614768), np.float32(0.14553052), np.float32(0.117357895), np.float32(-0.056360934), np.float32(0.035242766), np.float32(0.05348577), np.float32(0.050529517), np.float32(0.101102725), np.float32(-0.04559414), np.float32(-0.0058771884), np.float32(0.01659687), np.float32(0.06451047), np.float32(0.035933886), np.float32(-0.0909103), np.float32(0.10248359), np.float32(0.051260415), np.float32(-0.017825693), np.float32(0.070425436), np.float32(-0.04213652), np.float32(-0.04152394), np.float32(0.11983123), np.float32(-0.07061455), np.float32(-0.004425256), np.float32(-0.08143387), np.float32(-0.091918), np.float32(-0.024506675), np.float32(0.058435738), np.float32(-0.0047618137), np.float32(-0.09773461), np.float32(0.03321637), np.float32(-0.067689694), np.float32(0.009967059), np.float32(0.14665946), np.float32(-0.0023965444), np.float32(-0.030557912), np.float32(-0.043364823), np.float32(-0.0776838), np.float32(0.11244325), np.float32(-0.11837171), np.float32(-0.116799876), np.float32(0.03345293), np.float32(0.09211522), np.float32(0.12744647), np.float32(-0.004281675), np.float32(0.1240065), np.float32(0.019263014), np.float32(-0.15037192), np.float32(0.10932003), np.float32(-0.0764974), np.float32(-0.09349638), np.float32(-0.0012038321), np.float32(-0.014873582), np.float32(0.07110635), np.float32(0.066620864), np.float32(0.012215483), np.float32(0.042666752), np.float32(-0.18925436), np.float32(0.11167995), np.float32(-0.04207605), np.float32(0.016230231), np.float32(-0.118938886), np.float32(-0.0013111513), np.float32(0.090121396), np.float32(-0.014967697), np.float32(0.09392722), np.float32(0.11522319), np.float32(-0.0285771), np.float32(-0.038553283), np.float32(-0.0030626578), np.float32(-0.110997126), np.float32(-0.022541018), np.float32(0.10065941), np.float32(0.1548085), np.float32(-0.0031018476), np.float32(0.086084254), np.float32(0.1141505), np.float32(-0.13132623), np.float32(0.10788302), np.float32(-0.09957628), np.float32(-0.010592481), np.float32(-0.058076933), np.float32(0.090912685), np.float32(0.1735508), np.float32(0.011726938), np.float32(0.032607988), np.float32(0.06479761), np.float32(-0.08797956), np.float32(-0.0002223724), np.float32(-0.027169524), np.float32(0.0052066953), np.float32(0.0012546023), np.float32(-0.0031811823), np.float32(0.00184032), np.float32(-8.823102e-24), np.float32(0.00077798456), np.float32(-0.014918908), np.float32(-0.00016778796), np.float32(4.0371157e-32), np.float32(1.0796691e-32), np.float32(-8.800843e-27), np.float32(2.655414e-33), np.float32(-6.4188697e-24), np.float32(8.5827985e-34), np.float32(1.0297275e-25), np.float32(5.1776995e-31), np.float32(2.5698264e-33), np.float32(-7.1541164e-23), np.float32(-4.872144e-28), np.float32(-3.9449557e-30), np.float32(-1.7954222e-29), np.float32(3.439147e-35), np.float32(2.0083303e-25), np.float32(-3.4460782e-35), np.float32(4.890833e-25), np.float32(-1.5263934e-29), np.float32(7.2133173e-34), np.float32(2.7207498e-33), np.float32(0.05164741), np.float32(0.03613135), np.float32(-0.037938505), np.float32(0.011643123), np.float32(0.022266569), np.float32(0.00019925743), np.float32(9.409991e-24), np.float32(0.035076007), np.float32(-0.041409653), np.float32(0.0037086317), np.float32(-0.06391869), np.float32(-0.066117994), np.float32(-0.06930507), np.float32(-0.05944425), np.float32(0.039254915), np.float32(-0.0050435057), np.float32(0.068590224), np.float32(0.052458435), np.float32(0.074308075), np.float32(-0.07591161), np.float32(0.08470162), np.float32(0.06320066), np.float32(0.0140212085), np.float32(-0.046423208), np.float32(-0.017937722), np.float32(0.021303065), np.float32(0.0738704), np.float32(-0.023771593), np.float32(0.06008257), np.float32(0.046812456), np.float32(0.032600038), np.float32(-0.020598557), np.float32(-0.023535922), np.float32(-0.028903535), np.float32(-0.026597107), np.float32(0.12043372), np.float32(0.019327158), np.float32(0.11822478), np.float32(0.011641486), np.float32(-0.11657513), np.float32(0.030816011), np.float32(-0.09209487), np.float32(0.018456718), np.float32(-0.04693542), np.float32(0.12868068), np.float32(0.19450793), np.float32(0.06734008), np.float32(0.13341542), np.float32(-0.0078363335), np.float32(-0.1983111), np.float32(0.13230269), np.float32(0.046728745), np.float32(-0.05418921), np.float32(-0.010099797), np.float32(0.09154536), np.float32(0.19007191), np.float32(0.06129182), np.float32(0.04153787), np.float32(0.11413626), np.float32(-0.167239), np.float32(0.10750941), np.float32(-0.04393341), np.float32(-0.004123828), np.float32(-0.08065598), np.float32(0.046142373), np.float32(0.064723305), np.float32(0.019253159), np.float32(0.015894212), np.float32(0.05898996), np.float32(-0.15045245), np.float32(-0.019687394), np.float32(-0.07422257), np.float32(-0.0094990935), np.float32(0.03648887), np.float32(0.10520374), np.float32(0.07863081), np.float32(-0.0007279346), np.float32(0.08562301), np.float32(-0.04279107), np.float32(-0.056540575), np.float32(-0.030824658), np.float32(0.015476729), np.float32(-0.04389266), np.float32(-0.069014065), np.float32(0.098937616), np.float32(0.12631574), np.float32(-0.0047078105), np.float32(0.11757327), np.float32(0.043804698), np.float32(-0.011785194), np.float32(-0.043837424), np.float32(0.02043176), np.float32(0.058505464), np.float32(-0.002324538), np.float32(0.029865025), np.float32(0.02154021), np.float32(0.037793614), np.float32(0.06446833), np.float32(0.071539), np.float32(0.030605007), np.float32(0.05160005), np.float32(-0.08698746), np.float32(-0.039131947), np.float32(0.07790252), np.float32(0.0449242), np.float32(0.047619365), np.float32(-0.05840328), np.float32(0.038601305), np.float32(0.04196837), np.float32(-0.026270458), np.float32(0.07482452), np.float32(0.006492373), np.float32(0.075889945), np.float32(0.05413452), np.float32(0.022475062), np.float32(-0.019879617), np.float32(0.07202888), np.float32(0.070641495), np.float32(-0.05387677), np.float32(0.081606224), np.float32(-0.017243538), np.float32(-0.001054577), np.float32(0.045624577), np.float32(0.056019243), np.float32(0.09141859), np.float32(0.089616485), np.float32(0.07664978), np.float32(0.025711183), np.float32(-0.037301805), np.float32(0.052389085), np.float32(0.006646229), np.float32(0.039542045), np.float32(0.12916131), np.float32(0.03547573), np.float32(-0.017990325), np.float32(-0.0133535275), np.float32(-0.0033682487), np.float32(0.008076082), np.float32(0.010244931), np.float32(0.08039225), np.float32(-0.031593136), np.float32(0.057141285), np.float32(0.06575089), np.float32(0.02591849), np.float32(0.055252396), np.float32(-0.04014967), np.float32(-0.04729549), np.float32(-0.07944093), np.float32(-0.024483375), np.float32(0.2337496), np.float32(0.011849137), np.float32(0.021756746), np.float32(0.075540595), np.float32(0.08250645), np.float32(-0.08857325), np.float32(0.038455874), np.float32(0.018675635), np.float32(-0.03282574), np.float32(-0.09180852), np.float32(0.09919628), np.float32(0.06515797), np.float32(0.09314255), np.float32(0.1073055), np.float32(0.049327802), np.float32(0.0013541039), np.float32(0.11417921), np.float32(-0.06651515), np.float32(0.05828736), np.float32(0.026147967), np.float32(-0.0211726), np.float32(-0.061241582), np.float32(0.07765369), np.float32(0.037713625), np.float32(0.08818535), np.float32(-0.024832599), np.float32(-0.019138545), np.float32(-0.06551605), np.float32(0.0034191383), np.float32(0.11181322), np.float32(-0.030710263), np.float32(-0.019599518), np.float32(0.08602504), np.float32(-0.060525388), np.float32(-0.05759525), np.float32(-0.056374088), np.float32(-0.006399418), np.float32(0.06000111), np.float32(-0.046724036), np.float32(-0.037941772), np.float32(0.0971256), np.float32(0.05155719), np.float32(-0.022899598), np.float32(-0.05604963), np.float32(-0.045583844), np.float32(0.027601397), np.float32(0.07942868), np.float32(-0.054871954), np.float32(0.041205008), np.float32(0.053352345), np.float32(-0.085295744), np.float32(-0.013428698), np.float32(-0.12880562), np.float32(0.039131306), np.float32(-0.08078545), np.float32(0.020844167), np.float32(0.19433199), np.float32(0.07309613), np.float32(0.14417848), np.float32(0.12937763), np.float32(-0.04327278), np.float32(0.022008546), np.float32(-0.030395336), np.float32(-0.09283593), np.float32(0.028036905), np.float32(0.026856624), np.float32(0.10101726), np.float32(-0.07704553), np.float32(0.16339579), np.float32(0.084237434), np.float32(-0.12278992), np.float32(-0.036817778), np.float32(0.02998418), np.float32(-0.05437181), np.float32(-0.006522292), np.float32(-0.010851809), np.float32(0.07482302), np.float32(0.050806362), np.float32(0.058790468), np.float32(0.088051684), np.float32(-0.008806038), np.float32(0.06685773), np.float32(-0.10147495), np.float32(-0.007964555), np.float32(-0.070934705), np.float32(0.04872313), np.float32(0.0878354), np.float32(0.037671097), np.float32(-0.0031229628), np.float32(0.0741727), np.float32(0.0146228755), np.float32(0.10178439), np.float32(0.0097657805), np.float32(-0.0039152913), np.float32(0.043737028), np.float32(0.054515086), np.float32(0.05056226), np.float32(0.023673985), np.float32(0.13476494), np.float32(0.03644627), np.float32(-0.06966016), np.float32(0.03257448), np.float32(-0.01811931), np.float32(0.012952557), np.float32(0.04939546), np.float32(-0.021600703), np.float32(-0.0029855762), np.float32(2.0477313e-25), np.float32(0.008575292), np.float32(0.0030881574), np.float32(-0.03546353), np.float32(-0.016512912), np.float32(-0.037060264), np.float32(0.03663664), np.float32(-0.005801688), np.float32(-0.00021474696), np.float32(-0.00017227398), np.float32(1.507111e-28), np.float32(-0.004897391), np.float32(0.054221865), np.float32(0.008442374), np.float32(-8.4583966e-32), np.float32(-3.2185873e-29), np.float32(2.0969752e-33), np.float32(-6.247625e-35), np.float32(6.358566e-27), np.float32(-1.6043018e-28), np.float32(-9.7722037e-32), np.float32(-5.1320283e-34), np.float32(-6.993637e-22), np.float32(4.3843395e-26), np.float32(-9.06652e-32), np.float32(-5.2365673e-31), np.float32(-3.4592172e-28), np.float32(4.4023472e-35), np.float32(4.076338e-31), np.float32(-6.2242493e-28), np.float32(-3.3369537e-27), np.float32(-4.2688886e-23), np.float32(-3.1133096e-33), np.float32(4.1373468e-29), np.float32(5.982537e-05), np.float32(-0.0018202403), np.float32(0.014733212), np.float32(0.0020941256), np.float32(0.0041308054), np.float32(-0.00011661657), np.float32(-1.5704092e-21), np.float32(-5.6281042e-05), np.float32(-0.006148071), np.float32(0.00011182592), np.float32(-0.010153523), np.float32(-0.045473255), np.float32(0.02450319), np.float32(0.030257754), np.float32(-0.053213056), np.float32(0.085121974), np.float32(-4.7372615e-31), np.float32(0.06686191), np.float32(-0.010793275), np.float32(-0.0019607618), np.float32(0.055788033), np.float32(-0.08734248), np.float32(0.046562184), np.float32(-0.10426376), np.float32(0.089411296), np.float32(0.06463036), np.float32(-6.413666e-31), np.float32(0.14574228), np.float32(0.040963065), np.float32(-0.13487402), np.float32(0.14409731), np.float32(-0.13896424), np.float32(-0.05706699), np.float32(-0.09646056), np.float32(-0.0096579585), np.float32(0.13984211), np.float32(0.047804072), np.float32(0.08581083), np.float32(-0.00089355203), np.float32(-0.23562323), np.float32(0.08663749), np.float32(-0.106301844), np.float32(-0.046844505), np.float32(-0.06915299), np.float32(0.00088667107), np.float32(0.07949643), np.float32(0.018074857), np.float32(-0.003255728), np.float32(-0.007312606), np.float32(-0.016340697), np.float32(0.10229111), np.float32(-0.04075254), np.float32(-0.08760148), np.float32(0.0006981956), np.float32(0.018685967), np.float32(0.17077932), np.float32(0.053552367), np.float32(0.13750882), np.float32(-0.014567555), np.float32(-0.12766986), np.float32(0.01997583), np.float32(-0.051125914), np.float32(-0.059050966), np.float32(-0.09446563), np.float32(0.0062680193), np.float32(0.04957654), np.float32(0.046110474), np.float32(0.11650642), np.float32(-0.0044074017), np.float32(-0.08117227), np.float32(0.12666245), np.float32(-0.042396374), np.float32(-0.066323005), np.float32(0.03231319), np.float32(-0.0009591337), np.float32(0.12629057), np.float32(0.062480487), np.float32(0.045135878), np.float32(0.039366167), np.float32(-0.1179931), np.float32(0.0052927607), np.float32(0.055743154), np.float32(-0.045032296), np.float32(-0.009206563), np.float32(0.09732575), np.float32(0.12272862), np.float32(-0.07765384), np.float32(-0.029471893), np.float32(-0.011718971), np.float32(0.041077618), np.float32(0.0068451217), np.float32(0.037897054), np.float32(0.068507314), np.float32(0.050226685), np.float32(0.095989086), np.float32(0.018752206), np.float32(0.05662273), np.float32(-0.015221), np.float32(0.0026676306), np.float32(0.040343963), np.float32(-0.013242678), np.float32(-0.0033109067), np.float32(0.044053484), np.float32(-0.051884975), np.float32(0.0429873), np.float32(-0.03854507), np.float32(-0.050658874), np.float32(0.0768557), np.float32(0.035698783), np.float32(0.07491929), np.float32(-0.09241198), np.float32(0.13846315), np.float32(0.10058551), np.float32(0.16003783), np.float32(-0.0072209677), np.float32(0.045476347), np.float32(0.05827115), np.float32(-0.08600173), np.float32(0.05042746), np.float32(0.15809193), np.float32(-0.011896101), np.float32(0.103564814), np.float32(0.063749515), np.float32(0.024526458), np.float32(-0.03566657), np.float32(0.062673934), np.float32(-0.034230545), np.float32(-0.047233187), np.float32(-0.07972526), np.float32(0.16263995), np.float32(-0.07890753), np.float32(0.080837175), np.float32(0.026837638), np.float32(0.106065854), np.float32(-0.09243394), np.float32(-0.0586826), np.float32(-0.047501594), np.float32(-0.12141356), np.float32(-0.115741245), np.float32(0.10747085), np.float32(0.017483339), np.float32(0.08867166), np.float32(0.15529501), np.float32(0.112350024), np.float32(-0.11095506), np.float32(-0.07544909), np.float32(0.014642072), np.float32(-0.02633525), np.float32(-0.12365154), np.float32(0.16782442), np.float32(0.075665504), np.float32(0.08590288), np.float32(-0.039707612), np.float32(0.024748059), np.float32(0.07893122), np.float32(0.1748583), np.float32(0.04044554), np.float32(0.06239028), np.float32(-0.02487846), np.float32(0.034355026), np.float32(0.024476424), np.float32(-0.07396667), np.float32(-0.024080724), np.float32(0.031211503), np.float32(0.14340341), np.float32(0.16812913), np.float32(0.04265889), np.float32(0.1438417), np.float32(0.14778072), np.float32(-0.1612286), np.float32(0.025961531), np.float32(-0.08118983), np.float32(0.04883878), np.float32(-0.029900307), np.float32(0.10939369), np.float32(0.0094885845), np.float32(0.06257557), np.float32(-0.0069552623), np.float32(-0.028477518), np.float32(0.03207355), np.float32(-0.044374492), np.float32(0.009567551), np.float32(-0.047515042), np.float32(0.039945684), np.float32(0.051727246), np.float32(0.027755825), np.float32(0.057115357), np.float32(0.07077227), np.float32(0.06347425), np.float32(0.028557235), np.float32(0.0037970205), np.float32(-0.023452755), np.float32(-0.07240776), np.float32(0.033642936), np.float32(0.066268936), np.float32(0.037401628), np.float32(-0.07209202), np.float32(-0.0033706743), np.float32(0.033678945), np.float32(-0.112496935), np.float32(-0.0018052843), np.float32(-0.042945243), np.float32(-0.059128266), np.float32(-0.11440121), np.float32(0.03921357), np.float32(0.15076765), np.float32(-0.07646803), np.float32(0.08724145), np.float32(0.05372592), np.float32(-0.018440269), np.float32(0.013205234), np.float32(-0.08959996), np.float32(-0.07308187), np.float32(-0.09077498), np.float32(0.0038927866), np.float32(-0.031365942), np.float32(0.063455924), np.float32(0.035450928), np.float32(0.035148155), np.float32(0.08310021), np.float32(0.005933793), np.float32(-0.111177765), np.float32(-0.09165101), np.float32(-0.09683769), np.float32(0.07986386), np.float32(0.18119486), np.float32(0.009098473), np.float32(0.07540626), np.float32(-0.0050211214), np.float32(-0.050548345), np.float32(0.016860463), np.float32(-0.033009905), np.float32(-0.0824058), np.float32(-0.063192286), np.float32(0.015465029), np.float32(0.16537428), np.float32(-0.032308493), np.float32(0.0890929), np.float32(0.04872416), np.float32(0.009575635), np.float32(0.020396717), np.float32(0.019802108), np.float32(0.020860674), np.float32(-0.045665063), np.float32(-0.015731972), np.float32(-0.0050738826), np.float32(-9.279414e-22), np.float32(0.0083245365), np.float32(-0.06909522), np.float32(-0.017768199), np.float32(0.0021491027), np.float32(-0.015766006), np.float32(0.03282172), np.float32(-0.009426534), np.float32(-5.09237e-05), np.float32(-4.0934978e-05), np.float32(-4.5981587e-28), np.float32(-1.9634708e-05), np.float32(0.026425125), np.float32(3.3385462e-05), np.float32(-5.680383e-31), np.float32(-1.1183517e-21), np.float32(6.0017497e-31), np.float32(-1.4087361e-24), np.float32(1.5642645e-31), np.float32(5.001776e-34), np.float32(-1.4616213e-21), np.float32(-9.5485895e-23), np.float32(-3.3846498e-34), np.float32(2.6187716e-30), np.float32(-3.5854932e-28), np.float32(-1.0524417e-23), np.float32(-2.404911e-24), np.float32(-7.573388e-27), np.float32(-3.3182004e-22), np.float32(-2.87842e-29), np.float32(2.452608e-22), np.float32(-4.6202732e-30), np.float32(2.7657397e-33), np.float32(-5.0050776e-35), np.float32(-0.020707577), np.float32(0.000636794), np.float32(-0.038131796), np.float32(0.00016291176), np.float32(0.025405314), np.float32(-0.007173285), np.float32(1.0057944e-25), np.float32(-0.0033646116), np.float32(0.009167348), np.float32(0.00019096257), np.float32(0.071207516), np.float32(0.012129109), np.float32(0.027860813), np.float32(0.039479982), np.float32(0.06843993), np.float32(-0.02041337), np.float32(1.4592504e-28), np.float32(0.0051928107), np.float32(0.020637335), np.float32(0.004973556), np.float32(0.0023622164), np.float32(0.006495711), np.float32(0.015967693), np.float32(-0.18371794), np.float32(0.01392996), np.float32(0.12536155), np.float32(-1.2777563e-32), np.float32(0.12850277), np.float32(-0.01825686), np.float32(-0.23914969), np.float32(0.0821956), np.float32(-0.01188375), np.float32(-0.053708058), np.float32(-0.12863517), np.float32(-0.020790553), np.float32(0.1252925), np.float32(-0.01272159), np.float32(0.12028891), np.float32(-0.004774531), np.float32(-0.21844643), np.float32(0.0025787896), np.float32(0.029623233), np.float32(-0.022703312), np.float32(0.010782321), np.float32(0.13105808), np.float32(0.025408247), np.float32(0.06732283), np.float32(0.04047578), np.float32(0.010947405), np.float32(-0.0022387234), np.float32(0.10283512), np.float32(-0.0159018), np.float32(0.010312044), np.float32(-0.11424705), np.float32(0.02533935), np.float32(0.030376984), np.float32(-0.018711695), np.float32(0.006450217), np.float32(0.00018104585), np.float32(-0.037460107), np.float32(0.010614196), np.float32(-0.03731958), np.float32(-0.107985236), np.float32(-0.01937516), np.float32(0.08021662), np.float32(0.16873944), np.float32(-0.06949633), np.float32(0.094713494), np.float32(0.048756376), np.float32(-0.052595124), np.float32(0.112250105), np.float32(-0.049287286), np.float32(-0.001740529), np.float32(-0.045082938), np.float32(0.0855568), np.float32(0.17442292), np.float32(-0.07522175), np.float32(0.072251), np.float32(-0.034348946), np.float32(0.012107411), np.float32(0.018883452), np.float32(-0.03373201), np.float32(-0.021428335), np.float32(-0.04688588), np.float32(-0.007878852), np.float32(0.08587149), np.float32(-0.08478443), np.float32(0.07814354), np.float32(0.11538793), np.float32(0.041454036), np.float32(0.1161404), np.float32(0.01856245), np.float32(-0.095807694), np.float32(0.04629005), np.float32(0.05771309), np.float32(0.00051128503), np.float32(0.0015585121), np.float32(-0.005064744), np.float32(-0.009571064), np.float32(-0.044666063), np.float32(0.1083552), np.float32(-0.013210519), np.float32(0.059885632), np.float32(0.05475717), np.float32(0.1032764), np.float32(0.17398372), np.float32(-0.08020388), np.float32(0.09478011), np.float32(0.02511398), np.float32(-0.10835909), np.float32(-0.1354923), np.float32(0.16211687), np.float32(0.037124533), np.float32(0.08448388), np.float32(-0.083692834), np.float32(-0.020320857), np.float32(-0.054593436), np.float32(-0.09244395), np.float32(0.013863364), np.float32(0.13364512), np.float32(0.0010819834), np.float32(0.08076017), np.float32(0.08278848), np.float32(0.18588609), np.float32(-0.08746021), np.float32(-0.09804092), np.float32(0.048072893), np.float32(-0.07043102), np.float32(-0.118423134), np.float32(0.18443687), np.float32(-0.1143827), np.float32(0.15411925), np.float32(0.14032647), np.float32(0.06923293), np.float32(0.0016928299), np.float32(-0.15306498), np.float32(0.024714142), np.float32(-0.05819337), np.float32(-0.039423678), np.float32(0.267293), np.float32(-0.1406638), np.float32(0.060539667), np.float32(0.072326444), np.float32(0.15472916), np.float32(-0.029477827), np.float32(-0.17934546), np.float32(0.01861715), np.float32(-0.09269331), np.float32(-0.009053196), np.float32(0.20324825), np.float32(0.09093202), np.float32(0.008051282), np.float32(0.07632543), np.float32(-0.0084954), np.float32(-0.01410431), np.float32(0.062212754), np.float32(0.044238497), np.float32(0.018987866), np.float32(-0.044607222), np.float32(-0.13858826), np.float32(0.13352986), np.float32(-0.1683436), np.float32(-0.04518539), np.float32(-0.09028962), np.float32(0.050938956), np.float32(0.21092106), np.float32(-0.0117194895), np.float32(0.23061994), np.float32(0.17509772), np.float32(-0.20378041), np.float32(0.0088205375), np.float32(-0.041689534), np.float32(0.004621285), np.float32(-0.010385733), np.float32(0.043012135), np.float32(0.04273291), np.float32(-0.0670446), np.float32(0.100072324), np.float32(-0.031451903), np.float32(0.042891655), np.float32(-0.050351944), np.float32(0.06901491), np.float32(0.040981453), np.float32(-0.013794698), np.float32(0.004859758), np.float32(0.07768549), np.float32(0.031206658), np.float32(0.032289386), np.float32(0.078099735), np.float32(0.03380444), np.float32(0.04500554), np.float32(-0.023409192), np.float32(0.011621467), np.float32(0.036554407), np.float32(0.075896166), np.float32(0.18910572), np.float32(-0.0069969767), np.float32(0.07198633), np.float32(0.0205404), np.float32(-0.07280202), np.float32(0.07158003), np.float32(-0.016830195), np.float32(-0.032871492), np.float32(-0.10912815), np.float32(0.0702883), np.float32(0.12084778), np.float32(-0.052601557), np.float32(0.047364455), np.float32(0.11948765), np.float32(-0.05360757), np.float32(0.11234466), np.float32(-0.06455549), np.float32(-0.045420993), np.float32(-0.082137294), np.float32(0.06221581), np.float32(0.14162719), np.float32(-0.09182139), np.float32(0.08917588), np.float32(0.12240334), np.float32(-0.09681167), np.float32(0.063071616), np.float32(0.050357133), np.float32(-0.006455332), np.float32(0.036892507), np.float32(0.0029854605), np.float32(0.09291321), np.float32(0.028492294), np.float32(0.009215824), np.float32(0.092101686), np.float32(-0.03849907), np.float32(-0.036005225), np.float32(0.037667625), np.float32(-0.008189684), np.float32(0.048893306), np.float32(-0.010340381), np.float32(0.04414043), np.float32(0.036382187), np.float32(0.096013196), np.float32(0.13525298), np.float32(-0.13109136), np.float32(-0.00037953324), np.float32(4.5033197e-05), np.float32(-0.012526096), np.float32(0.0013210966), np.float32(-0.0027138956), np.float32(0.00053532806), np.float32(-4.069536e-34), np.float32(-0.0003554431), np.float32(-0.022955457), np.float32(0.000645631), np.float32(2.5248858e-35), np.float32(-2.1042524e-31), np.float32(5.925102e-23), np.float32(2.4389418e-30), np.float32(7.531181e-27), np.float32(5.213752e-32), np.float32(-3.8716876e-29), np.float32(3.4399146e-27), np.float32(4.3972558e-21), np.float32(7.647592e-32), np.float32(5.5391715e-32), np.float32(2.3961687e-26), np.float32(-2.4176566e-31), np.float32(4.5902655e-34), np.float32(-2.2831895e-24), np.float32(-1.53798825e-33), np.float32(5.9002053e-28), np.float32(-1.0921874e-21), np.float32(1.6649211e-31), np.float32(9.5136425e-32), np.float32(-9.7858124e-24), np.float32(-4.160968e-33), np.float32(2.4156044e-28), np.float32(-8.113373e-32), np.float32(3.180956e-35), np.float32(3.0387358e-30), np.float32(1.9230447e-25), np.float32(9.809574e-33), np.float32(3.1434041e-34), np.float32(4.837295e-30), np.float32(-0.02142854), np.float32(0.015348299), np.float32(-0.013226757), np.float32(0.053779695), np.float32(0.02423132), np.float32(-0.003619336), np.float32(3.8005255e-32), np.float32(0.018739142), np.float32(0.004080997), np.float32(0.0032603813), np.float32(-0.056232866), np.float32(-0.013564138), np.float32(-0.041499555), np.float32(-0.08411337), np.float32(0.070589736), np.float32(0.011878861), np.float32(1.4848725e-34), np.float32(-0.016990537), np.float32(0.003380585), np.float32(-0.036526605), np.float32(0.052746497), np.float32(-0.008197591), np.float32(0.030178487), np.float32(-0.014428945), np.float32(0.13028313), np.float32(0.21674871), np.float32(-0.02580633), np.float32(0.11830529), np.float32(-0.016862161), np.float32(-0.13454446), np.float32(0.057661656), np.float32(0.04097207), np.float32(-0.021938218), np.float32(0.013410587), np.float32(-0.011244994), np.float32(0.19870846), np.float32(-0.05431953), np.float32(0.10218076), np.float32(-0.007600676), np.float32(-0.07042737), np.float32(0.03223757), np.float32(-0.06466855), np.float32(0.04155058), np.float32(-0.070197955), np.float32(-0.0049647256), np.float32(0.19628395), np.float32(-0.07713348), np.float32(-0.003248093), np.float32(0.018761257), np.float32(-0.1333703), np.float32(0.03837669), np.float32(0.005287871), np.float32(0.016810378), np.float32(-0.0971819), np.float32(0.007003481), np.float32(0.1210498), np.float32(0.040036723), np.float32(0.14137025), np.float32(0.07898696), np.float32(-0.10661859), np.float32(-0.025438037), np.float32(0.028820504), np.float32(0.0391576), np.float32(0.026427975), np.float32(0.080217935), np.float32(0.094375275), np.float32(0.029319823), np.float32(0.09026958), np.float32(0.05383995), np.float32(-0.16638386), np.float32(0.030916486), np.float32(-0.10171048), np.float32(-0.0314268), np.float32(0.04267245), np.float32(0.13778305), np.float32(0.15769738), np.float32(-0.02994446), np.float32(0.11021836), np.float32(0.036414996), np.float32(-0.03906379), np.float32(0.078024514), np.float32(-0.005518391), np.float32(-0.06599864), np.float32(-0.12396074), np.float32(0.015518073), np.float32(0.07199062), np.float32(-0.07706382), np.float32(0.14302011), np.float32(0.07048651), np.float32(-0.08886307), np.float32(0.007564836), np.float32(-0.16205488), np.float32(-0.08283686), np.float32(-0.037888303), np.float32(0.062605925), np.float32(0.17161065), np.float32(-0.02902684), np.float32(0.18640605), np.float32(0.03792986), np.float32(-0.19454588), np.float32(0.12415515), np.float32(-0.09939021), np.float32(0.0479635), np.float32(-0.1228024), np.float32(0.05663615), np.float32(0.15693499), np.float32(-0.082372755), np.float32(0.11647894), np.float32(0.053256184), np.float32(-0.03934003), np.float32(-0.078464136), np.float32(0.11837672), np.float32(0.1548541), np.float32(0.147901), np.float32(-0.061090015), np.float32(-0.17220123), np.float32(-0.042224113), np.float32(-0.015571356), np.float32(-0.11583075), np.float32(0.20480138), np.float32(-0.086363204), np.float32(0.092638075), np.float32(0.1640144), np.float32(0.122491784), np.float32(-0.089208946), np.float32(-0.23208062), np.float32(0.05732813), np.float32(-0.08236469), np.float32(-0.012973482), np.float32(0.2107127), np.float32(-0.15725324), np.float32(0.16918834), np.float32(0.16093962), np.float32(0.1755182), np.float32(-0.07121453), np.float32(-0.15407299), np.float32(0.011618471), np.float32(-0.12526931), np.float32(-0.039923742), np.float32(0.1528636), np.float32(0.020420529), np.float32(0.13590793), np.float32(0.15393788), np.float32(0.15777016), np.float32(-0.046826888), np.float32(-0.12335314), np.float32(-0.029204728), np.float32(-0.019629443), np.float32(-0.04120691), np.float32(0.08465276), np.float32(0.16159551), np.float32(-0.142478), np.float32(-0.061626762), np.float32(-0.072312064), np.float32(0.15642132), np.float32(0.21148758), np.float32(0.05994145), np.float32(0.16305368), np.float32(0.17368555), np.float32(-0.1389245), np.float32(0.06486712), np.float32(-0.07104417), np.float32(-0.17916541), np.float32(-0.17980054), np.float32(0.1941127), np.float32(0.2776737), np.float32(0.05605484), np.float32(0.12915415), np.float32(0.12614824), np.float32(-0.18120517), np.float32(0.05999323), np.float32(-0.072126925), np.float32(-0.05275502), np.float32(-0.052422065), np.float32(0.069205806), np.float32(0.09772873), np.float32(-0.0743817), np.float32(0.09673426), np.float32(0.0173822), np.float32(-0.020079797), np.float32(-0.03902879), np.float32(-0.03738947), np.float32(-0.08644984), np.float32(-0.10760916), np.float32(0.002554402), np.float32(-0.014853934), np.float32(0.006103522), np.float32(0.05873308), np.float32(0.03004543), np.float32(-0.021112349), np.float32(0.12789848), np.float32(-0.0900734), np.float32(0.018087436), np.float32(-0.14419325), np.float32(0.058631442), np.float32(0.12390943), np.float32(-0.09404236), np.float32(0.15188913), np.float32(0.0018213233), np.float32(-0.12656218), np.float32(0.047621243), np.float32(0.020184455), np.float32(-0.031133538), np.float32(-0.097625665), np.float32(0.022924187), np.float32(0.16409734), np.float32(-0.043022502), np.float32(0.15683989), np.float32(0.060228605), np.float32(-0.15655343), np.float32(0.070993766), np.float32(-0.08671295), np.float32(0.010252525), np.float32(-0.039433654), np.float32(0.10825352), np.float32(0.047682613), np.float32(-0.080500245), np.float32(0.12783086), np.float32(-0.03126448), np.float32(-0.1346433), np.float32(0.1418377), np.float32(-0.01365029), np.float32(-0.095547765), np.float32(0.029483184), np.float32(0.10994167), np.float32(0.1447712), np.float32(-0.051075898), np.float32(0.05412611), np.float32(0.08115117), np.float32(-0.11795182), np.float32(0.08931693), np.float32(-0.098761685), np.float32(-0.07847787), np.float32(-0.052486043), np.float32(0.10599819), np.float32(0.09711606), np.float32(-0.023527224), np.float32(0.074345626), np.float32(-0.021303363), np.float32(-0.040172074), np.float32(-0.00029121328), np.float32(0.012551299), np.float32(0.009997785), np.float32(-0.0019778013), np.float32(-0.0022469913), np.float32(-0.0011674556), np.float32(-8.786706e-32), np.float32(-0.00024990938), np.float32(0.0072106086), np.float32(0.0004759002), np.float32(-1.0324588e-31), np.float32(1.550081e-30), np.float32(-1.859059e-34), np.float32(7.340551e-24), np.float32(-1.0285704e-23), np.float32(1.537797e-25), np.float32(-2.3884332e-33), np.float32(-9.662049e-24), np.float32(4.0277295e-35), np.float32(-2.5565855e-31), np.float32(-2.3742938e-33), np.float32(2.70525e-22), np.float32(1.8547962e-30), np.float32(1.5795073e-24), np.float32(-3.699251e-34), np.float32(-1.6855294e-32), np.float32(-9.182928e-29), np.float32(4.426806e-30), np.float32(5.8697224e-31), np.float32(1.9908584e-30), np.float32(3.8232226e-22), np.float32(-1.28050175e-26), np.float32(8.207389e-22), np.float32(-7.130806e-24), np.float32(-3.4356474e-24), np.float32(-5.0551994e-24), np.float32(2.4470285e-29), np.float32(-1.1394687e-30), np.float32(-2.5034643e-22), np.float32(-4.6604216e-22), np.float32(-1.6951777e-24), np.float32(-1.403371e-32), np.float32(5.071335e-35), np.float32(1.8018186e-30), np.float32(1.1938288e-21), np.float32(5.551414e-24), np.float32(-5.0365307e-35), np.float32(8.510909e-21), np.float32(-2.204548e-25), np.float32(-1.5495717e-22), np.float32(-0.020093342), np.float32(-0.041182805), np.float32(0.03368926), np.float32(0.023155155), np.float32(-0.06444025), np.float32(-0.022568578), np.float32(-5.1927083e-26), np.float32(0.026968803), np.float32(-0.015449597), np.float32(0.04570339), np.float32(0.058793966), np.float32(0.025747597), np.float32(-0.08156085), np.float32(-0.067862816), np.float32(0.076733954), np.float32(0.17207061), np.float32(0.053987943), np.float32(0.14299338), np.float32(-0.027394587), np.float32(-0.09233578), np.float32(0.09619412), np.float32(-0.061138853), np.float32(-0.11457429), np.float32(-0.046794157), np.float32(0.08584542), np.float32(0.1601731), np.float32(-0.062291972), np.float32(0.16403817), np.float32(0.050739314), np.float32(-0.02199716), np.float32(0.06982729), np.float32(-0.043624897), np.float32(0.027450666), np.float32(-0.0976436), np.float32(0.05884159), np.float32(0.10727345), np.float32(-0.05692179), np.float32(0.11498472), np.float32(0.05938239), np.float32(-0.06792007), np.float32(0.12815784), np.float32(-0.04774753), np.float32(-0.08903458), np.float32(-0.010243506), np.float32(-0.004183396), np.float32(0.10361434), np.float32(0.012060234), np.float32(0.120604806), np.float32(0.04435423), np.float32(-0.07651244), np.float32(0.094353735), np.float32(0.038339026), np.float32(0.025200898), np.float32(-0.06528455), np.float32(0.01881635), np.float32(0.042064622), np.float32(-0.017432647), np.float32(0.15920909), np.float32(0.05817108), np.float32(-0.1569334), np.float32(0.13183145), np.float32(0.01524643), np.float32(-0.067060016), np.float32(0.042234622), np.float32(-0.013074957), np.float32(0.078535855), np.float32(-0.04181085), np.float32(-0.02074041), np.float32(0.044870406), np.float32(-0.122343935), np.float32(0.046272136), np.float32(-0.060344227), np.float32(-0.078599885), np.float32(-0.14730689), np.float32(0.0328731), np.float32(0.12197485), np.float32(0.026961027), np.float32(0.07045531), np.float32(0.03486848), np.float32(-0.12483645), np.float32(0.19031781), np.float32(-0.12817113), np.float32(-0.027382124), np.float32(-0.040188964), np.float32(0.10251524), np.float32(0.2640305), np.float32(0.029980015), np.float32(0.079348356), np.float32(0.0610456), np.float32(-0.16423728), np.float32(0.012807257), np.float32(-0.04928163), np.float32(-0.033695303), np.float32(-0.052201144), np.float32(-0.017399218), np.float32(0.1386535), np.float32(1.1282287e-21), np.float32(0.10981459), np.float32(-0.027462484), np.float32(-0.027932774), np.float32(-0.13054128), np.float32(0.16300534), np.float32(0.14402425), np.float32(0.15189163), np.float32(-0.087225035), np.float32(-0.10676266), np.float32(0.01342954), np.float32(-0.0748384), np.float32(0.030789318), np.float32(0.1561223), np.float32(-0.009192595), np.float32(0.0342132), np.float32(0.051819786), np.float32(0.22362968), np.float32(-0.17904317), np.float32(-0.15413733), np.float32(-0.05377887), np.float32(-0.0456848), np.float32(-0.016902843), np.float32(0.33795607), np.float32(-0.022716388), np.float32(0.1165372), np.float32(0.16519636), np.float32(0.14523174), np.float32(-0.06271064), np.float32(-0.16770835), np.float32(-0.06670479), np.float32(-0.07987149), np.float32(-0.060857538), np.float32(0.20648089), np.float32(-0.12751952), np.float32(0.07358041), np.float32(0.027806908), np.float32(0.1363195), np.float32(-0.018714963), np.float32(0.015264532), np.float32(0.05402364), np.float32(-0.09755625), np.float32(-0.023087481), np.float32(0.14475639), np.float32(0.2411571), np.float32(-0.23124969), np.float32(-0.22682445), np.float32(-0.09271828), np.float32(0.13763781), np.float32(0.19254567), np.float32(-0.06719615), np.float32(0.20307738), np.float32(0.096369304), np.float32(-0.29797235), np.float32(0.16965318), np.float32(-0.17484657), np.float32(-0.14972311), np.float32(-0.16423646), np.float32(0.057782594), np.float32(0.20477973), np.float32(0.06301493), np.float32(0.16572087), np.float32(0.08927861), np.float32(-0.3379228), np.float32(0.12960276), np.float32(0.04009828), np.float32(-0.043930475), np.float32(-0.08252599), np.float32(0.107686706), np.float32(0.041752636), np.float32(0.0137290545), np.float32(0.11893016), np.float32(0.08581958), np.float32(-0.04265046), np.float32(0.11197635), np.float32(0.05037076), np.float32(-0.07690508), np.float32(-0.028406467), np.float32(0.123364635), np.float32(0.03435681), np.float32(-0.08537372), np.float32(0.06988718), np.float32(0.043154527), np.float32(-0.12600291), np.float32(0.09887916), np.float32(-0.0036577443), np.float32(-0.03898195), np.float32(0.0012912414), np.float32(0.13335107), np.float32(0.24106386), np.float32(0.041168943), np.float32(0.043313682), np.float32(0.09499165), np.float32(-0.10864485), np.float32(0.022890983), np.float32(-0.06304138), np.float32(-0.08971612), np.float32(-0.07127886), np.float32(0.10647012), np.float32(0.18097094), np.float32(-0.015906233), np.float32(0.10679925), np.float32(0.13326955), np.float32(-0.15726809), np.float32(0.09005865), np.float32(-0.06014714), np.float32(0.022767497), np.float32(-0.025788153), np.float32(0.12818901), np.float32(0.14776549), np.float32(-0.0355757), np.float32(0.11986673), np.float32(0.060459677), np.float32(-0.16398636), np.float32(0.0026980932), np.float32(0.00344727), np.float32(0.024559688), np.float32(-0.022929078), np.float32(0.06606421), np.float32(0.09046424), np.float32(0.0186795), np.float32(0.015534489), np.float32(-0.026737988), np.float32(-0.13089173), np.float32(0.06247561), np.float32(-0.11588817), np.float32(-0.012253307), np.float32(-0.11619955), np.float32(0.1305469), np.float32(0.15188502), np.float32(0.07813984), np.float32(0.0872667), np.float32(0.09942377), np.float32(-0.0016827699), np.float32(-0.029283151), np.float32(0.024239097), np.float32(0.08765661), np.float32(-0.012206148), np.float32(-0.011740919), np.float32(-0.045445397), np.float32(-6.537275e-26), np.float32(-0.024458231), np.float32(0.01668802), np.float32(0.041167535), np.float32(2.9484794e-33), np.float32(2.5806218e-30), np.float32(2.1764069e-29), np.float32(-7.948253e-23), np.float32(3.2739216e-26), np.float32(4.870265e-31), np.float32(1.807136e-27), np.float32(-4.177574e-28), np.float32(3.0453753e-33), np.float32(-8.118366e-26), np.float32(2.2880745e-21), np.float32(7.2099634e-32), np.float32(3.2238422e-31), np.float32(1.1274377e-32), np.float32(3.2528364e-27), np.float32(5.1984888e-34), np.float32(-3.069585e-35), np.float32(3.2070751e-27), np.float32(-2.41096e-33), np.float32(-4.6950152e-29), np.float32(2.6143091e-24), np.float32(-5.3395564e-34), np.float32(2.602585e-27), np.float32(-3.6747472e-29), np.float32(-2.2237432e-25), np.float32(-4.4499532e-32), np.float32(-1.423874e-21), np.float32(-4.105065e-28), np.float32(4.4989913e-29), np.float32(-6.154813e-22), np.float32(8.051373e-24), np.float32(-4.8832894e-31), np.float32(1.2801492e-32), np.float32(4.1251894e-22), np.float32(-1.4881832e-21), np.float32(-6.9346665e-29), np.float32(1.8484167e-25), np.float32(-4.1081797e-31), np.float32(1.9349097e-29), np.float32(-4.4042143e-31), np.float32(0.030072251), np.float32(0.05266559), np.float32(-0.0002610271), np.float32(-0.0018221668), np.float32(-0.018507248), np.float32(0.029760037), np.float32(-5.832748e-31), np.float32(0.016054982), np.float32(-0.07727299), np.float32(0.0461506), np.float32(0.025599785), np.float32(-0.0045878533), np.float32(-0.09725065), np.float32(-0.014633665), np.float32(0.050632626), np.float32(0.11300228), np.float32(0.02366724), np.float32(0.1165229), np.float32(0.098113455), np.float32(-0.0034750656), np.float32(-0.02057194), np.float32(0.005101116), np.float32(-0.012433702), np.float32(-0.014540618), np.float32(0.03682352), np.float32(0.10656818), np.float32(0.017216653), np.float32(0.09659152), np.float32(0.021656638), np.float32(-0.018354205), np.float32(0.027026996), np.float32(0.031356756), np.float32(-0.036387037), np.float32(-0.042601224), np.float32(0.082746685), np.float32(0.12460937), np.float32(-0.06633641), np.float32(0.099429205), np.float32(0.084142245), np.float32(-0.17194146), np.float32(0.014035114), np.float32(-0.040337566), np.float32(0.008230553), np.float32(-0.02815774), np.float32(0.048564605), np.float32(0.17855603), np.float32(-0.095272504), np.float32(0.030499779), np.float32(-0.015488413), np.float32(-0.035645973), np.float32(0.1214621), np.float32(-0.086853705), np.float32(-0.101526864), np.float32(-0.075173944), np.float32(0.07092635), np.float32(0.09908839), np.float32(-0.024359414), np.float32(0.15056987), np.float32(0.105255835), np.float32(-0.014568091), np.float32(0.021534033), np.float32(-0.06893466), np.float32(0.020856258), np.float32(-0.10596552), np.float32(0.06539785), np.float32(0.110350065), np.float32(-0.03770948), np.float32(0.08316573), np.float32(0.020969197), np.float32(-0.1487123), np.float32(0.15865287), np.float32(-0.08951894), np.float32(-0.10089451), np.float32(-0.035696454), np.float32(0.06467384), np.float32(0.14384393), np.float32(0.059407268), np.float32(0.13321333), np.float32(0.17377406), np.float32(-0.14949328), np.float32(0.1068163), np.float32(-0.1666429), np.float32(-0.029653689), np.float32(-0.053859685), np.float32(0.13991284), np.float32(0.17860009), np.float32(-0.08658033), np.float32(0.11956676), np.float32(0.18166324), np.float32(-0.26619738), np.float32(-0.012289519), np.float32(0.12900066), np.float32(0.067649975), np.float32(0.105971165), np.float32(-0.052827157), np.float32(-0.06263119), np.float32(-0.00070966204), np.float32(0.055583395), np.float32(-0.017121304), np.float32(0.035349134), np.float32(0.0012031973), np.float32(0.0348762), np.float32(0.15724938), np.float32(0.07771236), np.float32(-0.16615903), np.float32(-0.25594163), np.float32(0.039038368), np.float32(-0.13629799), np.float32(-0.14487307), np.float32(0.14475153), np.float32(-0.010301863), np.float32(0.06742476), np.float32(0.097067535), np.float32(0.17465408), np.float32(-0.08737493), np.float32(-0.21233939), np.float32(-0.023649257), np.float32(-0.096825495), np.float32(-0.13912599), np.float32(0.3142792), np.float32(-0.08404603), np.float32(0.137524), np.float32(0.01910367), np.float32(0.12185758), np.float32(-0.11373161), np.float32(-0.06677102), np.float32(-0.03028859), np.float32(-0.048267476), np.float32(0.0157427), np.float32(0.14660938), np.float32(0.0044657975), np.float32(0.0074203517), np.float32(0.10757055), np.float32(0.055413473), np.float32(0.014616932), np.float32(-0.045428135), np.float32(0.041065816), np.float32(-0.06461158), np.float32(0.044915322), np.float32(-0.06264697), np.float32(0.1441852), np.float32(-0.19219197), np.float32(-0.19852386), np.float32(-0.20446531), np.float32(0.08834423), np.float32(0.31382877), np.float32(-0.08563621), np.float32(0.23100713), np.float32(0.14763194), np.float32(-0.27577773), np.float32(0.024080615), np.float32(-0.011935599), np.float32(-0.03541448), np.float32(-0.14400877), np.float32(0.16515784), np.float32(0.1153214), np.float32(-0.048605375), np.float32(0.15446924), np.float32(0.118041694), np.float32(-0.11675479), np.float32(0.12346499), np.float32(0.04878832), np.float32(-0.079302154), np.float32(0.05325574), np.float32(-0.0166445), np.float32(0.15231189), np.float32(0.055146042), np.float32(0.067934684), np.float32(0.12253587), np.float32(-0.061023038), np.float32(0.025313603), np.float32(0.050554533), np.float32(-0.036009908), np.float32(-0.047869653), np.float32(0.10212791), np.float32(0.1737449), np.float32(0.003130085), np.float32(-0.021418076), np.float32(0.054827496), np.float32(-0.044239588), np.float32(-0.018512897), np.float32(-0.07000637), np.float32(-0.05992324), np.float32(-0.12729043), np.float32(-0.027286323), np.float32(0.14995584), np.float32(-0.023634216), np.float32(0.020744368), np.float32(-0.009533064), np.float32(-0.14157417), np.float32(0.028240027), np.float32(0.025117284), np.float32(-0.08630914), np.float32(0.0040975665), np.float32(-0.016249912), np.float32(0.08453644), np.float32(0.029310148), np.float32(0.084191255), np.float32(0.08466342), np.float32(-0.025370503), np.float32(0.049005352), np.float32(-0.013906663), np.float32(0.012287989), np.float32(-0.07567832), np.float32(0.018169386), np.float32(0.05173467), np.float32(0.007206806), np.float32(0.07226699), np.float32(-0.0021215382), np.float32(-0.1590454), np.float32(0.0052832416), np.float32(0.0086665675), np.float32(-0.017370306), np.float32(-0.03697725), np.float32(-0.00782938), np.float32(0.07376431), np.float32(0.03180061), np.float32(0.046385396), np.float32(0.1410727), np.float32(-0.078734264), np.float32(0.06447784), np.float32(0.026400454), np.float32(-0.08914713), np.float32(0.03653811), np.float32(-0.022073546), np.float32(0.07016061), np.float32(0.0068980376), np.float32(0.15154323), np.float32(0.020313414), np.float32(-0.08415877), np.float32(-0.007901684), np.float32(0.01920506), np.float32(-0.0026327006), np.float32(0.030034155), np.float32(-0.011726849), np.float32(-0.018362757), np.float32(-3.6242224e-28), np.float32(-0.009352712), np.float32(-0.04568854), np.float32(0.016587015), np.float32(5.150073e-34), np.float32(-2.183663e-28), np.float32(-2.1879535e-25), np.float32(-8.5817535e-24), np.float32(-4.7952886e-31), np.float32(2.6385236e-34), np.float32(-2.0012396e-28), np.float32(6.3836815e-31), np.float32(-1.0894487e-32), np.float32(-7.452474e-33), np.float32(-8.408398e-27), np.float32(-1.0585289e-23), np.float32(2.2269349e-29), np.float32(-4.015868e-34), np.float32(-1.2120721e-27), np.float32(4.0853561e-22), np.float32(1.8829034e-25), np.float32(-6.2788225e-26), np.float32(4.621396e-34), np.float32(-2.2912686e-33), np.float32(6.793013e-05), np.float32(0.016533228), np.float32(-0.003934215), np.float32(0.0076910094), np.float32(-0.003091411), np.float32(-0.00013833794), np.float32(5.1733254e-35), np.float32(-7.924354e-05), np.float32(-0.00020842724), np.float32(0.0003015295), np.float32(-4.4285556e-05), np.float32(0.00027199002), np.float32(0.0012389811), np.float32(0.0004569635), np.float32(-0.0022673456), np.float32(-5.7589186e-05), np.float32(-9.7058893e-32), np.float32(-3.1577343e-05), np.float32(-8.773844e-05), np.float32(5.48436e-05), np.float32(0.09245749), np.float32(-0.021695437), np.float32(0.055804648), np.float32(-0.027309684), np.float32(-0.019215995), np.float32(0.041390844), np.float32(-7.054585e-33), np.float32(-0.030051792), np.float32(0.053741988), np.float32(-0.072020136), np.float32(0.11800421), np.float32(-0.101331495), np.float32(-0.08384255), np.float32(0.02539216), np.float32(-0.027987814), np.float32(0.034022156), np.float32(-0.029859371), np.float32(0.14319634), np.float32(0.051585305), np.float32(-0.07302916), np.float32(0.07119996), np.float32(-0.021968585), np.float32(0.060432434), np.float32(0.0109478), np.float32(0.02055847), np.float32(0.00024856106), np.float32(0.043750465), np.float32(-0.028007517), np.float32(-0.032582425), np.float32(-0.061173588), np.float32(0.07508253), np.float32(0.030088164), np.float32(0.0037351188), np.float32(-0.0051595173), np.float32(0.055904157), np.float32(0.18093355), np.float32(0.006702131), np.float32(0.10058361), np.float32(0.096406125), np.float32(0.0069296225), np.float32(0.025328085), np.float32(-0.065033704), np.float32(-0.07171859), np.float32(-0.07643719), np.float32(0.007864005), np.float32(0.043135107), np.float32(-0.07719883), np.float32(0.1603213), np.float32(0.0598532), np.float32(-0.031050807), np.float32(0.0693092), np.float32(-0.11319855), np.float32(-0.050369874), np.float32(0.01664019), np.float32(0.10811351), np.float32(0.14207646), np.float32(0.046944465), np.float32(0.075229354), np.float32(-0.0039354507), np.float32(-0.12051005), np.float32(0.1668021), np.float32(-0.045653217), np.float32(-0.064857885), np.float32(-0.07627964), np.float32(0.12807645), np.float32(0.2906751), np.float32(0.074924186), np.float32(0.15998714), np.float32(0.15271042), np.float32(-0.12980081), np.float32(0.10202337), np.float32(-0.11048349), np.float32(-0.043899838), np.float32(-0.1364374), np.float32(0.13221794), np.float32(0.2936635), np.float32(0.02979864), np.float32(0.21560146), np.float32(0.19163162), np.float32(-0.22744909), np.float32(0.07165502), np.float32(-0.059276856), np.float32(-0.06573449), np.float32(0.08939938), np.float32(0.12265609), np.float32(0.1591269), np.float32(-0.04658019), np.float32(0.091989905), np.float32(0.011254969), np.float32(0.032416597), np.float32(0.01677859), np.float32(0.02790531), np.float32(0.12344596), np.float32(0.12229359), np.float32(-0.0048166933), np.float32(-0.057907492), np.float32(-0.0029754802), np.float32(-0.07018816), np.float32(-0.0039946204), np.float32(0.24694397), np.float32(-0.15692346), np.float32(0.16092592), np.float32(0.07157635), np.float32(0.06935077), np.float32(-0.015351717), np.float32(-0.28019643), np.float32(-0.03340062), np.float32(-0.15688771), np.float32(-0.029408202), np.float32(0.26380563), np.float32(-0.122055225), np.float32(0.19267476), np.float32(0.09669301), np.float32(0.052435067), np.float32(-0.04520592), np.float32(-0.2679121), np.float32(0.04653077), np.float32(-0.087151214), np.float32(0.015057974), np.float32(0.31552196), np.float32(-0.07733042), np.float32(0.1555984), np.float32(0.1494623), np.float32(0.123458765), np.float32(-0.14268997), np.float32(-0.14980973), np.float32(0.009018493), np.float32(-0.048555087), np.float32(-0.08785564), np.float32(0.2004551), np.float32(0.004794373), np.float32(-0.025388261), np.float32(-0.075291306), np.float32(0.044570744), np.float32(0.058305994), np.float32(0.16217467), np.float32(0.05272626), np.float32(0.13405885), np.float32(0.09924409), np.float32(-0.071125165), np.float32(0.2146458), np.float32(-0.118601), np.float32(-0.062566176), np.float32(-0.1352414), np.float32(0.18338884), np.float32(0.20829011), np.float32(0.027136333), np.float32(0.25390524), np.float32(0.09987579), np.float32(-0.30718985), np.float32(0.12875168), np.float32(-0.03682374), np.float32(-0.05719072), np.float32(-0.008938355), np.float32(0.013570767), np.float32(0.12500319), np.float32(-0.033902857), np.float32(0.05598019), np.float32(0.005792763), np.float32(0.0040350817), np.float32(0.07109603), np.float32(-0.034465916), np.float32(-0.06357663), np.float32(-0.101639), np.float32(0.09436971), np.float32(0.07749443), np.float32(-0.06450822), np.float32(0.024111724), np.float32(-0.041488644), np.float32(0.010576127), np.float32(0.0007127866), np.float32(-0.019397708), np.float32(-0.087893896), np.float32(-0.06750816), np.float32(0.05329344), np.float32(0.08577083), np.float32(-0.059641253), np.float32(0.14671183), np.float32(0.035926502), np.float32(-0.14019835), np.float32(0.12061382), np.float32(-0.028382087), np.float32(-0.053748105), np.float32(0.013266243), np.float32(0.07657419), np.float32(0.19415015), np.float32(-0.07573724), np.float32(0.075137965), np.float32(0.031441584), np.float32(-0.1276092), np.float32(0.078263305), np.float32(-0.029164487), np.float32(-0.05038528), np.float32(0.013437069), np.float32(-0.023331685), np.float32(0.045190718), np.float32(0.035387207), np.float32(-0.002569051), np.float32(0.110207334), np.float32(-0.14516476), np.float32(0.07926811), np.float32(-0.051389728), np.float32(0.028938618), np.float32(-0.02801942), np.float32(0.041723803), np.float32(0.19515872), np.float32(0.017060928), np.float32(0.1722543), np.float32(-0.034872185), np.float32(-0.033106804), np.float32(0.059241403), np.float32(-0.0174654), np.float32(-0.028701829), np.float32(-0.02746226), np.float32(0.13998975), np.float32(0.2180291), np.float32(0.049645144), np.float32(0.06858352), np.float32(0.10373601), np.float32(-0.17247665), np.float32(0.07868596), np.float32(-0.12124321), np.float32(-0.035845), np.float32(-0.059131004), np.float32(-0.036053985), np.float32(0.14481068), np.float32(0.050830137), np.float32(0.055578426), np.float32(-0.027686074), np.float32(-0.022997912), np.float32(-1.3321295e-34), np.float32(2.4271589e-33), np.float32(-2.2192898e-25), np.float32(3.919602e-27), np.float32(-8.665631e-27), np.float32(4.6715194e-23), np.float32(-3.813986e-29), np.float32(-1.8163925e-29), np.float32(-8.317815e-21), np.float32(-2.6132344e-22), np.float32(0.026119785), np.float32(-0.05448037), np.float32(0.02821016), np.float32(0.017323412), np.float32(0.033396203), np.float32(0.010472012), np.float32(-1.5353432e-21), np.float32(-0.002978042), np.float32(0.025862375), np.float32(-0.009795352), np.float32(-8.422217e-27), np.float32(-2.746929e-27), np.float32(-3.0765154e-27), np.float32(-1.5145664e-27), np.float32(1.4822036e-21), np.float32(-3.9152216e-35), np.float32(-2.2012303e-25), np.float32(1.1531582e-25), np.float32(-7.0908656e-24), np.float32(-6.3660425e-31), np.float32(0.018561514), np.float32(-0.0058164713), np.float32(0.018297194), np.float32(0.05694596), np.float32(-0.04672694), np.float32(-0.0034204945), np.float32(-1.2112644e-21), np.float32(0.017475987), np.float32(-0.009914822), np.float32(0.0041562496), np.float32(-0.03459996), np.float32(0.0011372888), np.float32(0.022755956), np.float32(0.056063097), np.float32(0.04167747), np.float32(-0.0009782417), np.float32(-3.873366e-31), np.float32(0.004608927), np.float32(-0.0020174712), np.float32(0.0011018834), np.float32(0.09646481), np.float32(0.037079833), np.float32(-0.07167088), np.float32(-0.09952557), np.float32(-0.0058554625), np.float32(0.07805438), np.float32(3.242246e-29), np.float32(-0.02056535), np.float32(0.07857524), np.float32(-0.056844335), np.float32(-0.015718708), np.float32(-0.08243011), np.float32(0.037878748), np.float32(-0.109044455), np.float32(2.9820778e-06), np.float32(0.084634975), np.float32(-0.013679987), np.float32(0.08260681), np.float32(0.033940125), np.float32(-0.13754763), np.float32(-0.004784623), np.float32(-0.013771101), np.float32(-0.050133564), np.float32(-0.11668899), np.float32(0.036307283), np.float32(0.16025744), np.float32(0.04571698), np.float32(-0.016346417), np.float32(0.12599052), np.float32(-0.0819926), np.float32(0.101949394), np.float32(0.026478244), np.float32(0.052037798), np.float32(-0.005869318), np.float32(0.13330147), np.float32(0.06570727), np.float32(-0.009690553), np.float32(0.0046879654), np.float32(-0.020692375), np.float32(-0.085752115), np.float32(0.11990939), np.float32(-0.12263189), np.float32(-0.10050945), np.float32(-0.10171744), np.float32(0.13635474), np.float32(0.16987209), np.float32(0.07487267), np.float32(0.03636271), np.float32(0.07785122), np.float32(-0.060378034), np.float32(0.104896836), np.float32(-0.013569559), np.float32(-0.0052809077), np.float32(-0.1005965), np.float32(0.006258678), np.float32(0.12807937), np.float32(-0.010941663), np.float32(0.15329643), np.float32(0.029946655), np.float32(-0.1307345), np.float32(0.169787), np.float32(-0.082728274), np.float32(-0.13145174), np.float32(-0.0032751318), np.float32(0.0769647), np.float32(0.22210012), np.float32(-0.037309535), np.float32(0.16478062), np.float32(0.092703044), np.float32(-0.15093262), np.float32(0.19955532), np.float32(-0.08272661), np.float32(-0.0048889103), np.float32(-0.08884725), np.float32(0.15627456), np.float32(0.20933282), np.float32(-0.058758378), np.float32(0.2269566), np.float32(0.041089565), np.float32(-0.13090165), np.float32(-0.06051604), np.float32(-0.030528005), np.float32(0.06501618), np.float32(-0.016822701), np.float32(0.068623126), np.float32(0.081436545), np.float32(0.064292125), np.float32(0.03903653), np.float32(-0.033110127), np.float32(0.0574318), np.float32(-0.005992782), np.float32(0.10362309), np.float32(0.06241831), np.float32(0.05748695), np.float32(-0.12125568), np.float32(-0.12748699), np.float32(-0.04989263), np.float32(-0.11102713), np.float32(-0.035254236), np.float32(0.10962088), np.float32(-0.030980736), np.float32(0.1767583), np.float32(0.15235095), np.float32(0.04414873), np.float32(-0.016497675), np.float32(-0.17934912), np.float32(0.008300886), np.float32(-0.13249722), np.float32(-0.112757176), np.float32(0.18108302), np.float32(-0.043544162), np.float32(0.03410546), np.float32(0.11534222), np.float32(0.17807566), np.float32(0.009599625), np.float32(-0.0739206), np.float32(-0.048212342), np.float32(0.009263252), np.float32(-0.11395362), np.float32(0.15948778), np.float32(-0.037319656), np.float32(0.036274113), np.float32(0.07819275), np.float32(0.11592983), np.float32(-0.08489914), np.float32(0.011279372), np.float32(-0.05931442), np.float32(-0.078307), np.float32(-0.090818554), np.float32(0.06464215), np.float32(0.028028844), np.float32(-0.031419538), np.float32(-0.038206562), np.float32(0.007107229), np.float32(0.13863876), np.float32(0.045982607), np.float32(-0.03405385), np.float32(0.15398282), np.float32(0.03572222), np.float32(-0.0538749), np.float32(0.15480712), np.float32(-0.10947389), np.float32(-0.041315313), np.float32(-0.09883631), np.float32(0.1385345), np.float32(0.20495145), np.float32(-0.009083662), np.float32(0.19750841), np.float32(0.019797707), np.float32(-0.14700903), np.float32(0.13627765), np.float32(-0.1344712), np.float32(0.029642869), np.float32(-0.022257961), np.float32(0.06563275), np.float32(0.111810766), np.float32(0.027006421), np.float32(0.070408106), np.float32(0.003799151), np.float32(-0.044945195), np.float32(0.12333109), np.float32(0.016352903), np.float32(-8.474411e-05), np.float32(0.014053726), np.float32(0.04096551), np.float32(0.19327739), np.float32(-0.016392462), np.float32(0.10019063), np.float32(-0.027210034), np.float32(-0.07926717), np.float32(0.05038952), np.float32(-0.09333627), np.float32(-0.070802085), np.float32(-0.097877674), np.float32(0.12260678), np.float32(0.081966996), np.float32(0.039382692), np.float32(0.1250883), np.float32(-0.02155592), np.float32(-0.057887964), np.float32(0.110425435), np.float32(0.014537314), np.float32(-0.041381076), np.float32(-0.089693405), np.float32(0.082501136), np.float32(0.08263737), np.float32(-0.0916582), np.float32(0.10362138), np.float32(0.092144035), np.float32(-0.17620783), np.float32(-0.010078415), np.float32(-0.03681498), np.float32(-0.08619933), np.float32(-0.092353724), np.float32(0.13470565), np.float32(0.14512195), np.float32(-0.013013627), np.float32(0.12012446), np.float32(0.10743773), np.float32(-0.1720109), np.float32(0.072941825), np.float32(0.0076614693), np.float32(-0.015569517), np.float32(-0.08786208), np.float32(0.1068961), np.float32(0.12801258), np.float32(-0.069351554), np.float32(0.06902769), np.float32(0.059105318), np.float32(-0.18886422), np.float32(0.03128852), np.float32(-0.0685162), np.float32(-0.07442756), np.float32(-0.06812007), np.float32(0.084971465), np.float32(0.12810317), np.float32(-0.05724865), np.float32(0.13963982), np.float32(0.045821644), np.float32(-0.14913498), np.float32(0.09200491), np.float32(0.010791362), np.float32(0.016623592), np.float32(-0.10205006), np.float32(0.00051394355), np.float32(0.039880317), np.float32(0.015805617), np.float32(-0.0011741256), np.float32(0.021921981), np.float32(-0.1141991), np.float32(6.452518e-24), np.float32(-4.018545e-30), np.float32(-7.832296e-35), np.float32(-9.7101605e-32), np.float32(5.3303034e-28), np.float32(-1.5141989e-25), np.float32(-3.96477e-24), np.float32(-1.1886052e-24), np.float32(-1.5469556e-21), np.float32(-6.018599e-28), np.float32(0.030361488), np.float32(-0.016042272), np.float32(-0.097977825), np.float32(0.013731297), np.float32(0.0731166), np.float32(0.01753141), np.float32(-1.1500123e-28), np.float32(0.04753304), np.float32(0.027883569), np.float32(-0.04709815), np.float32(-1.4837233e-05), np.float32(0.00017246269), np.float32(-0.0031693834), np.float32(0.00013184479), np.float32(-1.6610985e-21), np.float32(-1.807609e-05), np.float32(8.440667e-36), np.float32(-9.52481e-06), np.float32(0.0013746965), np.float32(1.7091315e-05), np.float32(0.010924802), np.float32(-0.017405355), np.float32(-0.024260644), np.float32(0.028652865), np.float32(-0.011146382), np.float32(-0.00031762407), np.float32(1.1166241e-24), np.float32(-0.00043942657), np.float32(0.019309144), np.float32(0.0002969447), np.float32(7.4617215e-05), np.float32(0.000646927), np.float32(0.0009900832), np.float32(0.0023039307), np.float32(0.004947411), np.float32(-9.754638e-05), np.float32(6.390398e-29), np.float32(-5.455573e-05), np.float32(-0.00014665554), np.float32(9.122203e-05), np.float32(0.10794245), np.float32(0.007847055), np.float32(-0.08264015), np.float32(-0.19889003), np.float32(0.03405452), np.float32(0.09246598), np.float32(-3.822565e-32), np.float32(0.07044854), np.float32(0.1007644), np.float32(-0.13251375), np.float32(0.011495773), np.float32(-0.11353708), np.float32(-0.08980757), np.float32(0.027528921), np.float32(0.08940919), np.float32(0.08931082), np.float32(-0.04145326), np.float32(0.10981182), np.float32(0.120599285), np.float32(-0.16705449), np.float32(0.08168748), np.float32(-0.06768195), np.float32(-0.017539296), np.float32(-0.028956007), np.float32(0.10786285), np.float32(0.17430082), np.float32(-0.04625069), np.float32(0.10720754), np.float32(-0.011108168), np.float32(-0.02647345), np.float32(0.050816912), np.float32(-0.08125405), np.float32(-0.08093965), np.float32(0.010146942), np.float32(0.045564394), np.float32(0.14649661), np.float32(0.074153416), np.float32(0.02315013), np.float32(0.13080694), np.float32(-0.060006913), np.float32(0.061436336), np.float32(-0.0767883), np.float32(-0.08889443), np.float32(0.013936069), np.float32(0.0861381), np.float32(0.059160497), np.float32(-0.008738686), np.float32(0.11901919), np.float32(0.12113764), np.float32(-0.17937471), np.float32(0.005390301), np.float32(-0.08330672), np.float32(0.028435087), np.float32(0.006621774), np.float32(0.040016327), np.float32(0.12990834), np.float32(0.037804), np.float32(0.17227407), np.float32(0.06226727), np.float32(-0.07283316), np.float32(0.11018785), np.float32(-0.06652534), np.float32(-0.03956735), np.float32(-0.059329104), np.float32(0.055161126), np.float32(0.14355844), np.float32(-0.013146963), np.float32(0.14599869), np.float32(0.106522225), np.float32(-0.18367122), np.float32(0.09609454), np.float32(-0.020662906), np.float32(-0.063503824), np.float32(0.011635056), np.float32(0.023836652), np.float32(0.07872809), np.float32(-0.0037443473), np.float32(0.04126295), np.float32(0.09949039), np.float32(0.034329493), np.float32(0.035397433), np.float32(0.048475455), np.float32(0.098578066), np.float32(0.10358095), np.float32(-0.0025087653), np.float32(0.07802467), np.float32(0.05151526), np.float32(-0.04628056), np.float32(-0.040404033), np.float32(0.07456784), np.float32(-0.06609714), np.float32(0.13234271), np.float32(0.043250874), np.float32(0.11292395), np.float32(-0.04247139), np.float32(-0.06726584), np.float32(-0.07648645), np.float32(0.021163166), np.float32(0.018978313), np.float32(0.14594024), np.float32(-0.12928525), np.float32(0.12962599), np.float32(0.107441716), np.float32(0.09527265), np.float32(-0.09315668), np.float32(-0.089864075), np.float32(-0.072535425), np.float32(-0.039175525), np.float32(0.022488862), np.float32(0.16652857), np.float32(0.00969466), np.float32(0.13430852), np.float32(0.15956107), np.float32(0.025667889), np.float32(-0.09137576), np.float32(-0.06585763), np.float32(-0.040183794), np.float32(-0.06867683), np.float32(-0.034707945), np.float32(0.12665214), np.float32(0.04825289), np.float32(0.046720766), np.float32(0.02158317), np.float32(0.15144816), np.float32(-0.03214898), np.float32(0.057135887), np.float32(-0.0043379064), np.float32(-0.0070783305), np.float32(-0.04236507), np.float32(0.1683184), np.float32(0.13411379), np.float32(0.007962052), np.float32(-0.023650805), np.float32(0.039129112), np.float32(0.07022475), np.float32(0.07512277), np.float32(-0.08738283), np.float32(0.06998899), np.float32(0.054707773), np.float32(0.036036134), np.float32(0.051076796), np.float32(-0.053332653), np.float32(-0.09088201), np.float32(-0.07382958), np.float32(0.040565614), np.float32(0.25218126), np.float32(-0.021699201), np.float32(0.20750655), np.float32(3.5306814e-05), np.float32(-0.2065405), np.float32(0.06614224), np.float32(0.005174949), np.float32(0.05122741), np.float32(0.01383475), np.float32(0.12386182), np.float32(0.04113758), np.float32(0.067237206), np.float32(0.07935251), np.float32(0.12297213), np.float32(-0.056626733), np.float32(0.07199009), np.float32(-0.09668487), np.float32(-0.0014888834), np.float32(0.0074178865), np.float32(0.01803714), np.float32(0.18828374), np.float32(-0.047667023), np.float32(0.15854684), np.float32(0.011760567), np.float32(-0.045164805), np.float32(-0.02617182), np.float32(-0.03509217), np.float32(-0.02418138), np.float32(-0.043276954), np.float32(0.03322822), np.float32(0.15946475), np.float32(-0.08484125), np.float32(0.11324959), np.float32(0.1101613), np.float32(-0.1534996), np.float32(-0.0190431), np.float32(-0.09133558), np.float32(0.05335728), np.float32(0.0011386567), np.float32(0.07889437), np.float32(0.1556077), np.float32(-0.06542627), np.float32(0.09646614), np.float32(0.059530213), np.float32(-0.004361748), np.float32(0.018772423), np.float32(-0.077227764), np.float32(0.020265318), np.float32(-0.004020952), np.float32(0.01539952), np.float32(0.11687358), np.float32(0.030166674), np.float32(0.11581896), np.float32(0.00792084), np.float32(-0.1017866), np.float32(0.01890019), np.float32(0.012544539), np.float32(-0.06895792), np.float32(-0.05663099), np.float32(0.0428465), np.float32(0.20385893), np.float32(0.041740082), np.float32(0.15919589), np.float32(-0.019958977), np.float32(-0.12231384), np.float32(0.05715459), np.float32(0.0024285226), np.float32(0.023477763), np.float32(-0.1190759), np.float32(0.11247987), np.float32(0.20777792), np.float32(0.06162914), np.float32(0.064626545), np.float32(0.019198956), np.float32(-0.22417858), np.float32(-0.009539761), np.float32(-0.094345294), np.float32(0.052928112), np.float32(-0.01668968), np.float32(0.06466014), np.float32(0.035568185), np.float32(-1.3166536e-28), np.float32(-0.0058969823), np.float32(-0.024512013), np.float32(-0.036930356), np.float32(9.644007e-22), np.float32(9.326242e-29), np.float32(-2.49327e-22), np.float32(-1.0601735e-23), np.float32(-1.03598215e-23), np.float32(1.1044013e-25), np.float32(2.62143e-30), np.float32(-6.639263e-21), np.float32(1.6246658e-28), np.float32(8.228386e-24), np.float32(-8.199782e-24), np.float32(4.540696e-30), np.float32(2.3680348e-33), np.float32(3.4609024e-28), np.float32(3.2525063e-22), np.float32(1.7907848e-25), np.float32(4.9498385e-35), np.float32(5.33583e-28), np.float32(-4.369369e-36), np.float32(-9.535107e-32), np.float32(-0.0048144935), np.float32(-0.024968082), np.float32(-0.011769376), np.float32(0.021461619), np.float32(1.0600251e-23), np.float32(-9.383214e-05), np.float32(6.407062e-31), np.float32(-9.9080375e-05), np.float32(0.013229435), np.float32(-0.00011728924), np.float32(0.03463999), np.float32(-0.0053036786), np.float32(-0.039006263), np.float32(-0.02770721), np.float32(-0.0027173427), np.float32(0.057027753), np.float32(-2.9048371e-24), np.float32(0.013666275), np.float32(0.03301482), np.float32(-0.004741608), np.float32(0.042224403), np.float32(-0.048509464), np.float32(-0.028042935), np.float32(-0.09820669), np.float32(0.09548607), np.float32(0.074768506), np.float32(-4.831931e-26), np.float32(0.0052191187), np.float32(0.080253296), np.float32(0.0127912285), np.float32(0.07909171), np.float32(-0.0026057002), np.float32(-0.015369508), np.float32(-0.071468316), np.float32(0.09508375), np.float32(0.033836845), np.float32(-9.828707e-24), np.float32(0.13272388), np.float32(0.02278534), np.float32(-0.11310946), np.float32(0.12288102), np.float32(-0.06604867), np.float32(-0.071570784), np.float32(-0.05550079), np.float32(0.14591739), np.float32(0.2227515), np.float32(-0.0018389208), np.float32(0.095274456), np.float32(-0.030058363), np.float32(-0.12920307), np.float32(0.06362636), np.float32(0.037032586), np.float32(-0.06785123), np.float32(-0.12396946), np.float32(0.0024886434), np.float32(0.21232265), np.float32(-0.043277625), np.float32(0.14487965), np.float32(0.106721), np.float32(-0.06642973), np.float32(-0.001495074), np.float32(-0.07210226), np.float32(0.041784234), np.float32(-0.0030390709), np.float32(-0.0056106085), np.float32(0.10666054), np.float32(-0.0032473523), np.float32(0.04836255), np.float32(0.018241981), np.float32(-0.011660988), np.float32(-0.012930396), np.float32(-0.012692822), np.float32(0.002365799), np.float32(-0.03185684), np.float32(0.072676785), np.float32(0.04046469), np.float32(-0.05052318), np.float32(0.0055569904), np.float32(0.034805484), np.float32(-0.0059739295), np.float32(0.04385922), np.float32(7.5539625e-05), np.float32(-0.038216922), np.float32(0.00981688), np.float32(0.0780773), np.float32(0.22285527), np.float32(0.05959875), np.float32(0.15380123), np.float32(-0.004900014), np.float32(-0.15829904), np.float32(0.0074279406), np.float32(-0.039195474), np.float32(-0.015280322), np.float32(-0.02960131), np.float32(0.14554164), np.float32(0.17948686), np.float32(0.059909876), np.float32(0.014512307), np.float32(-0.0153199965), np.float32(0.021885654), np.float32(0.017172515), np.float32(-0.028485171), np.float32(0.053491797), np.float32(-0.02307512), np.float32(-0.04746584), np.float32(0.08408291), np.float32(-0.039068993), np.float32(-0.05325443), np.float32(0.077272594), np.float32(0.16693915), np.float32(-0.028339842), np.float32(0.014141506), np.float32(0.058381014), np.float32(0.053741705), np.float32(0.07271186), np.float32(0.089363925), np.float32(-0.07227364), np.float32(0.07225688), np.float32(-0.017229514), np.float32(0.09008712), np.float32(-0.011486307), np.float32(0.043435987), np.float32(0.11979603), np.float32(0.11223249), np.float32(0.12186707), np.float32(0.14474073), np.float32(0.04848063), np.float32(0.091174506), np.float32(0.004056368), np.float32(0.060290486), np.float32(-0.06029483), np.float32(0.12169562), np.float32(0.086465724), np.float32(0.038812373), np.float32(0.07800398), np.float32(0.0035383955), np.float32(0.070636734), np.float32(0.02964308), np.float32(-0.06297079), np.float32(0.17618683), np.float32(0.071768455), np.float32(0.10656843), np.float32(0.050277833), np.float32(0.10494856), np.float32(0.08648364), np.float32(0.094203055), np.float32(-0.005424261), np.float32(0.012465952), np.float32(0.06220134), np.float32(0.17828196), np.float32(-0.05336037), np.float32(0.082526326), np.float32(0.009448471), np.float32(0.06813324), np.float32(-0.009749364), np.float32(0.1126827), np.float32(-0.029001562), np.float32(0.10333636), np.float32(0.07411824), np.float32(0.1803329), np.float32(0.045323472), np.float32(0.071394354), np.float32(0.01361877), np.float32(0.022071924), np.float32(0.01720732), np.float32(0.006733834), np.float32(0.011349557), np.float32(0.024711544), np.float32(-0.046331543), np.float32(0.027524486), np.float32(-0.01167753), np.float32(-0.10167237), np.float32(-0.019980315), np.float32(-0.016746411), np.float32(0.08194387), np.float32(0.114848845), np.float32(-0.061914917), np.float32(0.0061237793), np.float32(-0.022900606), np.float32(-0.03156855), np.float32(-0.00021033386), np.float32(-0.055345073), np.float32(-0.0756411), np.float32(0.038219456), np.float32(0.02208316), np.float32(0.005613473), np.float32(0.046871286), np.float32(0.07558103), np.float32(0.004316481), np.float32(-0.061384037), np.float32(0.09697603), np.float32(-0.06337407), np.float32(0.03900949), np.float32(-0.0038056448), np.float32(0.020521007), np.float32(0.05440589), np.float32(0.030969007), np.float32(-0.012729574), np.float32(-0.043722983), np.float32(-0.0031677312), np.float32(0.08263334), np.float32(0.014614208), np.float32(-0.055414993), np.float32(-0.09207546), np.float32(0.019472219), np.float32(0.03266509), np.float32(-0.08706326), np.float32(0.11801542), np.float32(-0.007940228), np.float32(-0.00039267942), np.float32(0.10384601), np.float32(-0.0830928), np.float32(0.044935796), np.float32(-0.015723128), np.float32(0.046699107), np.float32(0.13056147), np.float32(-0.0008999161), np.float32(0.09183434), np.float32(-0.01029935), np.float32(0.025166363), np.float32(-0.022963168), np.float32(-0.0534068), np.float32(-0.03024031), np.float32(-0.004843537), np.float32(0.0975042), np.float32(0.10956374), np.float32(-0.06241629), np.float32(-0.026558457), np.float32(0.07116151), np.float32(-0.109146394), np.float32(0.029198524), np.float32(0.040820237), np.float32(-0.062462386), np.float32(0.05026541), np.float32(0.03641733), np.float32(0.036807165), np.float32(0.04775182), np.float32(0.07130188), np.float32(0.0979977), np.float32(-0.099791974), np.float32(0.027547088), np.float32(-0.05350981), np.float32(0.031664357), np.float32(-0.026202887), np.float32(0.09780575), np.float32(-0.015305582), np.float32(-0.08159455), np.float32(0.041149482), np.float32(-0.010559138), np.float32(0.017990971), np.float32(0.024915468), np.float32(-0.041205857), np.float32(0.016286131), np.float32(-0.047748905), np.float32(-0.013960852), np.float32(-0.02194286), np.float32(-5.2948553e-26), np.float32(-0.01277855), np.float32(0.0446205), np.float32(0.0061840625), np.float32(-1.891666e-11), np.float32(9.3236835e-05), np.float32(0.0006145351), np.float32(6.6847046e-05), np.float32(2.954145e-05), np.float32(1.1075349e-23), np.float32(-1.0143938e-21), np.float32(3.3457223e-15), np.float32(7.7127355e-05), np.float32(5.6046767e-05), np.float32(0.0024554366), np.float32(0.028088422), np.float32(-0.039607465), np.float32(0.0069292467), np.float32(-0.013901893), np.float32(-1.0021886e-32), np.float32(9.448597e-32), np.float32(6.473031e-05), np.float32(-0.027600596), np.float32(0.0007278619), np.float32(4.7979323e-30), np.float32(7.2949376e-24), np.float32(-1.0579307e-35), np.float32(4.75857e-22), np.float32(-9.082789e-32), np.float32(-4.8016103e-22), np.float32(-2.1613142e-25), np.float32(1.9532241e-24), np.float32(-7.0713144e-24), np.float32(1.8698042e-31), np.float32(-0.03309782), np.float32(-0.030355146), np.float32(-0.10524473), np.float32(-0.11314037), np.float32(0.08636996), np.float32(0.07920733), np.float32(1.5233452e-24), np.float32(0.10981185), np.float32(-0.018089216), np.float32(0.010223954), np.float32(-0.02191474), np.float32(-0.018882805), np.float32(-0.038157895), np.float32(0.033633035), np.float32(-0.009293883), np.float32(0.005653432), np.float32(-1.19745055e-29), np.float32(0.080246575), np.float32(0.048506737), np.float32(-0.026372483), np.float32(0.02415173), np.float32(-0.010863573), np.float32(-0.032347962), np.float32(-0.047173034), np.float32(0.06702661), np.float32(0.020411), np.float32(-7.3650465e-27), np.float32(0.02244311), np.float32(0.04959103), np.float32(-0.033243515), np.float32(0.018497868), np.float32(-0.014615402), np.float32(-0.13791817), np.float32(-0.15830325), np.float32(-0.002077431), np.float32(0.12800726), np.float32(-0.044763908), np.float32(0.12951748), np.float32(0.13080344), np.float32(-0.24074343), np.float32(0.06274917), np.float32(-0.10016888), np.float32(-0.11825596), np.float32(-0.08684187), np.float32(0.114682525), np.float32(0.15539673), np.float32(0.013521929), np.float32(0.0959623), np.float32(0.068628624), np.float32(-0.091038816), np.float32(-0.0022598426), np.float32(-0.08367031), np.float32(-0.066046566), np.float32(-0.045697946), np.float32(-0.047304556), np.float32(-0.050610054), np.float32(-0.08025564), np.float32(0.045895565), np.float32(0.02021028), np.float32(0.055686273), np.float32(0.11724667), np.float32(-0.08353761), np.float32(0.01336121), np.float32(0.05379263), np.float32(0.11041154), np.float32(0.12968007), np.float32(-0.06562312), np.float32(0.0010819712), np.float32(0.027210955), np.float32(-0.08440354), np.float32(0.022585819), np.float32(-0.05348446), np.float32(-0.010215364), np.float32(-0.08078759), np.float32(-0.04413554), np.float32(0.02520328), np.float32(0.06721745), np.float32(0.07511935), np.float32(0.017763073), np.float32(0.049513746), np.float32(-0.023977544), np.float32(-0.01568179), np.float32(-0.017784005), np.float32(0.06891127), np.float32(-0.046361554), np.float32(0.09045983), np.float32(-0.0152939325), np.float32(0.095603056), np.float32(-0.033545565), np.float32(0.008612204), np.float32(0.028310886), np.float32(0.0908862), np.float32(0.019201625), np.float32(0.042869713), np.float32(0.10738051), np.float32(-0.02282105), np.float32(-0.0939188), np.float32(0.06252642), np.float32(0.038318507), np.float32(0.14033808), np.float32(-0.039227564), np.float32(0.038444065), np.float32(0.039283663), np.float32(0.052686054), np.float32(0.12904245), np.float32(0.043717243), np.float32(0.0041154125), np.float32(0.060667083), np.float32(0.08623424), np.float32(0.12568334), np.float32(0.14252494), np.float32(0.10998725), np.float32(0.089076124), np.float32(0.05823795), np.float32(0.006060923), np.float32(0.24441051), np.float32(0.042250652), np.float32(0.12248671), np.float32(0.05689333), np.float32(0.106787406), np.float32(0.01872015), np.float32(0.11431601), np.float32(-0.0021309273), np.float32(0.03934153), np.float32(0.10456305), np.float32(0.18058598), np.float32(-0.09422957), np.float32(0.18182848), np.float32(0.06355758), np.float32(0.047022358), np.float32(0.057869844), np.float32(0.020431684), np.float32(0.061117448), np.float32(0.045257576), np.float32(0.1141666), np.float32(0.017747382), np.float32(-0.082648486), np.float32(0.11832907), np.float32(-0.051160205), np.float32(0.16256651), np.float32(-0.017403338), np.float32(0.044090725), np.float32(0.09388611), np.float32(0.07904385), np.float32(0.07941593), np.float32(0.093317084), np.float32(-0.09071391), np.float32(0.03354702), np.float32(0.062424205), np.float32(0.14806463), np.float32(0.09333661), np.float32(-0.045220323), np.float32(-0.06342447), np.float32(0.017783783), np.float32(0.047366004), np.float32(0.07253903), np.float32(0.023219451), np.float32(0.024046708), np.float32(-0.0063750455), np.float32(0.1121091), np.float32(0.008755424), np.float32(0.06723026), np.float32(-0.0119439075), np.float32(0.095915906), np.float32(0.021663778), np.float32(-0.10169799), np.float32(0.07514191), np.float32(0.017581927), np.float32(0.09686778), np.float32(0.13363348), np.float32(0.0054432605), np.float32(0.05671494), np.float32(0.08214344), np.float32(-0.04272167), np.float32(0.016305251), np.float32(-0.080264755), np.float32(-0.040638287), np.float32(-0.08119398), np.float32(0.07715781), np.float32(0.11884365), np.float32(0.030809624), np.float32(0.025061259), np.float32(0.06274983), np.float32(0.017824136), np.float32(0.02245783), np.float32(-0.13890114), np.float32(-0.07257537), np.float32(-0.0887623), np.float32(-0.06911267), np.float32(0.17264733), np.float32(0.016888484), np.float32(0.015031764), np.float32(0.09577482), np.float32(0.03210436), np.float32(-0.025071034), np.float32(-0.1315495), np.float32(-0.017809823), np.float32(-0.07232116), np.float32(0.037094835), np.float32(0.1360939), np.float32(0.01350319), np.float32(-0.0069066593), np.float32(-0.08360388), np.float32(-0.018906971), np.float32(0.021572584), np.float32(-0.062192883), np.float32(0.07654705), np.float32(-0.0051264195), np.float32(4.9921506e-05), np.float32(0.111513495), np.float32(0.040400714), np.float32(0.098707624), np.float32(0.030891245), np.float32(0.12675102), np.float32(-0.021609701), np.float32(-0.081293136), np.float32(0.034035552), np.float32(-0.06998491), np.float32(-0.0435124), np.float32(0.047884475), np.float32(-0.109190814), np.float32(0.16710927), np.float32(0.022527555), np.float32(0.08490274), np.float32(-0.09696929), np.float32(-0.14913768), np.float32(-0.0850357), np.float32(-0.08220959), np.float32(-0.074046046), np.float32(0.17050874), np.float32(-0.092313394), np.float32(0.051820654), np.float32(0.030324623), np.float32(0.08131519), np.float32(0.026690826), np.float32(-0.028256651), np.float32(1.7309656e-05), np.float32(-0.10805017), np.float32(-0.048358742), np.float32(0.16281231), np.float32(-0.058498602), np.float32(0.015821435), np.float32(0.06965424), np.float32(0.1518), np.float32(-0.120208), np.float32(-0.10556104), np.float32(5.9565764e-31), np.float32(-0.069090895), np.float32(-0.0061329454), np.float32(0.056033935), np.float32(-1.9323031e-06), np.float32(-0.0008620636), np.float32(-0.0052507184), np.float32(0.00021745234), np.float32(-0.0002294219), np.float32(1.7880532e-28), np.float32(5.4344533e-24), np.float32(-2.2963592e-10), np.float32(0.0032745078), np.float32(0.00015953473), np.float32(0.049331993), np.float32(0.012037302), np.float32(-0.037879534), np.float32(-0.05534681), np.float32(0.02625841), np.float32(4.914085e-28), np.float32(1.588513e-22), np.float32(-0.008716819), np.float32(-0.059355438), np.float32(0.009678873), np.float32(-2.1671385e-25), np.float32(3.4168278e-26), np.float32(-1.453231e-21), np.float32(5.4901487e-31), np.float32(5.3569443e-28), np.float32(-4.5434817e-31), np.float32(-1.203996e-21), np.float32(-3.384417e-28), np.float32(2.8133134e-33), np.float32(-7.8992735e-33), np.float32(-2.4669415e-26), np.float32(-5.875952e-32), np.float32(-5.1970414e-34), np.float32(-9.877834e-24), np.float32(-6.610264e-25), np.float32(5.3080936e-28), np.float32(1.0156199e-23), np.float32(2.7013468e-33), np.float32(3.0174211e-28), np.float32(2.9944817e-25), np.float32(0.05090843), np.float32(-0.058806058), np.float32(-0.036276042), np.float32(0.04903705), np.float32(0.05809375), np.float32(-0.028901229), np.float32(-2.8605843e-30), np.float32(-0.036645804), np.float32(0.05198333), np.float32(-0.033216644), np.float32(-0.009031926), np.float32(0.009598317), np.float32(0.0633395), np.float32(-0.016342904), np.float32(-0.07471189), np.float32(0.03706332), np.float32(-5.328559e-35), np.float32(-0.025808448), np.float32(-0.009437322), np.float32(0.09313536), np.float32(-0.0989008), np.float32(0.039840993), np.float32(-0.016384235), np.float32(0.021535223), np.float32(-0.01792431), np.float32(-0.06369078), np.float32(8.438967e-24), np.float32(0.02368384), np.float32(0.016221235), np.float32(0.049291458), np.float32(0.036800392), np.float32(0.08878961), np.float32(0.131569), np.float32(0.021793772), np.float32(-0.037046332), np.float32(-0.14881802), np.float32(-0.07051245), np.float32(-0.13514163), np.float32(0.031131446), np.float32(0.19301996), np.float32(-0.025557777), np.float32(0.0679376), np.float32(0.07993086), np.float32(0.01149845), np.float32(-0.0648166), np.float32(-0.0839338), np.float32(-0.013341745), np.float32(0.019375136), np.float32(0.025848115), np.float32(0.19328162), np.float32(0.07086694), np.float32(0.05608163), np.float32(0.08715026), np.float32(-0.0325909), np.float32(-0.020750571), np.float32(-0.088710226), np.float32(0.06023323), np.float32(-0.06554023), np.float32(-0.034179084), np.float32(0.025529277), np.float32(0.0437177), np.float32(0.035806146), np.float32(0.0535168), np.float32(0.024951767), np.float32(0.08676382), np.float32(-0.04904585), np.float32(-0.032083187), np.float32(0.051031724), np.float32(-0.050362118), np.float32(-0.0061197462), np.float32(-0.05327184), np.float32(-0.0251417), np.float32(0.07507583), np.float32(0.1169018), np.float32(-0.028050998), np.float32(0.0044523417), np.float32(-0.06408793), np.float32(0.0015891682), np.float32(0.0758697), np.float32(0.08327729), np.float32(-0.04142535), np.float32(0.08432215), np.float32(-0.0012140803), np.float32(-0.029399285), np.float32(0.056416713), np.float32(-0.007816715), np.float32(-0.056988265), np.float32(0.02431663), np.float32(0.03797187), np.float32(0.08056979), np.float32(0.113637604), np.float32(-0.013046462), np.float32(0.107327715), np.float32(0.086183645), np.float32(0.006119512), np.float32(0.03890321), np.float32(0.034465708), np.float32(0.12898964), np.float32(0.12557845), np.float32(-0.063432544), np.float32(0.085388854), np.float32(0.066724695), np.float32(0.06038227), np.float32(0.04601654), np.float32(0.044562932), np.float32(0.17660218), np.float32(-0.088599995), np.float32(0.1131121), np.float32(-0.0028506918), np.float32(0.023088636), np.float32(0.006160718), np.float32(0.10370629), np.float32(-0.021485567), np.float32(-0.005178799), np.float32(0.08153645), np.float32(0.04308915), np.float32(0.062057164), np.float32(0.114517026), np.float32(0.11224193), np.float32(0.058344543), np.float32(0.062024366), np.float32(0.14371108), np.float32(-0.015009211), np.float32(0.088126995), np.float32(0.008431233), np.float32(0.039599292), np.float32(-0.07437663), np.float32(-0.037246075), np.float32(0.013984073), np.float32(0.177677), np.float32(0.057491664), np.float32(-0.023580702), np.float32(-0.028138136), np.float32(0.08814316), np.float32(-0.046803735), np.float32(-0.04743865), np.float32(-0.082845554), np.float32(-0.056184635), np.float32(-0.036953136), np.float32(0.08848068), np.float32(0.033952143), np.float32(0.07106538), np.float32(0.065340124), np.float32(0.024597144), np.float32(-0.04088369), np.float32(-0.060848247), np.float32(0.018258862), np.float32(-0.016428683), np.float32(0.06425568), np.float32(0.11509563), np.float32(0.01007141), np.float32(0.09181804), np.float32(-0.028662967), np.float32(-0.004453883), np.float32(-0.0570031), np.float32(-0.12508103), np.float32(-0.061809495), np.float32(-0.01691899), np.float32(0.017751098), np.float32(0.11769293), np.float32(-0.044419512), np.float32(0.11525032), np.float32(0.054567847), np.float32(0.008487737), np.float32(0.058477674), np.float32(-0.16890794), np.float32(0.043556713), np.float32(-0.095778175), np.float32(-0.0368834), np.float32(0.17526682), np.float32(-0.09832767), np.float32(0.07494309), np.float32(-0.0027538538), np.float32(0.15605079), np.float32(-0.11090431), np.float32(-0.07351919), np.float32(-0.0013171899), np.float32(-0.03134804), np.float32(-0.086694896), np.float32(0.21550801), np.float32(-0.09865597), np.float32(0.19341336), np.float32(0.04297562), np.float32(0.14985213), np.float32(-0.06848847), np.float32(-0.24127293), np.float32(0.038824346), np.float32(-0.17312577), np.float32(-0.053202376), np.float32(0.25314832), np.float32(-0.15194526), np.float32(0.1447979), np.float32(0.1261945), np.float32(0.065471224), np.float32(-0.09811305), np.float32(-0.19486618), np.float32(0.047435768), np.float32(-0.22409116), np.float32(0.02223955), np.float32(0.29512662), np.float32(-0.14271158), np.float32(0.11051718), np.float32(0.050120015), np.float32(0.12897407), np.float32(-0.1351834), np.float32(-0.18946558), np.float32(-0.07461627), np.float32(-0.14294438), np.float32(0.0055977143), np.float32(0.21506311), np.float32(-0.18922581), np.float32(0.07504842), np.float32(0.08875831), np.float32(0.08360005), np.float32(-0.055499136), np.float32(-0.0875526), np.float32(-0.03688774), np.float32(-0.07609498), np.float32(-0.13890079), np.float32(0.12868269), np.float32(-0.15651856), np.float32(0.049877603), np.float32(0.10935245), np.float32(0.17733805), np.float32(-0.09583544), np.float32(-0.09123272), np.float32(6.159379e-27), np.float32(-0.014838179), np.float32(-0.024239536), np.float32(0.09325792), np.float32(-0.031907223), np.float32(0.11496108), np.float32(0.15384202), np.float32(0.12744468), np.float32(-0.020058505), np.float32(-0.16053084), np.float32(3.1308744e-31), np.float32(-0.15745889), np.float32(-0.061209437), np.float32(0.11895741), np.float32(-0.03625496), np.float32(-0.0030839664), np.float32(-0.03428023), np.float32(-0.03990517), np.float32(-0.027784634), np.float32(-0.0195789), np.float32(1.0868172e-30), np.float32(-0.007455612), np.float32(-0.00039979143), np.float32(0.009615448), np.float32(-0.022884768), np.float32(-9.846918e-05), np.float32(-0.00037848984), np.float32(-4.7033376e-05), np.float32(0.0025427889), np.float32(0.0042414013), np.float32(5.945344e-31), np.float32(0.0007034361), np.float32(0.025861755), np.float32(-3.764383e-05), np.float32(3.2566668e-32), np.float32(2.1398848e-25), np.float32(-5.7162335e-29), np.float32(4.4417963e-30), np.float32(-6.46482e-27), np.float32(-5.298457e-35), np.float32(-3.9738606e-29), np.float32(1.0241036e-32), np.float32(1.3095896e-28), np.float32(9.98637e-22), np.float32(8.806621e-25), np.float32(7.654471e-31), np.float32(8.6256185e-27), np.float32(5.913864e-27), np.float32(3.006125e-33), np.float32(-1.5715459e-32), np.float32(-2.0979184e-31), np.float32(-4.731718e-24), np.float32(7.448513e-24), np.float32(1.0818631e-28), np.float32(0.0310933), np.float32(-0.018791256), np.float32(-0.05565513), np.float32(0.0025048584), np.float32(-2.9955447e-28), np.float32(5.490458e-32), np.float32(6.3215293e-31), np.float32(0.015766537), np.float32(1.7064346e-26), np.float32(0.019945905), np.float32(-0.10753562), np.float32(0.04665934), np.float32(0.096757166), np.float32(-0.00082289305), np.float32(-0.030537259), np.float32(-0.057373337), np.float32(-1.2139853e-24), np.float32(-0.058533344), np.float32(0.032369465), np.float32(0.06345085), np.float32(-0.13086113), np.float32(0.15196356), np.float32(0.16558436), np.float32(0.2183691), np.float32(-0.043453205), np.float32(-0.12597892), np.float32(-1.6529983e-33), np.float32(-0.21723944), np.float32(-0.17583752), np.float32(0.14260204), np.float32(-0.12506396), np.float32(0.044961136), np.float32(0.16393164), np.float32(0.1719743), np.float32(-0.14825618), np.float32(-0.21537271), np.float32(0.005050574), np.float32(-0.15553197), np.float32(-0.03658004), np.float32(0.28963372), np.float32(-0.0056963866), np.float32(-0.014932863), np.float32(0.005820887), np.float32(-0.00527678), np.float32(-0.060539965), np.float32(-0.011145936), np.float32(-0.07075877), np.float32(-0.034092564), np.float32(0.05656137), np.float32(0.1003543), np.float32(-0.032514036), np.float32(-0.031211883), np.float32(0.05354684), np.float32(0.08178533), np.float32(0.040395092), np.float32(-0.0922811), np.float32(-0.051608384), np.float32(-0.09991101), np.float32(0.07450229), np.float32(0.10848796), np.float32(-0.041068334), np.float32(-0.04806205), np.float32(0.110375084), np.float32(0.089301884), np.float32(0.0895313), np.float32(-0.048655752), np.float32(-0.053258736), np.float32(-0.03697121), np.float32(0.024452971), np.float32(0.14484924), np.float32(0.041125976), np.float32(0.07238772), np.float32(-0.024128065), np.float32(0.12843812), np.float32(-0.06534949), np.float32(0.0064162035), np.float32(-0.012478655), np.float32(-0.10061381), np.float32(-0.04871361), np.float32(0.17821679), np.float32(0.119995914), np.float32(0.0824588), np.float32(0.014718637), np.float32(-0.025642121), np.float32(0.08878136), np.float32(0.13376814), np.float32(-0.027657624), np.float32(0.049542077), np.float32(-0.038799543), np.float32(0.10828752), np.float32(0.121839285), np.float32(0.039470717), np.float32(-0.06654956), np.float32(-0.04653858), np.float32(-0.0046036504), np.float32(0.11071326), np.float32(-0.092598885), np.float32(0.11864458), np.float32(0.06619557), np.float32(-0.006546851), np.float32(0.033575665), np.float32(-0.05373864), np.float32(-0.06298154), np.float32(-0.06442666), np.float32(0.06774203), np.float32(0.17329845), np.float32(-0.031230686), np.float32(0.05439103), np.float32(0.10896112), np.float32(-0.009277703), np.float32(0.09366658), np.float32(0.038538724), np.float32(0.06389941), np.float32(-0.016921503), np.float32(0.067893684), np.float32(0.1267766), np.float32(-0.07018901), np.float32(0.097283676), np.float32(0.11658011), np.float32(0.005580213), np.float32(-0.03537373), np.float32(0.09960728), np.float32(0.06729855), np.float32(0.037535727), np.float32(0.020873142), np.float32(0.114907354), np.float32(0.035108376), np.float32(0.11171633), np.float32(0.06732003), np.float32(0.039131455), np.float32(-0.018598247), np.float32(0.015030196), np.float32(-0.015440352), np.float32(0.0050265486), np.float32(0.058299392), np.float32(0.014012496), np.float32(-0.00023120848), np.float32(0.08885791), np.float32(0.12027944), np.float32(0.06949281), np.float32(0.052783836), np.float32(0.10832677), np.float32(0.05450853), np.float32(0.096036814), np.float32(0.081006795), np.float32(0.04820621), np.float32(-0.02956061), np.float32(0.001426119), np.float32(0.070511065), np.float32(0.059161793), np.float32(-0.029336886), np.float32(0.09749917), np.float32(-0.01890437), np.float32(0.10469992), np.float32(0.034474596), np.float32(0.02383594), np.float32(0.05786454), np.float32(0.042506974), np.float32(0.07153223), np.float32(0.15904255), np.float32(-0.0061435266), np.float32(0.044923827), np.float32(0.027700588), np.float32(0.04478991), np.float32(0.03633815), np.float32(-0.08929579), np.float32(-0.04621717), np.float32(-0.013834982), np.float32(0.0678544), np.float32(0.17837566), np.float32(-0.070220225), np.float32(-0.013687732), np.float32(0.08994484), np.float32(0.104978874), np.float32(0.0663672), np.float32(-0.0636135), np.float32(0.07400212), np.float32(-0.045562383), np.float32(-0.034087375), np.float32(0.22919108), np.float32(-0.20606583), np.float32(0.11695799), np.float32(0.07345753), np.float32(0.20365153), np.float32(-0.18633589), np.float32(-0.23079938), np.float32(-0.020970302), np.float32(-0.25597715), np.float32(-0.04477588), np.float32(0.29792064), np.float32(-0.11001582), np.float32(0.17304601), np.float32(0.21923453), np.float32(0.19326161), np.float32(-0.15127122), np.float32(-0.2763371), np.float32(-0.011800112), np.float32(-0.14684612), np.float32(-0.07779448), np.float32(0.31522965), np.float32(-0.12220881), np.float32(0.11309712), np.float32(0.13862494), np.float32(0.06872253), np.float32(-0.0910838), np.float32(-0.075177245), np.float32(-0.04850538), np.float32(-0.038315896), np.float32(0.03322719), np.float32(0.16835701), np.float32(0.033783324), np.float32(-0.017946074), np.float32(-0.010769652), np.float32(0.10689432), np.float32(-0.066254266), np.float32(-0.071469046), np.float32(1.1703828e-21), np.float32(-0.078542106), np.float32(0.054442026), np.float32(-0.021763666), np.float32(-0.06537727), np.float32(0.049560197), np.float32(0.052015368), np.float32(-0.019527914), np.float32(-0.11676158), np.float32(0.015740993), np.float32(5.3825075e-32), np.float32(-0.0554091), np.float32(-0.122198), np.float32(0.04265665), np.float32(-0.1162195), np.float32(0.07384708), np.float32(0.057738714), np.float32(0.020247497), np.float32(-0.0906268), np.float32(-0.005006321), np.float32(8.341707e-27), np.float32(-0.12651016), np.float32(-0.046570383), np.float32(0.11537414), np.float32(0.024682261), np.float32(-0.010959279), np.float32(0.031083751), np.float32(0.009714912), np.float32(-0.05057212), np.float32(-0.013164178), np.float32(5.148512e-31), np.float32(-0.03526164), np.float32(0.008261479), np.float32(0.0090278275), np.float32(-0.017716993), np.float32(-0.00028504815), np.float32(0.00066658715), np.float32(-0.00034124375), np.float32(0.02248573), np.float32(-0.026743243), np.float32(-4.2204483e-30), np.float32(0.019882023), np.float32(0.02642618), np.float32(-6.802622e-05), np.float32(-1.3737268e-21), np.float32(-6.9887026e-24), np.float32(-2.648242e-32), np.float32(2.546845e-34), np.float32(1.5827765e-32), np.float32(-1.0111816e-23), np.float32(4.9842046e-28), np.float32(-4.893779e-22), np.float32(5.019409e-28), np.float32(-4.636536e-30), np.float32(-1.9931941e-24), np.float32(2.2219995e-25), np.float32(3.037884e-33), np.float32(-2.9798862e-27), np.float32(-1.014688e-21), np.float32(-1.0956304e-32), np.float32(-2.0427447e-25), np.float32(-3.2811033e-31), np.float32(-1.3872782e-28), np.float32(-1.3377089e-28), np.float32(-6.248763e-24), np.float32(-1.5367442e-22), np.float32(1.2809838e-31), np.float32(-2.0669932e-30), np.float32(3.2816245e-31), np.float32(-1.7584325e-21), np.float32(1.6743361e-29), np.float32(4.681498e-31), np.float32(-8.159742e-29), np.float32(2.6588404e-28), np.float32(-0.002787133), np.float32(-0.00083062117), np.float32(-0.01376209), np.float32(-0.0031187471), np.float32(-0.00097479945), np.float32(-0.0009789317), np.float32(5.0660628e-24), np.float32(-0.0011744353), np.float32(0.008106022), np.float32(0.0007432164), np.float32(0.024522744), np.float32(0.117217004), np.float32(0.05228647), np.float32(0.1337234), np.float32(0.03547629), np.float32(-0.07841362), np.float32(-1.0580339e-23), np.float32(-0.01827329), np.float32(-0.08295003), np.float32(0.11686829), np.float32(-0.10159208), np.float32(0.16032597), np.float32(0.023844684), np.float32(0.065558165), np.float32(-0.08197108), np.float32(-0.06348103), np.float32(-7.6410124e-24), np.float32(-0.023798626), np.float32(-0.08832235), np.float32(0.09393657), np.float32(0.04328217), np.float32(0.09788747), np.float32(0.016012551), np.float32(-0.03849569), np.float32(0.08416618), np.float32(-0.0028188133), np.float32(-0.030098353), np.float32(0.043035086), np.float32(0.052840177), np.float32(0.09596678), np.float32(0.009255059), np.float32(-0.029571539), np.float32(-0.012216746), np.float32(0.09716497), np.float32(0.050762266), np.float32(0.06940697), np.float32(0.050196), np.float32(0.10859316), np.float32(0.07512649), np.float32(0.05673695), np.float32(0.09853614), np.float32(-0.019648721), np.float32(0.00025768732), np.float32(0.06256381), np.float32(0.07080888), np.float32(0.038184714), np.float32(-0.06855637), np.float32(-0.015541911), np.float32(0.0287764), np.float32(0.023797514), np.float32(-0.08669902), np.float32(0.14164118), np.float32(0.11620621), np.float32(0.071274124), np.float32(-0.037100744), np.float32(-0.04012064), np.float32(0.03345756), np.float32(-0.006755877), np.float32(-0.045308836), np.float32(0.09927432), np.float32(0.012152766), np.float32(0.07700858), np.float32(0.10865049), np.float32(0.107464306), np.float32(-0.019253798), np.float32(0.09944662), np.float32(-0.029811762), np.float32(0.09367894), np.float32(0.0480423), np.float32(0.14915164), np.float32(0.027001953), np.float32(-0.052517645), np.float32(0.052264567), np.float32(-0.009577371), np.float32(0.09682125), np.float32(0.120528325), np.float32(0.044215146), np.float32(0.10320227), np.float32(0.11364962), np.float32(-0.047901772), np.float32(0.06180027), np.float32(-0.040224116), np.float32(0.08063449), np.float32(0.052757677), np.float32(0.03870912), np.float32(0.115749426), np.float32(0.029990688), np.float32(0.14475003), np.float32(0.072775334), np.float32(-0.048602212), np.float32(0.015289129), np.float32(0.06425178), np.float32(-0.045169737), np.float32(0.04703007), np.float32(0.14689472), np.float32(0.14119427), np.float32(0.030587528), np.float32(0.06321395), np.float32(0.12819767), np.float32(0.055624247), np.float32(0.06763237), np.float32(-0.013303234), np.float32(0.10274172), np.float32(0.110029325), np.float32(0.006091574), np.float32(0.10907721), np.float32(-0.029202562), np.float32(0.030833116), np.float32(0.1023984), np.float32(0.13077515), np.float32(-0.034282032), np.float32(0.05174712), np.float32(0.010709993), np.float32(0.01072686), np.float32(0.07220143), np.float32(0.08765604), np.float32(-0.06700318), np.float32(0.08451536), np.float32(0.01945794), np.float32(0.018322768), np.float32(0.050506227), np.float32(0.004123103), np.float32(0.0962667), np.float32(0.03935036), np.float32(0.06851042), np.float32(0.04654734), np.float32(0.058426507), np.float32(0.052910555), np.float32(0.03761945), np.float32(0.073465645), np.float32(0.058071814), np.float32(0.019070473), np.float32(0.012191057), np.float32(-0.013851589), np.float32(0.014790415), np.float32(-0.037040893), np.float32(0.058511533), np.float32(-0.022645924), np.float32(-0.0004596798), np.float32(0.16392569), np.float32(-0.033455774), np.float32(0.09254315), np.float32(0.058055427), np.float32(0.030223018), np.float32(-0.004740318), np.float32(0.08603789), np.float32(0.018524295), np.float32(0.04036362), np.float32(0.071776725), np.float32(0.04814283), np.float32(0.019382862), np.float32(0.01587943), np.float32(-0.015297272), np.float32(0.0690356), np.float32(0.020221015), np.float32(0.004034836), np.float32(-0.014603797), np.float32(-0.13682128), np.float32(-0.041561063), np.float32(0.19974893), np.float32(-0.12686789), np.float32(0.27689868), np.float32(0.105421014), np.float32(0.1881861), np.float32(-0.103022344), np.float32(-0.28747138), np.float32(-0.080982745), np.float32(-0.28799805), np.float32(-0.16989177), np.float32(0.2659226), np.float32(-0.048011497), np.float32(0.10741939), np.float32(0.07504243), np.float32(0.09002313), np.float32(-0.12280894), np.float32(-0.098473586), np.float32(-0.034409124), np.float32(-0.15100363), np.float32(-0.1102435), np.float32(0.17303918), np.float32(-0.11445764), np.float32(-0.012479252), np.float32(0.11238916), np.float32(0.040085502), np.float32(0.050772794), np.float32(0.012594849), np.float32(-0.009511821), np.float32(-0.010879126), np.float32(0.029448926), np.float32(0.09976449), np.float32(-0.03445582), np.float32(-0.046645395), np.float32(-0.00038052213), np.float32(0.006966188), np.float32(-0.039514236), np.float32(0.094778605), np.float32(1.15156636e-32), np.float32(0.017922718), np.float32(-0.018204924), np.float32(0.009585609), np.float32(-0.051539782), np.float32(0.0019021335), np.float32(0.024713568), np.float32(-0.022988057), np.float32(0.013197093), np.float32(0.0003451296), np.float32(2.1593583e-34), np.float32(-0.028557518), np.float32(0.04260924), np.float32(0.028174564), np.float32(0.007915175), np.float32(-0.042195424), np.float32(-0.02055052), np.float32(0.047882218), np.float32(0.049632963), np.float32(0.007797416), np.float32(-1.3679303e-21), np.float32(0.008152991), np.float32(-0.00037433338), np.float32(0.00095891114), np.float32(0.03506011), np.float32(0.048008293), np.float32(0.00014802492), np.float32(-0.034253586), np.float32(0.051544104), np.float32(-0.014555229), np.float32(-5.278101e-34), np.float32(-0.031318665), np.float32(-0.020146145), np.float32(0.015149229), np.float32(-7.3668636e-28), np.float32(-8.9067424e-32), np.float32(3.5039507e-31), np.float32(-1.5653962e-21), np.float32(3.1954332e-23), np.float32(2.853854e-29), np.float32(1.2890676e-25), np.float32(-1.8342048e-27), np.float32(-5.3463044e-34), np.float32(4.390999e-29), np.float32(1.2183135e-34), np.float32(3.0371289e-24), np.float32(9.805956e-33), np.float32(-1.8205533e-24), np.float32(9.108294e-24), np.float32(-1.9408821e-34), np.float32(6.84321e-24), np.float32(1.7423491e-29), np.float32(1.2652278e-32), np.float32(1.3447117e-21), np.float32(3.6276984e-34), np.float32(-2.0347357e-25), np.float32(-1.6016778e-25), np.float32(1.5022693e-22), np.float32(3.346174e-34), np.float32(-1.1263202e-35), np.float32(1.7763471e-24), np.float32(-1.5599457e-21), np.float32(2.74026e-32), np.float32(-5.8243097e-28), np.float32(4.8514507e-33), np.float32(-4.9950736e-34), np.float32(-1.533008e-35), np.float32(-3.2244541e-31), np.float32(-1.7724695e-27), np.float32(-1.5590289e-32), np.float32(1.1473105e-32), np.float32(-4.2909205e-29), np.float32(7.249384e-32), np.float32(1.2451781e-32), np.float32(-4.3257984e-05), np.float32(7.7316574e-05), np.float32(6.357901e-06), np.float32(7.527735e-05), np.float32(-7.414493e-05), np.float32(-5.9910282e-05), np.float32(-5.5411578e-24), np.float32(-3.0565967e-05), np.float32(-0.000115697825), np.float32(5.4542175e-05), np.float32(0.084378965), np.float32(-0.12918991), np.float32(-0.023260957), np.float32(-0.112247005), np.float32(0.10038525), np.float32(0.16724181), np.float32(6.384795e-31), np.float32(0.116199255), np.float32(-0.013184261), np.float32(-0.18053596), np.float32(0.050316002), np.float32(0.020459764), np.float32(-0.06562758), np.float32(-0.051659867), np.float32(0.041885342), np.float32(0.094822556), np.float32(1.060191e-24), np.float32(0.15785126), np.float32(0.13252646), np.float32(-0.17395043), np.float32(0.014280212), np.float32(-0.012835704), np.float32(0.11420774), np.float32(0.048000704), np.float32(0.026751537), np.float32(0.0909981), np.float32(6.174713e-31), np.float32(0.024517344), np.float32(-0.05991613), np.float32(0.06749259), np.float32(-0.06490373), np.float32(0.03132728), np.float32(0.11561702), np.float32(0.068754174), np.float32(-0.10673827), np.float32(-0.12417365), np.float32(-0.014497056), np.float32(-0.026641741), np.float32(-0.025142578), np.float32(0.15334207), np.float32(0.052767072), np.float32(0.021718381), np.float32(0.045073435), np.float32(0.07532103), np.float32(0.072483085), np.float32(0.12161203), np.float32(0.016190803), np.float32(0.0033237087), np.float32(0.013103506), np.float32(0.066195734), np.float32(-0.11174056), np.float32(0.03597993), np.float32(0.022098606), np.float32(0.12945917), np.float32(-0.005383094), np.float32(-0.04193587), np.float32(0.023487316), np.float32(-0.12159295), np.float32(-0.025028562), np.float32(0.20198227), np.float32(-0.08420966), np.float32(0.10820739), np.float32(0.07611954), np.float32(0.11564607), np.float32(-0.11748105), np.float32(-0.10039826), np.float32(-0.08745814), np.float32(-0.19386207), np.float32(-0.12876497), np.float32(0.2704566), np.float32(-0.019326858), np.float32(-0.0037470725), np.float32(0.04833316), np.float32(0.13109006), np.float32(0.088868625), np.float32(0.040258773), np.float32(-0.05529409), np.float32(-0.04106073), np.float32(0.029226596), np.float32(0.14051102), np.float32(0.13389345), np.float32(-0.072113186), np.float32(-0.052648656), np.float32(-0.098155335), np.float32(0.007361357), np.float32(0.14349073), np.float32(-0.06130153), np.float32(0.14008908), np.float32(0.102919236), np.float32(-0.015297676), np.float32(0.031760037), np.float32(-0.009102), np.float32(0.06621558), np.float32(-0.021664238), np.float32(0.16206144), np.float32(0.13601895), np.float32(0.025198665), np.float32(0.05471957), np.float32(0.041018486), np.float32(0.0071456674), np.float32(0.13707195), np.float32(0.07817147), np.float32(0.026933866), np.float32(0.05580523), np.float32(0.06709016), np.float32(0.13869025), np.float32(0.02552843), np.float32(0.09992172), np.float32(-0.0027487813), np.float32(-0.050504245), np.float32(0.00974152), np.float32(0.039949145), np.float32(0.09568158), np.float32(0.045186963), np.float32(0.10692678), np.float32(-0.035408635), np.float32(0.07697323), np.float32(0.106864125), np.float32(0.025543947), np.float32(0.14082842), np.float32(0.018354272), np.float32(0.024938973), np.float32(0.02570632), np.float32(0.07324873), np.float32(0.08393061), np.float32(-0.032661352), np.float32(-0.022052221), np.float32(0.006564326), np.float32(-0.025422014), np.float32(0.072881006), np.float32(-0.08148382), np.float32(0.09402429), np.float32(0.019495869), np.float32(0.14629975), np.float32(-0.09144988), np.float32(-0.06636611), np.float32(0.0076084416), np.float32(-0.0022421866), np.float32(0.04420281), np.float32(0.19222692), np.float32(-0.018847656), np.float32(0.08172364), np.float32(0.023547128), np.float32(0.055897627), np.float32(0.0763135), np.float32(0.075673856), np.float32(0.072139576), np.float32(0.029363375), np.float32(0.047567714), np.float32(0.046548977), np.float32(-0.090232596), np.float32(0.040495373), np.float32(-0.010103476), np.float32(0.04531627), np.float32(-0.064526215), np.float32(-0.08300953), np.float32(0.06715836), np.float32(-0.022810657), np.float32(0.047686193), np.float32(0.08403932), np.float32(0.012060692), np.float32(0.0420419), np.float32(0.05697293), np.float32(0.07285776), np.float32(-0.053578448), np.float32(0.008853654), np.float32(-0.019089634), np.float32(-0.11958666), np.float32(-0.008447357), np.float32(0.06549368), np.float32(-0.124537624), np.float32(0.10732357), np.float32(0.14512815), np.float32(0.18497448), np.float32(-0.087618284), np.float32(-0.13898295), np.float32(4.355875e-29), np.float32(-0.17319526), np.float32(-0.17947915), np.float32(0.16549982), np.float32(-0.18429461), np.float32(0.21368948), np.float32(0.043718833), np.float32(0.15134093), np.float32(-0.13485274), np.float32(-0.22901943), np.float32(-2.581458e-29), np.float32(-0.23537801), np.float32(-0.13369063), np.float32(0.1324714), np.float32(-0.0014574863), np.float32(0.041691314), np.float32(0.007417577), np.float32(0.06962738), np.float32(-0.0028127863), np.float32(-0.0023961267), np.float32(-4.4461492e-29), np.float32(-0.0021258327), np.float32(-0.003461975), np.float32(0.021803997), np.float32(0.00071472983), np.float32(-0.0018492864), np.float32(0.00389307), np.float32(-0.0011840141), np.float32(0.0012094695), np.float32(0.0010155081), np.float32(3.3952558e-30), np.float32(0.0005431866), np.float32(0.0036295077), np.float32(-0.0010519705), np.float32(-0.00393308), np.float32(0.05829517), np.float32(0.06680573), np.float32(0.026282322), np.float32(-0.0022085728), np.float32(-0.014906106), np.float32(-6.8166015e-24), np.float32(-0.018844541), np.float32(0.008927652), np.float32(0.01508537), np.float32(-0.00037993884), np.float32(0.0041051945), np.float32(-0.009444219), np.float32(-0.0034319677), np.float32(0.004404945), np.float32(-0.00084984634), np.float32(-1.0888997e-25), np.float32(-0.0003442251), np.float32(-0.010787876), np.float32(0.0006580847), np.float32(5.735575e-31), np.float32(-1.8308832e-31), np.float32(-1.4406063e-34), np.float32(3.8230886e-24), np.float32(-1.3031044e-25), np.float32(1.4318411e-22), np.float32(1.8177668e-22), np.float32(7.206317e-28), np.float32(1.8604042e-33), np.float32(5.3456107e-28), np.float32(-3.1009173e-26), np.float32(-1.7357427e-35), np.float32(3.6196953e-31), np.float32(5.3779755e-31), np.float32(4.1032582e-35), np.float32(3.6626384e-31), np.float32(-3.3358658e-31), np.float32(-2.1961192e-25), np.float32(-8.8166937e-32), np.float32(-1.364055e-21), np.float32(-1.561925e-21), np.float32(-8.787466e-27), np.float32(5.917761e-31), np.float32(-6.4140214e-31), np.float32(-7.567655e-22), np.float32(-2.1019033e-34), np.float32(1.1753719e-21), np.float32(3.628547e-25), np.float32(1.0017817e-23), np.float32(-2.4874686e-36), np.float32(1.5568424e-23), np.float32(5.271323e-27), np.float32(-4.8569016e-28), np.float32(4.4780246e-21), np.float32(4.3871114e-31), np.float32(-8.499488e-22), np.float32(3.881713e-28), np.float32(5.4305614e-22), np.float32(5.9312976e-24), np.float32(7.8018384e-22), np.float32(2.6317029e-24), np.float32(1.5711233e-21), np.float32(9.551236e-21), np.float32(1.7003779e-32), np.float32(4.9813653e-34), np.float32(1.6477918e-32), np.float32(5.1866144e-34), np.float32(4.2560398e-29), np.float32(1.2102834e-28), np.float32(4.7166276e-30), np.float32(-3.6392775e-29), np.float32(2.0782558e-25), np.float32(-4.644195e-30), np.float32(3.788962e-29), np.float32(5.6136746e-24), np.float32(3.950405e-27), np.float32(-4.5817654e-27), np.float32(-5.2958783e-28), np.float32(-1.372131e-34), np.float32(-2.2177225e-28), np.float32(0.036253333), np.float32(-0.008501058), np.float32(0.08658319), np.float32(-0.006142183), np.float32(-0.059039403), np.float32(-0.08605738), np.float32(1.2501426e-21), np.float32(-0.02864715), np.float32(-0.026935225), np.float32(0.024806496), np.float32(0.04839536), np.float32(0.05935181), np.float32(-0.04066663), np.float32(0.0014902265), np.float32(-0.07120503), np.float32(-0.0331535), np.float32(-1.968475e-29), np.float32(-0.04649911), np.float32(0.031014336), np.float32(0.07165225), np.float32(-0.085710555), np.float32(0.08416399), np.float32(0.07590408), np.float32(0.07007194), np.float32(-0.027564222), np.float32(0.019076772), np.float32(4.2464038e-29), np.float32(-0.10070007), np.float32(-0.056610744), np.float32(0.07649005), np.float32(-0.1029504), np.float32(0.14959109), np.float32(0.07828995), np.float32(0.0051894765), np.float32(0.021691313), np.float32(-0.07673844), np.float32(7.423726e-31), np.float32(-0.0773334), np.float32(-0.04321596), np.float32(0.055012282), np.float32(-0.08356007), np.float32(0.0144798905), np.float32(-0.043728575), np.float32(-0.031026013), np.float32(-0.08808232), np.float32(-0.07828783), np.float32(2.0148528e-33), np.float32(-0.059127804), np.float32(-0.08868434), np.float32(0.069613904), np.float32(-0.051642533), np.float32(0.09750351), np.float32(0.0746934), np.float32(0.022961956), np.float32(0.036975127), np.float32(0.11493391), np.float32(5.9731563e-35), np.float32(-0.03819925), np.float32(0.085155495), np.float32(0.062893994), np.float32(0.08503602), np.float32(-0.0211005), np.float32(0.03423802), np.float32(-0.053243164), np.float32(-0.037805244), np.float32(0.04093141), np.float32(5.941326e-27), np.float32(0.11511184), np.float32(0.07944966), np.float32(-0.10819117), np.float32(0.018879218), np.float32(0.10572645), np.float32(0.123853974), np.float32(-0.005415835), np.float32(-0.09247903), np.float32(-0.04877442), np.float32(-4.859213e-34), np.float32(-0.037691567), np.float32(-0.048002176), np.float32(0.073432006), np.float32(-0.154855), np.float32(0.10516455), np.float32(0.043295845), np.float32(0.1685822), np.float32(-0.1272294), np.float32(-0.25966498), np.float32(2.0570512e-25), np.float32(-0.22854298), np.float32(-0.15326878), np.float32(0.28160658), np.float32(-0.15306982), np.float32(0.11258378), np.float32(0.19297773), np.float32(0.18466607), np.float32(-0.1698916), np.float32(-0.22336937), np.float32(6.789884e-24), np.float32(-0.28191492), np.float32(-0.17021766), np.float32(0.34516263), np.float32(-0.15179937), np.float32(0.15308341), np.float32(0.16027036), np.float32(0.26974636), np.float32(-0.18437125), np.float32(-0.16281152), np.float32(2.6022378e-34), np.float32(-0.21993898), np.float32(-0.24554487), np.float32(0.23474792), np.float32(-0.0075025004), np.float32(0.105230466), np.float32(0.12246896), np.float32(0.089012355), np.float32(-0.113759376), np.float32(-0.12542224), np.float32(9.528708e-32), np.float32(-0.098891184), np.float32(0.016545152), np.float32(0.12703116), np.float32(0.09082881), np.float32(-0.15428473), np.float32(-0.16333878), np.float32(-0.14411432), np.float32(-0.030260848), np.float32(0.10214384), np.float32(-3.8034173e-35), np.float32(0.055790562), np.float32(0.10109391), np.float32(-0.15662885), np.float32(0.06430078), np.float32(-0.08513658), np.float32(-0.10971708), np.float32(-0.06991779), np.float32(-0.02909162), np.float32(0.057727523), np.float32(1.5454317e-32), np.float32(0.04885983), np.float32(0.012641046), np.float32(-0.063904755), np.float32(2.9077858e-23), np.float32(5.3089098e-21), np.float32(1.9024863e-34), np.float32(-5.490965e-27), np.float32(-1.4406389e-32), np.float32(3.4163987e-29), np.float32(2.279781e-22), np.float32(-5.325907e-28), np.float32(-2.5789022e-33), np.float32(-1.6349495e-25), np.float32(6.005952e-31), np.float32(-1.844164e-28), np.float32(-1.7663486e-34), np.float32(6.904353e-22), np.float32(-1.5692432e-21), np.float32(9.8092e-27), np.float32(1.6354482e-30), np.float32(-5.0271482e-27), np.float32(2.7363737e-30), np.float32(-7.7729285e-27), np.float32(-4.9207143e-32), np.float32(-1.1436698e-21), np.float32(-2.4032973e-34), np.float32(-1.3445146e-32), np.float32(-9.375752e-30), np.float32(1.1856555e-25), np.float32(-6.436882e-24), np.float32(5.02753e-34), np.float32(3.3096233e-23), np.float32(1.5507741e-29), np.float32(-9.889989e-32), np.float32(4.5872533e-32), np.float32(-1.959544e-33), np.float32(-2.691691e-33), np.float32(-1.2790691e-21), np.float32(-4.995625e-34), np.float32(-2.1038e-33), np.float32(7.331741e-24), np.float32(-4.5989485e-22), np.float32(2.71698e-32), np.float32(-7.648227e-32), np.float32(1.533812e-25), np.float32(-5.644162e-22), np.float32(2.7159233e-33), np.float32(6.2838814e-24), np.float32(5.740439e-31), np.float32(-7.807815e-33), np.float32(-1.952895e-33), np.float32(-9.1276495e-26), np.float32(-8.1492874e-32), np.float32(3.1781883e-31), np.float32(-6.87809e-27), np.float32(4.5906857e-24), np.float32(8.743083e-23), np.float32(9.0528023e-32), np.float32(-5.7743134e-22), np.float32(8.300986e-27), np.float32(8.801255e-27), np.float32(7.2547994e-26), np.float32(1.8001748e-34), np.float32(-4.788131e-30), np.float32(-3.0892443e-33), np.float32(7.7733016e-26), np.float32(-2.277686e-35), np.float32(2.2400523e-30), np.float32(-3.1195202e-29), np.float32(1.4903834e-27), np.float32(-4.199267e-25), np.float32(2.2837304e-22), np.float32(-2.8973627e-27), np.float32(-4.341135e-22), np.float32(2.7093913e-30), np.float32(4.4182094e-29), np.float32(-7.4645524e-25), np.float32(-1.1506559e-28), np.float32(7.3308276e-22), np.float32(5.9383475e-22), np.float32(-2.8204208e-34), np.float32(8.8453984e-36), np.float32(-2.1629084e-25), np.float32(-2.3602665e-33), np.float32(3.4898987e-25), np.float32(-4.7107014e-27), np.float32(-5.229667e-24), np.float32(8.0848806e-27), np.float32(-8.2221686e-27), np.float32(-4.5031837e-33), np.float32(2.4831966e-33), np.float32(-2.8363944e-29), np.float32(5.314161e-35), np.float32(1.76998e-34), np.float32(-1.3070622e-35), np.float32(2.0670768e-23), np.float32(-6.0112284e-31), np.float32(-8.19745e-27), np.float32(7.180824e-24), np.float32(-1.9153278e-34), np.float32(-2.6963304e-33), np.float32(-7.739168e-24), np.float32(-2.5736493e-35), np.float32(-1.7517133e-29), np.float32(1.1899024e-31), np.float32(-4.5280066e-22), np.float32(-4.448566e-34), np.float32(-5.2083133e-34), np.float32(-2.142141e-34), np.float32(-1.9603343e-28), np.float32(6.8970944e-32), np.float32(-3.9916444e-28), np.float32(-1.1199223e-21), np.float32(1.853766e-31), np.float32(2.761498e-29), np.float32(-4.5576888e-30), np.float32(-1.5693196e-21), np.float32(-5.3066085e-24), np.float32(-2.7291853e-30), np.float32(2.8285803e-32), np.float32(-1.7928794e-23), np.float32(4.1551614e-29), np.float32(-5.703392e-31), np.float32(-1.183609e-22), np.float32(-2.8377741e-33), np.float32(7.533123e-27), np.float32(-3.690692e-35), np.float32(9.4022594e-29), np.float32(2.2886445e-22), np.float32(9.630257e-30), np.float32(8.128951e-24), np.float32(-6.642672e-26), np.float32(3.798118e-32), np.float32(2.20623e-25), np.float32(-6.9016157e-29), np.float32(5.137839e-31), np.float32(5.4527982e-34), np.float32(-4.4606325e-27), np.float32(8.748887e-30), np.float32(-8.415665e-21), np.float32(-8.751433e-27), np.float32(1.7689778e-35), np.float32(-1.0388448e-21), np.float32(-3.7639222e-29), np.float32(-8.813982e-21), np.float32(-3.278813e-30), np.float32(-9.779269e-33), np.float32(-3.9838366e-26), np.float32(-4.122171e-29), np.float32(-5.0962267e-34), np.float32(5.2165924e-32), np.float32(-2.9195254e-32), np.float32(8.8941276e-32), np.float32(1.3175194e-28), np.float32(-1.468728e-21), np.float32(-3.704962e-34), np.float32(-3.3388196e-31), np.float32(-7.0514034e-33), np.float32(6.669418e-27), np.float32(2.0671561e-22), np.float32(2.5967174e-25), np.float32(5.5867625e-33), np.float32(-4.18287e-24), np.float32(-1.4806731e-21), np.float32(-5.20469e-24), np.float32(1.04330815e-23), np.float32(7.1106e-25), np.float32(5.539889e-32), np.float32(-4.1817212e-32), np.float32(-1.0700695e-25), np.float32(4.3846872e-30), np.float32(-2.9593525e-22), np.float32(-6.817647e-26), np.float32(-1.9473311e-25), np.float32(-2.9817053e-33), np.float32(-2.7897628e-22), np.float32(-3.0631895e-30), np.float32(-2.8003478e-30), np.float32(1.3793484e-28), np.float32(-4.64361e-35), np.float32(-1.0371371e-31), np.float32(4.609345e-27), np.float32(-2.7780853e-29), np.float32(-2.5801904e-33), np.float32(1.223296e-32), np.float32(-9.918891e-32), np.float32(-6.552557e-35), np.float32(-1.585053e-30), np.float32(1.532575e-34), np.float32(1.3836408e-32), np.float32(4.8343925e-21), np.float32(6.5142134e-24), np.float32(-4.5542063e-30), np.float32(4.763634e-30), np.float32(3.3878507e-30), np.float32(-6.784482e-32), np.float32(-9.624964e-33), np.float32(8.059614e-33), np.float32(4.1227956e-35), np.float32(-5.0832384e-34), np.float32(8.783807e-27), np.float32(1.8627616e-27), np.float32(4.314829e-31), np.float32(-3.118039e-25), np.float32(2.5416546e-33), np.float32(2.839334e-22), np.float32(-1.3920476e-32), np.float32(2.261647e-22), np.float32(-9.140876e-28), np.float32(-1.566242e-22), np.float32(1.4878247e-21), np.float32(1.168717e-25), np.float32(-2.361983e-22), np.float32(1.4990684e-21), np.float32(-2.1438514e-24), np.float32(8.3804546e-27), np.float32(8.724239e-24), np.float32(-3.3169594e-22), np.float32(3.0149542e-35), np.float32(-7.8607724e-27), np.float32(-4.726998e-30), np.float32(2.369277e-34), np.float32(7.421741e-33), np.float32(1.7072367e-28), np.float32(1.2543005e-21), np.float32(-2.766515e-29), np.float32(2.5283213e-35), np.float32(6.408684e-32), np.float32(1.137161e-21), np.float32(2.4112262e-27), np.float32(5.5417444e-25), np.float32(3.795916e-31), np.float32(-1.2616358e-31), np.float32(-0.16833279), np.float32(0.19566758), np.float32(0.123095274), np.float32(0.14509425), np.float32(-0.095309526), np.float32(-0.19443525), np.float32(-3.213558e-24), np.float32(-0.10080182), np.float32(-0.07540775), np.float32(0.23931594), np.float32(-0.10498872), np.float32(0.07639415), np.float32(0.17488082), np.float32(0.12822132), np.float32(-0.18226309), np.float32(-0.14023206), np.float32(-5.1533865e-28), np.float32(-0.23240848), np.float32(-0.14084671), np.float32(0.15092331), np.float32(-0.1101177), np.float32(0.1745025), np.float32(0.051015873), np.float32(0.110625714), np.float32(-0.13760717), np.float32(-0.20210274), np.float32(9.5514133e-35), np.float32(-0.099260874), np.float32(-0.13945845), np.float32(0.18726748), np.float32(-8.0820895e-26), np.float32(-3.916652e-30), np.float32(8.792081e-27), np.float32(-3.910121e-32), np.float32(5.435083e-32), np.float32(2.5413988e-29), np.float32(-1.6815066e-25), np.float32(1.516993e-21), np.float32(-3.1736582e-25), np.float32(2.080995e-28), np.float32(8.922188e-24), np.float32(5.3159376e-34), np.float32(3.3457848e-29), np.float32(2.511458e-28), np.float32(5.0667134e-28), np.float32(-8.818563e-26), np.float32(6.1373312e-31), np.float32(1.6663615e-32), np.float32(-1.0731097e-28), np.float32(-2.7518216e-30), np.float32(-1.8447308e-32), np.float32(4.4977024e-30), np.float32(2.8446035e-27), np.float32(6.296939e-26), np.float32(8.109967e-24), np.float32(4.29458e-34), np.float32(5.483815e-31), np.float32(3.0864381e-34), np.float32(-6.4008975e-23), np.float32(-3.6009744e-29), np.float32(-1.2461143e-29), np.float32(4.827127e-31), np.float32(-3.7985095e-25), np.float32(-3.6425046e-31), np.float32(1.2438244e-25), np.float32(-1.0496615e-23), np.float32(1.6216345e-33), np.float32(-4.819985e-30), np.float32(5.131983e-34), np.float32(-9.339289e-24), np.float32(-4.7498e-28), np.float32(-4.753044e-30), np.float32(-4.896781e-31), np.float32(-2.2847968e-27), np.float32(-1.4805508e-21), np.float32(-5.1625062e-34), np.float32(8.520354e-27), np.float32(-2.9761125e-29), np.float32(-5.0271758e-29), np.float32(-5.3607663e-28), np.float32(3.0245372e-35), np.float32(1.2537864e-34), np.float32(-2.4283465e-33), np.float32(-3.135062e-25), np.float32(1.1904965e-32), np.float32(1.5687949e-22), np.float32(5.116644e-31), np.float32(-8.116233e-24), np.float32(-6.8371824e-22), np.float32(3.703454e-30), np.float32(-2.6487476e-28), np.float32(7.372389e-23), np.float32(4.9930913e-34), np.float32(1.5331023e-21), np.float32(2.4313398e-23), np.float32(1.0880133e-34), np.float32(-6.401424e-31), np.float32(-2.5507752e-33), np.float32(-4.363769e-22), np.float32(6.896835e-27), np.float32(-2.2765018e-34), np.float32(-9.466876e-26), np.float32(3.8137654e-34), np.float32(4.8100767e-27), np.float32(9.295844e-21), np.float32(-3.512671e-24), np.float32(-6.419748e-33), np.float32(3.522341e-32), np.float32(-1.4874903e-21), np.float32(-4.5750357e-30), np.float32(-4.725481e-28), np.float32(4.365284e-22), np.float32(-1.6145058e-35), np.float32(5.2357823e-27), np.float32(3.5934244e-31), np.float32(1.1212243e-25), np.float32(-1.4259237e-32), np.float32(6.9471495e-29), np.float32(-3.589357e-23), np.float32(-8.464025e-27), np.float32(-8.260807e-27), np.float32(-3.5967047e-28), np.float32(5.3323454e-34), np.float32(-1.6779741e-32), np.float32(-1.2306033e-28), np.float32(2.2215383e-25), np.float32(2.1731908e-25), np.float32(-3.9408195e-25), np.float32(1.0026108e-32), np.float32(3.958574e-31), np.float32(5.5549767e-26), np.float32(4.3549867e-27), np.float32(-1.936015e-22), np.float32(-8.7146056e-24), np.float32(4.5688946e-35), np.float32(-4.3677178e-29), np.float32(6.4292946e-27), np.float32(1.9718932e-28), np.float32(4.4072235e-29), np.float32(9.919437e-22), np.float32(3.4226893e-30), np.float32(2.0221608e-30), np.float32(3.4046644e-33), np.float32(-1.9609487e-22), np.float32(8.578538e-32), np.float32(8.7647924e-27), np.float32(-3.3747958e-32), np.float32(1.556379e-29), np.float32(2.8388313e-31), np.float32(1.5911377e-28), np.float32(-6.3828928e-27), np.float32(-3.57127e-24), np.float32(4.763379e-30), np.float32(-6.013865e-32), np.float32(-1.011726e-23), np.float32(5.2944715e-28), np.float32(9.211241e-22), np.float32(-3.9595196e-35), np.float32(-1.3844626e-32), np.float32(2.8893948e-29), np.float32(-3.2318586e-33), np.float32(4.208791e-31), np.float32(6.0163706e-27), np.float32(-3.7329255e-21), np.float32(1.4863804e-21), np.float32(1.755493e-30), np.float32(4.164293e-27), np.float32(-1.0602006e-23), np.float32(3.797876e-27), np.float32(1.0813176e-22), np.float32(-4.938468e-27), np.float32(2.7344708e-22), np.float32(9.3015205e-32), np.float32(5.360714e-28), np.float32(-5.129023e-28), np.float32(-4.3211795e-29), np.float32(7.18023e-21), np.float32(1.5359729e-21), np.float32(1.6542942e-32), np.float32(-1.2681729e-21), np.float32(-1.0682295e-22), np.float32(-6.403119e-31), np.float32(-1.3782905e-21), np.float32(-5.5084394e-28), np.float32(6.1934075e-31), np.float32(3.6647013e-30), np.float32(6.1770217e-21), np.float32(3.537712e-29), np.float32(4.2569254e-31), np.float32(7.048482e-22), np.float32(-5.3320826e-35), np.float32(-1.8767978e-35), np.float32(-4.4306978e-29), np.float32(2.1146462e-22), np.float32(-8.6977446e-27), np.float32(4.2660063e-30), np.float32(-6.0065652e-24), np.float32(-3.738104e-34), np.float32(3.771178e-31), np.float32(-5.336571e-35), np.float32(4.9404838e-23), np.float32(5.1721623e-33), np.float32(3.618447e-22), np.float32(3.9441353e-24), np.float32(2.7635351e-30), np.float32(-4.5121213e-34), np.float32(-1.4215978e-32), np.float32(-2.0906703e-24), np.float32(-1.1422662e-32), np.float32(-2.1387848e-25), np.float32(-8.831198e-33), np.float32(-5.31672e-35), np.float32(-4.57451e-30), np.float32(1.8775668e-29), np.float32(6.4620276e-34), np.float32(4.384346e-25), np.float32(4.419408e-34), np.float32(-3.439544e-24), np.float32(-2.682357e-22), np.float32(-2.5362161e-30), np.float32(-7.737233e-26), np.float32(-5.2719313e-28), np.float32(3.2012038e-32), np.float32(1.294413e-32), np.float32(3.0944073e-33), np.float32(9.0910735e-32), np.float32(-1.48124e-21), np.float32(7.1808136e-33), np.float32(5.812436e-27), np.float32(-5.870554e-27), np.float32(-3.6733017e-32), np.float32(2.5284762e-34), np.float32(-6.182741e-33), np.float32(4.0383967e-23), np.float32(-5.4584884e-31), np.float32(-9.9067645e-31), np.float32(1.375461e-35), np.float32(-2.2072e-22), np.float32(-2.1710683e-26), np.float32(8.7926475e-27), np.float32(-4.862125e-30), np.float32(4.624963e-29), np.float32(5.702593e-28), np.float32(5.070114e-34), np.float32(1.8475559e-30), np.float32(-4.6573987e-26), np.float32(-8.553954e-24), np.float32(1.5001064e-21), np.float32(5.249936e-28), np.float32(-2.2308524e-29), np.float32(5.456957e-26), np.float32(1.4193425e-34), np.float32(6.3976746e-31), np.float32(-1.5791869e-27), np.float32(-2.0055213e-29), np.float32(4.3453563e-33), np.float32(4.153306e-28), np.float32(1.5730229e-31), np.float32(-3.517983e-22), np.float32(-3.8405766e-31), np.float32(-9.860348e-25), np.float32(6.4358693e-26), np.float32(3.3223132e-34), np.float32(-3.0087058e-28), np.float32(4.4886415e-30), np.float32(3.2204386e-27), np.float32(-1.4120366e-33), np.float32(-4.8167305e-30), np.float32(-2.1793636e-32), np.float32(4.2778882e-29), np.float32(-4.0715107e-27), np.float32(2.0727061e-26), np.float32(-2.9919328e-29), np.float32(9.952744e-21), np.float32(9.1243616e-36), np.float32(8.608852e-32), np.float32(-1.353702e-32), np.float32(-1.5176245e-26), np.float32(3.6548196e-30), np.float32(3.4901033e-33), np.float32(-2.105082e-25), np.float32(-6.651114e-32), np.float32(-2.515261e-34), np.float32(-4.2297644e-28), np.float32(-8.983644e-32), np.float32(-4.1248694e-22), np.float32(1.1224943e-29), np.float32(-4.6976994e-28), np.float32(-1.8987262e-25), np.float32(-1.6073578e-34), np.float32(3.6222646e-30), np.float32(-6.805494e-32), np.float32(-3.3457358e-21), np.float32(-2.1079303e-25), np.float32(9.6073976e-32), np.float32(-2.4600024e-33), np.float32(4.8110377e-22), np.float32(-2.9913546e-34), np.float32(8.708859e-24), np.float32(6.3145893e-32), np.float32(-3.00464e-35), np.float32(-7.5321974e-26), np.float32(-8.8445347e-26), np.float32(2.4240043e-33), np.float32(-1.5152576e-32), np.float32(-7.5786716e-31), np.float32(1.6217811e-24), np.float32(-1.1602978e-29), np.float32(-1.3168081e-28), np.float32(-1.9877786e-21), np.float32(-5.7183186e-24), np.float32(-2.4895988e-27), np.float32(-3.8000124e-28), np.float32(1.5931196e-21), np.float32(-1.8871066e-26), np.float32(-4.7756277e-35), np.float32(2.646072e-29), np.float32(-5.3964685e-24), np.float32(2.3030102e-29), np.float32(4.0183353e-31), np.float32(4.9927453e-31), np.float32(-1.6739267e-32), np.float32(-1.1462229e-21), np.float32(-5.0249655e-28), np.float32(-7.790383e-24), np.float32(1.9936877e-30), np.float32(-3.7423353e-29), np.float32(3.2795689e-34), np.float32(-7.6406075e-32), np.float32(4.0640184e-30), np.float32(-1.0189497e-35), np.float32(1.452888e-21), np.float32(-3.945802e-29), np.float32(2.147742e-25), np.float32(-1.3461753e-21), np.float32(-4.3440132e-29), np.float32(4.2863704e-34), np.float32(8.7840075e-26), np.float32(-7.826543e-27), np.float32(-3.1997826e-31), np.float32(-2.7272275e-33), np.float32(2.0123648e-33), np.float32(8.4351864e-27), np.float32(-2.9149819e-33), np.float32(-3.7852612e-29), np.float32(6.515459e-26), np.float32(4.629072e-30), np.float32(-1.6454514e-34), np.float32(4.782988e-22), np.float32(4.2477447e-29), np.float32(4.3467407e-31), np.float32(-4.8392106e-27), np.float32(9.094749e-26), np.float32(-6.4640544e-25), np.float32(-4.7312034e-28), np.float32(5.2763134e-25), np.float32(9.852637e-24), np.float32(3.8326972e-29), np.float32(1.6770287e-23), np.float32(1.6208884e-32), np.float32(7.642186e-24), np.float32(8.19748e-32), np.float32(1.4870806e-28), np.float32(-6.1448746e-24), np.float32(5.9414474e-22), np.float32(-3.2153732e-24), np.float32(2.6778368e-29), np.float32(-4.4244673e-32), np.float32(4.916316e-32), np.float32(5.573543e-31), np.float32(3.5981822e-30), np.float32(-3.9724303e-32), np.float32(-7.501536e-33), np.float32(-8.696468e-22), np.float32(-4.7724356e-31), np.float32(8.598406e-27), np.float32(-8.755224e-27), np.float32(4.0959642e-22), np.float32(-5.121977e-34), np.float32(-2.5431403e-26), np.float32(-9.395183e-22), np.float32(2.3901973e-22), np.float32(-7.746495e-22), np.float32(-1.3584439e-32), np.float32(1.6306364e-32), np.float32(2.7329057e-33), np.float32(2.2222293e-25), np.float32(-2.9927263e-31), np.float32(6.630725e-27), np.float32(-1.8249919e-25), np.float32(3.3199724e-24), np.float32(-1.03221895e-25), np.float32(2.868833e-33), np.float32(-1.7161473e-31), np.float32(7.8363e-34), np.float32(-1.0896108e-21), np.float32(8.181159e-33), np.float32(8.611904e-27), np.float32(4.3055776e-22), np.float32(-2.9056242e-30), np.float32(8.108309e-33), np.float32(4.1766758e-29), np.float32(1.320056e-21), np.float32(-4.4348196e-27), np.float32(9.359509e-22), np.float32(1.2706814e-25), np.float32(1.4082988e-23), np.float32(1.8779949e-28), np.float32(-1.7663045e-24), np.float32(3.878922e-21), np.float32(1.0365331e-23), np.float32(-3.373974e-35), np.float32(1.4987644e-21), np.float32(1.03216706e-25), np.float32(-1.3858167e-30), np.float32(4.4862955e-29), np.float32(-1.8130938e-29), np.float32(-7.029964e-24), np.float32(6.209976e-22), np.float32(-2.1978815e-34), np.float32(-0.01626503), np.float32(0.18060929), np.float32(0.14582072), np.float32(0.07814207), np.float32(-0.027502395), np.float32(0.012640284), np.float32(-0.037345387), np.float32(-0.16947205), np.float32(-0.120268255), np.float32(0.29245448), np.float32(-0.31081563), np.float32(0.5675153), np.float32(0.80212206), np.float32(0.5013288), np.float32(-0.55680484), np.float32(-0.44987047), np.float32(0.28068528), np.float32(-0.22912432), np.float32(-0.6538062), np.float32(0.41048056), np.float32(0.20747514)], Error: 0.0024\n",
      "Generation 2: Best Params: [ 1.00000000e+01  1.00000000e-03  1.00000000e-04 ... -6.53806210e-01\n",
      "  4.10480559e-01  2.07475141e-01], Error: 0.0024\n",
      "Generation 3: Best Params: [ 1.00000000e+01  1.00000000e-03  1.00000000e-04 ... -6.53806210e-01\n",
      " -4.87779514e-02  2.07475141e-01], Error: 0.0024\n",
      "Generation 4: Best Params: [ 1.00000000e+01  1.00000000e-03  1.00000000e-04 ... -6.53806210e-01\n",
      "  4.10480559e-01  2.07475141e-01], Error: 0.0024\n",
      "Generation 5: Best Params: [ 1.00000000e+01  1.00000000e-03  1.00000000e-04 ... -6.53806210e-01\n",
      "  3.86353173e-01  2.07475141e-01], Error: 0.0024\n",
      "Generation 6: Best Params: [ 1.00000000e+01  1.00000000e-03  1.00000000e-04 ... -6.53806210e-01\n",
      "  1.11935931e-01  2.07475141e-01], Error: 0.0024\n",
      "Generation 7: Best Params: [ 1.00000000e+01  1.00000000e-03  1.00000000e-04 ... -6.53806210e-01\n",
      " -6.79508349e-02  2.07475141e-01], Error: 0.0024\n",
      "Generation 8: Best Params: [ 1.00000000e+01  1.00000000e-03  1.00000000e-04 ... -6.53806210e-01\n",
      " -9.08080129e-02  2.07475141e-01], Error: 0.0024\n",
      "Generation 9: Best Params: [ 1.00000000e+01  1.00000000e-03  1.00000000e-04 ... -5.93967176e-01\n",
      "  9.65476766e-02  2.07475141e-01], Error: 0.0024\n",
      "Generation 10: Best Params: [ 1.00000000e+01  1.00000000e-03  1.00000000e-04 ... -6.53806210e-01\n",
      " -1.50551926e-01  2.07475141e-01], Error: 0.0024\n",
      "Generation 11: Best Params: [ 1.00000000e+01  1.00000000e-03  1.00000000e-04 ... -6.53806210e-01\n",
      " -1.97042967e-01  2.07475141e-01], Error: 0.0024\n",
      "Generation 12: Best Params: [ 1.00000000e+01  1.00000000e-03  1.00000000e-04 ... -6.53806210e-01\n",
      " -1.78099226e-02  2.07475141e-01], Error: 0.0024\n",
      "Generation 13: Best Params: [ 1.00000000e+01  1.00000000e-03  1.00000000e-04 ...  1.71084982e-01\n",
      " -1.10197737e-01  2.07475141e-01], Error: 0.0024\n",
      "Generation 14: Best Params: [ 1.00000000e+01  1.00000000e-03  1.00000000e-04 ...  6.54478565e-01\n",
      " -8.51634817e-02  2.07475141e-01], Error: 0.0024\n",
      "Generation 15: Best Params: [ 1.00000000e+01  1.00000000e-03  1.00000000e-04 ... -1.44767813e-01\n",
      " -1.44209206e-01  2.07475141e-01], Error: 0.0024\n",
      "Generation 16: Best Params: [ 1.00000000e+01  1.00000000e-03  1.00000000e-04 ...  1.30926440e-01\n",
      " -9.83272823e-02  2.07475141e-01], Error: 0.0024\n",
      "Generation 17: Best Params: [ 1.00000000e+01  1.00000000e-03  1.00000000e-04 ...  1.45419496e-01\n",
      " -9.78679950e-02  2.07475141e-01], Error: 0.0024\n",
      "Generation 18: Best Params: [ 1.00000000e+01  5.15644457e-02  1.00000000e-04 ...  8.33219041e-02\n",
      " -9.82534465e-02  2.07475141e-01], Error: 0.0024\n",
      "Generation 19: Best Params: [ 1.00000000e+01  1.00000000e-03  1.00000000e-04 ...  9.35162652e-02\n",
      " -9.83418969e-02  2.07475141e-01], Error: 0.0024\n",
      "Generation 20: Best Params: [ 1.00000000e+01  1.00000000e-03  1.00000000e-04 ...  4.97138532e-02\n",
      " -9.87611805e-02  2.07475141e-01], Error: 0.0024\n",
      "Generation 21: Best Params: [ 1.00000000e+01  3.77460485e-02  1.00000000e-04 ...  8.12823948e-02\n",
      " -9.83433269e-02  3.09295403e-01], Error: 0.0024\n",
      "Generation 22: Best Params: [ 1.00000000e+01  5.58386579e-02  1.00000000e-04 ...  6.24411275e-02\n",
      " -9.85853084e-02  2.41511092e-01], Error: 0.0024\n",
      "Generation 23: Best Params: [ 1.00000000e+01  1.40878316e-02  1.00000000e-04 ...  8.19955618e-02\n",
      " -9.83207490e-02  3.07699205e-01], Error: 0.0024\n",
      "Generation 24: Best Params: [ 1.00000000e+01  3.65265592e-02  1.00000000e-04 ...  7.85154270e-02\n",
      " -9.83640278e-02  2.12975452e-01], Error: 0.0024\n",
      "Generation 25: Best Params: [ 1.00000000e+01  3.76799795e-02  1.00000000e-04 ...  7.70150672e-02\n",
      " -9.83850964e-02  2.15130585e-01], Error: 0.0024\n",
      "Generation 26: Best Params: [10.          0.03263355  0.03713442 ...  0.08102844 -0.09832999\n",
      "  0.20782997], Error: 0.0024\n",
      "Generation 27: Best Params: [ 1.00000000e+01  4.08795360e-02  1.00000000e-04 ...  7.44233971e-02\n",
      " -1.14360933e-01  2.19798638e-01], Error: 0.0024\n",
      "Generation 28: Best Params: [10.          0.03106542  0.01078272 ...  0.07916014 -0.21138351\n",
      "  0.23407712], Error: 0.0024\n",
      "Generation 29: Best Params: [10.          0.03001094  0.02124988 ...  0.08092622 -0.1105537\n",
      "  0.22413457], Error: 0.0024\n",
      "Generation 30: Best Params: [ 1.00000000e+01  3.31735105e-02  8.93644900e-03 ...  7.80115413e-02\n",
      " -2.44536580e-01  2.32207297e-01], Error: 0.0024\n"
     ]
    }
   ],
   "source": [
    "pop_size = 10\n",
    "generations = 30\n",
    "mutation_rate = 0.01\n",
    "\n",
    "best_solution, fitness_history, best_chromosome_per_generation= genetic_algorithm(X_train, y_train, X_val, y_val, pop_size, generations, mutation_rate)\n",
    "print(\"Best solution:\", best_solution)\n",
    "\n",
    "for generation, (params, error) in enumerate(best_chromosome_per_generation):\n",
    "    print(f\"Generation {generation + 1}: Best Params: {params}, Error: {error:.4f}\")"
   ]
  },
  {
   "cell_type": "code",
   "execution_count": 51,
   "metadata": {},
   "outputs": [
    {
     "name": "stdout",
     "output_type": "stream",
     "text": [
      "Test accuracy: 0.9992104224240032\n"
     ]
    }
   ],
   "source": [
    "# Evaluate the final model on the test dataset\n",
    "hidden_layer_size = int(best_solution[0])\n",
    "learning_rate_init = best_solution[1]\n",
    "alpha = best_solution[2]\n",
    "weights_biases = best_solution[3:]\n",
    "\n",
    "final_model = MLPClassifier(hidden_layer_sizes=(hidden_layer_size,), learning_rate='constant', learning_rate_init=learning_rate_init, alpha=alpha, max_iter=200, warm_start=True)\n",
    "final_model.fit(X_train, y_train)\n",
    "# set_weights(final_model, weights_biases)\n",
    "# final_model.fit(X_train, y_train)\n",
    "y_test_pred = final_model.predict(X_test)\n",
    "test_accuracy = accuracy_score(y_test, y_test_pred)\n",
    "\n",
    "print(\"Test accuracy:\", test_accuracy)"
   ]
  },
  {
   "cell_type": "code",
   "execution_count": 52,
   "metadata": {},
   "outputs": [
    {
     "data": {
      "application/vnd.plotly.v1+json": {
       "config": {
        "plotlyServerURL": "https://plot.ly"
       },
       "data": [
        {
         "line": {
          "color": "blue"
         },
         "mode": "lines",
         "name": "Fitness",
         "type": "scatter",
         "x": [
          0,
          1,
          2,
          3,
          4,
          5,
          6,
          7,
          8,
          9,
          10,
          11,
          12,
          13,
          14,
          15,
          16,
          17,
          18,
          19,
          20,
          21,
          22,
          23,
          24,
          25,
          26,
          27,
          28,
          29
         ],
         "y": [
          0.9976312672720095,
          0.9976312672720095,
          0.9976312672720095,
          0.9976312672720095,
          0.9976312672720095,
          0.9976312672720095,
          0.9976312672720095,
          0.9976312672720095,
          0.9976312672720095,
          0.9976312672720095,
          0.9976312672720095,
          0.9976312672720095,
          0.9976312672720095,
          0.9976312672720095,
          0.9976312672720095,
          0.9976312672720095,
          0.9976312672720095,
          0.9976312672720095,
          0.9976312672720095,
          0.9976312672720095,
          0.9976312672720095,
          0.9976312672720095,
          0.9976312672720095,
          0.9976312672720095,
          0.9976312672720095,
          0.9976312672720095,
          0.9976312672720095,
          0.9976312672720095,
          0.9976312672720095,
          0.9976312672720095
         ]
        }
       ],
       "layout": {
        "font": {
         "color": "white"
        },
        "paper_bgcolor": "rgba(0,0,0,0)",
        "plot_bgcolor": "rgba(0,0,0,0)",
        "template": {
         "data": {
          "bar": [
           {
            "error_x": {
             "color": "#2a3f5f"
            },
            "error_y": {
             "color": "#2a3f5f"
            },
            "marker": {
             "line": {
              "color": "#E5ECF6",
              "width": 0.5
             },
             "pattern": {
              "fillmode": "overlay",
              "size": 10,
              "solidity": 0.2
             }
            },
            "type": "bar"
           }
          ],
          "barpolar": [
           {
            "marker": {
             "line": {
              "color": "#E5ECF6",
              "width": 0.5
             },
             "pattern": {
              "fillmode": "overlay",
              "size": 10,
              "solidity": 0.2
             }
            },
            "type": "barpolar"
           }
          ],
          "carpet": [
           {
            "aaxis": {
             "endlinecolor": "#2a3f5f",
             "gridcolor": "white",
             "linecolor": "white",
             "minorgridcolor": "white",
             "startlinecolor": "#2a3f5f"
            },
            "baxis": {
             "endlinecolor": "#2a3f5f",
             "gridcolor": "white",
             "linecolor": "white",
             "minorgridcolor": "white",
             "startlinecolor": "#2a3f5f"
            },
            "type": "carpet"
           }
          ],
          "choropleth": [
           {
            "colorbar": {
             "outlinewidth": 0,
             "ticks": ""
            },
            "type": "choropleth"
           }
          ],
          "contour": [
           {
            "colorbar": {
             "outlinewidth": 0,
             "ticks": ""
            },
            "colorscale": [
             [
              0,
              "#0d0887"
             ],
             [
              0.1111111111111111,
              "#46039f"
             ],
             [
              0.2222222222222222,
              "#7201a8"
             ],
             [
              0.3333333333333333,
              "#9c179e"
             ],
             [
              0.4444444444444444,
              "#bd3786"
             ],
             [
              0.5555555555555556,
              "#d8576b"
             ],
             [
              0.6666666666666666,
              "#ed7953"
             ],
             [
              0.7777777777777778,
              "#fb9f3a"
             ],
             [
              0.8888888888888888,
              "#fdca26"
             ],
             [
              1,
              "#f0f921"
             ]
            ],
            "type": "contour"
           }
          ],
          "contourcarpet": [
           {
            "colorbar": {
             "outlinewidth": 0,
             "ticks": ""
            },
            "type": "contourcarpet"
           }
          ],
          "heatmap": [
           {
            "colorbar": {
             "outlinewidth": 0,
             "ticks": ""
            },
            "colorscale": [
             [
              0,
              "#0d0887"
             ],
             [
              0.1111111111111111,
              "#46039f"
             ],
             [
              0.2222222222222222,
              "#7201a8"
             ],
             [
              0.3333333333333333,
              "#9c179e"
             ],
             [
              0.4444444444444444,
              "#bd3786"
             ],
             [
              0.5555555555555556,
              "#d8576b"
             ],
             [
              0.6666666666666666,
              "#ed7953"
             ],
             [
              0.7777777777777778,
              "#fb9f3a"
             ],
             [
              0.8888888888888888,
              "#fdca26"
             ],
             [
              1,
              "#f0f921"
             ]
            ],
            "type": "heatmap"
           }
          ],
          "heatmapgl": [
           {
            "colorbar": {
             "outlinewidth": 0,
             "ticks": ""
            },
            "colorscale": [
             [
              0,
              "#0d0887"
             ],
             [
              0.1111111111111111,
              "#46039f"
             ],
             [
              0.2222222222222222,
              "#7201a8"
             ],
             [
              0.3333333333333333,
              "#9c179e"
             ],
             [
              0.4444444444444444,
              "#bd3786"
             ],
             [
              0.5555555555555556,
              "#d8576b"
             ],
             [
              0.6666666666666666,
              "#ed7953"
             ],
             [
              0.7777777777777778,
              "#fb9f3a"
             ],
             [
              0.8888888888888888,
              "#fdca26"
             ],
             [
              1,
              "#f0f921"
             ]
            ],
            "type": "heatmapgl"
           }
          ],
          "histogram": [
           {
            "marker": {
             "pattern": {
              "fillmode": "overlay",
              "size": 10,
              "solidity": 0.2
             }
            },
            "type": "histogram"
           }
          ],
          "histogram2d": [
           {
            "colorbar": {
             "outlinewidth": 0,
             "ticks": ""
            },
            "colorscale": [
             [
              0,
              "#0d0887"
             ],
             [
              0.1111111111111111,
              "#46039f"
             ],
             [
              0.2222222222222222,
              "#7201a8"
             ],
             [
              0.3333333333333333,
              "#9c179e"
             ],
             [
              0.4444444444444444,
              "#bd3786"
             ],
             [
              0.5555555555555556,
              "#d8576b"
             ],
             [
              0.6666666666666666,
              "#ed7953"
             ],
             [
              0.7777777777777778,
              "#fb9f3a"
             ],
             [
              0.8888888888888888,
              "#fdca26"
             ],
             [
              1,
              "#f0f921"
             ]
            ],
            "type": "histogram2d"
           }
          ],
          "histogram2dcontour": [
           {
            "colorbar": {
             "outlinewidth": 0,
             "ticks": ""
            },
            "colorscale": [
             [
              0,
              "#0d0887"
             ],
             [
              0.1111111111111111,
              "#46039f"
             ],
             [
              0.2222222222222222,
              "#7201a8"
             ],
             [
              0.3333333333333333,
              "#9c179e"
             ],
             [
              0.4444444444444444,
              "#bd3786"
             ],
             [
              0.5555555555555556,
              "#d8576b"
             ],
             [
              0.6666666666666666,
              "#ed7953"
             ],
             [
              0.7777777777777778,
              "#fb9f3a"
             ],
             [
              0.8888888888888888,
              "#fdca26"
             ],
             [
              1,
              "#f0f921"
             ]
            ],
            "type": "histogram2dcontour"
           }
          ],
          "mesh3d": [
           {
            "colorbar": {
             "outlinewidth": 0,
             "ticks": ""
            },
            "type": "mesh3d"
           }
          ],
          "parcoords": [
           {
            "line": {
             "colorbar": {
              "outlinewidth": 0,
              "ticks": ""
             }
            },
            "type": "parcoords"
           }
          ],
          "pie": [
           {
            "automargin": true,
            "type": "pie"
           }
          ],
          "scatter": [
           {
            "fillpattern": {
             "fillmode": "overlay",
             "size": 10,
             "solidity": 0.2
            },
            "type": "scatter"
           }
          ],
          "scatter3d": [
           {
            "line": {
             "colorbar": {
              "outlinewidth": 0,
              "ticks": ""
             }
            },
            "marker": {
             "colorbar": {
              "outlinewidth": 0,
              "ticks": ""
             }
            },
            "type": "scatter3d"
           }
          ],
          "scattercarpet": [
           {
            "marker": {
             "colorbar": {
              "outlinewidth": 0,
              "ticks": ""
             }
            },
            "type": "scattercarpet"
           }
          ],
          "scattergeo": [
           {
            "marker": {
             "colorbar": {
              "outlinewidth": 0,
              "ticks": ""
             }
            },
            "type": "scattergeo"
           }
          ],
          "scattergl": [
           {
            "marker": {
             "colorbar": {
              "outlinewidth": 0,
              "ticks": ""
             }
            },
            "type": "scattergl"
           }
          ],
          "scattermapbox": [
           {
            "marker": {
             "colorbar": {
              "outlinewidth": 0,
              "ticks": ""
             }
            },
            "type": "scattermapbox"
           }
          ],
          "scatterpolar": [
           {
            "marker": {
             "colorbar": {
              "outlinewidth": 0,
              "ticks": ""
             }
            },
            "type": "scatterpolar"
           }
          ],
          "scatterpolargl": [
           {
            "marker": {
             "colorbar": {
              "outlinewidth": 0,
              "ticks": ""
             }
            },
            "type": "scatterpolargl"
           }
          ],
          "scatterternary": [
           {
            "marker": {
             "colorbar": {
              "outlinewidth": 0,
              "ticks": ""
             }
            },
            "type": "scatterternary"
           }
          ],
          "surface": [
           {
            "colorbar": {
             "outlinewidth": 0,
             "ticks": ""
            },
            "colorscale": [
             [
              0,
              "#0d0887"
             ],
             [
              0.1111111111111111,
              "#46039f"
             ],
             [
              0.2222222222222222,
              "#7201a8"
             ],
             [
              0.3333333333333333,
              "#9c179e"
             ],
             [
              0.4444444444444444,
              "#bd3786"
             ],
             [
              0.5555555555555556,
              "#d8576b"
             ],
             [
              0.6666666666666666,
              "#ed7953"
             ],
             [
              0.7777777777777778,
              "#fb9f3a"
             ],
             [
              0.8888888888888888,
              "#fdca26"
             ],
             [
              1,
              "#f0f921"
             ]
            ],
            "type": "surface"
           }
          ],
          "table": [
           {
            "cells": {
             "fill": {
              "color": "#EBF0F8"
             },
             "line": {
              "color": "white"
             }
            },
            "header": {
             "fill": {
              "color": "#C8D4E3"
             },
             "line": {
              "color": "white"
             }
            },
            "type": "table"
           }
          ]
         },
         "layout": {
          "annotationdefaults": {
           "arrowcolor": "#2a3f5f",
           "arrowhead": 0,
           "arrowwidth": 1
          },
          "autotypenumbers": "strict",
          "coloraxis": {
           "colorbar": {
            "outlinewidth": 0,
            "ticks": ""
           }
          },
          "colorscale": {
           "diverging": [
            [
             0,
             "#8e0152"
            ],
            [
             0.1,
             "#c51b7d"
            ],
            [
             0.2,
             "#de77ae"
            ],
            [
             0.3,
             "#f1b6da"
            ],
            [
             0.4,
             "#fde0ef"
            ],
            [
             0.5,
             "#f7f7f7"
            ],
            [
             0.6,
             "#e6f5d0"
            ],
            [
             0.7,
             "#b8e186"
            ],
            [
             0.8,
             "#7fbc41"
            ],
            [
             0.9,
             "#4d9221"
            ],
            [
             1,
             "#276419"
            ]
           ],
           "sequential": [
            [
             0,
             "#0d0887"
            ],
            [
             0.1111111111111111,
             "#46039f"
            ],
            [
             0.2222222222222222,
             "#7201a8"
            ],
            [
             0.3333333333333333,
             "#9c179e"
            ],
            [
             0.4444444444444444,
             "#bd3786"
            ],
            [
             0.5555555555555556,
             "#d8576b"
            ],
            [
             0.6666666666666666,
             "#ed7953"
            ],
            [
             0.7777777777777778,
             "#fb9f3a"
            ],
            [
             0.8888888888888888,
             "#fdca26"
            ],
            [
             1,
             "#f0f921"
            ]
           ],
           "sequentialminus": [
            [
             0,
             "#0d0887"
            ],
            [
             0.1111111111111111,
             "#46039f"
            ],
            [
             0.2222222222222222,
             "#7201a8"
            ],
            [
             0.3333333333333333,
             "#9c179e"
            ],
            [
             0.4444444444444444,
             "#bd3786"
            ],
            [
             0.5555555555555556,
             "#d8576b"
            ],
            [
             0.6666666666666666,
             "#ed7953"
            ],
            [
             0.7777777777777778,
             "#fb9f3a"
            ],
            [
             0.8888888888888888,
             "#fdca26"
            ],
            [
             1,
             "#f0f921"
            ]
           ]
          },
          "colorway": [
           "#636efa",
           "#EF553B",
           "#00cc96",
           "#ab63fa",
           "#FFA15A",
           "#19d3f3",
           "#FF6692",
           "#B6E880",
           "#FF97FF",
           "#FECB52"
          ],
          "font": {
           "color": "#2a3f5f"
          },
          "geo": {
           "bgcolor": "white",
           "lakecolor": "white",
           "landcolor": "#E5ECF6",
           "showlakes": true,
           "showland": true,
           "subunitcolor": "white"
          },
          "hoverlabel": {
           "align": "left"
          },
          "hovermode": "closest",
          "mapbox": {
           "style": "light"
          },
          "paper_bgcolor": "white",
          "plot_bgcolor": "#E5ECF6",
          "polar": {
           "angularaxis": {
            "gridcolor": "white",
            "linecolor": "white",
            "ticks": ""
           },
           "bgcolor": "#E5ECF6",
           "radialaxis": {
            "gridcolor": "white",
            "linecolor": "white",
            "ticks": ""
           }
          },
          "scene": {
           "xaxis": {
            "backgroundcolor": "#E5ECF6",
            "gridcolor": "white",
            "gridwidth": 2,
            "linecolor": "white",
            "showbackground": true,
            "ticks": "",
            "zerolinecolor": "white"
           },
           "yaxis": {
            "backgroundcolor": "#E5ECF6",
            "gridcolor": "white",
            "gridwidth": 2,
            "linecolor": "white",
            "showbackground": true,
            "ticks": "",
            "zerolinecolor": "white"
           },
           "zaxis": {
            "backgroundcolor": "#E5ECF6",
            "gridcolor": "white",
            "gridwidth": 2,
            "linecolor": "white",
            "showbackground": true,
            "ticks": "",
            "zerolinecolor": "white"
           }
          },
          "shapedefaults": {
           "line": {
            "color": "#2a3f5f"
           }
          },
          "ternary": {
           "aaxis": {
            "gridcolor": "white",
            "linecolor": "white",
            "ticks": ""
           },
           "baxis": {
            "gridcolor": "white",
            "linecolor": "white",
            "ticks": ""
           },
           "bgcolor": "#E5ECF6",
           "caxis": {
            "gridcolor": "white",
            "linecolor": "white",
            "ticks": ""
           }
          },
          "title": {
           "x": 0.05
          },
          "xaxis": {
           "automargin": true,
           "gridcolor": "white",
           "linecolor": "white",
           "ticks": "",
           "title": {
            "standoff": 15
           },
           "zerolinecolor": "white",
           "zerolinewidth": 2
          },
          "yaxis": {
           "automargin": true,
           "gridcolor": "white",
           "linecolor": "white",
           "ticks": "",
           "title": {
            "standoff": 15
           },
           "zerolinecolor": "white",
           "zerolinewidth": 2
          }
         }
        },
        "title": {
         "text": "Fitness Evolution Over Generations"
        },
        "xaxis": {
         "gridcolor": "purple",
         "gridwidth": 0.5,
         "linecolor": "black",
         "linewidth": 2,
         "mirror": true,
         "showline": true,
         "title": {
          "text": "Generations"
         }
        },
        "yaxis": {
         "gridcolor": "purple",
         "gridwidth": 0.5,
         "linecolor": "black",
         "linewidth": 2,
         "mirror": true,
         "showline": true,
         "title": {
          "text": "Fitness"
         }
        }
       }
      }
     },
     "metadata": {},
     "output_type": "display_data"
    }
   ],
   "source": [
    "fig = go.Figure()\n",
    "fig.add_trace(go.Scatter(x=list(range(len(fitness_history))), y=fitness_history, mode='lines', name='Fitness', line=dict(color='blue')))\n",
    "fig.update_xaxes(showline=True, linewidth=2, linecolor='black', mirror=True, gridcolor='purple', gridwidth=0.5)\n",
    "fig.update_yaxes(showline=True, linewidth=2, linecolor='black', mirror=True, gridcolor='purple', gridwidth=0.5)\n",
    "fig.update_layout(\n",
    "    title=\"Fitness Evolution Over Generations\",\n",
    "    xaxis_title=\"Generations\",\n",
    "    yaxis_title=\"Fitness\",\n",
    "    paper_bgcolor = 'rgba(0,0,0,0)', \n",
    "    plot_bgcolor = 'rgba(0,0,0,0)',\n",
    "    font=dict(color=\"white\"),\n",
    ")\n",
    "\n",
    "fig.show()"
   ]
  },
  {
   "cell_type": "code",
   "execution_count": 53,
   "metadata": {},
   "outputs": [
    {
     "data": {
      "application/vnd.plotly.v1+json": {
       "config": {
        "plotlyServerURL": "https://plot.ly"
       },
       "data": [
        {
         "line": {
          "color": "violet"
         },
         "marker": {
          "color": "grey",
          "size": 8,
          "symbol": "circle"
         },
         "mode": "lines+markers",
         "name": "Errors per generations",
         "type": "scatter",
         "x": [
          0,
          1,
          2,
          3,
          4,
          5,
          6,
          7,
          8,
          9,
          10,
          11,
          12,
          13,
          14,
          15,
          16,
          17,
          18,
          19,
          20,
          21,
          22,
          23,
          24,
          25,
          26,
          27,
          28,
          29
         ],
         "y": [
          0.0023687327279905412,
          0.0023687327279905412,
          0.0023687327279905412,
          0.0023687327279905412,
          0.0023687327279905412,
          0.0023687327279905412,
          0.0023687327279905412,
          0.0023687327279905412,
          0.0023687327279905412,
          0.0023687327279905412,
          0.0023687327279905412,
          0.0023687327279905412,
          0.0023687327279905412,
          0.0023687327279905412,
          0.0023687327279905412,
          0.0023687327279905412,
          0.0023687327279905412,
          0.0023687327279905412,
          0.0023687327279905412,
          0.0023687327279905412,
          0.0023687327279905412,
          0.0023687327279905412,
          0.0023687327279905412,
          0.0023687327279905412,
          0.0023687327279905412,
          0.0023687327279905412,
          0.0023687327279905412,
          0.0023687327279905412,
          0.0023687327279905412,
          0.0023687327279905412
         ]
        }
       ],
       "layout": {
        "font": {
         "color": "white"
        },
        "paper_bgcolor": "rgba(0,0,0,0)",
        "plot_bgcolor": "rgba(0,0,0,0)",
        "template": {
         "data": {
          "bar": [
           {
            "error_x": {
             "color": "#2a3f5f"
            },
            "error_y": {
             "color": "#2a3f5f"
            },
            "marker": {
             "line": {
              "color": "#E5ECF6",
              "width": 0.5
             },
             "pattern": {
              "fillmode": "overlay",
              "size": 10,
              "solidity": 0.2
             }
            },
            "type": "bar"
           }
          ],
          "barpolar": [
           {
            "marker": {
             "line": {
              "color": "#E5ECF6",
              "width": 0.5
             },
             "pattern": {
              "fillmode": "overlay",
              "size": 10,
              "solidity": 0.2
             }
            },
            "type": "barpolar"
           }
          ],
          "carpet": [
           {
            "aaxis": {
             "endlinecolor": "#2a3f5f",
             "gridcolor": "white",
             "linecolor": "white",
             "minorgridcolor": "white",
             "startlinecolor": "#2a3f5f"
            },
            "baxis": {
             "endlinecolor": "#2a3f5f",
             "gridcolor": "white",
             "linecolor": "white",
             "minorgridcolor": "white",
             "startlinecolor": "#2a3f5f"
            },
            "type": "carpet"
           }
          ],
          "choropleth": [
           {
            "colorbar": {
             "outlinewidth": 0,
             "ticks": ""
            },
            "type": "choropleth"
           }
          ],
          "contour": [
           {
            "colorbar": {
             "outlinewidth": 0,
             "ticks": ""
            },
            "colorscale": [
             [
              0,
              "#0d0887"
             ],
             [
              0.1111111111111111,
              "#46039f"
             ],
             [
              0.2222222222222222,
              "#7201a8"
             ],
             [
              0.3333333333333333,
              "#9c179e"
             ],
             [
              0.4444444444444444,
              "#bd3786"
             ],
             [
              0.5555555555555556,
              "#d8576b"
             ],
             [
              0.6666666666666666,
              "#ed7953"
             ],
             [
              0.7777777777777778,
              "#fb9f3a"
             ],
             [
              0.8888888888888888,
              "#fdca26"
             ],
             [
              1,
              "#f0f921"
             ]
            ],
            "type": "contour"
           }
          ],
          "contourcarpet": [
           {
            "colorbar": {
             "outlinewidth": 0,
             "ticks": ""
            },
            "type": "contourcarpet"
           }
          ],
          "heatmap": [
           {
            "colorbar": {
             "outlinewidth": 0,
             "ticks": ""
            },
            "colorscale": [
             [
              0,
              "#0d0887"
             ],
             [
              0.1111111111111111,
              "#46039f"
             ],
             [
              0.2222222222222222,
              "#7201a8"
             ],
             [
              0.3333333333333333,
              "#9c179e"
             ],
             [
              0.4444444444444444,
              "#bd3786"
             ],
             [
              0.5555555555555556,
              "#d8576b"
             ],
             [
              0.6666666666666666,
              "#ed7953"
             ],
             [
              0.7777777777777778,
              "#fb9f3a"
             ],
             [
              0.8888888888888888,
              "#fdca26"
             ],
             [
              1,
              "#f0f921"
             ]
            ],
            "type": "heatmap"
           }
          ],
          "heatmapgl": [
           {
            "colorbar": {
             "outlinewidth": 0,
             "ticks": ""
            },
            "colorscale": [
             [
              0,
              "#0d0887"
             ],
             [
              0.1111111111111111,
              "#46039f"
             ],
             [
              0.2222222222222222,
              "#7201a8"
             ],
             [
              0.3333333333333333,
              "#9c179e"
             ],
             [
              0.4444444444444444,
              "#bd3786"
             ],
             [
              0.5555555555555556,
              "#d8576b"
             ],
             [
              0.6666666666666666,
              "#ed7953"
             ],
             [
              0.7777777777777778,
              "#fb9f3a"
             ],
             [
              0.8888888888888888,
              "#fdca26"
             ],
             [
              1,
              "#f0f921"
             ]
            ],
            "type": "heatmapgl"
           }
          ],
          "histogram": [
           {
            "marker": {
             "pattern": {
              "fillmode": "overlay",
              "size": 10,
              "solidity": 0.2
             }
            },
            "type": "histogram"
           }
          ],
          "histogram2d": [
           {
            "colorbar": {
             "outlinewidth": 0,
             "ticks": ""
            },
            "colorscale": [
             [
              0,
              "#0d0887"
             ],
             [
              0.1111111111111111,
              "#46039f"
             ],
             [
              0.2222222222222222,
              "#7201a8"
             ],
             [
              0.3333333333333333,
              "#9c179e"
             ],
             [
              0.4444444444444444,
              "#bd3786"
             ],
             [
              0.5555555555555556,
              "#d8576b"
             ],
             [
              0.6666666666666666,
              "#ed7953"
             ],
             [
              0.7777777777777778,
              "#fb9f3a"
             ],
             [
              0.8888888888888888,
              "#fdca26"
             ],
             [
              1,
              "#f0f921"
             ]
            ],
            "type": "histogram2d"
           }
          ],
          "histogram2dcontour": [
           {
            "colorbar": {
             "outlinewidth": 0,
             "ticks": ""
            },
            "colorscale": [
             [
              0,
              "#0d0887"
             ],
             [
              0.1111111111111111,
              "#46039f"
             ],
             [
              0.2222222222222222,
              "#7201a8"
             ],
             [
              0.3333333333333333,
              "#9c179e"
             ],
             [
              0.4444444444444444,
              "#bd3786"
             ],
             [
              0.5555555555555556,
              "#d8576b"
             ],
             [
              0.6666666666666666,
              "#ed7953"
             ],
             [
              0.7777777777777778,
              "#fb9f3a"
             ],
             [
              0.8888888888888888,
              "#fdca26"
             ],
             [
              1,
              "#f0f921"
             ]
            ],
            "type": "histogram2dcontour"
           }
          ],
          "mesh3d": [
           {
            "colorbar": {
             "outlinewidth": 0,
             "ticks": ""
            },
            "type": "mesh3d"
           }
          ],
          "parcoords": [
           {
            "line": {
             "colorbar": {
              "outlinewidth": 0,
              "ticks": ""
             }
            },
            "type": "parcoords"
           }
          ],
          "pie": [
           {
            "automargin": true,
            "type": "pie"
           }
          ],
          "scatter": [
           {
            "fillpattern": {
             "fillmode": "overlay",
             "size": 10,
             "solidity": 0.2
            },
            "type": "scatter"
           }
          ],
          "scatter3d": [
           {
            "line": {
             "colorbar": {
              "outlinewidth": 0,
              "ticks": ""
             }
            },
            "marker": {
             "colorbar": {
              "outlinewidth": 0,
              "ticks": ""
             }
            },
            "type": "scatter3d"
           }
          ],
          "scattercarpet": [
           {
            "marker": {
             "colorbar": {
              "outlinewidth": 0,
              "ticks": ""
             }
            },
            "type": "scattercarpet"
           }
          ],
          "scattergeo": [
           {
            "marker": {
             "colorbar": {
              "outlinewidth": 0,
              "ticks": ""
             }
            },
            "type": "scattergeo"
           }
          ],
          "scattergl": [
           {
            "marker": {
             "colorbar": {
              "outlinewidth": 0,
              "ticks": ""
             }
            },
            "type": "scattergl"
           }
          ],
          "scattermapbox": [
           {
            "marker": {
             "colorbar": {
              "outlinewidth": 0,
              "ticks": ""
             }
            },
            "type": "scattermapbox"
           }
          ],
          "scatterpolar": [
           {
            "marker": {
             "colorbar": {
              "outlinewidth": 0,
              "ticks": ""
             }
            },
            "type": "scatterpolar"
           }
          ],
          "scatterpolargl": [
           {
            "marker": {
             "colorbar": {
              "outlinewidth": 0,
              "ticks": ""
             }
            },
            "type": "scatterpolargl"
           }
          ],
          "scatterternary": [
           {
            "marker": {
             "colorbar": {
              "outlinewidth": 0,
              "ticks": ""
             }
            },
            "type": "scatterternary"
           }
          ],
          "surface": [
           {
            "colorbar": {
             "outlinewidth": 0,
             "ticks": ""
            },
            "colorscale": [
             [
              0,
              "#0d0887"
             ],
             [
              0.1111111111111111,
              "#46039f"
             ],
             [
              0.2222222222222222,
              "#7201a8"
             ],
             [
              0.3333333333333333,
              "#9c179e"
             ],
             [
              0.4444444444444444,
              "#bd3786"
             ],
             [
              0.5555555555555556,
              "#d8576b"
             ],
             [
              0.6666666666666666,
              "#ed7953"
             ],
             [
              0.7777777777777778,
              "#fb9f3a"
             ],
             [
              0.8888888888888888,
              "#fdca26"
             ],
             [
              1,
              "#f0f921"
             ]
            ],
            "type": "surface"
           }
          ],
          "table": [
           {
            "cells": {
             "fill": {
              "color": "#EBF0F8"
             },
             "line": {
              "color": "white"
             }
            },
            "header": {
             "fill": {
              "color": "#C8D4E3"
             },
             "line": {
              "color": "white"
             }
            },
            "type": "table"
           }
          ]
         },
         "layout": {
          "annotationdefaults": {
           "arrowcolor": "#2a3f5f",
           "arrowhead": 0,
           "arrowwidth": 1
          },
          "autotypenumbers": "strict",
          "coloraxis": {
           "colorbar": {
            "outlinewidth": 0,
            "ticks": ""
           }
          },
          "colorscale": {
           "diverging": [
            [
             0,
             "#8e0152"
            ],
            [
             0.1,
             "#c51b7d"
            ],
            [
             0.2,
             "#de77ae"
            ],
            [
             0.3,
             "#f1b6da"
            ],
            [
             0.4,
             "#fde0ef"
            ],
            [
             0.5,
             "#f7f7f7"
            ],
            [
             0.6,
             "#e6f5d0"
            ],
            [
             0.7,
             "#b8e186"
            ],
            [
             0.8,
             "#7fbc41"
            ],
            [
             0.9,
             "#4d9221"
            ],
            [
             1,
             "#276419"
            ]
           ],
           "sequential": [
            [
             0,
             "#0d0887"
            ],
            [
             0.1111111111111111,
             "#46039f"
            ],
            [
             0.2222222222222222,
             "#7201a8"
            ],
            [
             0.3333333333333333,
             "#9c179e"
            ],
            [
             0.4444444444444444,
             "#bd3786"
            ],
            [
             0.5555555555555556,
             "#d8576b"
            ],
            [
             0.6666666666666666,
             "#ed7953"
            ],
            [
             0.7777777777777778,
             "#fb9f3a"
            ],
            [
             0.8888888888888888,
             "#fdca26"
            ],
            [
             1,
             "#f0f921"
            ]
           ],
           "sequentialminus": [
            [
             0,
             "#0d0887"
            ],
            [
             0.1111111111111111,
             "#46039f"
            ],
            [
             0.2222222222222222,
             "#7201a8"
            ],
            [
             0.3333333333333333,
             "#9c179e"
            ],
            [
             0.4444444444444444,
             "#bd3786"
            ],
            [
             0.5555555555555556,
             "#d8576b"
            ],
            [
             0.6666666666666666,
             "#ed7953"
            ],
            [
             0.7777777777777778,
             "#fb9f3a"
            ],
            [
             0.8888888888888888,
             "#fdca26"
            ],
            [
             1,
             "#f0f921"
            ]
           ]
          },
          "colorway": [
           "#636efa",
           "#EF553B",
           "#00cc96",
           "#ab63fa",
           "#FFA15A",
           "#19d3f3",
           "#FF6692",
           "#B6E880",
           "#FF97FF",
           "#FECB52"
          ],
          "font": {
           "color": "#2a3f5f"
          },
          "geo": {
           "bgcolor": "white",
           "lakecolor": "white",
           "landcolor": "#E5ECF6",
           "showlakes": true,
           "showland": true,
           "subunitcolor": "white"
          },
          "hoverlabel": {
           "align": "left"
          },
          "hovermode": "closest",
          "mapbox": {
           "style": "light"
          },
          "paper_bgcolor": "white",
          "plot_bgcolor": "#E5ECF6",
          "polar": {
           "angularaxis": {
            "gridcolor": "white",
            "linecolor": "white",
            "ticks": ""
           },
           "bgcolor": "#E5ECF6",
           "radialaxis": {
            "gridcolor": "white",
            "linecolor": "white",
            "ticks": ""
           }
          },
          "scene": {
           "xaxis": {
            "backgroundcolor": "#E5ECF6",
            "gridcolor": "white",
            "gridwidth": 2,
            "linecolor": "white",
            "showbackground": true,
            "ticks": "",
            "zerolinecolor": "white"
           },
           "yaxis": {
            "backgroundcolor": "#E5ECF6",
            "gridcolor": "white",
            "gridwidth": 2,
            "linecolor": "white",
            "showbackground": true,
            "ticks": "",
            "zerolinecolor": "white"
           },
           "zaxis": {
            "backgroundcolor": "#E5ECF6",
            "gridcolor": "white",
            "gridwidth": 2,
            "linecolor": "white",
            "showbackground": true,
            "ticks": "",
            "zerolinecolor": "white"
           }
          },
          "shapedefaults": {
           "line": {
            "color": "#2a3f5f"
           }
          },
          "ternary": {
           "aaxis": {
            "gridcolor": "white",
            "linecolor": "white",
            "ticks": ""
           },
           "baxis": {
            "gridcolor": "white",
            "linecolor": "white",
            "ticks": ""
           },
           "bgcolor": "#E5ECF6",
           "caxis": {
            "gridcolor": "white",
            "linecolor": "white",
            "ticks": ""
           }
          },
          "title": {
           "x": 0.05
          },
          "xaxis": {
           "automargin": true,
           "gridcolor": "white",
           "linecolor": "white",
           "ticks": "",
           "title": {
            "standoff": 15
           },
           "zerolinecolor": "white",
           "zerolinewidth": 2
          },
          "yaxis": {
           "automargin": true,
           "gridcolor": "white",
           "linecolor": "white",
           "ticks": "",
           "title": {
            "standoff": 15
           },
           "zerolinecolor": "white",
           "zerolinewidth": 2
          }
         }
        },
        "title": {
         "text": "Evolution of Minimum Classification Error Over Generations"
        },
        "xaxis": {
         "gridcolor": "purple",
         "gridwidth": 0.5,
         "linecolor": "black",
         "linewidth": 2,
         "mirror": true,
         "showline": true,
         "title": {
          "text": "Generations"
         }
        },
        "yaxis": {
         "gridcolor": "purple",
         "gridwidth": 0.5,
         "linecolor": "black",
         "linewidth": 2,
         "mirror": true,
         "showline": true,
         "title": {
          "text": "Classification Error"
         }
        }
       }
      }
     },
     "metadata": {},
     "output_type": "display_data"
    }
   ],
   "source": [
    "errors_per_generation = [error for _, error in best_chromosome_per_generation]\n",
    "\n",
    "fig = go.Figure()\n",
    "fig.add_trace(go.Scatter(x=list(range(len(errors_per_generation))), y=errors_per_generation, mode='lines+markers', name='Errors per generations', line=dict(color='violet'), marker=dict(symbol='circle', size=8, color='grey')))\n",
    "\n",
    "fig.update_xaxes(showline=True, linewidth=2, linecolor='black', mirror=True, gridcolor='purple', gridwidth=0.5)\n",
    "fig.update_yaxes(showline=True, linewidth=2, linecolor='black', mirror=True, gridcolor='purple', gridwidth=0.5)\n",
    "fig.update_layout(\n",
    "    title=\"Evolution of Minimum Classification Error Over Generations\",\n",
    "    xaxis_title=\"Generations\",\n",
    "    yaxis_title=\"Classification Error\",\n",
    "    paper_bgcolor = 'rgba(0,0,0,0)', \n",
    "    plot_bgcolor = 'rgba(0,0,0,0)',\n",
    "    font=dict(color=\"white\"),\n",
    ")\n",
    "\n",
    "fig.show()"
   ]
  },
  {
   "cell_type": "code",
   "execution_count": 54,
   "metadata": {},
   "outputs": [
    {
     "name": "stdout",
     "output_type": "stream",
     "text": [
      "Précision du MLP seul: 0.9988\n",
      "Précision du MLP optimisé par AG: 0.9992\n",
      "Le MLP optimisé par AG a une meilleure précision que le MLP seul.\n"
     ]
    }
   ],
   "source": [
    "# Précision du MLP seul\n",
    "accuracy_mlp_seul = accuracy\n",
    "\n",
    "# Précision du MLP optimisé par AG\n",
    "accuracy_mlp_optimise = test_accuracy\n",
    "\n",
    "# Afficher les résultats\n",
    "print(f\"Précision du MLP seul: {accuracy_mlp_seul:.4f}\")\n",
    "print(f\"Précision du MLP optimisé par AG: {accuracy_mlp_optimise:.4f}\")\n",
    "\n",
    "# Comparer les résultats\n",
    "if accuracy_mlp_optimise > accuracy_mlp_seul:\n",
    "    print(\"Le MLP optimisé par AG a une meilleure précision que le MLP seul.\")\n",
    "elif accuracy_mlp_optimise < accuracy_mlp_seul:\n",
    "    print(\"Le MLP seul a une meilleure précision que le MLP optimisé par AG.\")\n",
    "else:\n",
    "    print(\"Les deux modèles ont la même précision.\")"
   ]
  }
 ],
 "metadata": {
  "kernelspec": {
   "display_name": "Python 3",
   "language": "python",
   "name": "python3"
  },
  "language_info": {
   "codemirror_mode": {
    "name": "ipython",
    "version": 3
   },
   "file_extension": ".py",
   "mimetype": "text/x-python",
   "name": "python",
   "nbconvert_exporter": "python",
   "pygments_lexer": "ipython3",
   "version": "3.9.11"
  }
 },
 "nbformat": 4,
 "nbformat_minor": 2
}
